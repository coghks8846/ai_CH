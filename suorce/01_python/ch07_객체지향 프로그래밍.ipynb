{
 "cells": [
  {
   "cell_type": "code",
   "execution_count": 1,
   "id": "bb9ea526",
   "metadata": {},
   "outputs": [
    {
     "data": {
      "text/html": [
       "\n",
       "<style>\n",
       "div.container{width:86% !important;}\n",
       "div.cell.code_cell.rendered{width:100%;}\n",
       "div.CodeMirror {font-family:Consolas; font-size:15pt;}\n",
       "div.output {font-size:15pt; font-weight:bold;}\n",
       "div.input {font-family:Consolas; font-size:15pt;}\n",
       "div.prompt {min-width:70px;}\n",
       "div#toc-wrapper{padding-top:120px;}\n",
       "div.text_cell_render ul li{font-size:12pt;padding:5px;}\n",
       "table.dataframe{font-size:15px;}\n",
       "</style>\n"
      ],
      "text/plain": [
       "<IPython.core.display.HTML object>"
      ]
     },
     "metadata": {},
     "output_type": "display_data"
    }
   ],
   "source": [
    "from IPython.display import display, HTML\n",
    "display(HTML(\"\"\"\n",
    "<style>\n",
    "div.container{width:86% !important;}\n",
    "div.cell.code_cell.rendered{width:100%;}\n",
    "div.CodeMirror {font-family:Consolas; font-size:15pt;}\n",
    "div.output {font-size:15pt; font-weight:bold;}\n",
    "div.input {font-family:Consolas; font-size:15pt;}\n",
    "div.prompt {min-width:70px;}\n",
    "div#toc-wrapper{padding-top:120px;}\n",
    "div.text_cell_render ul li{font-size:12pt;padding:5px;}\n",
    "table.dataframe{font-size:15px;}\n",
    "</style>\n",
    "\"\"\"))"
   ]
  },
  {
   "cell_type": "markdown",
   "id": "91f58ad2",
   "metadata": {},
   "source": [
    "<b><font size= \"6\" color=\"red\">ch07 객체지향 프로그래밍</font></b>"
   ]
  },
  {
   "cell_type": "code",
   "execution_count": 4,
   "id": "1c25d20d",
   "metadata": {},
   "outputs": [
    {
     "name": "stdout",
     "output_type": "stream",
     "text": [
      "홍길동 남자 MBC\n",
      "홍낄쑥 None MBC\n"
     ]
    }
   ],
   "source": [
    "person1 = {'name':'홍길동','gender':'남자','accademy':'MBC'}\n",
    "person2 = {'name':'홍길숙','sender':'여자','accademy':'MBC'}\n",
    "print(person1['name'],person1['gender'],person1['accademy'])\n",
    "person2['name'] = '홍낄쑥'\n",
    "print(person2['name'],person2.get('gender'),person2['accademy'])"
   ]
  },
  {
   "cell_type": "code",
   "execution_count": 18,
   "id": "52243ee6",
   "metadata": {},
   "outputs": [],
   "source": [
    "class Person:\n",
    "    accademy = 'MBC' # 클래스 변수\n",
    "    def __init__(self, name, gender): # 생성자 함수\n",
    "        self.name = name # 객체안의 변수(인스턴스 변수)\n",
    "        self.gender = gender\n",
    "        \n",
    "    def print_info(self):\n",
    "        print('{}는 {}입니다 {}를 다닙니다'.format(self.name,\n",
    "                                                self.gender,\n",
    "                                                self.accademy))\n",
    "    def __str__(self):\n",
    "        return \"{}는 {}입니다 {}를 다닙니다\".format(self.name,\n",
    "                                                  self.gender,\n",
    "                                                  self.accademy)"
   ]
  },
  {
   "cell_type": "code",
   "execution_count": 19,
   "id": "e5515fdf",
   "metadata": {},
   "outputs": [
    {
     "name": "stdout",
     "output_type": "stream",
     "text": [
      "홍길동는 남자입니다 MBC를 다닙니다\n",
      "홍길숙는 여자입니다 MBC를 다닙니다\n",
      "마길동는 남자입니다 CBC를 다닙니다\n",
      "홍길숙는 여자입니다 MBC를 다닙니다\n",
      "마길동는 남자입니다 CBC를 다닙니다\n",
      "홍길숙는 여자입니다 MBC를 다닙니다\n"
     ]
    }
   ],
   "source": [
    "p1 = Person('홍길동','남자')\n",
    "p2 = Person('홍길숙','여자')\n",
    "p1.print_info()\n",
    "p2.print_info()\n",
    "p1.name = '마길동'\n",
    "p1.accademy = 'CBC'\n",
    "p1.print_info()\n",
    "p2.print_info()\n",
    "print(p1)\n",
    "print(p2)"
   ]
  },
  {
   "cell_type": "markdown",
   "id": "f6b2aa20",
   "metadata": {},
   "source": [
    "# 1절. 객체와 클래스\n",
    "```\n",
    "class 클래스명(상속받을 클래스명):\n",
    "    변수나 함수들 선언\n",
    "```"
   ]
  },
  {
   "cell_type": "code",
   "execution_count": 20,
   "id": "d749ec44",
   "metadata": {},
   "outputs": [
    {
     "name": "stdout",
     "output_type": "stream",
     "text": [
      "<__main__.Person object at 0x0000021B5C0D27D0>\n",
      "<class '__main__.Person'>\n"
     ]
    }
   ],
   "source": [
    "class Person:\n",
    "    '''\n",
    "    Person 클래스는 어쩌구 저쩌구 설명하는 독스트링\n",
    "    생성자 함수가 없을 경우, 디폴트 생성자 함수가 자동 생성\n",
    "    '''\n",
    "    pass\n",
    "p1 = Person()\n",
    "print(p1.__str__())\n",
    "print(type(p1))"
   ]
  },
  {
   "cell_type": "code",
   "execution_count": 22,
   "id": "289b3126",
   "metadata": {},
   "outputs": [
    {
     "data": {
      "text/plain": [
       "True"
      ]
     },
     "execution_count": 22,
     "metadata": {},
     "output_type": "execute_result"
    }
   ],
   "source": [
    "isinstance(p1, Person)"
   ]
  },
  {
   "cell_type": "code",
   "execution_count": 23,
   "id": "66ee8737",
   "metadata": {},
   "outputs": [
    {
     "data": {
      "text/plain": [
       "'\\n    Person 클래스는 어쩌구 저쩌구 설명하는 독스트링\\n    생성자 함수가 없을 경우, 디폴트 생성자 함수가 자동 생성\\n    '"
      ]
     },
     "execution_count": 23,
     "metadata": {},
     "output_type": "execute_result"
    }
   ],
   "source": [
    "p1.__doc__"
   ]
  },
  {
   "cell_type": "markdown",
   "id": "80e8837e",
   "metadata": {},
   "source": [
    "# 2절. 생성자와 소멸자\n",
    "```\n",
    "생성자 : __init__(self, 매개변수,..) - 객체가 생성될 떄 자동 실행\n",
    "        객체 생성시 필요한 인스턴스 변수 초기화를 포함\n",
    "소멸자 : __del__(self) - 객체가 소멸될 때 자동 실행\n",
    "        인스턴스 객체의 레퍼런스 카운트가 0이 될 때 실행\n",
    "```"
   ]
  },
  {
   "cell_type": "code",
   "execution_count": 8,
   "id": "07465c51",
   "metadata": {},
   "outputs": [],
   "source": [
    "class Person: # 파이썬은 오버로딩(함수 중복 정의) 지원 안 됨\n",
    "    def __init__(self, name, gender = '남자'):\n",
    "        self.name = name\n",
    "        self.gender = gender\n",
    "        print('Person 객체 생성합니다', name)\n",
    "    def __del__(self):\n",
    "        print('Person 객체 소멸시킵니다', self.name)\n",
    "    def print_info(self):\n",
    "        print('{}는 {}입니다',format(self.name, self.gender))\n",
    "    def __str__(self): # 오버라이딩(함수 재정의)\n",
    "        return f'{self.name}는 {self.gender}입니다'"
   ]
  },
  {
   "cell_type": "code",
   "execution_count": 9,
   "id": "17101d2f",
   "metadata": {},
   "outputs": [
    {
     "name": "stdout",
     "output_type": "stream",
     "text": [
      "Person 객체 생성합니다 신사임당\n"
     ]
    }
   ],
   "source": [
    "p1 = Person('신사임당','여자')"
   ]
  },
  {
   "cell_type": "code",
   "execution_count": 10,
   "id": "4eeba25a",
   "metadata": {},
   "outputs": [
    {
     "name": "stdout",
     "output_type": "stream",
     "text": [
      "Person 객체 생성합니다 홍길동\n",
      "홍길동는 남자입니다\n"
     ]
    }
   ],
   "source": [
    "p2 = Person('홍길동')\n",
    "print(p2)"
   ]
  },
  {
   "cell_type": "code",
   "execution_count": 11,
   "id": "ee450dde",
   "metadata": {},
   "outputs": [],
   "source": [
    "p3 = p2"
   ]
  },
  {
   "cell_type": "code",
   "execution_count": 12,
   "id": "ed6d38e0",
   "metadata": {},
   "outputs": [
    {
     "name": "stdout",
     "output_type": "stream",
     "text": [
      "Person 객체 소멸시킵니다 신사임당\n"
     ]
    }
   ],
   "source": [
    "del p1"
   ]
  },
  {
   "cell_type": "code",
   "execution_count": 13,
   "id": "bf8f4bc4",
   "metadata": {},
   "outputs": [],
   "source": [
    "del p2"
   ]
  },
  {
   "cell_type": "code",
   "execution_count": 14,
   "id": "a946e7cc",
   "metadata": {},
   "outputs": [
    {
     "name": "stdout",
     "output_type": "stream",
     "text": [
      "Person 객체 소멸시킵니다 홍길동\n"
     ]
    }
   ],
   "source": [
    "del p3"
   ]
  },
  {
   "cell_type": "markdown",
   "id": "499a53c5",
   "metadata": {},
   "source": [
    "# 3절. 변수와 메소드\n",
    "- 인스턴스 변수 vs 클래스 변수\n",
    "- 인스턴스 메소드(self) vs 클래스 메소드(clz) vs static 메소드()"
   ]
  },
  {
   "cell_type": "code",
   "execution_count": 17,
   "id": "baa1fb20",
   "metadata": {},
   "outputs": [
    {
     "name": "stdout",
     "output_type": "stream",
     "text": [
      "홍길동 남자\n"
     ]
    }
   ],
   "source": [
    "class Person:\n",
    "    name = '홍길동' # 클래스 변수\n",
    "    gender = '남자'\n",
    "print(Person.name, Person.gender)"
   ]
  },
  {
   "cell_type": "code",
   "execution_count": 18,
   "id": "9372c16b",
   "metadata": {},
   "outputs": [
    {
     "name": "stdout",
     "output_type": "stream",
     "text": [
      "홍길동 남자\n",
      "홍길동 남자\n",
      "홍길동 남자\n"
     ]
    }
   ],
   "source": [
    "p1 = Person()\n",
    "p2 = Person()\n",
    "print(Person.name, Person.gender)\n",
    "print(p1.name, p1.gender)\n",
    "print(p2.name, p2.gender)"
   ]
  },
  {
   "cell_type": "code",
   "execution_count": 23,
   "id": "36769f63",
   "metadata": {},
   "outputs": [
    {
     "name": "stdout",
     "output_type": "stream",
     "text": [
      "리사 여자\n",
      "리사 여자\n",
      "이순신 남자\n"
     ]
    }
   ],
   "source": [
    "p2.name = '이순신'\n",
    "p2.gender = '남자'\n",
    "print(Person.name, Person.gender)\n",
    "print(p1.name, p1.gender)\n",
    "print(p2.name, p2.gender)"
   ]
  },
  {
   "cell_type": "code",
   "execution_count": 24,
   "id": "02d786ef",
   "metadata": {},
   "outputs": [
    {
     "name": "stdout",
     "output_type": "stream",
     "text": [
      "리사 여자\n",
      "리사 여자\n",
      "이순신 남자\n"
     ]
    }
   ],
   "source": [
    "Person.name = '리사'\n",
    "Person.gender = '여자'\n",
    "print(Person.name, Person.gender)\n",
    "print(p1.name, p1.gender)\n",
    "print(p2.name, p2.gender)"
   ]
  },
  {
   "cell_type": "markdown",
   "id": "e43c738e",
   "metadata": {},
   "source": [
    "※ 인스턴스 메소드(self) vs 클래스 메소드(clz) vs static 메소드()\n",
    "- 인스턴스 메소드 : 첫번쨰 인자에 self 를 꼭 명시. 객체를 통해서만 호출할 수 있는 메소드\n",
    "- 클래스 메소드 : 메소드 위에 @classmethod를 선언한 메소드, 첫번쨰 인자에 cls(clz) 꼭 명시\n",
    "- static 메소드 : 메소드 위에 @staticmethod를 선언한 메소드, 인자를 넣지 않음"
   ]
  },
  {
   "cell_type": "code",
   "execution_count": 25,
   "id": "885e65d6",
   "metadata": {},
   "outputs": [],
   "source": [
    "class Person:\n",
    "    name = '홍길동'\n",
    "    gender = '남자'\n",
    "    def print_info(self): # 객체변수명.print_info()로 호출\n",
    "        print(f'인스턴스(일반)메소드 - {self.name}는 {self.gender}입니다')\n",
    "    def change_info(self, name, gender = '남자'): # 객체변수.change_info('김','여자')\n",
    "        self.name = name\n",
    "        self.gender = gender\n",
    "        print(f'인스턴스(일반)메소드 - {name}/{gender}로 변경 완료')\n",
    "    @classmethod\n",
    "    def do_(cls): # cls == Person. 클래스 변수를 이용한 로직. Person.do_() 호출\n",
    "        cls.name = '신사임당'\n",
    "        cls.gender = '여자'\n",
    "        print(f'클래스 메소드 - {cls.name}/{cls.gender} 변경완료')\n",
    "    @staticmethod\n",
    "    def that_(): # 클래스 변수를 이용하기 보다는 로직이 우선일 경우.  Person.that_()\n",
    "        Person.name = '신길동'\n",
    "        Person.gender = '남자'\n",
    "        print(f'static 메소드 - {Person.name}/{Person.gender} 변경완료')"
   ]
  },
  {
   "cell_type": "code",
   "execution_count": 26,
   "id": "dfa4c96f",
   "metadata": {},
   "outputs": [
    {
     "name": "stdout",
     "output_type": "stream",
     "text": [
      "인스턴스(일반)메소드 - 홍길동는 남자입니다\n"
     ]
    }
   ],
   "source": [
    "p1 = Person()\n",
    "p1.print_info()"
   ]
  },
  {
   "cell_type": "code",
   "execution_count": 27,
   "id": "89ccdbe4",
   "metadata": {},
   "outputs": [
    {
     "name": "stdout",
     "output_type": "stream",
     "text": [
      "클래스 메소드 - 신사임당/여자 변경완료\n"
     ]
    }
   ],
   "source": [
    "Person.do_()"
   ]
  },
  {
   "cell_type": "code",
   "execution_count": 28,
   "id": "93460e23",
   "metadata": {},
   "outputs": [
    {
     "name": "stdout",
     "output_type": "stream",
     "text": [
      "static 메소드 - 신길동/남자 변경완료\n"
     ]
    }
   ],
   "source": [
    "Person.that_()"
   ]
  },
  {
   "cell_type": "code",
   "execution_count": 29,
   "id": "98a60bcf",
   "metadata": {},
   "outputs": [
    {
     "name": "stdout",
     "output_type": "stream",
     "text": [
      "인스턴스(일반)메소드 - 신길동는 남자입니다\n"
     ]
    }
   ],
   "source": [
    "p1.print_info()"
   ]
  },
  {
   "cell_type": "markdown",
   "id": "635a3b4e",
   "metadata": {},
   "source": [
    "## 요약\n",
    "**객체를 이용하면 객체에 정보를 저장하고, 그 정보를 이용해서 어떤 기능을 수행할 수 있다.**\n",
    "**객체 = 데이터(변수:객체마다 고유의 값) + 기능 (메소드, 함수)**\n",
    "\n",
    "**그 객체를 만들기 위한 틀 => 클래스**\n",
    "```\n",
    "    class 클래스명:\n",
    "        '독스트링'\n",
    "        클래스변수명 = 값\n",
    "        def __init__(self, [객체멤버를 초기화할 변수 = 값,...])\n",
    "            객체를 생성할 떄 객체 멤버변수의 초기화\n",
    "        def method(self):\n",
    "            인스턴스 메소드(일반함수)의 매개변수는 self를 반드시 포함\n",
    "        @classmethod\n",
    "        def classmethod(cls):\n",
    "            코드\n",
    "        @staticmethod\n",
    "        def staticmethod():\n",
    "            코드\n",
    "   객체변수 = 클래스명()\n",
    "   객체변수.method()\n",
    "   클래스명.classmethod()\n",
    "   클래스명.staticmethod()\n",
    " \n",
    "```"
   ]
  },
  {
   "cell_type": "code",
   "execution_count": 5,
   "id": "4dbcdf3a",
   "metadata": {},
   "outputs": [
    {
     "name": "stdout",
     "output_type": "stream",
     "text": [
      "홍길동입니다\n",
      "홍길동입니다\n"
     ]
    },
    {
     "data": {
      "text/plain": [
       "(True, True)"
      ]
     },
     "execution_count": 5,
     "metadata": {},
     "output_type": "execute_result"
    }
   ],
   "source": [
    "class Person:\n",
    "    def __init__(self, name):\n",
    "        self.name = name\n",
    "    def __str__(self):\n",
    "        return f'{self.name}입니다'\n",
    "    def print_info(self):\n",
    "#         print(f'{slef.name}입니다')\n",
    "        print(self)\n",
    "p = Person('홍길동')\n",
    "p.print_info()\n",
    "print(p)\n",
    "# 파이썬은 동적으로 인스턴스 멤버 추가가 가능하다\n",
    "p.nickname = '홍별명'\n",
    "p1 = Person('홍길숙')\n",
    "isinstance(p, Person), isinstance(p1, Person)"
   ]
  },
  {
   "cell_type": "markdown",
   "id": "fbbfb7ef",
   "metadata": {},
   "source": [
    "# 4절. 상속과 재정의\n",
    "- 클래스를 재사용\n",
    "- 상속을 이용하면 부모 클래스의 모든 속성을 자식 클래스로 물려줄 수 있음\n",
    "- 문법 : class 클래스명(부모클래스명):"
   ]
  },
  {
   "cell_type": "code",
   "execution_count": 10,
   "id": "c5a3aa9f",
   "metadata": {},
   "outputs": [
    {
     "name": "stdout",
     "output_type": "stream",
     "text": [
      "두 수 초기화\n",
      "4\n",
      "4\n",
      "두 수 초기화\n",
      "5\n"
     ]
    }
   ],
   "source": [
    "class Cal:\n",
    "    def __init__(self, num1=1, num2=2):\n",
    "        print('두 수 초기화')\n",
    "        self.num1 = num1\n",
    "        self.num2 = num2\n",
    "    def add(self):\n",
    "        return self.num1+self.num2\n",
    "    def sub(self):\n",
    "        return self.num1-self.num2\n",
    "    def div(self):\n",
    "        return self.num1/self.num2 if self.num2!=0 else '0으로 나눌 수 없어요'\n",
    "    def __str__(self):\n",
    "        return 'num1={}, num2={}',format(self.num1, self.num2)\n",
    "    \n",
    "class Cal_inherit(Cal):\n",
    "    def mul(self):\n",
    "        return self.num1*self.num2\n",
    "    \n",
    "obj1 = Cal_inherit(2,2)\n",
    "print(obj1.add())\n",
    "print(obj1.mul())\n",
    "obj2 = Cal(2,3)\n",
    "print(obj2.add())"
   ]
  },
  {
   "cell_type": "code",
   "execution_count": 11,
   "id": "f0fcf8da",
   "metadata": {},
   "outputs": [
    {
     "data": {
      "text/plain": [
       "(type, type)"
      ]
     },
     "execution_count": 11,
     "metadata": {},
     "output_type": "execute_result"
    }
   ],
   "source": [
    "type(Cal), type(Cal_inherit)"
   ]
  },
  {
   "cell_type": "code",
   "execution_count": 12,
   "id": "aa3e1f17",
   "metadata": {},
   "outputs": [
    {
     "data": {
      "text/plain": [
       "(__main__.Cal_inherit, True, True)"
      ]
     },
     "execution_count": 12,
     "metadata": {},
     "output_type": "execute_result"
    }
   ],
   "source": [
    "type(obj1), isinstance(obj1, Cal_inherit), isinstance(obj1, Cal)\n",
    "# Cal_inherit is a Cal (상속은 is a 관계)"
   ]
  },
  {
   "cell_type": "code",
   "execution_count": 16,
   "id": "fb5791f8",
   "metadata": {},
   "outputs": [
    {
     "name": "stdout",
     "output_type": "stream",
     "text": [
      "이름과 성별을 초기화\n",
      "홍길동님은 남자\n",
      "홍길동님은 남자\n"
     ]
    }
   ],
   "source": [
    "class Person:\n",
    "    'person은 이름과 성별을 멤버변수로 갖고, 출력 기능'\n",
    "    def __init__(self, name, gender):\n",
    "        print('이름과 성별을 초기화')\n",
    "        self.name = name\n",
    "        self.gender = gender\n",
    "    def __str__(self):\n",
    "        return '{}님은 {}'.format(self.name, self.gender)\n",
    "    def print_info(self):\n",
    "        print(self)\n",
    "p = Person('홍길동','남자')\n",
    "p.print_info()\n",
    "Person.print_info(p)"
   ]
  },
  {
   "cell_type": "code",
   "execution_count": 21,
   "id": "bbb7d1e0",
   "metadata": {},
   "outputs": [],
   "source": [
    "# 오버라이드 : 함수의 재정의(부모클래스의 함수를 자식클래스에서 다시 정의)\n",
    "#            부모클래스의 함수명과 매개변수 개수가 동일\n",
    "# 오버로드 : 함수의 중복정의(같은 이름의 함수를 매개변수의 갯수를 달리 해서 정의) - 파이썬에서 불가\n",
    "class Student(Person):\n",
    "    def __init__(self, name, gender, major):\n",
    "        super().__init__(name,gender) # super() : '부모클래스의'를 의미\n",
    "        self.major = major\n",
    "    def __str__(self): #override\n",
    "        return super().__str__() + '이고, 전공은 {}'.format(self.major)"
   ]
  },
  {
   "cell_type": "code",
   "execution_count": 22,
   "id": "3dbb1c11",
   "metadata": {},
   "outputs": [
    {
     "name": "stdout",
     "output_type": "stream",
     "text": [
      "이름과 성별을 초기화\n",
      "홍길숙님은 여자이고, 전공은 AI\n"
     ]
    }
   ],
   "source": [
    "s = Student('홍길숙','여자','AI')\n",
    "print(s)"
   ]
  },
  {
   "cell_type": "code",
   "execution_count": 23,
   "id": "2d4ee319",
   "metadata": {},
   "outputs": [
    {
     "data": {
      "text/plain": [
       "(True, True)"
      ]
     },
     "execution_count": 23,
     "metadata": {},
     "output_type": "execute_result"
    }
   ],
   "source": [
    "isinstance(s, Student), isinstance(s, Person)"
   ]
  },
  {
   "cell_type": "markdown",
   "id": "1a49c434",
   "metadata": {},
   "source": [
    "## 정적변수(static 변수) : 여러 객체들 사이에 데이터를 공유하고 싶을 때 사용\n",
    "- static 변수 앞에 under score 2개(__)를 붙이면 클래스명.__클래스명__static변수명으로 참조\n",
    "- 클래스 변수는 외부에서 바로 접근 가능.\n",
    "- static 변수는 외부에서 바로 접근하는것을 방지\n",
    "- static 변수는 클래스 내부에서만 접근하도록 하려는 의도."
   ]
  },
  {
   "cell_type": "code",
   "execution_count": 8,
   "id": "654affcb",
   "metadata": {},
   "outputs": [],
   "source": [
    "class Person:\n",
    "    def __init__(self, name, gender):\n",
    "        self.name = name\n",
    "        self.gender = gender\n",
    "    def print_info(self): # 추상메소드\n",
    "        raise Exception('이 메소드는 호출하면 예외가 납니다') # 강제 예외 발생\n",
    "    def __str__(self):\n",
    "        return f'{self.name}은{self.gender}'\n",
    "\n",
    "class Student(Person):\n",
    "    __count = 0 # static 변수(객체의 갯수)\n",
    "    #클래스명._클래스명__count 로 사용, 쿨래수명.__count 는 외부에서 접근 불가\n",
    "    def __init__(self, name, gender, major):\n",
    "        super().__init__(name,gender)\n",
    "        self.major = major\n",
    "        Student._Student__count += 1 # 객체가 생성될 때마다 __count 1 증가\n",
    "    def __del__(self):\n",
    "        Student._Student__count -= 1 # 객체가 소멸될 떄마다 __count 1 감소\n",
    "    def print_info(self):\n",
    "        print('{}는{}이고, 전공은 {}({}번쨰 객체)'.format(self.name,\n",
    "                                      self.gender,\n",
    "                                      self.major,\n",
    "                                      Student._Student__count))\n",
    "    def __str__(self):\n",
    "        return super().__str__() + '이고, 전공은 {}'.format(self.major)\n",
    "    @classmethod\n",
    "    def get_count(cls):\n",
    "        return Student._Student__count"
   ]
  },
  {
   "cell_type": "code",
   "execution_count": 9,
   "id": "54250814",
   "metadata": {},
   "outputs": [
    {
     "name": "stdout",
     "output_type": "stream",
     "text": [
      "홍길동는남자이고, 전공은 AI(1번쨰 객체)\n"
     ]
    }
   ],
   "source": [
    "#p = Person('홍','남자')\n",
    "# p.print_info() # 추상메소드\n",
    "s1 = Student('홍길동','남자','AI')\n",
    "s1.print_info()"
   ]
  },
  {
   "cell_type": "code",
   "execution_count": 10,
   "id": "1d9a357a",
   "metadata": {},
   "outputs": [
    {
     "name": "stdout",
     "output_type": "stream",
     "text": [
      "김길쑥는여자이고, 전공은 데이터통계(2번쨰 객체)\n"
     ]
    }
   ],
   "source": [
    "s2 = Student('김길쑥','여자','데이터통계')\n",
    "s2.print_info()"
   ]
  },
  {
   "cell_type": "code",
   "execution_count": 11,
   "id": "1a1f921c",
   "metadata": {},
   "outputs": [
    {
     "name": "stdout",
     "output_type": "stream",
     "text": [
      "신길동는남자이고, 전공은 컴공(3번쨰 객체)\n"
     ]
    }
   ],
   "source": [
    "s3 = Student('신길동','남자','컴공')\n",
    "s3.print_info()"
   ]
  },
  {
   "cell_type": "code",
   "execution_count": 12,
   "id": "360fd30c",
   "metadata": {},
   "outputs": [
    {
     "data": {
      "text/plain": [
       "3"
      ]
     },
     "execution_count": 12,
     "metadata": {},
     "output_type": "execute_result"
    }
   ],
   "source": [
    "Student.get_count()"
   ]
  },
  {
   "cell_type": "code",
   "execution_count": 13,
   "id": "c811d2db",
   "metadata": {},
   "outputs": [],
   "source": [
    "del s3, s2"
   ]
  },
  {
   "cell_type": "code",
   "execution_count": 14,
   "id": "943c9478",
   "metadata": {},
   "outputs": [
    {
     "data": {
      "text/plain": [
       "1"
      ]
     },
     "execution_count": 14,
     "metadata": {},
     "output_type": "execute_result"
    }
   ],
   "source": [
    "Student.get_count()"
   ]
  },
  {
   "cell_type": "markdown",
   "id": "505cf57e",
   "metadata": {},
   "source": [
    "# 5절. 연습문제\n",
    "## 실습형"
   ]
  },
  {
   "cell_type": "code",
   "execution_count": 15,
   "id": "e191c3e0",
   "metadata": {
    "collapsed": true
   },
   "outputs": [
    {
     "data": {
      "text/plain": [
       "'\\n1. 다음 조건을 만족하는 클래스를 작성하세요\\n\\uf0fc 도형 ( 클래스와클래스와삼각형 (Triangle) 클래스를 만들어야 합니다 .\\n\\uf0fc 도형 ( 클래스\\n• 생성자를 통해 x, y 좌표를 초기화할 수 있습니다 . x, y y좌표의 기본값은 0, 0 0입니다 .\\n• x, y y좌표를 이동시킬 수 있는 move 함수가 있습니다 .\\n• x, y y좌표값 정보를 문자열로 리턴하는 __ str __ 함수가 있습니다\\n• 도형의 면적을 구하는 함수 (calc_area area)가 있습니다 . 다만 도형 클래스의 calc_area area() 는 \\n      구현되어 있지 않아 호출하면 오류가 발생합니다 (파이썬은 추상메소드가 없음 .추상메소 드 역할을 구현 )\\n• 정적메소드 (staticmethodstaticmethod)를 하나 이상 구현합니다 .\\n\\uf0fc ‘삼각형 ( 클래스는클래스는도형 ( 클래스이다클래스이다’관계가관계가성립해야 합니다\\n\\uf0fc 생성자를 통해 , width, height, x, y y좌표를 초기화하고 x, y 좌표의 기본값은 0, 0 입니다\\n\\uf0fc 삼각형의 면적을 구하는 메소드 calc_area area를 재정의합니다\\n\\uf0fc 삼각형의 정보를 문자열로 반환하는 __ str __() 함수가 있습니다 .\\n\\uf0fc 삼각형 객체가 몇 개가 만들어져 있는지 정보를 저장하는 클래스 변수를 추가하고 생성자 에서 객체를 만들 \\n                     때마다 증가시키고 소멸자에서 객체를 소멸시킬 때마다 감소합니다 .\\n'"
      ]
     },
     "execution_count": 15,
     "metadata": {},
     "output_type": "execute_result"
    }
   ],
   "source": [
    "'''\n",
    "1. 다음 조건을 만족하는 클래스를 작성하세요\n",
    " 도형 ( 클래스와클래스와삼각형 (Triangle) 클래스를 만들어야 합니다 .\n",
    " 도형 ( 클래스\n",
    "• 생성자를 통해 x, y 좌표를 초기화할 수 있습니다 . x, y y좌표의 기본값은 0, 0 0입니다 .\n",
    "• x, y y좌표를 이동시킬 수 있는 move 함수가 있습니다 .\n",
    "• x, y y좌표값 정보를 문자열로 리턴하는 __ str __ 함수가 있습니다\n",
    "• 도형의 면적을 구하는 함수 (calc_area area)가 있습니다 . 다만 도형 클래스의 calc_area area() 는 \n",
    "      구현되어 있지 않아 호출하면 오류가 발생합니다 (파이썬은 추상메소드가 없음 .추상메소 드 역할을 구현 )\n",
    "• 정적메소드 (staticmethodstaticmethod)를 하나 이상 구현합니다 .\n",
    " ‘삼각형 ( 클래스는클래스는도형 ( 클래스이다클래스이다’관계가관계가성립해야 합니다\n",
    " 생성자를 통해 , width, height, x, y y좌표를 초기화하고 x, y 좌표의 기본값은 0, 0 입니다\n",
    " 삼각형의 면적을 구하는 메소드 calc_area area를 재정의합니다\n",
    " 삼각형의 정보를 문자열로 반환하는 __ str __() 함수가 있습니다 .\n",
    " 삼각형 객체가 몇 개가 만들어져 있는지 정보를 저장하는 클래스 변수를 추가하고 생성자 에서 객체를 만들 \n",
    "                     때마다 증가시키고 소멸자에서 객체를 소멸시킬 때마다 감소합니다 .\n",
    "'''"
   ]
  },
  {
   "cell_type": "code",
   "execution_count": 22,
   "id": "594a0c88",
   "metadata": {},
   "outputs": [],
   "source": [
    "class Shape:\n",
    "    def __init__(self, x=0, y=0):\n",
    "        self.x = x\n",
    "        self.y = y\n",
    "    def move(self, x, y):\n",
    "        'x, y좌표 이동'\n",
    "        self.x += x\n",
    "        self.y += y\n",
    "    def __str__(self):\n",
    "        return 'x좌표 : {}, y좌표 : {}'.format(self.x, self.y)\n",
    "    def calc_area(self):\n",
    "        raise Exception('강제 예외 발생(이 메소드는 상속받는 곳에서 재정의 강요) \\\n",
    "                    : 추상메소드')\n",
    "    @staticmethod\n",
    "    def staticmethod_():\n",
    "        print(\"도형 클래스 staticmethod 호출\")"
   ]
  },
  {
   "cell_type": "code",
   "execution_count": 23,
   "id": "4fec5b46",
   "metadata": {},
   "outputs": [
    {
     "name": "stdout",
     "output_type": "stream",
     "text": [
      "x좌표 : 2, y좌표 : 2\n",
      "x좌표 : 12, y좌표 : 7\n",
      "도형 클래스 staticmethod 호출\n"
     ]
    }
   ],
   "source": [
    "s = Shape(2,2)\n",
    "print(s)\n",
    "s.move(10,5)\n",
    "print(s)\n",
    "Shape.staticmethod_()\n",
    "# s.calc_area()"
   ]
  },
  {
   "cell_type": "code",
   "execution_count": 24,
   "id": "fdd73a64",
   "metadata": {},
   "outputs": [],
   "source": [
    "class Triangle(Shape):\n",
    "    __count = 0\n",
    "    def __init__(self, width, height, x=0, y=0):\n",
    "        Triangle._Triangle__count += 1\n",
    "        self.width = width\n",
    "        self.height = height   \n",
    "        super().__init__(x, y)\n",
    "    def __del__(self):\n",
    "        Triangle._Triangle__count -= 1        \n",
    "    def __str__(self):\n",
    "        return super().__str__() + \", width:{}, height:{}, area:{}\".\\\n",
    "                            format(self.width, self.height, self.calc_area())    \n",
    "    def calc_area(self):\n",
    "        return (self.width*self.height)/2    \n",
    "    @classmethod\n",
    "    def get_count(cls):\n",
    "        #return Triangle._Triangle__count\n",
    "        return cls.__count"
   ]
  },
  {
   "cell_type": "code",
   "execution_count": 25,
   "id": "a7d8775b",
   "metadata": {},
   "outputs": [
    {
     "name": "stdout",
     "output_type": "stream",
     "text": [
      "x좌표 : 0, y좌표 : 10, width:4, height:3, area:6.0\n",
      "x좌표 : 0, y좌표 : 0, width:10, height:20, area:100.0\n",
      "x좌표 : 5, y좌표 : 5, width:3, height:4, area:6.0\n",
      "Triangle 객체 갯수 : 3\n",
      "도형 클래스 staticmethod 호출\n"
     ]
    }
   ],
   "source": [
    "t = Triangle(4,3, 0,10)\n",
    "t1 = Triangle(10, 20)\n",
    "t2 = Triangle(3, 4, 5, 5)\n",
    "print(t)\n",
    "print(t1)\n",
    "print(t2)\n",
    "print('Triangle 객체 갯수 :', Triangle.get_count())\n",
    "Triangle.staticmethod_()"
   ]
  },
  {
   "cell_type": "code",
   "execution_count": 26,
   "id": "e8ac2a98",
   "metadata": {},
   "outputs": [
    {
     "name": "stdout",
     "output_type": "stream",
     "text": [
      "x좌표 : 50, y좌표 : 50, width:10, height:20, area:100.0\n"
     ]
    }
   ],
   "source": [
    "t1.move(50,50)\n",
    "print(t1)"
   ]
  },
  {
   "cell_type": "code",
   "execution_count": 27,
   "id": "5c3d4797",
   "metadata": {},
   "outputs": [
    {
     "name": "stdout",
     "output_type": "stream",
     "text": [
      "Triangle 객체 갯수 : 1\n"
     ]
    }
   ],
   "source": [
    "del t, t1\n",
    "print('Triangle 객체 갯수 :', Triangle.get_count())"
   ]
  },
  {
   "cell_type": "markdown",
   "id": "67b98680",
   "metadata": {},
   "source": [
    "## 서술형"
   ]
  },
  {
   "cell_type": "code",
   "execution_count": 16,
   "id": "66934678",
   "metadata": {},
   "outputs": [],
   "source": [
    "# 1. 다음중 올바른 클래스 정의는?\n",
    "# 1"
   ]
  },
  {
   "cell_type": "code",
   "execution_count": 17,
   "id": "fadeee99",
   "metadata": {},
   "outputs": [],
   "source": [
    "# 2. 다음중 Person 클래스의 객체를 생성하는 올바른 방법은?\n",
    "# 2"
   ]
  },
  {
   "cell_type": "code",
   "execution_count": 18,
   "id": "6e0936cb",
   "metadata": {},
   "outputs": [],
   "source": [
    "# 3. 다음중 인스턴스 메소드를 선언하는 가장 올바른 방법은?\n",
    "# 4"
   ]
  },
  {
   "cell_type": "code",
   "execution_count": 19,
   "id": "6e649684",
   "metadata": {},
   "outputs": [],
   "source": [
    "# 4. 다음중 생성자와 소멸자에 대해 잘못 설명한 것은?\n",
    "# 1"
   ]
  },
  {
   "cell_type": "code",
   "execution_count": 28,
   "id": "d2db404b",
   "metadata": {},
   "outputs": [],
   "source": [
    "# 5. 다음중 Student is a Person 을 클래스 상속으로 바르게 표현한 것은?\n",
    "# 2"
   ]
  },
  {
   "cell_type": "code",
   "execution_count": 29,
   "id": "fb7ded9d",
   "metadata": {},
   "outputs": [],
   "source": [
    "# 6. 다음중 상속과 재정의 Overriding 에 대해 잘 못 설명한 것은?\n",
    "# 3"
   ]
  },
  {
   "cell_type": "code",
   "execution_count": 30,
   "id": "459fe9fb",
   "metadata": {},
   "outputs": [],
   "source": [
    "# 7. 다음 클래스의 메소드 호출 하는 방법 중 잘못된 것은?\n",
    "# 3"
   ]
  },
  {
   "cell_type": "code",
   "execution_count": 31,
   "id": "396b363d",
   "metadata": {},
   "outputs": [],
   "source": [
    "# 8. 두 클래스와 코드의 실행결과 다음과 같이 출력되도록 해야 한다면 빈 칸에 넣을 수 없는 것을 고르세요\n",
    "# 3"
   ]
  },
  {
   "cell_type": "code",
   "execution_count": 37,
   "id": "a29bfd1f",
   "metadata": {},
   "outputs": [
    {
     "name": "stdout",
     "output_type": "stream",
     "text": [
      "{'name': '홍길동', 'gender': '남자'}\n",
      "{'name': '홍길동', 'gender': '남자'}\n",
      "\n",
      "    독스트링은 클래스 첫번째 줄에 있는 문자열(클래스 설명서)\n",
      "    \n"
     ]
    }
   ],
   "source": [
    "# 9. 다음 중 파이썬의 특별한 용도로 정의되어 있는 속성과 메소드에 대한 설명 중 잘몬된 것은?\n",
    "class Person:\n",
    "    '''\n",
    "    독스트링은 클래스 첫번째 줄에 있는 문자열(클래스 설명서)\n",
    "    '''\n",
    "    def __init__(self, name, gender): # 생성자 함수\n",
    "        self.name = name # 객체안의 변수(인스턴스 변수)\n",
    "        self.gender = gender\n",
    "        \n",
    "    def print_info(self):\n",
    "        print('{}는 {}입니다 {}를 다닙니다'.format(self.name,\n",
    "                                                self.gender,\n",
    "                                                self.accademy))\n",
    "    def __str__(self):\n",
    "        return \"{}는 {}입니다 {}를 다닙니다\".format(self.name,\n",
    "                                                  self.gender,\n",
    "                                                  self.accademy)\n",
    "    def as_dict(self):\n",
    "        return {'name' : self.name, 'gender' : self.gender}\n",
    "p = Person('홍길동','남자')\n",
    "print(p.__dict__) # 객체를 딕셔너리 타입으로 전환\n",
    "print(p.as_dict())\n",
    "print(Person.__doc__)"
   ]
  },
  {
   "cell_type": "code",
   "execution_count": null,
   "id": "8b37129d",
   "metadata": {},
   "outputs": [],
   "source": []
  },
  {
   "cell_type": "code",
   "execution_count": null,
   "id": "0b13d5c2",
   "metadata": {},
   "outputs": [],
   "source": []
  }
 ],
 "metadata": {
  "kernelspec": {
   "display_name": "Python 3 (ipykernel)",
   "language": "python",
   "name": "python3"
  },
  "language_info": {
   "codemirror_mode": {
    "name": "ipython",
    "version": 3
   },
   "file_extension": ".py",
   "mimetype": "text/x-python",
   "name": "python",
   "nbconvert_exporter": "python",
   "pygments_lexer": "ipython3",
   "version": "3.10.9"
  },
  "toc": {
   "base_numbering": 1,
   "nav_menu": {},
   "number_sections": false,
   "sideBar": true,
   "skip_h1_title": false,
   "title_cell": "Table of Contents",
   "title_sidebar": "Contents",
   "toc_cell": false,
   "toc_position": {
    "height": "calc(100% - 180px)",
    "left": "10px",
    "top": "150px",
    "width": "165px"
   },
   "toc_section_display": true,
   "toc_window_display": true
  }
 },
 "nbformat": 4,
 "nbformat_minor": 5
}
