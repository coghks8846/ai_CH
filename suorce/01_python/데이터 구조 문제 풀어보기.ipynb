{
 "cells": [
  {
   "cell_type": "code",
   "execution_count": 1,
   "id": "fd8865b8",
   "metadata": {},
   "outputs": [
    {
     "data": {
      "text/html": [
       "\n",
       "<style>\n",
       "div.container{width:86% !important;}\n",
       "div.cell.code_cell.rendered{width:100%;}\n",
       "div.CodeMirror {font-family:Consolas; font-size:15pt;}\n",
       "div.output {font-size:15pt; font-weight:bold;}\n",
       "div.input {font-family:Consolas; font-size:15pt;}\n",
       "div.prompt {min-width:70px;}\n",
       "div#toc-wrapper{padding-top:120px;}\n",
       "div.text_cell_render ul li{font-size:12pt;padding:5px;}\n",
       "table.dataframe{font-size:15px;}\n",
       "</style>\n"
      ],
      "text/plain": [
       "<IPython.core.display.HTML object>"
      ]
     },
     "metadata": {},
     "output_type": "display_data"
    }
   ],
   "source": [
    "from IPython.display import display, HTML\n",
    "display(HTML(\"\"\"\n",
    "<style>\n",
    "div.container{width:86% !important;}\n",
    "div.cell.code_cell.rendered{width:100%;}\n",
    "div.CodeMirror {font-family:Consolas; font-size:15pt;}\n",
    "div.output {font-size:15pt; font-weight:bold;}\n",
    "div.input {font-family:Consolas; font-size:15pt;}\n",
    "div.prompt {min-width:70px;}\n",
    "div#toc-wrapper{padding-top:120px;}\n",
    "div.text_cell_render ul li{font-size:12pt;padding:5px;}\n",
    "table.dataframe{font-size:15px;}\n",
    "</style>\n",
    "\"\"\"))"
   ]
  },
  {
   "cell_type": "code",
   "execution_count": 4,
   "id": "3c04f214",
   "metadata": {},
   "outputs": [
    {
     "name": "stdout",
     "output_type": "stream",
     "text": [
      "banana\n"
     ]
    }
   ],
   "source": [
    "# 🔢 1. 리스트 만들기\n",
    "# 문제:\n",
    "# 과일 이름 'apple', 'banana', 'cherry'를 요소로 갖는 리스트 fruits를 만들고,\n",
    "# 두 번째 과일을 출력해보세요.\n",
    "fruits = ['apple', 'banana', 'cherry']\n",
    "print(fruits[1])"
   ]
  },
  {
   "cell_type": "code",
   "execution_count": 5,
   "id": "ce26babb",
   "metadata": {},
   "outputs": [
    {
     "name": "stdout",
     "output_type": "stream",
     "text": [
      "[30, 40, 50]\n"
     ]
    }
   ],
   "source": [
    "# 🔁 2. 슬라이싱\n",
    "# 문제:\n",
    "# 숫자 리스트 [10, 20, 30, 40, 50, 60]에서\n",
    "# 30, 40, 50만 슬라이싱으로 추출하여 출력하세요.\n",
    "numbers = [10, 20, 30, 40, 50, 60]\n",
    "print(numbers[2:5:])"
   ]
  },
  {
   "cell_type": "code",
   "execution_count": 17,
   "id": "1fd4f567",
   "metadata": {},
   "outputs": [
    {
     "name": "stdout",
     "output_type": "stream",
     "text": [
      "0번 색: red\n",
      "1번 색: green\n",
      "2번 색: blue\n"
     ]
    }
   ],
   "source": [
    "# 🔂 3. 반복문 + 인덱스\n",
    "# 문제:\n",
    "# 리스트 colors = ['red', 'green', 'blue']에서\n",
    "# 각 색의 인덱스와 값을 \"0번 색: red\" 형태로 출력해보세요.\n",
    "colors = ['red', 'green', 'blue']\n",
    "\n",
    "for index,i in enumerate(colors):\n",
    "    print(\"{}번 색: {}\"format(index,i))"
   ]
  },
  {
   "cell_type": "code",
   "execution_count": 22,
   "id": "544808b1",
   "metadata": {},
   "outputs": [],
   "source": [
    "# 🧱 4. 2차원 리스트\n",
    "# 문제:\n",
    "# 2x2 행렬 리스트 matrix = [[1, 2], [3, 4]]에서\n",
    "# 모든 숫자를 한 줄씩 출력하세요.\n",
    "matrix = [[1, 2], [3, 4]]"
   ]
  },
  {
   "cell_type": "code",
   "execution_count": null,
   "id": "f25f3eab",
   "metadata": {},
   "outputs": [],
   "source": [
    "🔍 5. 리스트 기본 정보\n",
    "문제:\n",
    "리스트 scores = [88, 92, 79, 93, 85]에서\n",
    "가장 높은 점수와 가장 낮은 점수를 출력해보세요.\n",
    "\n"
   ]
  },
  {
   "cell_type": "code",
   "execution_count": null,
   "id": "403407f2",
   "metadata": {},
   "outputs": [],
   "source": [
    "🧮 6. 정렬 & 합계\n",
    "문제:\n",
    "리스트 nums = [9, 3, 7, 1, 5]를 오름차순으로 정렬하여 출력하고,\n",
    "전체 합계를 구해서 출력하세요."
   ]
  },
  {
   "cell_type": "code",
   "execution_count": null,
   "id": "cacd1b84",
   "metadata": {},
   "outputs": [],
   "source": [
    "➕ 7. 요소 추가\n",
    "문제:\n",
    "빈 리스트 animals = []를 만든 뒤,\n",
    "순서대로 'dog', 'cat', 'tiger'를 추가하고 결과를 출력하세요.\n",
    "\n"
   ]
  },
  {
   "cell_type": "code",
   "execution_count": null,
   "id": "d73a0f01",
   "metadata": {},
   "outputs": [],
   "source": [
    "🔢 8. count()와 index()\n",
    "문제:\n",
    "리스트 nums = [4, 5, 6, 4, 7, 4]에서\n",
    "숫자 4의 개수와, 6의 위치(인덱스)를 출력하세요."
   ]
  },
  {
   "cell_type": "code",
   "execution_count": null,
   "id": "1cdc211f",
   "metadata": {},
   "outputs": [],
   "source": [
    "🧩 9. 역순 슬라이싱\n",
    "문제:\n",
    "리스트 letters = ['a', 'b', 'c', 'd', 'e']를\n",
    "거꾸로 뒤집은 리스트를 출력하세요."
   ]
  },
  {
   "cell_type": "code",
   "execution_count": null,
   "id": "c78b4c01",
   "metadata": {},
   "outputs": [],
   "source": [
    "⚡ 10. 리스트 컴프리헨션\n",
    "문제:\n",
    "리스트 nums = [1, 2, 3, 4, 5]에서\n",
    "3보다 큰 숫자의 제곱으로 구성된 새 리스트를 만들어 출력하세요."
   ]
  },
  {
   "cell_type": "code",
   "execution_count": null,
   "id": "43891e1c",
   "metadata": {},
   "outputs": [],
   "source": [
    "📝 11. 요소 수정\n",
    "문제:\n",
    "리스트 data = [10, 20, 30, 40]에서\n",
    "두 번째 요소(20)를 200으로 바꾸고 출력하세요.\n",
    "\n"
   ]
  },
  {
   "cell_type": "code",
   "execution_count": null,
   "id": "d590ed29",
   "metadata": {},
   "outputs": [],
   "source": [
    "❌ 12. 요소 삭제\n",
    "문제:\n",
    "리스트 langs = ['Python', 'Java', 'C++', 'Python']에서\n",
    "첫 번째 'Python'을 삭제하고 리스트를 출력하세요.\n",
    "\n"
   ]
  },
  {
   "cell_type": "code",
   "execution_count": null,
   "id": "1650679a",
   "metadata": {},
   "outputs": [],
   "source": []
  },
  {
   "cell_type": "code",
   "execution_count": null,
   "id": "37494659",
   "metadata": {},
   "outputs": [],
   "source": []
  }
 ],
 "metadata": {
  "kernelspec": {
   "display_name": "Python 3 (ipykernel)",
   "language": "python",
   "name": "python3"
  },
  "language_info": {
   "codemirror_mode": {
    "name": "ipython",
    "version": 3
   },
   "file_extension": ".py",
   "mimetype": "text/x-python",
   "name": "python",
   "nbconvert_exporter": "python",
   "pygments_lexer": "ipython3",
   "version": "3.10.9"
  }
 },
 "nbformat": 4,
 "nbformat_minor": 5
}
