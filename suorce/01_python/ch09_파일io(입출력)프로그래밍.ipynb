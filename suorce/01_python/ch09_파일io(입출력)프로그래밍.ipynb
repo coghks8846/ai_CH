{
 "cells": [
  {
   "cell_type": "code",
   "execution_count": 1,
   "id": "4a0282a0",
   "metadata": {},
   "outputs": [
    {
     "data": {
      "text/html": [
       "\n",
       "<style>\n",
       "div.container{width:86% !important;}\n",
       "div.cell.code_cell.rendered{width:100%;}\n",
       "div.CodeMirror {font-family:Consolas; font-size:15pt;}\n",
       "div.output {font-size:15pt; font-weight:bold;}\n",
       "div.input {font-family:Consolas; font-size:15pt;}\n",
       "div.prompt {min-width:70px;}\n",
       "div#toc-wrapper{padding-top:120px;}\n",
       "div.text_cell_render ul li{font-size:12pt;padding:5px;}\n",
       "table.dataframe{font-size:15px;}\n",
       "</style>\n"
      ],
      "text/plain": [
       "<IPython.core.display.HTML object>"
      ]
     },
     "metadata": {},
     "output_type": "display_data"
    }
   ],
   "source": [
    "from IPython.display import display, HTML\n",
    "display(HTML(\"\"\"\n",
    "<style>\n",
    "div.container{width:86% !important;}\n",
    "div.cell.code_cell.rendered{width:100%;}\n",
    "div.CodeMirror {font-family:Consolas; font-size:15pt;}\n",
    "div.output {font-size:15pt; font-weight:bold;}\n",
    "div.input {font-family:Consolas; font-size:15pt;}\n",
    "div.prompt {min-width:70px;}\n",
    "div#toc-wrapper{padding-top:120px;}\n",
    "div.text_cell_render ul li{font-size:12pt;padding:5px;}\n",
    "table.dataframe{font-size:15px;}\n",
    "</style>\n",
    "\"\"\"))"
   ]
  },
  {
   "cell_type": "markdown",
   "id": "5d92cdcd",
   "metadata": {},
   "source": [
    "<b><font size= \"6\" color=\"red\">ch09 파일 io(입출력) 프로그래밍</font></b>\n",
    "파일 : txt, pickle, csv, fson, hdf5(h5)\n",
    "# 1절. txt파일에 데이터 저장하고 불러오기"
   ]
  },
  {
   "cell_type": "code",
   "execution_count": 32,
   "id": "3720c513",
   "metadata": {},
   "outputs": [
    {
     "name": "stdout",
     "output_type": "stream",
     "text": [
      "쓰기 가능한지 여부 : True\n"
     ]
    }
   ],
   "source": [
    "f = open('data/ch09.txt', 'w')\n",
    "print('쓰기 가능한지 여부 :', f.writable())"
   ]
  },
  {
   "cell_type": "code",
   "execution_count": 33,
   "id": "d96883a7",
   "metadata": {},
   "outputs": [],
   "source": [
    "f.write('Hello\\nWorld')\n",
    "f.close() #close() 쓰기한 내용이 저장이 x"
   ]
  },
  {
   "cell_type": "code",
   "execution_count": 34,
   "id": "61cdfac7",
   "metadata": {},
   "outputs": [
    {
     "name": "stdout",
     "output_type": "stream",
     "text": [
      "쓰기 가능한지 여부 : True\n"
     ]
    }
   ],
   "source": [
    "# mode : 'r' 또는 'rt' : text읽기 모드\n",
    "      #  'rb' : 바이너리읽기 모드\n",
    "      #  'w' 또는 'wt' : text쓰기 모드 (파일이 있으면 덮어씀, 파일이 없으면 파일 생성)\n",
    "      #  'wb' : 바이너리쓰기 모드\n",
    "      #  'a' 또는 'at' : text 추가 모드(파일이 있으면 append, 파일이 없으면 파일 생성)\n",
    "      # 읽기모드에서는 파일이 없으면 예외/쓰기모드에서는 폴더가 없으면 예외\n",
    "# encoding \n",
    "     # euc-kr (한글완성형) 믜x\n",
    "     # cp949 (확장된 한글완성형) : open()함수 기본 encoding방식(win)\n",
    "     # utf-8 (한글조합형): open()함수 기본 encoding방식(mac, linux), 주피터노트북 기본\n",
    "with open('data/ch09.txt', 'w') as f:\n",
    "    print('쓰기 가능한지 여부 :', f.writable())\n",
    "    f.write('Hello\\nPython')"
   ]
  },
  {
   "cell_type": "code",
   "execution_count": 35,
   "id": "3cdc0c38",
   "metadata": {},
   "outputs": [],
   "source": [
    "with open('data/ch09.txt', 'w') as f:\n",
    "    # 1방법\n",
    "    f.write('홍길동, 33, 아무동9\\n')\n",
    "    f.write('김길동, 33, 아무동9\\n')\n",
    "    # 2방법\n",
    "    textlist = ['홍길동, 33, 아무동9\\n', '김길동, 33, 아무동9\\n']\n",
    "    for line in textlist:\n",
    "        f.write(line)\n",
    "    # 3방법\n",
    "    f.writelines(textlist)"
   ]
  },
  {
   "cell_type": "code",
   "execution_count": 36,
   "id": "b99c643d",
   "metadata": {},
   "outputs": [
    {
     "name": "stdout",
     "output_type": "stream",
     "text": [
      "홍길동, 33, 아무동9\n",
      "김길동, 33, 아무동9\n",
      "홍길동, 33, 아무동9\n",
      "김길동, 33, 아무동9\n",
      "홍길동, 33, 아무동9\n",
      "김길동, 33, 아무동9\n"
     ]
    }
   ],
   "source": [
    "# 한줄씩 읽기\n",
    "with open('data/ch09.txt', 'r') as f:\n",
    "    line = f.readline()\n",
    "    while line!='':\n",
    "        print(line, end='')\n",
    "        line = f.readline()"
   ]
  },
  {
   "cell_type": "code",
   "execution_count": 37,
   "id": "30283b1c",
   "metadata": {},
   "outputs": [
    {
     "name": "stdout",
     "output_type": "stream",
     "text": [
      "['홍길동, 33, 아무동9\\n', '김길동, 33, 아무동9\\n', '홍길동, 33, 아무동9\\n', '김길동, 33, 아무동9\\n', '홍길동, 33, 아무동9\\n', '김길동, 33, 아무동9\\n']\n"
     ]
    }
   ],
   "source": [
    "# 모든 줄을 읽기\n",
    "with open('data/ch09.txt', 'r') as f:\n",
    "    lines = f.readlines()\n",
    "    print(lines)"
   ]
  },
  {
   "cell_type": "code",
   "execution_count": 38,
   "id": "cc610527",
   "metadata": {},
   "outputs": [
    {
     "name": "stdout",
     "output_type": "stream",
     "text": [
      "홍길동, 33, 아무동9\n",
      "김길동, 33, 아무동9\n",
      "홍길동, 33, 아무동9\n",
      "김길동, 33, 아무동9\n",
      "홍길동, 33, 아무동9\n",
      "김길동, 33, 아무동9\n",
      "\n"
     ]
    }
   ],
   "source": [
    "# 모두 읽기\n",
    "with open('data/ch09.txt', 'r') as f:\n",
    "    lines = f.read()\n",
    "    print(lines)"
   ]
  },
  {
   "cell_type": "markdown",
   "id": "055902be",
   "metadata": {},
   "source": [
    "# 2절. 피클을 이용한 객체 저장 및 불러오기\n",
    "## 2.1 형식이 있는 txt 데이터 불러오기"
   ]
  },
  {
   "cell_type": "code",
   "execution_count": 39,
   "id": "d2303de3",
   "metadata": {},
   "outputs": [],
   "source": [
    "class Member:\n",
    "    def __init__(self, name, age, email, address):\n",
    "        self.name = name\n",
    "        self.age  = age\n",
    "        self.email= email\n",
    "        self.address = address\n",
    "    def __str__(self):\n",
    "        return \"{}, {}, {}, {}\".format(self.name,\n",
    "                                      \"성년\" if self.age>18 else \"미성년\",\n",
    "                                      self.email,\n",
    "                                      self.address)\n",
    "    def as_dict(self):\n",
    "        return {\n",
    "            'name':self.name,\n",
    "            'age':self.age,\n",
    "            'email':self.email,\n",
    "            'address':self.address\n",
    "               }\n",
    "    def __eq__(self, other):\n",
    "        return self.name == other.name and \\\n",
    "                self.age == other.age and \\\n",
    "                self.email == other.email and \\\n",
    "                self.address == other.address"
   ]
  },
  {
   "cell_type": "code",
   "execution_count": 40,
   "id": "f1a40631",
   "metadata": {},
   "outputs": [
    {
     "name": "stdout",
     "output_type": "stream",
     "text": [
      "True\n",
      "True\n"
     ]
    }
   ],
   "source": [
    "user1 = Member('홍',20,'a@a.com','신림동')\n",
    "user2 = Member('홍',20,'a@a.com','신림동')\n",
    "print(user1==user2)\n",
    "print(user1.__eq__(user2)) # 같은 내용이면 True"
   ]
  },
  {
   "cell_type": "code",
   "execution_count": 41,
   "id": "77fd06ab",
   "metadata": {},
   "outputs": [],
   "source": [
    "# 형식이 있는 txt 파일 내용을 member list(피클로 저장), 딕셔너리 list(데이터프레임)로 저장\n",
    "user_list = [] # member list\n",
    "user_dict = [] # 딕셔너리 list\n",
    "with open('data/ch09_member.txt', 'r', encoding='utf-8') as txt_file:\n",
    "    lines = txt_file.readlines()\n",
    "# print(lines)\n",
    "for line in lines:\n",
    "    data = line.split(',')\n",
    "#     print(data)\n",
    "    name = data[0]\n",
    "    age = int(data[1].strip()) # strip() : 좌우 공백(스페이스, \\t, \\n) 제거\n",
    "    email = data[2].strip()\n",
    "    address = data[3].strip()\n",
    "    user = Member(name, age, email, address)\n",
    "    user_list.append(user)\n",
    "    user_dict.append(user.as_dict())"
   ]
  },
  {
   "cell_type": "code",
   "execution_count": 42,
   "id": "f85bba3e",
   "metadata": {},
   "outputs": [
    {
     "name": "stdout",
     "output_type": "stream",
     "text": [
      "홍길동, 성년, kildong@hong.com, 서울시 관악구\n",
      "홍길숙, 성년, kilsuk1@hong.com, 서울시 영등포구\n",
      "신길동, 성년, shinkil@hong.com, 서울시 동작구\n"
     ]
    }
   ],
   "source": [
    "for user in user_list:\n",
    "    print(user)"
   ]
  },
  {
   "cell_type": "markdown",
   "id": "af546ebd",
   "metadata": {},
   "source": [
    "## 2.2 피클링\n",
    "- 객체 리스트(user_list) -> 피클파일로 쓰기\n",
    "- 피클 파일을 읽기 -> 객체 리스트(load_user_list)"
   ]
  },
  {
   "cell_type": "code",
   "execution_count": 43,
   "id": "6713b3e5",
   "metadata": {},
   "outputs": [],
   "source": [
    "# 피클링을 이용한 객체를 저장하기\n",
    "import pickle\n",
    "with open('data/ch09_member.data', 'wb') as f:\n",
    "    pickle.dump(user_list, f)"
   ]
  },
  {
   "cell_type": "code",
   "execution_count": 44,
   "id": "94ad547f",
   "metadata": {},
   "outputs": [],
   "source": [
    "# 피클링을 이용한 파일에서 객체 데이터로 읽기\n",
    "with open('data/ch09_member.data', 'rb') as f:\n",
    "    load_user_list = pickle.load(f)"
   ]
  },
  {
   "cell_type": "code",
   "execution_count": 45,
   "id": "495a69e7",
   "metadata": {},
   "outputs": [
    {
     "data": {
      "text/plain": [
       "True"
      ]
     },
     "execution_count": 45,
     "metadata": {},
     "output_type": "execute_result"
    }
   ],
   "source": [
    "user_list == load_user_list"
   ]
  },
  {
   "cell_type": "code",
   "execution_count": 46,
   "id": "2d1d94ad",
   "metadata": {},
   "outputs": [
    {
     "name": "stdout",
     "output_type": "stream",
     "text": [
      "0 신길동, 성년, shinkil@hong.com, 서울시 동작구\n",
      "0 홍길동, 성년, kildong@hong.com, 서울시 관악구\n",
      "1 신길동, 성년, shinkil@hong.com, 서울시 동작구\n",
      "1 홍길숙, 성년, kilsuk1@hong.com, 서울시 영등포구\n",
      "2 신길동, 성년, shinkil@hong.com, 서울시 동작구\n",
      "2 신길동, 성년, shinkil@hong.com, 서울시 동작구\n"
     ]
    }
   ],
   "source": [
    "for idx in range(len(user_list)):\n",
    "    print(idx, user)\n",
    "    print(idx, load_user_list[idx])"
   ]
  },
  {
   "cell_type": "code",
   "execution_count": 47,
   "id": "7081289f",
   "metadata": {},
   "outputs": [
    {
     "name": "stdout",
     "output_type": "stream",
     "text": [
      "0 홍길동, 성년, kildong@hong.com, 서울시 관악구\n",
      "0 홍길동, 성년, kildong@hong.com, 서울시 관악구\n",
      "True\n",
      "1 홍길숙, 성년, kilsuk1@hong.com, 서울시 영등포구\n",
      "1 홍길숙, 성년, kilsuk1@hong.com, 서울시 영등포구\n",
      "True\n",
      "2 신길동, 성년, shinkil@hong.com, 서울시 동작구\n",
      "2 신길동, 성년, shinkil@hong.com, 서울시 동작구\n",
      "True\n"
     ]
    }
   ],
   "source": [
    "for idx, (user, load_user) in enumerate(zip(user_list, load_user_list)):\n",
    "    print(idx, user)\n",
    "    print(idx, load_user)\n",
    "    print(user==load_user)"
   ]
  },
  {
   "cell_type": "code",
   "execution_count": 48,
   "id": "166317fc",
   "metadata": {},
   "outputs": [
    {
     "data": {
      "text/plain": [
       "True"
      ]
     },
     "execution_count": 48,
     "metadata": {},
     "output_type": "execute_result"
    }
   ],
   "source": [
    "result = []\n",
    "for user, load_user in zip(user_list, load_user_list):\n",
    "    result.append(user==load_user)\n",
    "all(result)"
   ]
  },
  {
   "cell_type": "markdown",
   "id": "7762dc02",
   "metadata": {},
   "source": [
    "# 3절. CSV형식 파일 읽기/쓰기\n",
    "- CSV파일 <-> 리스트데이터  3.1 / 3.2\n",
    "- CSV파일 <-> 딕셔너리데이터 3.3 / 3.4"
   ]
  },
  {
   "cell_type": "markdown",
   "id": "96077673",
   "metadata": {},
   "source": [
    "## 3.1 reader"
   ]
  },
  {
   "cell_type": "code",
   "execution_count": 49,
   "id": "e870e1ab",
   "metadata": {},
   "outputs": [
    {
     "name": "stdout",
     "output_type": "stream",
     "text": [
      "[['홍길동', '20', 'kildong@hong.com', '서울시 관악구'], ['김길동', '40', 'kimdong@hong.com', '서울시 영등포구'], ['신길동', '30', 'sindong@hong.com', '서울시 동작구']]\n"
     ]
    }
   ],
   "source": [
    "import csv\n",
    "with open('data/ch09_member1.csv', 'r', encoding='utf-8') as f:\n",
    "    reader = csv.reader(f)\n",
    "    result = list(reader)\n",
    "print(result)"
   ]
  },
  {
   "cell_type": "code",
   "execution_count": 50,
   "id": "a25769f8",
   "metadata": {},
   "outputs": [
    {
     "name": "stdout",
     "output_type": "stream",
     "text": [
      "[{'name': '홍길동', 'age': 20, 'email': 'kildong@hong.com', 'address': '서울시 관악구'}, {'name': '김길동', 'age': 40, 'email': 'kimdong@hong.com', 'address': '서울시 영등포구'}, {'name': '신길동', 'age': 30, 'email': 'sindong@hong.com', 'address': '서울시 동작구'}]\n"
     ]
    }
   ],
   "source": [
    "# \"\"(따옴표)가 없는 데이터는 numeric으로\n",
    "import csv\n",
    "with open('data/ch09_member1.csv', 'r', encoding='utf-8') as f:\n",
    "    reader = csv.reader(f, \n",
    "                        quoting=csv.QUOTE_NONNUMERIC)\n",
    "    result = list(reader)\n",
    "dict_list = []\n",
    "for data in result:\n",
    "    dict_list.append({\n",
    "        'name':data[0],\n",
    "        'age':int(data[1]),\n",
    "        'email':data[2],\n",
    "        'address':data[3]\n",
    "    })\n",
    "print(dict_list)"
   ]
  },
  {
   "cell_type": "markdown",
   "id": "d7639880",
   "metadata": {},
   "source": [
    "## 3.2 writer"
   ]
  },
  {
   "cell_type": "code",
   "execution_count": 51,
   "id": "32496131",
   "metadata": {},
   "outputs": [],
   "source": [
    "user_list = [['홍길동', 20, 'kildong@hong.com', '서울시 관악구'],\n",
    "             ['김길동', 40, 'kimdong@hong.com', '서울시 영등포구']]"
   ]
  },
  {
   "cell_type": "code",
   "execution_count": 52,
   "id": "383f6d9d",
   "metadata": {},
   "outputs": [],
   "source": [
    "import csv\n",
    "with open('data/ch09_member1.write.csv', 'a', newline='', encoding='utf-8') as f:\n",
    "    writer = csv.writer(f)\n",
    "    writer.writerow(user_list)"
   ]
  },
  {
   "cell_type": "code",
   "execution_count": 53,
   "id": "7273e1a4",
   "metadata": {},
   "outputs": [],
   "source": [
    "import csv\n",
    "with open('data/ch09_member1.write.csv', 'a', newline='', encoding='utf-8') as f:\n",
    "    writer = csv.writer(f, quoting=csv.QUOTE_NONNUMERIC)\n",
    "    writer.writerow(user_list)"
   ]
  },
  {
   "cell_type": "markdown",
   "id": "7907fd62",
   "metadata": {},
   "source": [
    "## 3.3 DictReader"
   ]
  },
  {
   "cell_type": "code",
   "execution_count": 54,
   "id": "0ad5a986",
   "metadata": {},
   "outputs": [
    {
     "name": "stdout",
     "output_type": "stream",
     "text": [
      "[{'name': '홍길동', 'age': '20', 'email': 'h@h.com', 'address': '서울시 관악구', 'job': None}, {'name': '신길동', 'age': '40', 'email': 's@h.com', 'address': '서울시 영등포구', 'job': '팀장'}, {'name': '김길동', 'age': '30', 'email': 'k@h.com', 'address': '서울시 동작구', 'job': None}]\n",
      "홍길동 20 h@h.com 서울시 관악구\n",
      "신길동 40 s@h.com 서울시 영등포구 팀장\n",
      "김길동 30 k@h.com 서울시 동작구\n"
     ]
    }
   ],
   "source": [
    "import csv\n",
    "with open('data/ch09_member3.csv', 'r', encoding='utf-8') as f:\n",
    "    dict_reader = csv.DictReader(f)\n",
    "    dict_list = list(dict_reader)\n",
    "print(dict_list)\n",
    "for row in dict_list:\n",
    "    if row['job'] is None:\n",
    "        print(row['name'], row['age'], row['email'], row['address'])\n",
    "    else:\n",
    "        print(row['name'], row['age'], row['email'], row['address'], row['job'])"
   ]
  },
  {
   "cell_type": "code",
   "execution_count": 55,
   "id": "f9fe644a",
   "metadata": {},
   "outputs": [
    {
     "name": "stdout",
     "output_type": "stream",
     "text": [
      "{'Name': '홍길동', 'Age': '20', 'Email': 'kildong@hong.com', 'Address': '서울시 관악구', 'Job': ''}\n",
      "{'Name': '김길동', 'Age': '40', 'Email': 'kimdong@hong.com', 'Address': '서울시 영등포구', 'Job': '팀장'}\n",
      "{'Name': '신길동', 'Age': '30', 'Email': 'sindong@hong.com', 'Address': '서울시 동작구', 'Job': ''}\n"
     ]
    }
   ],
   "source": [
    "# header가 없는 csv파일('data/ch09_member1-cp.csv')을 딕셔너리로 읽기\n",
    "with open('data/ch09_member1-cp.csv', encoding='cp949') as f:\n",
    "    dict_reader = csv.DictReader(f,\n",
    "                                 fieldnames=['Name','Age','Email','Address','Job'])\n",
    "    result=(list(dict_reader))\n",
    "for row in result:\n",
    "    print(row)"
   ]
  },
  {
   "cell_type": "code",
   "execution_count": 56,
   "id": "1ac7554a",
   "metadata": {},
   "outputs": [
    {
     "name": "stdout",
     "output_type": "stream",
     "text": [
      "{'Name': '홍길동', 'Age': '20', 'Email': 'kildong@hong.com', 'Address': '서울시 관악구', 'Job': ['']}\n",
      "{'Name': '김길동', 'Age': '40', 'Email': 'kimdong@hong.com', 'Address': '서울시 영등포구', 'Job': ['팀장']}\n",
      "{'Name': '신길동', 'Age': '30', 'Email': 'sindong@hong.com', 'Address': '서울시 동작구', 'Job': ['']}\n"
     ]
    }
   ],
   "source": [
    "# header가 없는 csv파일('data/ch09_member1-cp.csv')을 딕셔너리로 읽기\n",
    "with open('data/ch09_member1-cp.csv', encoding='cp949') as f:\n",
    "    dict_reader = csv.DictReader(f,\n",
    "                                 fieldnames=['Name','Age','Email','Address'],\n",
    "                                restkey='Job')\n",
    "    result=(list(dict_reader))\n",
    "for row in result:\n",
    "    print(row)"
   ]
  },
  {
   "cell_type": "markdown",
   "id": "d2c46b70",
   "metadata": {},
   "source": [
    "## 3.4 DictWriter\n",
    "- 딕셔너리 리스트 -> CSV파일"
   ]
  },
  {
   "cell_type": "code",
   "execution_count": 57,
   "id": "fe2d0f2d",
   "metadata": {},
   "outputs": [],
   "source": [
    "user1 = {'name': '홍길동', 'age': 22, 'email': 'a@a.com', 'address': '신림동'}\n",
    "user2 = {'name': '신길동', 'age': 32, 'email': 'b@a.com', 'address': '신림동'}\n",
    "user3 = {'name': '김길동', 'age': 42, 'email': 'c@a.com', 'address': '신림동'}\n",
    "user_list = [user1,user2,user3]\n",
    "fieldnames = list(user1.keys())"
   ]
  },
  {
   "cell_type": "code",
   "execution_count": 58,
   "id": "0771f464",
   "metadata": {},
   "outputs": [],
   "source": [
    "with open('data/ch09_member4.csv', 'w', encoding='utf-8', newline='') as f:\n",
    "    dict_writer = csv.DictWriter(f,\n",
    "                                fieldnames=fieldnames)\n",
    "    dict_writer.writeheader() # header 쓰기\n",
    "    dict_writer.writerows(user_list)"
   ]
  },
  {
   "cell_type": "markdown",
   "id": "1dd0f2d0",
   "metadata": {},
   "source": [
    "## CSV <-> 데이터프레임"
   ]
  },
  {
   "cell_type": "code",
   "execution_count": 59,
   "id": "de780557",
   "metadata": {},
   "outputs": [
    {
     "data": {
      "text/html": [
       "<div>\n",
       "<style scoped>\n",
       "    .dataframe tbody tr th:only-of-type {\n",
       "        vertical-align: middle;\n",
       "    }\n",
       "\n",
       "    .dataframe tbody tr th {\n",
       "        vertical-align: top;\n",
       "    }\n",
       "\n",
       "    .dataframe thead th {\n",
       "        text-align: right;\n",
       "    }\n",
       "</style>\n",
       "<table border=\"1\" class=\"dataframe\">\n",
       "  <thead>\n",
       "    <tr style=\"text-align: right;\">\n",
       "      <th></th>\n",
       "      <th>name</th>\n",
       "      <th>age</th>\n",
       "      <th>email</th>\n",
       "      <th>address</th>\n",
       "      <th>job</th>\n",
       "    </tr>\n",
       "  </thead>\n",
       "  <tbody>\n",
       "    <tr>\n",
       "      <th>0</th>\n",
       "      <td>홍길동</td>\n",
       "      <td>20</td>\n",
       "      <td>h@h.com</td>\n",
       "      <td>서울시 관악구</td>\n",
       "      <td>NaN</td>\n",
       "    </tr>\n",
       "    <tr>\n",
       "      <th>1</th>\n",
       "      <td>신길동</td>\n",
       "      <td>40</td>\n",
       "      <td>s@h.com</td>\n",
       "      <td>서울시 영등포구</td>\n",
       "      <td>팀장</td>\n",
       "    </tr>\n",
       "    <tr>\n",
       "      <th>2</th>\n",
       "      <td>김길동</td>\n",
       "      <td>30</td>\n",
       "      <td>k@h.com</td>\n",
       "      <td>서울시 동작구</td>\n",
       "      <td>NaN</td>\n",
       "    </tr>\n",
       "  </tbody>\n",
       "</table>\n",
       "</div>"
      ],
      "text/plain": [
       "  name  age    email   address  job\n",
       "0  홍길동   20  h@h.com   서울시 관악구  NaN\n",
       "1  신길동   40  s@h.com  서울시 영등포구   팀장\n",
       "2  김길동   30  k@h.com   서울시 동작구  NaN"
      ]
     },
     "execution_count": 59,
     "metadata": {},
     "output_type": "execute_result"
    }
   ],
   "source": [
    "import pandas as pd\n",
    "member = pd.read_csv('data/ch09_member3.csv')\n",
    "member"
   ]
  },
  {
   "cell_type": "code",
   "execution_count": 60,
   "id": "c5ac6d37",
   "metadata": {},
   "outputs": [
    {
     "data": {
      "text/plain": [
       "pandas.core.frame.DataFrame"
      ]
     },
     "execution_count": 60,
     "metadata": {},
     "output_type": "execute_result"
    }
   ],
   "source": [
    "type(member)"
   ]
  },
  {
   "cell_type": "markdown",
   "id": "ba13488a",
   "metadata": {},
   "source": [
    "# 4절. JSON 데이터 저장하고 불러오기(dump, load)\n",
    "- 딕셔너리리스트 <-> JSON파일\n",
    "- 객체리스트 <-> JSON 파일\n",
    "## 4.1 dump(파일 출력)"
   ]
  },
  {
   "cell_type": "code",
   "execution_count": 61,
   "id": "f50dbe81",
   "metadata": {},
   "outputs": [],
   "source": [
    "data = [{'name': '홍길동', 'age': 20, 'email': 'kildong@hong.com', 'address': '서울'},\n",
    "        {'name': '김길동', 'age': 30, 'email': 'kimdong@hong.com', 'address': '인천'}]"
   ]
  },
  {
   "cell_type": "code",
   "execution_count": 62,
   "id": "8e4814f0",
   "metadata": {},
   "outputs": [],
   "source": [
    "# ensure_ascii 매개변수\n",
    "    # True : 비 아스키문은 유니코드 형태로 저장\n",
    "    # False : 비 아스키문자 원래 형태로 저장\n",
    "import json\n",
    "with open('data/ch09_member.json', 'w', encoding='utf-8') as jsonfile:\n",
    "    json.dump(data, #딕셔너리 리스트\n",
    "             jsonfile,\n",
    "             ensure_ascii=False,\n",
    "             indent='  ')"
   ]
  },
  {
   "cell_type": "code",
   "execution_count": 63,
   "id": "9015ffeb",
   "metadata": {},
   "outputs": [],
   "source": [
    "class Member:\n",
    "    def __init__(self, name, age, email, address):\n",
    "        self.name = name\n",
    "        self.age  = age\n",
    "        self.email= email\n",
    "        self.address = address\n",
    "    def __str__(self):\n",
    "        return \"{}, {}, {}, {}\".format(self.name,\n",
    "                                      self.age,\n",
    "                                      self.email,\n",
    "                                      self.address)\n",
    "    def as_dict(self):\n",
    "        return {\n",
    "            'name':self.name,\n",
    "            'age':self.age,\n",
    "            'email':self.email,\n",
    "            'address':self.address\n",
    "               }\n",
    "    def __eq__(self, other):\n",
    "        return self.name == other.name and \\\n",
    "                self.age == other.age and \\\n",
    "                self.email == other.email and \\\n",
    "                self.address == other.address"
   ]
  },
  {
   "cell_type": "code",
   "execution_count": 64,
   "id": "0067f208",
   "metadata": {},
   "outputs": [],
   "source": [
    "user1 = Member"
   ]
  },
  {
   "cell_type": "code",
   "execution_count": 65,
   "id": "e1102153",
   "metadata": {},
   "outputs": [],
   "source": [
    "member_list =[Member('홍길동',22, 'a@a.com', '서울'),\n",
    "              Member('신길동',32, 'a@a.com', '서울'),\n",
    "              Member('김길동',42, 'a@a.com', '서울')]"
   ]
  },
  {
   "cell_type": "code",
   "execution_count": 66,
   "id": "7f1284a7",
   "metadata": {},
   "outputs": [],
   "source": [
    "with open('data/ch09_member1.json', 'w', encoding='utf-8') as jsonfile:\n",
    "    json.dump(member_list, # 객체 리스트\n",
    "             jsonfile,\n",
    "             ensure_ascii=False,\n",
    "             indent='\\t',\n",
    "             default=Member.as_dict # 객체를 딕셔너리로 return 하는 인스턴스 함수\n",
    "             )"
   ]
  },
  {
   "cell_type": "markdown",
   "id": "571dbbf0",
   "metadata": {},
   "source": [
    "## 4.2 load(파일 입력)\n",
    "- json파일 -> 딕셔너리리스트(기본)\n",
    "                   ↓\n",
    "- json파일 ->   객체리스트"
   ]
  },
  {
   "cell_type": "code",
   "execution_count": 67,
   "id": "c09ff075",
   "metadata": {},
   "outputs": [],
   "source": [
    "def as_member(dic):\n",
    "    '매개변수로 딕셔너리를 받아 Member 객체를 return'\n",
    "    return Member(dic.get('name'), dic['age'], dic.get('email'), dic.get('address'))"
   ]
  },
  {
   "cell_type": "code",
   "execution_count": 68,
   "id": "0c7ab3d8",
   "metadata": {},
   "outputs": [
    {
     "name": "stdout",
     "output_type": "stream",
     "text": [
      "김길동, 20, z@a.com, 관약\n"
     ]
    }
   ],
   "source": [
    "member = as_member({'name':'김길동', 'age':20, 'email':'z@a.com', 'address':'관약'})\n",
    "print(member)"
   ]
  },
  {
   "cell_type": "code",
   "execution_count": 69,
   "id": "f84a0a7d",
   "metadata": {},
   "outputs": [
    {
     "data": {
      "text/plain": [
       "[{'name': '홍길동', 'age': 20, 'email': 'kildong@hong.com', 'address': '서울'},\n",
       " {'name': '김길동', 'age': 30, 'email': 'kimdong@hong.com', 'address': '인천'}]"
      ]
     },
     "execution_count": 69,
     "metadata": {},
     "output_type": "execute_result"
    }
   ],
   "source": [
    "with open('data/ch09_member.json', 'r', encoding='utf-8') as f:\n",
    "    load_data = json.load(f)\n",
    "load_data"
   ]
  },
  {
   "cell_type": "code",
   "execution_count": 70,
   "id": "be4ee1ff",
   "metadata": {},
   "outputs": [
    {
     "name": "stdout",
     "output_type": "stream",
     "text": [
      "홍길동, 22, a@a.com, 서울\n",
      "신길동, 32, a@a.com, 서울\n",
      "김길동, 42, a@a.com, 서울\n"
     ]
    }
   ],
   "source": [
    "with open('data/ch09_member1.json', 'r', encoding='utf-8') as f:\n",
    "    load_member_list = json.load(f, object_hook=as_member)\n",
    "for load_member in load_member_list:\n",
    "    print(load_member)"
   ]
  },
  {
   "cell_type": "markdown",
   "id": "e39e7c49",
   "metadata": {},
   "source": [
    "## JSON -> 데이터프레임"
   ]
  },
  {
   "cell_type": "code",
   "execution_count": 71,
   "id": "ce3f4290",
   "metadata": {},
   "outputs": [
    {
     "data": {
      "text/html": [
       "<div>\n",
       "<style scoped>\n",
       "    .dataframe tbody tr th:only-of-type {\n",
       "        vertical-align: middle;\n",
       "    }\n",
       "\n",
       "    .dataframe tbody tr th {\n",
       "        vertical-align: top;\n",
       "    }\n",
       "\n",
       "    .dataframe thead th {\n",
       "        text-align: right;\n",
       "    }\n",
       "</style>\n",
       "<table border=\"1\" class=\"dataframe\">\n",
       "  <thead>\n",
       "    <tr style=\"text-align: right;\">\n",
       "      <th></th>\n",
       "      <th>name</th>\n",
       "      <th>age</th>\n",
       "      <th>email</th>\n",
       "      <th>address</th>\n",
       "    </tr>\n",
       "  </thead>\n",
       "  <tbody>\n",
       "    <tr>\n",
       "      <th>0</th>\n",
       "      <td>홍길동</td>\n",
       "      <td>22</td>\n",
       "      <td>a@a.com</td>\n",
       "      <td>서울</td>\n",
       "    </tr>\n",
       "    <tr>\n",
       "      <th>1</th>\n",
       "      <td>신길동</td>\n",
       "      <td>32</td>\n",
       "      <td>a@a.com</td>\n",
       "      <td>서울</td>\n",
       "    </tr>\n",
       "    <tr>\n",
       "      <th>2</th>\n",
       "      <td>김길동</td>\n",
       "      <td>42</td>\n",
       "      <td>a@a.com</td>\n",
       "      <td>서울</td>\n",
       "    </tr>\n",
       "  </tbody>\n",
       "</table>\n",
       "</div>"
      ],
      "text/plain": [
       "  name  age    email address\n",
       "0  홍길동   22  a@a.com      서울\n",
       "1  신길동   32  a@a.com      서울\n",
       "2  김길동   42  a@a.com      서울"
      ]
     },
     "execution_count": 71,
     "metadata": {},
     "output_type": "execute_result"
    }
   ],
   "source": [
    "import pandas as pd\n",
    "pd.read_json('data/ch09_member1.json')"
   ]
  },
  {
   "cell_type": "code",
   "execution_count": 72,
   "id": "ce81ee14",
   "metadata": {},
   "outputs": [
    {
     "data": {
      "text/html": [
       "<div>\n",
       "<style scoped>\n",
       "    .dataframe tbody tr th:only-of-type {\n",
       "        vertical-align: middle;\n",
       "    }\n",
       "\n",
       "    .dataframe tbody tr th {\n",
       "        vertical-align: top;\n",
       "    }\n",
       "\n",
       "    .dataframe thead th {\n",
       "        text-align: right;\n",
       "    }\n",
       "</style>\n",
       "<table border=\"1\" class=\"dataframe\">\n",
       "  <thead>\n",
       "    <tr style=\"text-align: right;\">\n",
       "      <th></th>\n",
       "      <th>name</th>\n",
       "      <th>age</th>\n",
       "      <th>email</th>\n",
       "      <th>address</th>\n",
       "    </tr>\n",
       "  </thead>\n",
       "  <tbody>\n",
       "    <tr>\n",
       "      <th>0</th>\n",
       "      <td>홍길동</td>\n",
       "      <td>20</td>\n",
       "      <td>kildong@hong.com</td>\n",
       "      <td>서울</td>\n",
       "    </tr>\n",
       "    <tr>\n",
       "      <th>1</th>\n",
       "      <td>김길동</td>\n",
       "      <td>30</td>\n",
       "      <td>kimdong@hong.com</td>\n",
       "      <td>인천</td>\n",
       "    </tr>\n",
       "  </tbody>\n",
       "</table>\n",
       "</div>"
      ],
      "text/plain": [
       "  name  age             email address\n",
       "0  홍길동   20  kildong@hong.com      서울\n",
       "1  김길동   30  kimdong@hong.com      인천"
      ]
     },
     "execution_count": 72,
     "metadata": {},
     "output_type": "execute_result"
    }
   ],
   "source": [
    "pd.read_json('data/ch09_member.json')"
   ]
  },
  {
   "cell_type": "markdown",
   "id": "50d84169",
   "metadata": {},
   "source": [
    "# 5절. hdf5(h5)파일 쓰기/읽기\n",
    "- h5py 사용\n",
    "## 5.1 hdf5파일 쓰기\n",
    "- 딕셔너리 리스트를 hdf5파일에 쓰기\n",
    "- 데이터프레임을 hdf5파일에 쓰기"
   ]
  },
  {
   "cell_type": "code",
   "execution_count": 73,
   "id": "98ec81e2",
   "metadata": {},
   "outputs": [
    {
     "data": {
      "text/html": [
       "<div>\n",
       "<style scoped>\n",
       "    .dataframe tbody tr th:only-of-type {\n",
       "        vertical-align: middle;\n",
       "    }\n",
       "\n",
       "    .dataframe tbody tr th {\n",
       "        vertical-align: top;\n",
       "    }\n",
       "\n",
       "    .dataframe thead th {\n",
       "        text-align: right;\n",
       "    }\n",
       "</style>\n",
       "<table border=\"1\" class=\"dataframe\">\n",
       "  <thead>\n",
       "    <tr style=\"text-align: right;\">\n",
       "      <th></th>\n",
       "      <th>sepal_length</th>\n",
       "      <th>sepal_width</th>\n",
       "      <th>petal_length</th>\n",
       "      <th>petal_width</th>\n",
       "      <th>species</th>\n",
       "    </tr>\n",
       "  </thead>\n",
       "  <tbody>\n",
       "    <tr>\n",
       "      <th>0</th>\n",
       "      <td>5.1</td>\n",
       "      <td>3.5</td>\n",
       "      <td>1.4</td>\n",
       "      <td>0.2</td>\n",
       "      <td>setosa</td>\n",
       "    </tr>\n",
       "    <tr>\n",
       "      <th>50</th>\n",
       "      <td>7.0</td>\n",
       "      <td>3.2</td>\n",
       "      <td>4.7</td>\n",
       "      <td>1.4</td>\n",
       "      <td>versicolor</td>\n",
       "    </tr>\n",
       "    <tr>\n",
       "      <th>100</th>\n",
       "      <td>6.3</td>\n",
       "      <td>3.3</td>\n",
       "      <td>6.0</td>\n",
       "      <td>2.5</td>\n",
       "      <td>virginica</td>\n",
       "    </tr>\n",
       "  </tbody>\n",
       "</table>\n",
       "</div>"
      ],
      "text/plain": [
       "     sepal_length  sepal_width  petal_length  petal_width     species\n",
       "0             5.1          3.5           1.4          0.2      setosa\n",
       "50            7.0          3.2           4.7          1.4  versicolor\n",
       "100           6.3          3.3           6.0          2.5   virginica"
      ]
     },
     "execution_count": 73,
     "metadata": {},
     "output_type": "execute_result"
    }
   ],
   "source": [
    "# seaborn : 시각화 패키지. 학습을 위한 데이터셋 다수\n",
    "import seaborn as sns\n",
    "iris_df = sns.load_dataset('iris')\n",
    "iris_df[::50]"
   ]
  },
  {
   "cell_type": "code",
   "execution_count": 74,
   "id": "f63457f6",
   "metadata": {},
   "outputs": [],
   "source": [
    "iris_df.to_hdf('data/ch09_iris.hdf5', key='iris')"
   ]
  },
  {
   "cell_type": "code",
   "execution_count": 75,
   "id": "765c950e",
   "metadata": {},
   "outputs": [
    {
     "data": {
      "text/plain": [
       "(dict, pandas.core.frame.DataFrame)"
      ]
     },
     "execution_count": 75,
     "metadata": {},
     "output_type": "execute_result"
    }
   ],
   "source": [
    "iris_dic = iris_df.to_dict()\n",
    "type(iris_dic), type(iris_df)"
   ]
  },
  {
   "cell_type": "code",
   "execution_count": 76,
   "id": "588fae74",
   "metadata": {},
   "outputs": [
    {
     "data": {
      "text/plain": [
       "dict_keys(['sepal_length', 'sepal_width', 'petal_length', 'petal_width', 'species'])"
      ]
     },
     "execution_count": 76,
     "metadata": {},
     "output_type": "execute_result"
    }
   ],
   "source": [
    "iris_dic.keys()"
   ]
  },
  {
   "cell_type": "code",
   "execution_count": 77,
   "id": "fcbc9ed7",
   "metadata": {},
   "outputs": [
    {
     "name": "stdout",
     "output_type": "stream",
     "text": [
      "그룹명 : sepal_length\n",
      "0:5.1\t1:4.9\t2:4.7\t3:4.6\t4:5.0\t5:5.4\t6:4.6\t7:5.0\t8:4.4\t9:4.9\t10:5.4\t11:4.8\t12:4.8\t13:4.3\t14:5.8\t15:5.7\t16:5.4\t17:5.1\t18:5.7\t19:5.1\t20:5.4\t21:5.1\t22:4.6\t23:5.1\t24:4.8\t25:5.0\t26:5.0\t27:5.2\t28:5.2\t29:4.7\t30:4.8\t31:5.4\t32:5.2\t33:5.5\t34:4.9\t35:5.0\t36:5.5\t37:4.9\t38:4.4\t39:5.1\t40:5.0\t41:4.5\t42:4.4\t43:5.0\t44:5.1\t45:4.8\t46:5.1\t47:4.6\t48:5.3\t49:5.0\t50:7.0\t51:6.4\t52:6.9\t53:5.5\t54:6.5\t55:5.7\t56:6.3\t57:4.9\t58:6.6\t59:5.2\t60:5.0\t61:5.9\t62:6.0\t63:6.1\t64:5.6\t65:6.7\t66:5.6\t67:5.8\t68:6.2\t69:5.6\t70:5.9\t71:6.1\t72:6.3\t73:6.1\t74:6.4\t75:6.6\t76:6.8\t77:6.7\t78:6.0\t79:5.7\t80:5.5\t81:5.5\t82:5.8\t83:6.0\t84:5.4\t85:6.0\t86:6.7\t87:6.3\t88:5.6\t89:5.5\t90:5.5\t91:6.1\t92:5.8\t93:5.0\t94:5.6\t95:5.7\t96:5.7\t97:6.2\t98:5.1\t99:5.7\t100:6.3\t101:5.8\t102:7.1\t103:6.3\t104:6.5\t105:7.6\t106:4.9\t107:7.3\t108:6.7\t109:7.2\t110:6.5\t111:6.4\t112:6.8\t113:5.7\t114:5.8\t115:6.4\t116:6.5\t117:7.7\t118:7.7\t119:6.0\t120:6.9\t121:5.6\t122:7.7\t123:6.3\t124:6.7\t125:7.2\t126:6.2\t127:6.1\t128:6.4\t129:7.2\t130:7.4\t131:7.9\t132:6.4\t133:6.3\t134:6.1\t135:7.7\t136:6.3\t137:6.4\t138:6.0\t139:6.9\t140:6.7\t141:6.9\t142:5.8\t143:6.8\t144:6.7\t145:6.7\t146:6.3\t147:6.5\t148:6.2\t149:5.9\t\n",
      "그룹명 : sepal_width\n",
      "0:3.5\t1:3.0\t2:3.2\t3:3.1\t4:3.6\t5:3.9\t6:3.4\t7:3.4\t8:2.9\t9:3.1\t10:3.7\t11:3.4\t12:3.0\t13:3.0\t14:4.0\t15:4.4\t16:3.9\t17:3.5\t18:3.8\t19:3.8\t20:3.4\t21:3.7\t22:3.6\t23:3.3\t24:3.4\t25:3.0\t26:3.4\t27:3.5\t28:3.4\t29:3.2\t30:3.1\t31:3.4\t32:4.1\t33:4.2\t34:3.1\t35:3.2\t36:3.5\t37:3.6\t38:3.0\t39:3.4\t40:3.5\t41:2.3\t42:3.2\t43:3.5\t44:3.8\t45:3.0\t46:3.8\t47:3.2\t48:3.7\t49:3.3\t50:3.2\t51:3.2\t52:3.1\t53:2.3\t54:2.8\t55:2.8\t56:3.3\t57:2.4\t58:2.9\t59:2.7\t60:2.0\t61:3.0\t62:2.2\t63:2.9\t64:2.9\t65:3.1\t66:3.0\t67:2.7\t68:2.2\t69:2.5\t70:3.2\t71:2.8\t72:2.5\t73:2.8\t74:2.9\t75:3.0\t76:2.8\t77:3.0\t78:2.9\t79:2.6\t80:2.4\t81:2.4\t82:2.7\t83:2.7\t84:3.0\t85:3.4\t86:3.1\t87:2.3\t88:3.0\t89:2.5\t90:2.6\t91:3.0\t92:2.6\t93:2.3\t94:2.7\t95:3.0\t96:2.9\t97:2.9\t98:2.5\t99:2.8\t100:3.3\t101:2.7\t102:3.0\t103:2.9\t104:3.0\t105:3.0\t106:2.5\t107:2.9\t108:2.5\t109:3.6\t110:3.2\t111:2.7\t112:3.0\t113:2.5\t114:2.8\t115:3.2\t116:3.0\t117:3.8\t118:2.6\t119:2.2\t120:3.2\t121:2.8\t122:2.8\t123:2.7\t124:3.3\t125:3.2\t126:2.8\t127:3.0\t128:2.8\t129:3.0\t130:2.8\t131:3.8\t132:2.8\t133:2.8\t134:2.6\t135:3.0\t136:3.4\t137:3.1\t138:3.0\t139:3.1\t140:3.1\t141:3.1\t142:2.7\t143:3.2\t144:3.3\t145:3.0\t146:2.5\t147:3.0\t148:3.4\t149:3.0\t\n",
      "그룹명 : petal_length\n",
      "0:1.4\t1:1.4\t2:1.3\t3:1.5\t4:1.4\t5:1.7\t6:1.4\t7:1.5\t8:1.4\t9:1.5\t10:1.5\t11:1.6\t12:1.4\t13:1.1\t14:1.2\t15:1.5\t16:1.3\t17:1.4\t18:1.7\t19:1.5\t20:1.7\t21:1.5\t22:1.0\t23:1.7\t24:1.9\t25:1.6\t26:1.6\t27:1.5\t28:1.4\t29:1.6\t30:1.6\t31:1.5\t32:1.5\t33:1.4\t34:1.5\t35:1.2\t36:1.3\t37:1.4\t38:1.3\t39:1.5\t40:1.3\t41:1.3\t42:1.3\t43:1.6\t44:1.9\t45:1.4\t46:1.6\t47:1.4\t48:1.5\t49:1.4\t50:4.7\t51:4.5\t52:4.9\t53:4.0\t54:4.6\t55:4.5\t56:4.7\t57:3.3\t58:4.6\t59:3.9\t60:3.5\t61:4.2\t62:4.0\t63:4.7\t64:3.6\t65:4.4\t66:4.5\t67:4.1\t68:4.5\t69:3.9\t70:4.8\t71:4.0\t72:4.9\t73:4.7\t74:4.3\t75:4.4\t76:4.8\t77:5.0\t78:4.5\t79:3.5\t80:3.8\t81:3.7\t82:3.9\t83:5.1\t84:4.5\t85:4.5\t86:4.7\t87:4.4\t88:4.1\t89:4.0\t90:4.4\t91:4.6\t92:4.0\t93:3.3\t94:4.2\t95:4.2\t96:4.2\t97:4.3\t98:3.0\t99:4.1\t100:6.0\t101:5.1\t102:5.9\t103:5.6\t104:5.8\t105:6.6\t106:4.5\t107:6.3\t108:5.8\t109:6.1\t110:5.1\t111:5.3\t112:5.5\t113:5.0\t114:5.1\t115:5.3\t116:5.5\t117:6.7\t118:6.9\t119:5.0\t120:5.7\t121:4.9\t122:6.7\t123:4.9\t124:5.7\t125:6.0\t126:4.8\t127:4.9\t128:5.6\t129:5.8\t130:6.1\t131:6.4\t132:5.6\t133:5.1\t134:5.6\t135:6.1\t136:5.6\t137:5.5\t138:4.8\t139:5.4\t140:5.6\t141:5.1\t142:5.1\t143:5.9\t144:5.7\t145:5.2\t146:5.0\t147:5.2\t148:5.4\t149:5.1\t\n",
      "그룹명 : petal_width\n",
      "0:0.2\t1:0.2\t2:0.2\t3:0.2\t4:0.2\t5:0.4\t6:0.3\t7:0.2\t8:0.2\t9:0.1\t10:0.2\t11:0.2\t12:0.1\t13:0.1\t14:0.2\t15:0.4\t16:0.4\t17:0.3\t18:0.3\t19:0.3\t20:0.2\t21:0.4\t22:0.2\t23:0.5\t24:0.2\t25:0.2\t26:0.4\t27:0.2\t28:0.2\t29:0.2\t30:0.2\t31:0.4\t32:0.1\t33:0.2\t34:0.2\t35:0.2\t36:0.2\t37:0.1\t38:0.2\t39:0.2\t40:0.3\t41:0.3\t42:0.2\t43:0.6\t44:0.4\t45:0.3\t46:0.2\t47:0.2\t48:0.2\t49:0.2\t50:1.4\t51:1.5\t52:1.5\t53:1.3\t54:1.5\t55:1.3\t56:1.6\t57:1.0\t58:1.3\t59:1.4\t60:1.0\t61:1.5\t62:1.0\t63:1.4\t64:1.3\t65:1.4\t66:1.5\t67:1.0\t68:1.5\t69:1.1\t70:1.8\t71:1.3\t72:1.5\t73:1.2\t74:1.3\t75:1.4\t76:1.4\t77:1.7\t78:1.5\t79:1.0\t80:1.1\t81:1.0\t82:1.2\t83:1.6\t84:1.5\t85:1.6\t86:1.5\t87:1.3\t88:1.3\t89:1.3\t90:1.2\t91:1.4\t92:1.2\t93:1.0\t94:1.3\t95:1.2\t96:1.3\t97:1.3\t98:1.1\t99:1.3\t100:2.5\t101:1.9\t102:2.1\t103:1.8\t104:2.2\t105:2.1\t106:1.7\t107:1.8\t108:1.8\t109:2.5\t110:2.0\t111:1.9\t112:2.1\t113:2.0\t114:2.4\t115:2.3\t116:1.8\t117:2.2\t118:2.3\t119:1.5\t120:2.3\t121:2.0\t122:2.0\t123:1.8\t124:2.1\t125:1.8\t126:1.8\t127:1.8\t128:2.1\t129:1.6\t130:1.9\t131:2.0\t132:2.2\t133:1.5\t134:1.4\t135:2.3\t136:2.4\t137:1.8\t138:1.8\t139:2.1\t140:2.4\t141:2.3\t142:1.9\t143:2.3\t144:2.5\t145:2.3\t146:1.9\t147:2.0\t148:2.3\t149:1.8\t\n",
      "그룹명 : species\n",
      "0:setosa\t1:setosa\t2:setosa\t3:setosa\t4:setosa\t5:setosa\t6:setosa\t7:setosa\t8:setosa\t9:setosa\t10:setosa\t11:setosa\t12:setosa\t13:setosa\t14:setosa\t15:setosa\t16:setosa\t17:setosa\t18:setosa\t19:setosa\t20:setosa\t21:setosa\t22:setosa\t23:setosa\t24:setosa\t25:setosa\t26:setosa\t27:setosa\t28:setosa\t29:setosa\t30:setosa\t31:setosa\t32:setosa\t33:setosa\t34:setosa\t35:setosa\t36:setosa\t37:setosa\t38:setosa\t39:setosa\t40:setosa\t41:setosa\t42:setosa\t43:setosa\t44:setosa\t45:setosa\t46:setosa\t47:setosa\t48:setosa\t49:setosa\t50:versicolor\t51:versicolor\t52:versicolor\t53:versicolor\t54:versicolor\t55:versicolor\t56:versicolor\t57:versicolor\t58:versicolor\t59:versicolor\t60:versicolor\t61:versicolor\t62:versicolor\t63:versicolor\t64:versicolor\t65:versicolor\t66:versicolor\t67:versicolor\t68:versicolor\t69:versicolor\t70:versicolor\t71:versicolor\t72:versicolor\t73:versicolor\t74:versicolor\t75:versicolor\t76:versicolor\t77:versicolor\t78:versicolor\t79:versicolor\t80:versicolor\t81:versicolor\t82:versicolor\t83:versicolor\t84:versicolor\t85:versicolor\t86:versicolor\t87:versicolor\t88:versicolor\t89:versicolor\t90:versicolor\t91:versicolor\t92:versicolor\t93:versicolor\t94:versicolor\t95:versicolor\t96:versicolor\t97:versicolor\t98:versicolor\t99:versicolor\t100:virginica\t101:virginica\t102:virginica\t103:virginica\t104:virginica\t105:virginica\t106:virginica\t107:virginica\t108:virginica\t109:virginica\t110:virginica\t111:virginica\t112:virginica\t113:virginica\t114:virginica\t115:virginica\t116:virginica\t117:virginica\t118:virginica\t119:virginica\t120:virginica\t121:virginica\t122:virginica\t123:virginica\t124:virginica\t125:virginica\t126:virginica\t127:virginica\t128:virginica\t129:virginica\t130:virginica\t131:virginica\t132:virginica\t133:virginica\t134:virginica\t135:virginica\t136:virginica\t137:virginica\t138:virginica\t139:virginica\t140:virginica\t141:virginica\t142:virginica\t143:virginica\t144:virginica\t145:virginica\t146:virginica\t147:virginica\t148:virginica\t149:virginica\t\n"
     ]
    }
   ],
   "source": [
    "for group, value in iris_dic.items():\n",
    "    print('그룹명 :',group)\n",
    "    for key, data in value.items():\n",
    "        print('{}:{}'.format(str(key),data), end = '\\t')\n",
    "    print() # 개행"
   ]
  },
  {
   "cell_type": "code",
   "execution_count": 78,
   "id": "94c13f52",
   "metadata": {},
   "outputs": [
    {
     "name": "stdout",
     "output_type": "stream",
     "text": [
      "그룹명 : sepal_length\n",
      "그룹명 : sepal_width\n",
      "그룹명 : petal_length\n",
      "그룹명 : petal_width\n",
      "그룹명 : species\n"
     ]
    }
   ],
   "source": [
    "for group, value in iris_dic.items():\n",
    "    print('그룹명 :',group)\n",
    "#     print(value)"
   ]
  },
  {
   "cell_type": "code",
   "execution_count": 79,
   "id": "d2b3c675",
   "metadata": {},
   "outputs": [],
   "source": [
    "# 딕셔너리 리스트를 hdf파일로 쓰기\n",
    "import h5py\n",
    "with h5py.File('data/ch09_iris_dic.h5', 'w') as f:\n",
    "    for group, value in iris_dic.items():\n",
    "        grp = f.create_group(group)\n",
    "        for key, data in value.items():\n",
    "            grp.create_dataset(str(key), data==data)"
   ]
  },
  {
   "cell_type": "code",
   "execution_count": null,
   "id": "2eed3b8b",
   "metadata": {},
   "outputs": [],
   "source": []
  },
  {
   "cell_type": "markdown",
   "id": "959ae794",
   "metadata": {},
   "source": [
    "## 5.2 hdf5 파일 읽기\n",
    "- hdf5 파일을 딕셔너리 리스트로 읽기\n",
    "- hdf5 파일을 데이터프레임으로 읽기"
   ]
  },
  {
   "cell_type": "code",
   "execution_count": 80,
   "id": "dee6424b",
   "metadata": {},
   "outputs": [
    {
     "data": {
      "text/html": [
       "<div>\n",
       "<style scoped>\n",
       "    .dataframe tbody tr th:only-of-type {\n",
       "        vertical-align: middle;\n",
       "    }\n",
       "\n",
       "    .dataframe tbody tr th {\n",
       "        vertical-align: top;\n",
       "    }\n",
       "\n",
       "    .dataframe thead th {\n",
       "        text-align: right;\n",
       "    }\n",
       "</style>\n",
       "<table border=\"1\" class=\"dataframe\">\n",
       "  <thead>\n",
       "    <tr style=\"text-align: right;\">\n",
       "      <th></th>\n",
       "      <th>sepal_length</th>\n",
       "      <th>sepal_width</th>\n",
       "      <th>petal_length</th>\n",
       "      <th>petal_width</th>\n",
       "      <th>species</th>\n",
       "    </tr>\n",
       "  </thead>\n",
       "  <tbody>\n",
       "    <tr>\n",
       "      <th>0</th>\n",
       "      <td>5.1</td>\n",
       "      <td>3.5</td>\n",
       "      <td>1.4</td>\n",
       "      <td>0.2</td>\n",
       "      <td>setosa</td>\n",
       "    </tr>\n",
       "    <tr>\n",
       "      <th>50</th>\n",
       "      <td>7.0</td>\n",
       "      <td>3.2</td>\n",
       "      <td>4.7</td>\n",
       "      <td>1.4</td>\n",
       "      <td>versicolor</td>\n",
       "    </tr>\n",
       "    <tr>\n",
       "      <th>100</th>\n",
       "      <td>6.3</td>\n",
       "      <td>3.3</td>\n",
       "      <td>6.0</td>\n",
       "      <td>2.5</td>\n",
       "      <td>virginica</td>\n",
       "    </tr>\n",
       "  </tbody>\n",
       "</table>\n",
       "</div>"
      ],
      "text/plain": [
       "     sepal_length  sepal_width  petal_length  petal_width     species\n",
       "0             5.1          3.5           1.4          0.2      setosa\n",
       "50            7.0          3.2           4.7          1.4  versicolor\n",
       "100           6.3          3.3           6.0          2.5   virginica"
      ]
     },
     "execution_count": 80,
     "metadata": {},
     "output_type": "execute_result"
    }
   ],
   "source": [
    "import pandas as pd\n",
    "load_iris_df = pd.read_hdf('data/ch09_iris.hdf5', key='iris')\n",
    "load_iris_df[::50]"
   ]
  },
  {
   "cell_type": "code",
   "execution_count": 81,
   "id": "0c995a33",
   "metadata": {},
   "outputs": [
    {
     "data": {
      "text/plain": [
       "True"
      ]
     },
     "execution_count": 81,
     "metadata": {},
     "output_type": "execute_result"
    }
   ],
   "source": [
    "all(iris_df == load_iris_df) # 두 데이터프레임 변수의 모든 행과 열의 값이 같은지 여부"
   ]
  },
  {
   "cell_type": "code",
   "execution_count": 82,
   "id": "e332e6be",
   "metadata": {},
   "outputs": [
    {
     "name": "stdout",
     "output_type": "stream",
     "text": [
      "그룹 :  petal_length\n",
      "0:[0.]\t1:[0.]\t10:[0.]\t100:[0.]\t101:[0.]\t102:[0.]\t103:[0.]\t104:[0.]\t105:[0.]\t106:[0.]\t107:[0.]\t108:[0.]\t109:[0.]\t11:[0.]\t110:[0.]\t111:[0.]\t112:[0.]\t113:[0.]\t114:[0.]\t115:[0.]\t116:[0.]\t117:[0.]\t118:[0.]\t119:[0.]\t12:[0.]\t120:[0.]\t121:[0.]\t122:[0.]\t123:[0.]\t124:[0.]\t125:[0.]\t126:[0.]\t127:[0.]\t128:[0.]\t129:[0.]\t13:[0.]\t130:[0.]\t131:[0.]\t132:[0.]\t133:[0.]\t134:[0.]\t135:[0.]\t136:[0.]\t137:[0.]\t138:[0.]\t139:[0.]\t14:[0.]\t140:[0.]\t141:[0.]\t142:[0.]\t143:[0.]\t144:[0.]\t145:[0.]\t146:[0.]\t147:[0.]\t148:[0.]\t149:[0.]\t15:[0.]\t16:[0.]\t17:[0.]\t18:[0.]\t19:[0.]\t2:[0.]\t20:[0.]\t21:[0.]\t22:[0.]\t23:[0.]\t24:[0.]\t25:[0.]\t26:[0.]\t27:[0.]\t28:[0.]\t29:[0.]\t3:[0.]\t30:[0.]\t31:[0.]\t32:[0.]\t33:[0.]\t34:[0.]\t35:[0.]\t36:[0.]\t37:[0.]\t38:[0.]\t39:[0.]\t4:[0.]\t40:[0.]\t41:[0.]\t42:[0.]\t43:[0.]\t44:[0.]\t45:[0.]\t46:[0.]\t47:[0.]\t48:[0.]\t49:[0.]\t5:[0.]\t50:[0.]\t51:[0.]\t52:[0.]\t53:[0.]\t54:[0.]\t55:[0.]\t56:[0.]\t57:[0.]\t58:[0.]\t59:[0.]\t6:[0.]\t60:[0.]\t61:[0.]\t62:[0.]\t63:[0.]\t64:[0.]\t65:[0.]\t66:[0.]\t67:[0.]\t68:[0.]\t69:[0.]\t7:[0.]\t70:[0.]\t71:[0.]\t72:[0.]\t73:[0.]\t74:[0.]\t75:[0.]\t76:[0.]\t77:[0.]\t78:[0.]\t79:[0.]\t8:[0.]\t80:[0.]\t81:[0.]\t82:[0.]\t83:[0.]\t84:[0.]\t85:[0.]\t86:[0.]\t87:[0.]\t88:[0.]\t89:[0.]\t9:[0.]\t90:[0.]\t91:[0.]\t92:[0.]\t93:[0.]\t94:[0.]\t95:[0.]\t96:[0.]\t97:[0.]\t98:[0.]\t99:[0.]\t그룹 :  petal_width\n",
      "0:[0.]\t1:[0.]\t10:[0.]\t100:[0.]\t101:[0.]\t102:[0.]\t103:[0.]\t104:[0.]\t105:[0.]\t106:[0.]\t107:[0.]\t108:[0.]\t109:[0.]\t11:[0.]\t110:[0.]\t111:[0.]\t112:[0.]\t113:[0.]\t114:[0.]\t115:[0.]\t116:[0.]\t117:[0.]\t118:[0.]\t119:[0.]\t12:[0.]\t120:[0.]\t121:[0.]\t122:[0.]\t123:[0.]\t124:[0.]\t125:[0.]\t126:[0.]\t127:[0.]\t128:[0.]\t129:[0.]\t13:[0.]\t130:[0.]\t131:[0.]\t132:[0.]\t133:[0.]\t134:[0.]\t135:[0.]\t136:[0.]\t137:[0.]\t138:[0.]\t139:[0.]\t14:[0.]\t140:[0.]\t141:[0.]\t142:[0.]\t143:[0.]\t144:[0.]\t145:[0.]\t146:[0.]\t147:[0.]\t148:[0.]\t149:[0.]\t15:[0.]\t16:[0.]\t17:[0.]\t18:[0.]\t19:[0.]\t2:[0.]\t20:[0.]\t21:[0.]\t22:[0.]\t23:[0.]\t24:[0.]\t25:[0.]\t26:[0.]\t27:[0.]\t28:[0.]\t29:[0.]\t3:[0.]\t30:[0.]\t31:[0.]\t32:[0.]\t33:[0.]\t34:[0.]\t35:[0.]\t36:[0.]\t37:[0.]\t38:[0.]\t39:[0.]\t4:[0.]\t40:[0.]\t41:[0.]\t42:[0.]\t43:[0.]\t44:[0.]\t45:[0.]\t46:[0.]\t47:[0.]\t48:[0.]\t49:[0.]\t5:[0.]\t50:[0.]\t51:[0.]\t52:[0.]\t53:[0.]\t54:[0.]\t55:[0.]\t56:[0.]\t57:[0.]\t58:[0.]\t59:[0.]\t6:[0.]\t60:[0.]\t61:[0.]\t62:[0.]\t63:[0.]\t64:[0.]\t65:[0.]\t66:[0.]\t67:[0.]\t68:[0.]\t69:[0.]\t7:[0.]\t70:[0.]\t71:[0.]\t72:[0.]\t73:[0.]\t74:[0.]\t75:[0.]\t76:[0.]\t77:[0.]\t78:[0.]\t79:[0.]\t8:[0.]\t80:[0.]\t81:[0.]\t82:[0.]\t83:[0.]\t84:[0.]\t85:[0.]\t86:[0.]\t87:[0.]\t88:[0.]\t89:[0.]\t9:[0.]\t90:[0.]\t91:[0.]\t92:[0.]\t93:[0.]\t94:[0.]\t95:[0.]\t96:[0.]\t97:[0.]\t98:[0.]\t99:[0.]\t그룹 :  sepal_length\n",
      "0:[0.]\t1:[0.]\t10:[0.]\t100:[0.]\t101:[0.]\t102:[0.]\t103:[0.]\t104:[0.]\t105:[0.]\t106:[0.]\t107:[0.]\t108:[0.]\t109:[0.]\t11:[0.]\t110:[0.]\t111:[0.]\t112:[0.]\t113:[0.]\t114:[0.]\t115:[0.]\t116:[0.]\t117:[0.]\t118:[0.]\t119:[0.]\t12:[0.]\t120:[0.]\t121:[0.]\t122:[0.]\t123:[0.]\t124:[0.]\t125:[0.]\t126:[0.]\t127:[0.]\t128:[0.]\t129:[0.]\t13:[0.]\t130:[0.]\t131:[0.]\t132:[0.]\t133:[0.]\t134:[0.]\t135:[0.]\t136:[0.]\t137:[0.]\t138:[0.]\t139:[0.]\t14:[0.]\t140:[0.]\t141:[0.]\t142:[0.]\t143:[0.]\t144:[0.]\t145:[0.]\t146:[0.]\t147:[0.]\t148:[0.]\t149:[0.]\t15:[0.]\t16:[0.]\t17:[0.]\t18:[0.]\t19:[0.]\t2:[0.]\t20:[0.]\t21:[0.]\t22:[0.]\t23:[0.]\t24:[0.]\t25:[0.]\t26:[0.]\t27:[0.]\t28:[0.]\t29:[0.]\t3:[0.]\t30:[0.]\t31:[0.]\t32:[0.]\t33:[0.]\t34:[0.]\t35:[0.]\t36:[0.]\t37:[0.]\t38:[0.]\t39:[0.]\t4:[0.]\t40:[0.]\t41:[0.]\t42:[0.]\t43:[0.]\t44:[0.]\t45:[0.]\t46:[0.]\t47:[0.]\t48:[0.]\t49:[0.]\t5:[0.]\t50:[0.]\t51:[0.]\t52:[0.]\t53:[0.]\t54:[0.]\t55:[0.]\t56:[0.]\t57:[0.]\t58:[0.]\t59:[0.]\t6:[0.]\t60:[0.]\t61:[0.]\t62:[0.]\t63:[0.]\t64:[0.]\t65:[0.]\t66:[0.]\t67:[0.]\t68:[0.]\t69:[0.]\t7:[0.]\t70:[0.]\t71:[0.]\t72:[0.]\t73:[0.]\t74:[0.]\t75:[0.]\t76:[0.]\t77:[0.]\t78:[0.]\t79:[0.]\t8:[0.]\t80:[0.]\t81:[0.]\t82:[0.]\t83:[0.]\t84:[0.]\t85:[0.]\t86:[0.]\t87:[0.]\t88:[0.]\t89:[0.]\t9:[0.]\t90:[0.]\t91:[0.]\t92:[0.]\t93:[0.]\t94:[0.]\t95:[0.]\t96:[0.]\t97:[0.]\t98:[0.]\t99:[0.]\t그룹 :  sepal_width\n",
      "0:[0.]\t1:[0.]\t10:[0.]\t100:[0.]\t101:[0.]\t102:[0.]\t103:[0.]\t104:[0.]\t105:[0.]\t106:[0.]\t107:[0.]\t108:[0.]\t109:[0.]\t11:[0.]\t110:[0.]\t111:[0.]\t112:[0.]\t113:[0.]\t114:[0.]\t115:[0.]\t116:[0.]\t117:[0.]\t118:[0.]\t119:[0.]\t12:[0.]\t120:[0.]\t121:[0.]\t122:[0.]\t123:[0.]\t124:[0.]\t125:[0.]\t126:[0.]\t127:[0.]\t128:[0.]\t129:[0.]\t13:[0.]\t130:[0.]\t131:[0.]\t132:[0.]\t133:[0.]\t134:[0.]\t135:[0.]\t136:[0.]\t137:[0.]\t138:[0.]\t139:[0.]\t14:[0.]\t140:[0.]\t141:[0.]\t142:[0.]\t143:[0.]\t144:[0.]\t145:[0.]\t146:[0.]\t147:[0.]\t148:[0.]\t149:[0.]\t15:[0.]\t16:[0.]\t17:[0.]\t18:[0.]\t19:[0.]\t2:[0.]\t20:[0.]\t21:[0.]\t22:[0.]\t23:[0.]\t24:[0.]\t25:[0.]\t26:[0.]\t27:[0.]\t28:[0.]\t29:[0.]\t3:[0.]\t30:[0.]\t31:[0.]\t32:[0.]\t33:[0.]\t34:[0.]\t35:[0.]\t36:[0.]\t37:[0.]\t38:[0.]\t39:[0.]\t4:[0.]\t40:[0.]\t41:[0.]\t42:[0.]\t43:[0.]\t44:[0.]\t45:[0.]\t46:[0.]\t47:[0.]\t48:[0.]\t49:[0.]\t5:[0.]\t50:[0.]\t51:[0.]\t52:[0.]\t53:[0.]\t54:[0.]\t55:[0.]\t56:[0.]\t57:[0.]\t58:[0.]\t59:[0.]\t6:[0.]\t60:[0.]\t61:[0.]\t62:[0.]\t63:[0.]\t64:[0.]\t65:[0.]\t66:[0.]\t67:[0.]\t68:[0.]\t69:[0.]\t7:[0.]\t70:[0.]\t71:[0.]\t72:[0.]\t73:[0.]\t74:[0.]\t75:[0.]\t76:[0.]\t77:[0.]\t78:[0.]\t79:[0.]\t8:[0.]\t80:[0.]\t81:[0.]\t82:[0.]\t83:[0.]\t84:[0.]\t85:[0.]\t86:[0.]\t87:[0.]\t88:[0.]\t89:[0.]\t9:[0.]\t90:[0.]\t91:[0.]\t92:[0.]\t93:[0.]\t94:[0.]\t95:[0.]\t96:[0.]\t97:[0.]\t98:[0.]\t99:[0.]\t그룹 :  species\n",
      "0:[0.]\t1:[0.]\t10:[0.]\t100:[0.]\t101:[0.]\t102:[0.]\t103:[0.]\t104:[0.]\t105:[0.]\t106:[0.]\t107:[0.]\t108:[0.]\t109:[0.]\t11:[0.]\t110:[0.]\t111:[0.]\t112:[0.]\t113:[0.]\t114:[0.]\t115:[0.]\t116:[0.]\t117:[0.]\t118:[0.]\t119:[0.]\t12:[0.]\t120:[0.]\t121:[0.]\t122:[0.]\t123:[0.]\t124:[0.]\t125:[0.]\t126:[0.]\t127:[0.]\t128:[0.]\t129:[0.]\t13:[0.]\t130:[0.]\t131:[0.]\t132:[0.]\t133:[0.]\t134:[0.]\t135:[0.]\t136:[0.]\t137:[0.]\t138:[0.]\t139:[0.]\t14:[0.]\t140:[0.]\t141:[0.]\t142:[0.]\t143:[0.]\t144:[0.]\t145:[0.]\t146:[0.]\t147:[0.]\t148:[0.]\t149:[0.]\t15:[0.]\t16:[0.]\t17:[0.]\t18:[0.]\t19:[0.]\t2:[0.]\t20:[0.]\t21:[0.]\t22:[0.]\t23:[0.]\t24:[0.]\t25:[0.]\t26:[0.]\t27:[0.]\t28:[0.]\t29:[0.]\t3:[0.]\t30:[0.]\t31:[0.]\t32:[0.]\t33:[0.]\t34:[0.]\t35:[0.]\t36:[0.]\t37:[0.]\t38:[0.]\t39:[0.]\t4:[0.]\t40:[0.]\t41:[0.]\t42:[0.]\t43:[0.]\t44:[0.]\t45:[0.]\t46:[0.]\t47:[0.]\t48:[0.]\t49:[0.]\t5:[0.]\t50:[0.]\t51:[0.]\t52:[0.]\t53:[0.]\t54:[0.]\t55:[0.]\t56:[0.]\t57:[0.]\t58:[0.]\t59:[0.]\t6:[0.]\t60:[0.]\t61:[0.]\t62:[0.]\t63:[0.]\t64:[0.]\t65:[0.]\t66:[0.]\t67:[0.]\t68:[0.]\t69:[0.]\t7:[0.]\t70:[0.]\t71:[0.]\t72:[0.]\t73:[0.]\t74:[0.]\t75:[0.]\t76:[0.]\t77:[0.]\t78:[0.]\t79:[0.]\t8:[0.]\t80:[0.]\t81:[0.]\t82:[0.]\t83:[0.]\t84:[0.]\t85:[0.]\t86:[0.]\t87:[0.]\t88:[0.]\t89:[0.]\t9:[0.]\t90:[0.]\t91:[0.]\t92:[0.]\t93:[0.]\t94:[0.]\t95:[0.]\t96:[0.]\t97:[0.]\t98:[0.]\t99:[0.]\t"
     ]
    }
   ],
   "source": [
    "with h5py.File('data/ch09_iris_dic.h5', 'r') as f:\n",
    "    for group, value in f.items():\n",
    "        print('그룹 : ', group)\n",
    "        for key, data in value.items():\n",
    "            print('{}:{}'.format(key, data[()]), end='\\t')\n",
    "            # data[()] : h5 DataSet타입을 가져올 때"
   ]
  },
  {
   "cell_type": "code",
   "execution_count": 83,
   "id": "a8eecf47",
   "metadata": {},
   "outputs": [
    {
     "data": {
      "text/plain": [
       "dict_keys(['petal_length', 'petal_width', 'sepal_length', 'sepal_width', 'species'])"
      ]
     },
     "execution_count": 83,
     "metadata": {},
     "output_type": "execute_result"
    }
   ],
   "source": [
    "load_iris_dic = {}\n",
    "with h5py.File ('data/ch09_iris_dic.h5', 'r') as f:\n",
    "    for group, value in f.items():\n",
    "        temp = {}\n",
    "        for key, data in value.items():\n",
    "            temp[int(key)] = data[()]\n",
    "        load_iris_dic[group] = temp\n",
    "        \n",
    "# load_iris_dic['s_l'] = {0:5.4, 1:4}\n",
    "# load_iris_dic['s_w'] = {0:5.4, 1:4}\n",
    "load_iris_dic.keys()"
   ]
  },
  {
   "cell_type": "markdown",
   "id": "2ad99e59",
   "metadata": {},
   "source": [
    "# 6절. 연습문제 : 고객관리\n",
    "- 프로그램 시작시 'data/data/ch09_customers.txt'(고객 데이터 백업용)의 내용을 load(객체list)\n",
    "-                파일이 없을 경우 빈 파일 생성\n",
    "\n",
    "- 'data/data/ch09_customers.txt'(고객 데이터 백업용)의 내용\n",
    "    홍길동, 010-0000-0000, a@a.com, 30, 3, 까칠해\n",
    "    홍길동, 010-0000-0000, a@a.com, 30, 3, 까칠해\n",
    "    \n",
    "## Customer 클래스 작성"
   ]
  },
  {
   "cell_type": "code",
   "execution_count": 84,
   "id": "a5eee5ad",
   "metadata": {},
   "outputs": [],
   "source": [
    "class Customer:\n",
    "    '고객데이터와 as_dic(), to_list_style(txt백업시), __str__()'\n",
    "    def __init__(self, name, phone, email, age, grade, etc):\n",
    "        self.name = name\n",
    "        self.phone = phone\n",
    "        self.email = email\n",
    "        self.age  = age\n",
    "        self.grade = grade\n",
    "        self.etc = etc\n",
    "    def as_dic(self):\n",
    "        return {\"name\":self.name, \n",
    "                \"phone\":self.phone, \n",
    "                \"email\":self.email,\n",
    "                \"age\":self.age, \n",
    "                \"grade\":self.grade, \n",
    "                \"etc\":self.etc}\n",
    "    def to_list_style(self):\n",
    "        # return \"홍길동, 010-9999-9999, a@a.com, 30, 3, 까칠해\"\n",
    "#         return \"{}, {}, {}, {}, {}, {}\".format(self.name, self.phone, self.email,\n",
    "#                                               self.age, self.grade, self.etc)\n",
    "        temp = [self.name, \n",
    "                self.phone, \n",
    "                self.email, \n",
    "                str(self.age), \n",
    "                str(self.grade), \n",
    "                self.etc]\n",
    "        return ', '.join(temp)\n",
    "    def __str__(self):\n",
    "        # return \"  *** 홍길동, 010-9999-9999, a@a.com, 30, 까칠해\"\n",
    "        return \"{:>5}\\t{:3}\\t{:13}\\t{:15}\\t{:3}\\t{}\".format('*'*self.grade,\n",
    "                       self.name, self.phone, self.email, self.age, self.etc)"
   ]
  },
  {
   "cell_type": "code",
   "execution_count": 85,
   "id": "2e0e458f",
   "metadata": {},
   "outputs": [
    {
     "data": {
      "text/plain": [
       "'홍길동, 010-9999-9999, a@a.com, 30,  3, 까칠해'"
      ]
     },
     "execution_count": 85,
     "metadata": {},
     "output_type": "execute_result"
    }
   ],
   "source": [
    "temp = ['홍길동','010-9999-9999', 'a@a.com', '30',' 3', '까칠해']\n",
    "', '.join(temp)"
   ]
  },
  {
   "cell_type": "code",
   "execution_count": 86,
   "id": "30b3eb20",
   "metadata": {},
   "outputs": [],
   "source": [
    "def to_customer(row):\n",
    "    '''\n",
    "    row = \"홍길동, 010-9999-9999, a@a.com, 30, 3, 까칠해\"(txt파일 내용)을 매개변수로 받아\n",
    "    Customer 객체로 return \n",
    "    '''\n",
    "    data = row.split(',')\n",
    "    name = data[0]\n",
    "    phone = data[1].strip() # strip은 앞뒤 white space 제거\n",
    "    email = data[2].strip()\n",
    "    age = int(data[3].strip())\n",
    "    grade = int(data[4].strip())\n",
    "    etc = data[5].strip()\n",
    "    return Customer(name, phone, email, age, grade, etc)"
   ]
  },
  {
   "cell_type": "code",
   "execution_count": 87,
   "id": "37eb49fa",
   "metadata": {},
   "outputs": [
    {
     "name": "stdout",
     "output_type": "stream",
     "text": [
      "  ***\t홍길동\t010-9999-9999\ta@a.com        \t 30\t까칠해\n",
      "{'name': '홍길동', 'phone': '010-9999-9999', 'email': 'a@a.com', 'age': 30, 'grade': 3, 'etc': '까칠해'}\n",
      "홍길동, 010-9999-9999, a@a.com, 30, 3, 까칠해\n",
      "  ***\t홍길동\t010-9999-9999\ta@a.com        \t 30\t까칠해\n"
     ]
    }
   ],
   "source": [
    "c1 = Customer(\"홍길동\", \"010-9999-9999\", \"a@a.com\", 30, 3, \"까칠해\")\n",
    "print(c1)\n",
    "print(c1.as_dic())\n",
    "print(c1.to_list_style())\n",
    "c2 = to_customer(\"홍길동, 010-9999-9999, a@a.com, 30, 3, 까칠해\")\n",
    "print(c2)"
   ]
  },
  {
   "cell_type": "markdown",
   "id": "39901f42",
   "metadata": {},
   "source": [
    "## 0. 처음 실행시 호출\n",
    "- ch09_customers.txt(백업데이터)에서 customer_list return\n",
    "- 파일이 없으면 빈 파일 생성, customer_list = [] return"
   ]
  },
  {
   "cell_type": "code",
   "execution_count": 88,
   "id": "4a9c97fa",
   "metadata": {},
   "outputs": [],
   "source": [
    "def load_customers():\n",
    "    customer_list = []\n",
    "    try:\n",
    "        with open('data/ch09_customers.txt', 'r', encoding='utf-8') as f:\n",
    "            # txt 데이터 한줄씩 customer 객체로 받아 customer_list.append\n",
    "            lines = f.readlines()\n",
    "            for line in lines:\n",
    "                customer = to_customer(line)\n",
    "#                 print(customer)\n",
    "                customer_list.append(customer)\n",
    "    except:\n",
    "        with open('data/ch09_customers.txt', 'w', encoding='utf-8') as f:\n",
    "            print('초기화 파일을 생성했습니다.')\n",
    "    return customer_list"
   ]
  },
  {
   "cell_type": "code",
   "execution_count": 89,
   "id": "cfbc98b3",
   "metadata": {},
   "outputs": [
    {
     "name": "stdout",
     "output_type": "stream",
     "text": [
      "  ***\t홍길동\t010-9999-9999\ta@a.com        \t 30\t까칠해\n",
      "  ***\t홍길동\t010-9999-9999\ta@a.com        \t 30\t까칠해\n",
      "  ***\t신길동\t010-9999-9999\ta@a.com        \t 30\t까칠해\n",
      "  ***\t신길동\t010-9999-9999\ta@a.com        \t 30\t까칠해\n",
      "  ***\t이길동\t010-9999-9999\ta@a.com        \t 30\t까칠해\n",
      "  ***\t김길동\t010-9999-9999\ta@a.com        \t 30\t까칠해\n"
     ]
    }
   ],
   "source": [
    "customer_list = load_customers()\n",
    "for customer in customer_list:\n",
    "    print(customer)"
   ]
  },
  {
   "cell_type": "code",
   "execution_count": 90,
   "id": "2c9cd64b",
   "metadata": {},
   "outputs": [],
   "source": [
    "def fn1_insert_customer_info():\n",
    "    '''\n",
    "    사용자로부터 name, phone, email, age, grade, etc를 입력받아 Customer형 객체 반환\n",
    "    '''\n",
    "#     import re\n",
    "    name = input('이름 : ')\n",
    "#     name_pattern = r'[가-힣]{2,}'\n",
    "#     while not re.search(name_pattern, name):\n",
    "#         print('이름을 제대로 입력하세요(한글 2글자 이상)')\n",
    "    phone = input(\"전화번호 : \")\n",
    "    email = input(\"이메일 : \")\n",
    "    while True:\n",
    "        try:\n",
    "            age = int(input(\"나이 : \"))\n",
    "            if (age<0) | (age>130):\n",
    "                raise Exception('나이를 정확히 입력하세요')\n",
    "            break\n",
    "        except:\n",
    "            print('올바른 나이를 입력하세요')\n",
    "    try:\n",
    "        grade = int(input(\"고객등급(1~5) : \"))\n",
    "        if grade < 1 :\n",
    "            grade = 1\n",
    "        if grade > 5 :\n",
    "            grade = 5\n",
    "    except ValueError as e:\n",
    "        print('유효하지 않은 등급을 입력시 등급은 1로 초기화')\n",
    "        grade = 1\n",
    "    etc = input(\"기타 정보 : \")\n",
    "    customer = Customer(name, phone, email, age, grade, etc)\n",
    "    return customer"
   ]
  },
  {
   "cell_type": "code",
   "execution_count": 91,
   "id": "3adb47ac",
   "metadata": {},
   "outputs": [
    {
     "name": "stdout",
     "output_type": "stream",
     "text": [
      "이름 : \n",
      "전화번호 : \n",
      "이메일 : \n",
      "나이 : 4\n",
      "고객등급(1~5) : 65\n",
      "기타 정보 : 4\n",
      "  ***\t홍길동\t010-9999-9999\ta@a.com        \t 30\t까칠해\n",
      "  ***\t홍길동\t010-9999-9999\ta@a.com        \t 30\t까칠해\n",
      "  ***\t신길동\t010-9999-9999\ta@a.com        \t 30\t까칠해\n",
      "  ***\t신길동\t010-9999-9999\ta@a.com        \t 30\t까칠해\n",
      "  ***\t이길동\t010-9999-9999\ta@a.com        \t 30\t까칠해\n",
      "  ***\t김길동\t010-9999-9999\ta@a.com        \t 30\t까칠해\n",
      "*****\t   \t             \t               \t  4\t4\n"
     ]
    }
   ],
   "source": [
    "# 1번 함수 테스트\n",
    "customer = fn1_insert_customer_info()\n",
    "customer_list.append(customer)\n",
    "for customer in customer_list:\n",
    "    print(customer)\n",
    "    "
   ]
  },
  {
   "cell_type": "markdown",
   "id": "3a16e5d6",
   "metadata": {},
   "source": [
    "## 2. 전체출력"
   ]
  },
  {
   "cell_type": "code",
   "execution_count": 92,
   "id": "9d82c4a5",
   "metadata": {},
   "outputs": [],
   "source": [
    "def fn2_print_customers(customer_list):\n",
    "    'customer_list를 출력(pdf 40page 스타일)'\n",
    "    print('='*70)\n",
    "    print('{:^70}'.format('고객 정보'))\n",
    "    print('-'*70)\n",
    "    print(\"{:>5}\\t{:3}\\t{:13}\\t{:15}\\t{:3}\\t{}\".format('GRADE', '이름', '전화',\n",
    "                                                       '메일', '나이', '기타'))\n",
    "    print('-'*70)\n",
    "    for customer in customer_list:\n",
    "        print(customer)"
   ]
  },
  {
   "cell_type": "code",
   "execution_count": 93,
   "id": "cfa09b52",
   "metadata": {},
   "outputs": [
    {
     "name": "stdout",
     "output_type": "stream",
     "text": [
      "======================================================================\n",
      "                                고객 정보                                 \n",
      "----------------------------------------------------------------------\n",
      "GRADE\t이름 \t전화           \t메일             \t나이 \t기타\n",
      "----------------------------------------------------------------------\n",
      "  ***\t홍길동\t010-9999-9999\ta@a.com        \t 30\t까칠해\n",
      "  ***\t홍길동\t010-9999-9999\ta@a.com        \t 30\t까칠해\n",
      "  ***\t신길동\t010-9999-9999\ta@a.com        \t 30\t까칠해\n",
      "  ***\t신길동\t010-9999-9999\ta@a.com        \t 30\t까칠해\n",
      "  ***\t이길동\t010-9999-9999\ta@a.com        \t 30\t까칠해\n",
      "  ***\t김길동\t010-9999-9999\ta@a.com        \t 30\t까칠해\n",
      "*****\t   \t             \t               \t  4\t4\n"
     ]
    }
   ],
   "source": [
    "# 2번 기능 테스트\n",
    "fn2_print_customers(customer_list)"
   ]
  },
  {
   "cell_type": "markdown",
   "id": "2b9e7145",
   "metadata": {},
   "source": [
    "## 3. 삭제"
   ]
  },
  {
   "cell_type": "code",
   "execution_count": 94,
   "id": "1a94a6dc",
   "metadata": {},
   "outputs": [],
   "source": [
    "# 3. 삭제 (동명이인이 없을 경우 구현)\n",
    "def fn3_delete_customer(customer_list):\n",
    "    '''삭제하고자 하는 고객이름을 input으로 받아\n",
    "    매개변수로 들어온 customer_list에서 삭제하고 \"삭제했음/삭제못했음\"을 메세지로 출력'''\n",
    "    delete_name = input('삭제할 고객 이름은?')\n",
    "    for customer in customer_list:\n",
    "        if customer.name == delete_name:\n",
    "            customer_list.remove(customer)\n",
    "            print('{}님 데이터를 삭제하였습니다'.format(delete_name))\n",
    "            break\n",
    "    else:\n",
    "        print('{}님 데이터는 존재하지 않습니다'.format(delete_name))"
   ]
  },
  {
   "cell_type": "code",
   "execution_count": 95,
   "id": "40016452",
   "metadata": {},
   "outputs": [],
   "source": [
    "# 3. 삭제(동명이인이 있을 경우 해당 동명이인을 지울지 한사람 한사람 묻고 지우기 Y/N)\n",
    "def fn3_delete_customer(customer_list):\n",
    "    '''삭제하고자 하는 고객이름을 input으로 받아\n",
    "    매개변수로 들어온 customer_list에서 삭제하고 \"삭제했음/삭제못했음\"을 메세지로 출력'''\n",
    "    delete_name = input('삭제할 고객 이름은?')\n",
    "    delete_idx = [] # 삭제할 인덱스 저장하는 용도\n",
    "    for idx,customer in enumerate(customer_list):\n",
    "        if customer.name == delete_name:\n",
    "            delete_idx.append(idx)\n",
    "    if delete_idx:\n",
    "        for idx in delete_idx[::-1]: # [1,0]\n",
    "            print(customer_list[idx], '지우겠습니까?', end='')\n",
    "            answer = input('(Y/N)')\n",
    "            if answer.upper == 'Y':\n",
    "                print('요청하신 {}({})님 삭제 완료'.format(delete_name,\n",
    "                                                 customer_list[idx].phone))\n",
    "                del customer_list[idx]\n",
    "    else:\n",
    "        print('{}님 데이터가 존재하지 않습니다'.format(delete_name))"
   ]
  },
  {
   "cell_type": "code",
   "execution_count": 96,
   "id": "e2d08bd5",
   "metadata": {},
   "outputs": [
    {
     "name": "stdout",
     "output_type": "stream",
     "text": [
      "삭제할 고객 이름은?dasd\n",
      "dasd님 데이터가 존재하지 않습니다\n"
     ]
    }
   ],
   "source": [
    "# 3. 테스트\n",
    "customer_list = load_customers()\n",
    "fn3_delete_customer(customer_list)"
   ]
  },
  {
   "cell_type": "markdown",
   "id": "9000d32e",
   "metadata": {},
   "source": [
    "## 4. 이름찾기"
   ]
  },
  {
   "cell_type": "code",
   "execution_count": 102,
   "id": "913094c7",
   "metadata": {},
   "outputs": [],
   "source": [
    "# 4. 이름찾기\n",
    "def fn4_search_customer(customer_list):\n",
    "    search_name = input('이름')\n",
    "    search_list = []\n",
    "    for idx, customer in enumerate(customer_list):\n",
    "        if customer.name == search_name:\n",
    "            search_list.append(idx)\n",
    "    if search_list:\n",
    "        fn2_print_customers(search_list)\n",
    "    else:\n",
    "        print('{}는 없음'.format(search_name))\n",
    "    "
   ]
  },
  {
   "cell_type": "code",
   "execution_count": 103,
   "id": "e95a1eb9",
   "metadata": {},
   "outputs": [
    {
     "name": "stdout",
     "output_type": "stream",
     "text": [
      "이름d\n",
      "d는 없음\n"
     ]
    }
   ],
   "source": [
    "# 테스트\n",
    "fn4_search_customer(customer_list)"
   ]
  },
  {
   "cell_type": "markdown",
   "id": "59984655",
   "metadata": {},
   "source": [
    "## 5. 내보내기"
   ]
  },
  {
   "cell_type": "code",
   "execution_count": 104,
   "id": "d7f9e33b",
   "metadata": {},
   "outputs": [],
   "source": [
    "# 5. 내보내기(CSV)\n",
    "def fn5_save_customer_csv(customer_list):\n",
    "    '매개변수로 받은 customer_list를 딕셔너리리스트로 변환해서 csv 출력'\n",
    "    import csv\n",
    "    if customer_list:        \n",
    "        customer_dic_list = []\n",
    "        for customer in customer_list:\n",
    "            customer_dic_list.append(customer.as_dic())\n",
    "        fieldnames = list(customer_dic_list[0].keys())\n",
    "        filename = input('저장할 csv 파일명은?')\n",
    "        with open('data/{}.csv'.format(filename), 'w', encoding='UTF-8', newline='') as f:\n",
    "            dict_writer = csv.DictWriter(f, fieldnames=fieldnames)\n",
    "            dict_writer.writeheader() # 해더 \n",
    "            dict_writer.writerows(customer_dic_list)\n",
    "            print(f\"data/{filename}.csv 내보내기 완료\")\n",
    "    else:\n",
    "        print('입력된 회원 데이터가 없어 csv 내보내기 취소합니다')"
   ]
  },
  {
   "cell_type": "code",
   "execution_count": 105,
   "id": "73589958",
   "metadata": {},
   "outputs": [
    {
     "name": "stdout",
     "output_type": "stream",
     "text": [
      "저장할 csv 파일명은?ddddd\n",
      "data/ddddd.csv 내보내기 완료\n"
     ]
    }
   ],
   "source": [
    "# 테스트\n",
    "fn5_save_customer_csv(customer_list)"
   ]
  },
  {
   "cell_type": "markdown",
   "id": "4bcc70e3",
   "metadata": {},
   "source": [
    "## 9. 종료"
   ]
  },
  {
   "cell_type": "code",
   "execution_count": 106,
   "id": "c2127fb3",
   "metadata": {},
   "outputs": [],
   "source": [
    "# 9. 종료 (종료하기 전 customer_list를 txt파일에 저장하고 종료)\n",
    "def fn9_save_customer_txt(customer_list):\n",
    "    \"\"\"customer_list를 \n",
    "    to_list_style()를 이용해서 ['홍길동, 010-9999-9999, a@a.com, 30, 3, 까칠해\\n',~]\n",
    "    ch09_customers.txt로 백업\n",
    "    \"\"\"\n",
    "    customer_txt_list = []\n",
    "    for customer in customer_list:\n",
    "        customer_txt_list.append(customer.to_list_style() + '\\n')\n",
    "    with open('data/ch09_customers.txt', 'w', encoding='utf-8') as f:\n",
    "        f.writelines(customer_txt_list)"
   ]
  },
  {
   "cell_type": "code",
   "execution_count": 107,
   "id": "db220401",
   "metadata": {},
   "outputs": [],
   "source": [
    "# 9번 기능 테스트\n",
    "fn9_save_customer_txt(customer_list)"
   ]
  },
  {
   "cell_type": "markdown",
   "id": "e23cb7f9",
   "metadata": {},
   "source": [
    "## main()"
   ]
  },
  {
   "cell_type": "code",
   "execution_count": 108,
   "id": "1026d139",
   "metadata": {},
   "outputs": [],
   "source": [
    "def main():\n",
    "    global customer_list\n",
    "    customer_list = load_customers()\n",
    "    while True:\n",
    "        print(\"1:입력|2:전체출력|3:삭제|4:이름검색|5:csv내보내기|9: 종료\", end='')\n",
    "        fn = input(\"메뉴 선택 : \")\n",
    "        if fn=='1':\n",
    "            # print(\"fn1_호출한 결과를 customer에 받아 customer_list에 append\")\n",
    "            customer = fn1_insert_customer_info()\n",
    "            customer_list.append(customer)\n",
    "        elif fn=='2':\n",
    "            # print('fn2_호출')\n",
    "            fn2_print_customers(customer_list)\n",
    "        elif fn=='3':\n",
    "            # print('fn3_호출')\n",
    "            fn3_delete_customer(customer_list)\n",
    "        elif fn=='4':\n",
    "            # print('fn4_호출')\n",
    "            fn4_search_customer(customer_list)\n",
    "        elif fn=='5':\n",
    "            # print('fn5_호출')\n",
    "            fn5_save_customer_csv(customer_list)\n",
    "        elif fn=='9':\n",
    "            # print('fn9_호출')\n",
    "            fn9_save_customer_txt(customer_list)\n",
    "            break"
   ]
  },
  {
   "cell_type": "code",
   "execution_count": 109,
   "id": "8997e965",
   "metadata": {},
   "outputs": [
    {
     "name": "stdout",
     "output_type": "stream",
     "text": [
      "1:입력|2:전체출력|3:삭제|4:이름검색|5:csv내보내기|9: 종료메뉴 선택 : q\n",
      "1:입력|2:전체출력|3:삭제|4:이름검색|5:csv내보내기|9: 종료메뉴 선택 : 1\n",
      "이름 : 1\n",
      "전화번호 : 1\n",
      "이메일 : 2\n",
      "나이 : 3\n",
      "고객등급(1~5) : 4\n",
      "기타 정보 : 5\n",
      "1:입력|2:전체출력|3:삭제|4:이름검색|5:csv내보내기|9: 종료메뉴 선택 : 6\n",
      "1:입력|2:전체출력|3:삭제|4:이름검색|5:csv내보내기|9: 종료메뉴 선택 : 6\n",
      "1:입력|2:전체출력|3:삭제|4:이름검색|5:csv내보내기|9: 종료메뉴 선택 : 7\n",
      "1:입력|2:전체출력|3:삭제|4:이름검색|5:csv내보내기|9: 종료"
     ]
    },
    {
     "ename": "KeyboardInterrupt",
     "evalue": "Interrupted by user",
     "output_type": "error",
     "traceback": [
      "\u001b[1;31m---------------------------------------------------------------------------\u001b[0m",
      "\u001b[1;31mKeyboardInterrupt\u001b[0m                         Traceback (most recent call last)",
      "Cell \u001b[1;32mIn[109], line 2\u001b[0m\n\u001b[0;32m      1\u001b[0m \u001b[38;5;28;01mif\u001b[39;00m \u001b[38;5;18m__name__\u001b[39m\u001b[38;5;241m==\u001b[39m\u001b[38;5;124m'\u001b[39m\u001b[38;5;124m__main__\u001b[39m\u001b[38;5;124m'\u001b[39m:\n\u001b[1;32m----> 2\u001b[0m     \u001b[43mmain\u001b[49m\u001b[43m(\u001b[49m\u001b[43m)\u001b[49m\n",
      "Cell \u001b[1;32mIn[108], line 6\u001b[0m, in \u001b[0;36mmain\u001b[1;34m()\u001b[0m\n\u001b[0;32m      4\u001b[0m \u001b[38;5;28;01mwhile\u001b[39;00m \u001b[38;5;28;01mTrue\u001b[39;00m:\n\u001b[0;32m      5\u001b[0m     \u001b[38;5;28mprint\u001b[39m(\u001b[38;5;124m\"\u001b[39m\u001b[38;5;124m1:입력|2:전체출력|3:삭제|4:이름검색|5:csv내보내기|9: 종료\u001b[39m\u001b[38;5;124m\"\u001b[39m, end\u001b[38;5;241m=\u001b[39m\u001b[38;5;124m'\u001b[39m\u001b[38;5;124m'\u001b[39m)\n\u001b[1;32m----> 6\u001b[0m     fn \u001b[38;5;241m=\u001b[39m \u001b[38;5;28;43minput\u001b[39;49m\u001b[43m(\u001b[49m\u001b[38;5;124;43m\"\u001b[39;49m\u001b[38;5;124;43m메뉴 선택 : \u001b[39;49m\u001b[38;5;124;43m\"\u001b[39;49m\u001b[43m)\u001b[49m\n\u001b[0;32m      7\u001b[0m     \u001b[38;5;28;01mif\u001b[39;00m fn\u001b[38;5;241m==\u001b[39m\u001b[38;5;124m'\u001b[39m\u001b[38;5;124m1\u001b[39m\u001b[38;5;124m'\u001b[39m:\n\u001b[0;32m      8\u001b[0m         \u001b[38;5;66;03m# print(\"fn1_호출한 결과를 customer에 받아 customer_list에 append\")\u001b[39;00m\n\u001b[0;32m      9\u001b[0m         customer \u001b[38;5;241m=\u001b[39m fn1_insert_customer_info()\n",
      "File \u001b[1;32m~\\anaconda3\\lib\\site-packages\\ipykernel\\kernelbase.py:1175\u001b[0m, in \u001b[0;36mKernel.raw_input\u001b[1;34m(self, prompt)\u001b[0m\n\u001b[0;32m   1171\u001b[0m \u001b[38;5;28;01mif\u001b[39;00m \u001b[38;5;129;01mnot\u001b[39;00m \u001b[38;5;28mself\u001b[39m\u001b[38;5;241m.\u001b[39m_allow_stdin:\n\u001b[0;32m   1172\u001b[0m     \u001b[38;5;28;01mraise\u001b[39;00m StdinNotImplementedError(\n\u001b[0;32m   1173\u001b[0m         \u001b[38;5;124m\"\u001b[39m\u001b[38;5;124mraw_input was called, but this frontend does not support input requests.\u001b[39m\u001b[38;5;124m\"\u001b[39m\n\u001b[0;32m   1174\u001b[0m     )\n\u001b[1;32m-> 1175\u001b[0m \u001b[38;5;28;01mreturn\u001b[39;00m \u001b[38;5;28;43mself\u001b[39;49m\u001b[38;5;241;43m.\u001b[39;49m\u001b[43m_input_request\u001b[49m\u001b[43m(\u001b[49m\n\u001b[0;32m   1176\u001b[0m \u001b[43m    \u001b[49m\u001b[38;5;28;43mstr\u001b[39;49m\u001b[43m(\u001b[49m\u001b[43mprompt\u001b[49m\u001b[43m)\u001b[49m\u001b[43m,\u001b[49m\n\u001b[0;32m   1177\u001b[0m \u001b[43m    \u001b[49m\u001b[38;5;28;43mself\u001b[39;49m\u001b[38;5;241;43m.\u001b[39;49m\u001b[43m_parent_ident\u001b[49m\u001b[43m[\u001b[49m\u001b[38;5;124;43m\"\u001b[39;49m\u001b[38;5;124;43mshell\u001b[39;49m\u001b[38;5;124;43m\"\u001b[39;49m\u001b[43m]\u001b[49m\u001b[43m,\u001b[49m\n\u001b[0;32m   1178\u001b[0m \u001b[43m    \u001b[49m\u001b[38;5;28;43mself\u001b[39;49m\u001b[38;5;241;43m.\u001b[39;49m\u001b[43mget_parent\u001b[49m\u001b[43m(\u001b[49m\u001b[38;5;124;43m\"\u001b[39;49m\u001b[38;5;124;43mshell\u001b[39;49m\u001b[38;5;124;43m\"\u001b[39;49m\u001b[43m)\u001b[49m\u001b[43m,\u001b[49m\n\u001b[0;32m   1179\u001b[0m \u001b[43m    \u001b[49m\u001b[43mpassword\u001b[49m\u001b[38;5;241;43m=\u001b[39;49m\u001b[38;5;28;43;01mFalse\u001b[39;49;00m\u001b[43m,\u001b[49m\n\u001b[0;32m   1180\u001b[0m \u001b[43m\u001b[49m\u001b[43m)\u001b[49m\n",
      "File \u001b[1;32m~\\anaconda3\\lib\\site-packages\\ipykernel\\kernelbase.py:1217\u001b[0m, in \u001b[0;36mKernel._input_request\u001b[1;34m(self, prompt, ident, parent, password)\u001b[0m\n\u001b[0;32m   1214\u001b[0m             \u001b[38;5;28;01mbreak\u001b[39;00m\n\u001b[0;32m   1215\u001b[0m \u001b[38;5;28;01mexcept\u001b[39;00m \u001b[38;5;167;01mKeyboardInterrupt\u001b[39;00m:\n\u001b[0;32m   1216\u001b[0m     \u001b[38;5;66;03m# re-raise KeyboardInterrupt, to truncate traceback\u001b[39;00m\n\u001b[1;32m-> 1217\u001b[0m     \u001b[38;5;28;01mraise\u001b[39;00m \u001b[38;5;167;01mKeyboardInterrupt\u001b[39;00m(\u001b[38;5;124m\"\u001b[39m\u001b[38;5;124mInterrupted by user\u001b[39m\u001b[38;5;124m\"\u001b[39m) \u001b[38;5;28;01mfrom\u001b[39;00m \u001b[38;5;28mNone\u001b[39m\n\u001b[0;32m   1218\u001b[0m \u001b[38;5;28;01mexcept\u001b[39;00m \u001b[38;5;167;01mException\u001b[39;00m:\n\u001b[0;32m   1219\u001b[0m     \u001b[38;5;28mself\u001b[39m\u001b[38;5;241m.\u001b[39mlog\u001b[38;5;241m.\u001b[39mwarning(\u001b[38;5;124m\"\u001b[39m\u001b[38;5;124mInvalid Message:\u001b[39m\u001b[38;5;124m\"\u001b[39m, exc_info\u001b[38;5;241m=\u001b[39m\u001b[38;5;28;01mTrue\u001b[39;00m)\n",
      "\u001b[1;31mKeyboardInterrupt\u001b[0m: Interrupted by user"
     ]
    }
   ],
   "source": [
    "if __name__=='__main__':\n",
    "    main()"
   ]
  },
  {
   "cell_type": "code",
   "execution_count": null,
   "id": "a7057ec6",
   "metadata": {},
   "outputs": [],
   "source": []
  },
  {
   "cell_type": "code",
   "execution_count": null,
   "id": "3a95438e",
   "metadata": {},
   "outputs": [],
   "source": []
  },
  {
   "cell_type": "code",
   "execution_count": null,
   "id": "6084d329",
   "metadata": {},
   "outputs": [],
   "source": []
  },
  {
   "cell_type": "code",
   "execution_count": null,
   "id": "bd3de4e4",
   "metadata": {},
   "outputs": [],
   "source": []
  },
  {
   "cell_type": "code",
   "execution_count": null,
   "id": "60a40820",
   "metadata": {},
   "outputs": [],
   "source": []
  },
  {
   "cell_type": "code",
   "execution_count": null,
   "id": "94a2c92e",
   "metadata": {},
   "outputs": [],
   "source": []
  },
  {
   "cell_type": "code",
   "execution_count": null,
   "id": "ebc8499e",
   "metadata": {},
   "outputs": [],
   "source": []
  },
  {
   "cell_type": "code",
   "execution_count": null,
   "id": "b3fb5072",
   "metadata": {},
   "outputs": [],
   "source": []
  },
  {
   "cell_type": "code",
   "execution_count": null,
   "id": "8c5a912c",
   "metadata": {},
   "outputs": [],
   "source": []
  }
 ],
 "metadata": {
  "kernelspec": {
   "display_name": "Python 3 (ipykernel)",
   "language": "python",
   "name": "python3"
  },
  "language_info": {
   "codemirror_mode": {
    "name": "ipython",
    "version": 3
   },
   "file_extension": ".py",
   "mimetype": "text/x-python",
   "name": "python",
   "nbconvert_exporter": "python",
   "pygments_lexer": "ipython3",
   "version": "3.10.9"
  },
  "toc": {
   "base_numbering": 1,
   "nav_menu": {},
   "number_sections": false,
   "sideBar": true,
   "skip_h1_title": false,
   "title_cell": "Table of Contents",
   "title_sidebar": "Contents",
   "toc_cell": false,
   "toc_position": {
    "height": "calc(100% - 180px)",
    "left": "10px",
    "top": "150px",
    "width": "165px"
   },
   "toc_section_display": true,
   "toc_window_display": true
  }
 },
 "nbformat": 4,
 "nbformat_minor": 5
}
