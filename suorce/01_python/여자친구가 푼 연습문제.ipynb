{
 "cells": [
  {
   "cell_type": "code",
   "execution_count": 1,
   "id": "dd0c0a89",
   "metadata": {},
   "outputs": [
    {
     "name": "stdout",
     "output_type": "stream",
     "text": [
      "홍길동\n",
      "23\n"
     ]
    },
    {
     "ename": "KeyError",
     "evalue": "'name'",
     "output_type": "error",
     "traceback": [
      "\u001b[1;31m---------------------------------------------------------------------------\u001b[0m",
      "\u001b[1;31mKeyError\u001b[0m                                  Traceback (most recent call last)",
      "Cell \u001b[1;32mIn[1], line 4\u001b[0m\n\u001b[0;32m      2\u001b[0m name \u001b[38;5;241m=\u001b[39m \u001b[38;5;28minput\u001b[39m()\n\u001b[0;32m      3\u001b[0m age \u001b[38;5;241m=\u001b[39m  \u001b[38;5;28minput\u001b[39m()\n\u001b[1;32m----> 4\u001b[0m \u001b[38;5;28mprint\u001b[39m(\u001b[38;5;124;43m'\u001b[39;49m\u001b[38;5;124;43m$\u001b[39;49m\u001b[38;5;132;43;01m{name}\u001b[39;49;00m\u001b[38;5;124;43m님의 나이는 $\u001b[39;49m\u001b[38;5;132;43;01m{age}\u001b[39;49;00m\u001b[38;5;124;43m살입니다.\u001b[39;49m\u001b[38;5;124;43m'\u001b[39;49m\u001b[38;5;241;43m.\u001b[39;49m\u001b[43mformat\u001b[49m\u001b[43m(\u001b[49m\u001b[43mname\u001b[49m\u001b[43m,\u001b[49m\u001b[43m \u001b[49m\u001b[43mage\u001b[49m\u001b[43m)\u001b[49m)\n",
      "\u001b[1;31mKeyError\u001b[0m: 'name'"
     ]
    }
   ],
   "source": [
    "#1번\n",
    "name = input()\n",
    "age =  input()\n",
    "print('${name}님의 나이는 ${age}살입니다.'.format(name, age))"
   ]
  },
  {
   "cell_type": "code",
   "execution_count": 4,
   "id": "7c625d41",
   "metadata": {},
   "outputs": [
    {
     "name": "stdout",
     "output_type": "stream",
     "text": [
      "5\n",
      "3\n",
      "8 2 15 1.6666666666666667 2\n"
     ]
    }
   ],
   "source": [
    "#2번\n",
    "num1 = int(input())\n",
    "num2 = int(input())\n",
    "sum_value = num1 + num2\n",
    "minus_value = num1 - num2\n",
    "c_value = num1 * num2\n",
    "d_value = num1 / num2\n",
    "e_value = num1 % num2\n",
    "print(sum_value, minus_value, c_value, d_value, e_value)"
   ]
  },
  {
   "cell_type": "code",
   "execution_count": 5,
   "id": "4111b669",
   "metadata": {},
   "outputs": [
    {
     "name": "stdout",
     "output_type": "stream",
     "text": [
      "World Hello\n"
     ]
    }
   ],
   "source": [
    "#3번\n",
    "text = \"Hello World\"\n",
    "text1 = text.split()[0]\n",
    "text2 = text.split()[1]\n",
    "\n",
    "print(text2 + \" \" + text1)"
   ]
  },
  {
   "cell_type": "code",
   "execution_count": 8,
   "id": "2ae3a27e",
   "metadata": {},
   "outputs": [
    {
     "name": "stdout",
     "output_type": "stream",
     "text": [
      "bcdefa\n"
     ]
    }
   ],
   "source": [
    "x = \"abcdef\"\n",
    "\n",
    "print(x[1:6] + x[0])"
   ]
  },
  {
   "cell_type": "code",
   "execution_count": 19,
   "id": "64ab3845",
   "metadata": {},
   "outputs": [
    {
     "name": "stdout",
     "output_type": "stream",
     "text": [
      "fedcba\n"
     ]
    }
   ],
   "source": [
    "x = \"abcdef\"\n",
    "\n",
    "print(x[::-1])"
   ]
  },
  {
   "cell_type": "code",
   "execution_count": 41,
   "id": "f1bd5e03",
   "metadata": {},
   "outputs": [
    {
     "name": "stdout",
     "output_type": "stream",
     "text": [
      "30\n",
      " 86\n"
     ]
    }
   ],
   "source": [
    "temp = int(input())\n",
    "F = round((temp * 1.8) + 32, 2)\n",
    "\n",
    "if (F.is_integer()):\n",
    "    print(f\"{F: .0f}\")\n",
    "else : \n",
    "    print(f\"{F: .2f}\")"
   ]
  },
  {
   "cell_type": "code",
   "execution_count": 36,
   "id": "f3180383",
   "metadata": {},
   "outputs": [
    {
     "name": "stdout",
     "output_type": "stream",
     "text": [
      "SeounSeoul\n",
      "Seou n Seoul\n"
     ]
    }
   ],
   "source": [
    "# SeounSeoul\n",
    "# Seou n Seoul\n",
    "text = \"Seoul A001 - programming with python\"\n",
    "print(text[:4] + text[-1]+ text.split()[0])\n",
    "print(text[:4], text[-1], text.split()[0])"
   ]
  },
  {
   "cell_type": "code",
   "execution_count": 40,
   "id": "339ff79e",
   "metadata": {},
   "outputs": [
    {
     "name": "stdout",
     "output_type": "stream",
     "text": [
      "나라\n"
     ]
    }
   ],
   "source": [
    "str_ = \"우리 나라 대한 민국\"\n",
    "\n",
    "print(str_.split()[1])"
   ]
  }
 ],
 "metadata": {
  "kernelspec": {
   "display_name": "Python 3 (ipykernel)",
   "language": "python",
   "name": "python3"
  },
  "language_info": {
   "codemirror_mode": {
    "name": "ipython",
    "version": 3
   },
   "file_extension": ".py",
   "mimetype": "text/x-python",
   "name": "python",
   "nbconvert_exporter": "python",
   "pygments_lexer": "ipython3",
   "version": "3.10.9"
  }
 },
 "nbformat": 4,
 "nbformat_minor": 5
}
