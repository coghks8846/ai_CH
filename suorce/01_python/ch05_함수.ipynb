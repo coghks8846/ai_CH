{
 "cells": [
  {
   "cell_type": "code",
   "execution_count": 1,
   "id": "5db42507",
   "metadata": {},
   "outputs": [
    {
     "data": {
      "text/html": [
       "\n",
       "<style>\n",
       "div.container{width:86% !important;}\n",
       "div.cell.code_cell.rendered{width:100%;}\n",
       "div.CodeMirror {font-family:Consolas; font-size:15pt;}\n",
       "div.output {font-size:15pt; font-weight:bold;}\n",
       "div.input {font-family:Consolas; font-size:15pt;}\n",
       "div.prompt {min-width:70px;}\n",
       "div#toc-wrapper{padding-top:120px;}\n",
       "div.text_cell_render ul li{font-size:12pt;padding:5px;}\n",
       "table.dataframe{font-size:15px;}\n",
       "</style>\n"
      ],
      "text/plain": [
       "<IPython.core.display.HTML object>"
      ]
     },
     "metadata": {},
     "output_type": "display_data"
    }
   ],
   "source": [
    "from IPython.display import display, HTML\n",
    "display(HTML(\"\"\"\n",
    "<style>\n",
    "div.container{width:86% !important;}\n",
    "div.cell.code_cell.rendered{width:100%;}\n",
    "div.CodeMirror {font-family:Consolas; font-size:15pt;}\n",
    "div.output {font-size:15pt; font-weight:bold;}\n",
    "div.input {font-family:Consolas; font-size:15pt;}\n",
    "div.prompt {min-width:70px;}\n",
    "div#toc-wrapper{padding-top:120px;}\n",
    "div.text_cell_render ul li{font-size:12pt;padding:5px;}\n",
    "table.dataframe{font-size:15px;}\n",
    "</style>\n",
    "\"\"\"))"
   ]
  },
  {
   "cell_type": "markdown",
   "id": "deebf408",
   "metadata": {},
   "source": [
    "<b><font size= \"5\" color=\"red\">ch05 함수</font></b>\n",
    "- 사용할 코드를 묶어놓고 그것에 이름을 붙인 것\n",
    "- 오버로딩(함수 이름이 같고, 매개변수의 타입이나 갯수로 다른 함수를 허용하는 것) 파이썬사용불가\n",
    "- 함수 정의\n",
    "```\n",
    "def 함수명([매개변수1, 매개변수2,...... 매개변수n])\n",
    "    명령어1\n",
    "    명령어2\n",
    "    명령어n\n",
    "```\n",
    "# 1절. 함수의 정의 및 사용\n",
    "## 1.1 함수 정의"
   ]
  },
  {
   "cell_type": "code",
   "execution_count": 8,
   "id": "1c22d69b",
   "metadata": {},
   "outputs": [],
   "source": [
    "# 함수 정의\n",
    "def my_message(x,msg): # msg를 x번 출력하는 함수\n",
    "    for i in range(x):\n",
    "        print(msg)"
   ]
  },
  {
   "cell_type": "code",
   "execution_count": 10,
   "id": "5dab6ec3",
   "metadata": {},
   "outputs": [
    {
     "name": "stdout",
     "output_type": "stream",
     "text": [
      "개구리\n",
      "개구리\n",
      "개구리\n"
     ]
    }
   ],
   "source": [
    "# 함수 사용\n",
    "my_message(3,\"개구리\")"
   ]
  },
  {
   "cell_type": "code",
   "execution_count": 11,
   "id": "87750e5e",
   "metadata": {},
   "outputs": [
    {
     "name": "stdout",
     "output_type": "stream",
     "text": [
      "청개구리\n",
      "청개구리\n"
     ]
    }
   ],
   "source": [
    "my_msg = my_message\n",
    "my_msg(2,'청개구리')"
   ]
  },
  {
   "cell_type": "code",
   "execution_count": 13,
   "id": "eafea37c",
   "metadata": {},
   "outputs": [
    {
     "data": {
      "text/plain": [
       "(function, function)"
      ]
     },
     "execution_count": 13,
     "metadata": {},
     "output_type": "execute_result"
    }
   ],
   "source": [
    "type(my_message),type(my_msg)"
   ]
  },
  {
   "cell_type": "code",
   "execution_count": 19,
   "id": "7909bce9",
   "metadata": {},
   "outputs": [
    {
     "name": "stdout",
     "output_type": "stream",
     "text": [
      "\n"
     ]
    }
   ],
   "source": [
    "print() #파이썬 내장함수(import 하지 않고 사용할 수 있는 함수)"
   ]
  },
  {
   "cell_type": "code",
   "execution_count": 21,
   "id": "b977ad22",
   "metadata": {},
   "outputs": [
    {
     "name": "stdout",
     "output_type": "stream",
     "text": [
      "황소개구리\n",
      "황소개구리\n"
     ]
    }
   ],
   "source": [
    "my_message(2,'황소개구리')"
   ]
  },
  {
   "cell_type": "code",
   "execution_count": 22,
   "id": "bdf854b3",
   "metadata": {},
   "outputs": [],
   "source": [
    "my_message = 5"
   ]
  },
  {
   "cell_type": "code",
   "execution_count": 23,
   "id": "96b88eb2",
   "metadata": {},
   "outputs": [
    {
     "data": {
      "text/plain": [
       "5"
      ]
     },
     "execution_count": 23,
     "metadata": {},
     "output_type": "execute_result"
    }
   ],
   "source": [
    "my_message"
   ]
  },
  {
   "cell_type": "code",
   "execution_count": 27,
   "id": "1081a0ed",
   "metadata": {},
   "outputs": [
    {
     "ename": "NameError",
     "evalue": "name 'my_message' is not defined",
     "output_type": "error",
     "traceback": [
      "\u001b[1;31m---------------------------------------------------------------------------\u001b[0m",
      "\u001b[1;31mNameError\u001b[0m                                 Traceback (most recent call last)",
      "Cell \u001b[1;32mIn[27], line 1\u001b[0m\n\u001b[1;32m----> 1\u001b[0m \u001b[38;5;28;01mdel\u001b[39;00m my_message\n",
      "\u001b[1;31mNameError\u001b[0m: name 'my_message' is not defined"
     ]
    }
   ],
   "source": [
    "del my_message\n",
    "#변수를 삭제해도 함수 사용 불가(파이썬 내장함수가 아니라서)"
   ]
  },
  {
   "cell_type": "code",
   "execution_count": 6,
   "id": "0b0da955",
   "metadata": {},
   "outputs": [],
   "source": [
    "# 함수 정의\n",
    "def my_hello():\n",
    "    print('hello, Python')\n",
    "    print('hello, World')\n",
    "def my_hello(cnt):\n",
    "    for i in range(cnt):\n",
    "        print('Hello, Python')"
   ]
  },
  {
   "cell_type": "code",
   "execution_count": 8,
   "id": "ce20bbf0",
   "metadata": {},
   "outputs": [
    {
     "name": "stdout",
     "output_type": "stream",
     "text": [
      "Hello, Python\n",
      "Hello, Python\n"
     ]
    }
   ],
   "source": [
    "# 함수사용 = 함수호출\n",
    "my_hello(2)"
   ]
  },
  {
   "cell_type": "code",
   "execution_count": 9,
   "id": "97da09eb",
   "metadata": {},
   "outputs": [
    {
     "data": {
      "text/plain": [
       "<function __main__.my_hello(cnt)>"
      ]
     },
     "execution_count": 9,
     "metadata": {},
     "output_type": "execute_result"
    }
   ],
   "source": [
    "my_hello"
   ]
  },
  {
   "cell_type": "code",
   "execution_count": 10,
   "id": "313f427a",
   "metadata": {},
   "outputs": [
    {
     "data": {
      "text/plain": [
       "'__main__'"
      ]
     },
     "execution_count": 10,
     "metadata": {},
     "output_type": "execute_result"
    }
   ],
   "source": [
    "__name__"
   ]
  },
  {
   "cell_type": "code",
   "execution_count": 11,
   "id": "669ba481",
   "metadata": {},
   "outputs": [
    {
     "name": "stdout",
     "output_type": "stream",
     "text": [
      "Hello, Python\n",
      "Hello, Python\n"
     ]
    }
   ],
   "source": [
    "if __name__ =='__main__':\n",
    "    my_hello(2)"
   ]
  },
  {
   "cell_type": "code",
   "execution_count": 1,
   "id": "5df5d858",
   "metadata": {},
   "outputs": [],
   "source": [
    "import ch05 # ch05모듈을 load"
   ]
  },
  {
   "cell_type": "code",
   "execution_count": 3,
   "id": "b97de7cb",
   "metadata": {},
   "outputs": [
    {
     "name": "stdout",
     "output_type": "stream",
     "text": [
      "Hello, Python\n"
     ]
    }
   ],
   "source": [
    "ch05.my_hello(1)"
   ]
  },
  {
   "cell_type": "code",
   "execution_count": 4,
   "id": "b7d48993",
   "metadata": {},
   "outputs": [],
   "source": [
    "from ch05 import my_hello # ch05모듈안의 my_hello load"
   ]
  },
  {
   "cell_type": "code",
   "execution_count": 5,
   "id": "35e8fd2e",
   "metadata": {},
   "outputs": [
    {
     "name": "stdout",
     "output_type": "stream",
     "text": [
      "Hello, Python\n",
      "Hello, Python\n"
     ]
    }
   ],
   "source": [
    "my_hello(2)"
   ]
  },
  {
   "cell_type": "markdown",
   "id": "a7e579f5",
   "metadata": {},
   "source": [
    "## 1.2 docstring"
   ]
  },
  {
   "cell_type": "code",
   "execution_count": 8,
   "id": "c0f13a71",
   "metadata": {},
   "outputs": [],
   "source": [
    "def my_function():\n",
    "    '''\n",
    "    함수의 첫 라인에 독스트링을 포함할 수 있습니다.\n",
    "    독스트링은 함수의 설명서를 달아주는 역할\n",
    "    주석보다 많은 기능(shift + tab 으로 독스트링을 볼 수 있음)\n",
    "    '''\n",
    "    pass"
   ]
  },
  {
   "cell_type": "code",
   "execution_count": null,
   "id": "e10f7d69",
   "metadata": {},
   "outputs": [],
   "source": [
    "my_function()"
   ]
  },
  {
   "cell_type": "code",
   "execution_count": 10,
   "id": "3dc9425e",
   "metadata": {},
   "outputs": [
    {
     "name": "stdout",
     "output_type": "stream",
     "text": [
      "\n",
      "    함수의 첫 라인에 독스트링을 포함할 수 있습니다.\n",
      "    독스트링은 함수의 설명서를 달아주는 역할\n",
      "    주석보다 많은 기능(shift + tab 으로 독스트링을 볼 수 있음)\n",
      "    \n"
     ]
    }
   ],
   "source": [
    "print(my_function.__doc__)"
   ]
  },
  {
   "cell_type": "code",
   "execution_count": 11,
   "id": "e9f89da2",
   "metadata": {},
   "outputs": [],
   "source": [
    "def fibonacci(n):\n",
    "    a, b = 0, 1\n",
    "    while a < n:\n",
    "        print(a, end=' ')\n",
    "        a, b = b, a+b\n",
    "    print() # 개행"
   ]
  },
  {
   "cell_type": "code",
   "execution_count": 12,
   "id": "a9630a39",
   "metadata": {},
   "outputs": [
    {
     "name": "stdout",
     "output_type": "stream",
     "text": [
      "0 1 1 2 3 5 8 13 \n"
     ]
    }
   ],
   "source": [
    "fibonacci(20)"
   ]
  },
  {
   "cell_type": "markdown",
   "id": "72f02e83",
   "metadata": {},
   "source": [
    "## 1.3 지역변수(local var)와 전역변수(global var)"
   ]
  },
  {
   "cell_type": "code",
   "execution_count": 16,
   "id": "ce5726ab",
   "metadata": {},
   "outputs": [
    {
     "name": "stdout",
     "output_type": "stream",
     "text": [
      "함수 안 : 100\n",
      "함수 밖 : 100\n"
     ]
    }
   ],
   "source": [
    "global_var = 100 # 전역변수\n",
    "def func1():\n",
    "    print('함수 안 :', global_var)\n",
    "func1()\n",
    "print('함수 밖 :', global_var)"
   ]
  },
  {
   "cell_type": "code",
   "execution_count": 18,
   "id": "b7493c83",
   "metadata": {},
   "outputs": [
    {
     "name": "stdout",
     "output_type": "stream",
     "text": [
      "함수 안 : 200\n"
     ]
    },
    {
     "ename": "NameError",
     "evalue": "name 'local_var' is not defined",
     "output_type": "error",
     "traceback": [
      "\u001b[1;31m---------------------------------------------------------------------------\u001b[0m",
      "\u001b[1;31mNameError\u001b[0m                                 Traceback (most recent call last)",
      "Cell \u001b[1;32mIn[18], line 5\u001b[0m\n\u001b[0;32m      3\u001b[0m     \u001b[38;5;28mprint\u001b[39m(\u001b[38;5;124m'\u001b[39m\u001b[38;5;124m함수 안 :\u001b[39m\u001b[38;5;124m'\u001b[39m, local_var)\n\u001b[0;32m      4\u001b[0m func2()\n\u001b[1;32m----> 5\u001b[0m \u001b[38;5;28mprint\u001b[39m(\u001b[38;5;124m'\u001b[39m\u001b[38;5;124m함수 밖 :\u001b[39m\u001b[38;5;124m'\u001b[39m, \u001b[43mlocal_var\u001b[49m)\n",
      "\u001b[1;31mNameError\u001b[0m: name 'local_var' is not defined"
     ]
    }
   ],
   "source": [
    "def func2():\n",
    "    local_var = 200 # 지역변수\n",
    "    print('함수 안 :', local_var)\n",
    "func2()\n",
    "print('함수 밖 :', local_var)"
   ]
  },
  {
   "cell_type": "code",
   "execution_count": 20,
   "id": "59b64c6f",
   "metadata": {},
   "outputs": [
    {
     "name": "stdout",
     "output_type": "stream",
     "text": [
      "함수 안 : 200\n",
      "함수 밖 : 100\n"
     ]
    }
   ],
   "source": [
    "g_var = 100 # 전역변수\n",
    "def func3():\n",
    "    g_var = 200 # 지역변수(변수 선언과 할당)\n",
    "    print('함수 안 :', g_var)\n",
    "func3()\n",
    "print('함수 밖 :', g_var)"
   ]
  },
  {
   "cell_type": "code",
   "execution_count": 28,
   "id": "5b8fee34",
   "metadata": {},
   "outputs": [
    {
     "name": "stdout",
     "output_type": "stream",
     "text": [
      "함수 안 g_var : 100\n",
      "함수 밖 g_var : 100\n"
     ]
    }
   ],
   "source": [
    "# 렉시컬 특성\n",
    "g_var = 100 # 전역변수\n",
    "def func4():\n",
    "    print('함수 안 g_var :', g_var)\n",
    "#     g_var = 200 # 지역변수\n",
    "func4()\n",
    "print('함수 밖 g_var :', g_var)"
   ]
  },
  {
   "cell_type": "code",
   "execution_count": 27,
   "id": "e2cdd146",
   "metadata": {},
   "outputs": [
    {
     "name": "stdout",
     "output_type": "stream",
     "text": [
      "함수 안 g_var : 100\n",
      "함수 밖 g_var : 200\n"
     ]
    }
   ],
   "source": [
    "# 렉시컬 특성\n",
    "g_var = 100 # 전역변수\n",
    "def func4():\n",
    "    global g_var # func4함수내의 g_var는 전역변수를 쓴다\n",
    "    print('함수 안 g_var :', g_var)\n",
    "    g_var = 200 # 전역변수\n",
    "func4()\n",
    "print('함수 밖 g_var :', g_var)"
   ]
  },
  {
   "cell_type": "markdown",
   "id": "3fda834f",
   "metadata": {},
   "source": [
    "## 1.4 값에 의한 호출 \n",
    "- 함수의 매개변수(인수)로 전달되는 변수가 스칼라 변수(문자, 숫자, 논리형)일 때 "
   ]
  },
  {
   "cell_type": "code",
   "execution_count": 30,
   "id": "9ecdb403",
   "metadata": {},
   "outputs": [
    {
     "data": {
      "text/plain": [
       "1916339971888"
      ]
     },
     "execution_count": 30,
     "metadata": {},
     "output_type": "execute_result"
    }
   ],
   "source": [
    "foo = 'a' # 전역변수\n",
    "id(foo)"
   ]
  },
  {
   "cell_type": "code",
   "execution_count": 37,
   "id": "fdabfd5d",
   "metadata": {},
   "outputs": [
    {
     "name": "stdout",
     "output_type": "stream",
     "text": [
      "a  id(f)  1916339971888\n",
      "aaa  id(f)  1916422375344\n"
     ]
    }
   ],
   "source": [
    "def func1(f):# 매개변수 f는 지역변수\n",
    "    print(f, ' id(f) ', id(f))\n",
    "    f = f*3\n",
    "    print(f, ' id(f) ', id(f))\n",
    "func1(foo)"
   ]
  },
  {
   "cell_type": "code",
   "execution_count": 38,
   "id": "4c3c2461",
   "metadata": {},
   "outputs": [
    {
     "name": "stdout",
     "output_type": "stream",
     "text": [
      "a\n",
      "1916339971888\n"
     ]
    }
   ],
   "source": [
    "print(foo)\n",
    "print(id(foo))"
   ]
  },
  {
   "cell_type": "markdown",
   "id": "fe2066c1",
   "metadata": {},
   "source": [
    "## 1.5 참조에 의한 호출\n",
    "- 함수의 매개변수(인자)로 전달되는 변수가 리스트, 튜플, 셋, 딕셔너리, 객체일 경우"
   ]
  },
  {
   "cell_type": "code",
   "execution_count": 33,
   "id": "40bfeb4c",
   "metadata": {},
   "outputs": [
    {
     "data": {
      "text/plain": [
       "1916460276736"
      ]
     },
     "execution_count": 33,
     "metadata": {},
     "output_type": "execute_result"
    }
   ],
   "source": [
    "L = [1,2,3]\n",
    "id(L)"
   ]
  },
  {
   "cell_type": "code",
   "execution_count": 39,
   "id": "e9e61990",
   "metadata": {},
   "outputs": [
    {
     "name": "stdout",
     "output_type": "stream",
     "text": [
      "[1, 2, 3, 4]  id(f)  1916460276736\n",
      "[1, 2, 3, 4, 4]  id(f)  1916460276736\n"
     ]
    }
   ],
   "source": [
    "def func2(f): #매개변수는 지역변수\n",
    "    print(f, ' id(f) ', id(f))\n",
    "    f.append(4)\n",
    "    print(f, ' id(f) ', id(f))\n",
    "func2(L)"
   ]
  },
  {
   "cell_type": "code",
   "execution_count": 41,
   "id": "0981516e",
   "metadata": {},
   "outputs": [
    {
     "name": "stdout",
     "output_type": "stream",
     "text": [
      "[1, 2, 3, 4, 4]  id(L)  1916460276736\n"
     ]
    }
   ],
   "source": [
    "print(L, ' id(L) ', id(L))"
   ]
  },
  {
   "cell_type": "markdown",
   "id": "83f73fb5",
   "metadata": {},
   "source": [
    "# 2절. 함수의 실행결과를 반환하는 return"
   ]
  },
  {
   "cell_type": "code",
   "execution_count": 57,
   "id": "8fd73d7d",
   "metadata": {},
   "outputs": [],
   "source": [
    "def fibonacci_print(n):\n",
    "    '''\n",
    "    매개변수로 들어온 n값 미만의피보나치 수열을 출력\n",
    "    ex. n= 10이면 0 1 1 2 3 5 8을 출력\n",
    "    '''\n",
    "    a, b = 0, 1\n",
    "    while a < n:\n",
    "        print(a, end=' ')\n",
    "        a, b = b, a+b\n",
    "    print() # 개행\n",
    "    \n",
    "def fibonacci_return(n):\n",
    "    '''\n",
    "    매개변수로 들어온 n값 미만의피보나치 수열을 리스트로 return\n",
    "    ex. n= 10이면 [0 1 1 2 3 5 8]을 return    \n",
    "    '''\n",
    "    result = []\n",
    "    a, b = 0, 1\n",
    "    while a < n:\n",
    "        result.append(a)\n",
    "        a, b = b, a+b\n",
    "    return result"
   ]
  },
  {
   "cell_type": "code",
   "execution_count": 58,
   "id": "198c5dfe",
   "metadata": {},
   "outputs": [
    {
     "name": "stdout",
     "output_type": "stream",
     "text": [
      "[0, 1, 1, 2, 3, 5, 8, 13, 21, 34, 55, 89]\n"
     ]
    }
   ],
   "source": [
    "x = fibonacci_return(100)\n",
    "print(x)"
   ]
  },
  {
   "cell_type": "code",
   "execution_count": 59,
   "id": "c269ace9",
   "metadata": {},
   "outputs": [
    {
     "name": "stdout",
     "output_type": "stream",
     "text": [
      "[0, 1, 1, 2, 3, 5, 8, 13, 21, 34, 55, 89]\n",
      "<class 'list'>\n"
     ]
    }
   ],
   "source": [
    "x = fibonacci_return(100)\n",
    "print(x)\n",
    "print(type(x))"
   ]
  },
  {
   "cell_type": "markdown",
   "id": "2bd4de1f",
   "metadata": {},
   "source": [
    "## 여러개 값 return"
   ]
  },
  {
   "cell_type": "code",
   "execution_count": 60,
   "id": "1ac58924",
   "metadata": {},
   "outputs": [],
   "source": [
    "def swap(a, b):\n",
    "    '매개변수의 순서를 바꿔서 return'\n",
    "    return b, a"
   ]
  },
  {
   "cell_type": "code",
   "execution_count": 65,
   "id": "eb5f4952",
   "metadata": {},
   "outputs": [
    {
     "name": "stdout",
     "output_type": "stream",
     "text": [
      "함수 실행 전 x = 5, y = 10\n",
      "함수 실행 후 x = 10, y = 5\n"
     ]
    }
   ],
   "source": [
    "x, y = 5, 10\n",
    "print(f'함수 실행 전 x = {x}, y = {y}')\n",
    "x, y = swap(x, y)\n",
    "print(f'함수 실행 후 x = {x}, y = {y}')"
   ]
  },
  {
   "cell_type": "markdown",
   "id": "f4dec30f",
   "metadata": {},
   "source": [
    "# 3절. 함수의 매개변수 ★\n",
    "## 3.1 기본값을 갖는 매개변수"
   ]
  },
  {
   "cell_type": "code",
   "execution_count": 68,
   "id": "6d7a721b",
   "metadata": {},
   "outputs": [],
   "source": [
    "def make_url(ip, port=80): # 순서인수 => 기본값을 갖는 매개변수\n",
    "    return 'http://{}:{}'.format(ip, port)"
   ]
  },
  {
   "cell_type": "code",
   "execution_count": 71,
   "id": "f35fd82a",
   "metadata": {},
   "outputs": [
    {
     "name": "stdout",
     "output_type": "stream",
     "text": [
      "http://www.naver.com:80\n",
      "http://localhost:8090\n",
      "http://localhost:8090\n"
     ]
    }
   ],
   "source": [
    "print(make_url('www.naver.com'))\n",
    "print(make_url('localhost', 8090))\n",
    "print(make_url(port=8090, ip='localhost'))"
   ]
  },
  {
   "cell_type": "markdown",
   "id": "43871621",
   "metadata": {},
   "source": [
    "## 3.2 기본변수를 갖는 매개변수\n",
    "- 기본 변수가 스칼라 변수일 때 \n",
    "- 기본변수가 리스트, 셋, 딕셔너리 등의 객체일 때"
   ]
  },
  {
   "cell_type": "code",
   "execution_count": 77,
   "id": "a487477b",
   "metadata": {},
   "outputs": [],
   "source": [
    "i = 5\n",
    "# 기본값을 갖는 변수가 스칼라 변수일 떄 : arg의 기본값은 함수가 정의 되는 시점의 값\n",
    "def func2(arg=i):\n",
    "    print('arg =', arg)"
   ]
  },
  {
   "cell_type": "code",
   "execution_count": 78,
   "id": "155b37df",
   "metadata": {},
   "outputs": [
    {
     "name": "stdout",
     "output_type": "stream",
     "text": [
      "arg = 5\n"
     ]
    }
   ],
   "source": [
    "i = 50\n",
    "func2()"
   ]
  },
  {
   "cell_type": "code",
   "execution_count": 1,
   "id": "5918bf6c",
   "metadata": {},
   "outputs": [],
   "source": [
    "list_ = []\n",
    "# 기본값을 갖는 변수가 객체(데이터구조)일 떄 : list_의 기본값은 \n",
    "def func3(data, L = list_):\n",
    "    'data를 L에 append'\n",
    "    L.append(data)\n",
    "    return L"
   ]
  },
  {
   "cell_type": "code",
   "execution_count": 2,
   "id": "0f48334c",
   "metadata": {},
   "outputs": [
    {
     "name": "stdout",
     "output_type": "stream",
     "text": [
      "[10]\n"
     ]
    }
   ],
   "source": [
    "print(func3(10)) # list_가 수정 : [10]"
   ]
  },
  {
   "cell_type": "code",
   "execution_count": 3,
   "id": "7114c480",
   "metadata": {},
   "outputs": [
    {
     "name": "stdout",
     "output_type": "stream",
     "text": [
      "[10, 20]\n"
     ]
    }
   ],
   "source": [
    "print(func3(20))"
   ]
  },
  {
   "cell_type": "code",
   "execution_count": 4,
   "id": "824a5ec5",
   "metadata": {},
   "outputs": [
    {
     "data": {
      "text/plain": [
       "[10, 20]"
      ]
     },
     "execution_count": 4,
     "metadata": {},
     "output_type": "execute_result"
    }
   ],
   "source": [
    "list_"
   ]
  },
  {
   "cell_type": "code",
   "execution_count": 5,
   "id": "6a555ad7",
   "metadata": {},
   "outputs": [],
   "source": [
    "def func4(data, L = None):\n",
    "    if L==None:\n",
    "        L = []\n",
    "    L.append(data)\n",
    "    return L"
   ]
  },
  {
   "cell_type": "code",
   "execution_count": 6,
   "id": "f95e24c7",
   "metadata": {},
   "outputs": [
    {
     "name": "stdout",
     "output_type": "stream",
     "text": [
      "[10]\n",
      "[10, 20, 10]\n"
     ]
    }
   ],
   "source": [
    "print(func4(10))\n",
    "print(func4(10, list_))"
   ]
  },
  {
   "cell_type": "markdown",
   "id": "f74eff53",
   "metadata": {},
   "source": [
    "## 3.3 튜플 매개변수를 이용한 가변인수 설정"
   ]
  },
  {
   "cell_type": "code",
   "execution_count": null,
   "id": "1996dd69",
   "metadata": {},
   "outputs": [],
   "source": [
    "# 파이썬은 오버로딩(함수의 중복)을 지원하지 않습니다.\n",
    "def add(a,b):\n",
    "    return"
   ]
  },
  {
   "cell_type": "code",
   "execution_count": null,
   "id": "bacf1f98",
   "metadata": {},
   "outputs": [],
   "source": [
    "add(1,2,3,4,5,6)"
   ]
  },
  {
   "cell_type": "code",
   "execution_count": 9,
   "id": "b2146e2e",
   "metadata": {},
   "outputs": [],
   "source": [
    "# *args : 매개변수들을 하나의 튜플변수 args로 전달받음\n",
    "def add(*args):\n",
    "    '전달받은 매개변수들의 합을 return'\n",
    "#     print(args)\n",
    "    result_tot = 0\n",
    "    for data in args:\n",
    "        result_tot += data\n",
    "    return result_tot"
   ]
  },
  {
   "cell_type": "code",
   "execution_count": 11,
   "id": "becfe73a",
   "metadata": {},
   "outputs": [
    {
     "name": "stdout",
     "output_type": "stream",
     "text": [
      "6\n",
      "10\n",
      "28\n",
      "12\n"
     ]
    }
   ],
   "source": [
    "print(add(1,2,3))\n",
    "print(add(1,2,3,4))\n",
    "print(add(1,2,3,4,5,6,7))\n",
    "print(add(1,2,3,6))"
   ]
  },
  {
   "cell_type": "code",
   "execution_count": 13,
   "id": "0f2c9914",
   "metadata": {},
   "outputs": [
    {
     "data": {
      "text/plain": [
       "'Python/Oracle/DL/ML//'"
      ]
     },
     "execution_count": 13,
     "metadata": {},
     "output_type": "execute_result"
    }
   ],
   "source": [
    "subject = ('Python','Oracle','DL','ML','/') \n",
    "'/'.join(subject)"
   ]
  },
  {
   "cell_type": "code",
   "execution_count": 28,
   "id": "0d5a4426",
   "metadata": {},
   "outputs": [],
   "source": [
    "def concat(*subject, sep):\n",
    "    return sep.join(subject)"
   ]
  },
  {
   "cell_type": "code",
   "execution_count": 29,
   "id": "9de58fdc",
   "metadata": {},
   "outputs": [
    {
     "ename": "TypeError",
     "evalue": "concat() missing 1 required keyword-only argument: 'sep'",
     "output_type": "error",
     "traceback": [
      "\u001b[1;31m---------------------------------------------------------------------------\u001b[0m",
      "\u001b[1;31mTypeError\u001b[0m                                 Traceback (most recent call last)",
      "Cell \u001b[1;32mIn[29], line 1\u001b[0m\n\u001b[1;32m----> 1\u001b[0m \u001b[43mconcat\u001b[49m\u001b[43m(\u001b[49m\u001b[38;5;124;43m'\u001b[39;49m\u001b[38;5;124;43mPython\u001b[39;49m\u001b[38;5;124;43m'\u001b[39;49m\u001b[43m,\u001b[49m\u001b[38;5;124;43m'\u001b[39;49m\u001b[38;5;124;43mOracle\u001b[39;49m\u001b[38;5;124;43m'\u001b[39;49m\u001b[43m,\u001b[49m\u001b[38;5;124;43m'\u001b[39;49m\u001b[38;5;124;43mDL\u001b[39;49m\u001b[38;5;124;43m'\u001b[39;49m\u001b[43m,\u001b[49m\u001b[38;5;124;43m'\u001b[39;49m\u001b[38;5;124;43mML\u001b[39;49m\u001b[38;5;124;43m'\u001b[39;49m\u001b[43m,\u001b[49m\u001b[38;5;124;43m'\u001b[39;49m\u001b[38;5;124;43m / \u001b[39;49m\u001b[38;5;124;43m'\u001b[39;49m\u001b[43m)\u001b[49m\n",
      "\u001b[1;31mTypeError\u001b[0m: concat() missing 1 required keyword-only argument: 'sep'"
     ]
    }
   ],
   "source": [
    "concat('Python','Oracle','DL','ML',' / ')"
   ]
  },
  {
   "cell_type": "code",
   "execution_count": 30,
   "id": "afd49d37",
   "metadata": {},
   "outputs": [
    {
     "data": {
      "text/plain": [
       "'Python / Oracle / DL / ML'"
      ]
     },
     "execution_count": 30,
     "metadata": {},
     "output_type": "execute_result"
    }
   ],
   "source": [
    "# 해결책 1 : 매개변수 이름을 지정해서 호출 (잘못만든 함수)\n",
    "concat('Python','Oracle','DL','ML', sep = ' / ')"
   ]
  },
  {
   "cell_type": "code",
   "execution_count": 31,
   "id": "6eba62bb",
   "metadata": {},
   "outputs": [],
   "source": [
    "# 해결책 2 : 기본값을 갖는 반드시 갖는 키워드 인수 사용\n",
    "def concat(*subject, sep=' ~ '):\n",
    "    return sep.join(subject)"
   ]
  },
  {
   "cell_type": "code",
   "execution_count": 34,
   "id": "9a98ce60",
   "metadata": {},
   "outputs": [
    {
     "data": {
      "text/plain": [
       "'Python / Oracle / DL / ML'"
      ]
     },
     "execution_count": 34,
     "metadata": {},
     "output_type": "execute_result"
    }
   ],
   "source": [
    "concat('Python','Oracle','DL','ML', sep = ' / ')"
   ]
  },
  {
   "cell_type": "code",
   "execution_count": 42,
   "id": "9be035c5",
   "metadata": {},
   "outputs": [],
   "source": [
    "# 해결책 3 : sep을 순서인수로 앞에 선언\n",
    "def concat(sep, *subject):\n",
    "    return sep.join(subject)"
   ]
  },
  {
   "cell_type": "code",
   "execution_count": 43,
   "id": "e69c6a1b",
   "metadata": {},
   "outputs": [
    {
     "data": {
      "text/plain": [
       "'Python / Oracle / DL / ML'"
      ]
     },
     "execution_count": 43,
     "metadata": {},
     "output_type": "execute_result"
    }
   ],
   "source": [
    "concat(' / ','Python','Oracle','DL','ML')"
   ]
  },
  {
   "cell_type": "markdown",
   "id": "4cd4c6fc",
   "metadata": {},
   "source": [
    "## 3.4 딕셔너리 매개변수\n",
    "- 여러개의 키워드인수를 딕셔너리 형태로 받아가서 가변 키워드 인수 처리"
   ]
  },
  {
   "cell_type": "code",
   "execution_count": 56,
   "id": "3f1f7c7e",
   "metadata": {},
   "outputs": [],
   "source": [
    "def func5(**kwargs):\n",
    "    print(kwargs)\n",
    "    print(type(kwargs))\n",
    "    print('이름 :', kwargs.get('name','개구리'))\n",
    "    print('나이 :', kwargs.get('age',5))\n",
    "    print('주소 :', kwargs.get('address','우물'))"
   ]
  },
  {
   "cell_type": "code",
   "execution_count": 57,
   "id": "3718c6b0",
   "metadata": {},
   "outputs": [
    {
     "name": "stdout",
     "output_type": "stream",
     "text": [
      "{'name': '홍길동', 'age': 30, 'address': '신림동'}\n",
      "<class 'dict'>\n",
      "이름 : 홍길동\n",
      "나이 : 30\n",
      "주소 : 신림동\n"
     ]
    }
   ],
   "source": [
    "func5(name='홍길동', age=30, address='신림동')"
   ]
  },
  {
   "cell_type": "code",
   "execution_count": 58,
   "id": "3d67dac2",
   "metadata": {},
   "outputs": [
    {
     "name": "stdout",
     "output_type": "stream",
     "text": [
      "{}\n",
      "<class 'dict'>\n",
      "이름 : 개구리\n",
      "나이 : 5\n",
      "주소 : 우물\n"
     ]
    }
   ],
   "source": [
    "func5()"
   ]
  },
  {
   "cell_type": "markdown",
   "id": "46afa56c",
   "metadata": {},
   "source": [
    "## 3.5 함수정의시 매개변수 순서\n",
    "- 순서인수 => 튜플매개변수(*) => 키워드인수(매개변수이름반드시명시) => 딕셔너리매개변수(**)"
   ]
  },
  {
   "cell_type": "code",
   "execution_count": 59,
   "id": "e410be00",
   "metadata": {},
   "outputs": [],
   "source": [
    "def func6(a, b, *c, **d):\n",
    "    print('순서인수 a :', a)\n",
    "    print('순서인수 b :', b)\n",
    "    print('튜플인수 c :', c)\n",
    "    print('딕셔너리 인수 d ', d)"
   ]
  },
  {
   "cell_type": "code",
   "execution_count": 60,
   "id": "52f1fd1d",
   "metadata": {},
   "outputs": [
    {
     "name": "stdout",
     "output_type": "stream",
     "text": [
      "순서인수 a : 10\n",
      "순서인수 b : 20\n",
      "튜플인수 c : (1, 2, 3, 4, 5, 6, 7, 8, 9)\n",
      "딕셔너리 인수 d  {'name': '개구리', 'age': 5, 'address': '우물'}\n"
     ]
    }
   ],
   "source": [
    "func6(10,20,1,2,3,4,5,6,7,8,9, name = '개구리', age = 5, address = '우물')"
   ]
  },
  {
   "cell_type": "code",
   "execution_count": 61,
   "id": "6e7fb316",
   "metadata": {},
   "outputs": [],
   "source": [
    "def func7(a, b, *c, d='기본값', **e):\n",
    "    print('순서인수 a :', a)\n",
    "    print('순서인수 b :', b)\n",
    "    print('튜플인수 c :', c)\n",
    "    print('키워드인수(기본값을 갖는 인수, 호출시 매개변수명 반드시 명시) d :', d)\n",
    "    print('딕셔너리인수 e :', e)"
   ]
  },
  {
   "cell_type": "code",
   "execution_count": 62,
   "id": "165327f5",
   "metadata": {},
   "outputs": [
    {
     "name": "stdout",
     "output_type": "stream",
     "text": [
      "순서인수 a : 10\n",
      "순서인수 b : 20\n",
      "튜플인수 c : (1, 2, 3, 4)\n",
      "키워드인수(기본값을 갖는 인수, 호출시 매개변수명 반드시 명시) d : 딴거\n",
      "딕셔너리인수 e : {'fontsize': 12, 'fontfamily': 'consola'}\n"
     ]
    }
   ],
   "source": [
    "func7(10,20,1,2,3,4, d='딴거', fontsize=12, fontfamily='consola')"
   ]
  },
  {
   "cell_type": "code",
   "execution_count": 63,
   "id": "c886f65f",
   "metadata": {},
   "outputs": [
    {
     "name": "stdout",
     "output_type": "stream",
     "text": [
      "순서인수 a : 10\n",
      "순서인수 b : 20\n",
      "튜플인수 c : (1, 2, 3, 4, '딴거')\n",
      "키워드인수(기본값을 갖는 인수, 호출시 매개변수명 반드시 명시) d : 기본값\n",
      "딕셔너리인수 e : {'fontsize': 12, 'fontfamily': 'consola'}\n"
     ]
    }
   ],
   "source": [
    "func7(10,20,1,2,3,4,'딴거', fontsize=12, fontfamily='consola')"
   ]
  },
  {
   "cell_type": "markdown",
   "id": "59ea5026",
   "metadata": {},
   "source": [
    "## 3.6 인수의 언패킹\n",
    "### 튜플인수 언패킹\n",
    "- 언패킹 : 함수 호출시 매개변수앞에 * 붙임\n",
    "- 패킹 : 함수 정의시 매개변수 앞에 * 붙임 (튜플매개변수)"
   ]
  },
  {
   "cell_type": "code",
   "execution_count": 66,
   "id": "6ac866eb",
   "metadata": {},
   "outputs": [],
   "source": [
    "def add(*args):\n",
    "    tot = 0\n",
    "    for num in args:\n",
    "        tot += num\n",
    "    return tot"
   ]
  },
  {
   "cell_type": "code",
   "execution_count": 67,
   "id": "112de9b2",
   "metadata": {},
   "outputs": [
    {
     "data": {
      "text/plain": [
       "10"
      ]
     },
     "execution_count": 67,
     "metadata": {},
     "output_type": "execute_result"
    }
   ],
   "source": [
    "add(1,2,3,4)"
   ]
  },
  {
   "cell_type": "code",
   "execution_count": 69,
   "id": "18e1abb5",
   "metadata": {},
   "outputs": [
    {
     "data": {
      "text/plain": [
       "10"
      ]
     },
     "execution_count": 69,
     "metadata": {},
     "output_type": "execute_result"
    }
   ],
   "source": [
    "numbers = (1,2,3,4)\n",
    "add(*numbers) # 언패킹"
   ]
  },
  {
   "cell_type": "code",
   "execution_count": 70,
   "id": "f7a9b500",
   "metadata": {},
   "outputs": [
    {
     "data": {
      "text/plain": [
       "10"
      ]
     },
     "execution_count": 70,
     "metadata": {},
     "output_type": "execute_result"
    }
   ],
   "source": [
    "numbers = [1,2,3,4]\n",
    "add(*numbers) # 언패킹"
   ]
  },
  {
   "cell_type": "markdown",
   "id": "dd493714",
   "metadata": {},
   "source": [
    "### 딕셔너리인수 언패킹\n",
    "- 딕셔너리 언패킹 : 함수 호출시 매개변수 앞에 ** 붙임\n",
    "- 딕셔너리 패킹 : 함수 정의시 매개변수 앞에 ** 붙임"
   ]
  },
  {
   "cell_type": "code",
   "execution_count": 77,
   "id": "74fa57d7",
   "metadata": {},
   "outputs": [],
   "source": [
    "def func5(**data):\n",
    "    print(type(data))\n",
    "    for key, item in data.items():\n",
    "        print(f'{key}:{item}')"
   ]
  },
  {
   "cell_type": "code",
   "execution_count": 78,
   "id": "716d6eed",
   "metadata": {},
   "outputs": [
    {
     "name": "stdout",
     "output_type": "stream",
     "text": [
      "<class 'dict'>\n",
      "name:홍길동\n",
      "gae:30\n",
      "address:신림\n"
     ]
    }
   ],
   "source": [
    "func5(name = '홍길동', gae = 30, address = '신림')"
   ]
  },
  {
   "cell_type": "code",
   "execution_count": 79,
   "id": "7b15f0e8",
   "metadata": {},
   "outputs": [
    {
     "name": "stdout",
     "output_type": "stream",
     "text": [
      "<class 'dict'>\n",
      "name:홍길동\n",
      "age:30\n",
      "address:서울시 강남구\n",
      "score:900\n"
     ]
    }
   ],
   "source": [
    "customInfo = {'name':'홍길동','age':'30','address':'서울시 강남구','score':900}\n",
    "func5(**customInfo)"
   ]
  },
  {
   "cell_type": "markdown",
   "id": "e293587e",
   "metadata": {},
   "source": [
    "# 4절. 람다식\n",
    "- return 한줄짜리 작은 익명함수\n",
    "## 4.1 람다식 연습"
   ]
  },
  {
   "cell_type": "code",
   "execution_count": 80,
   "id": "16958894",
   "metadata": {},
   "outputs": [
    {
     "data": {
      "text/plain": [
       "7"
      ]
     },
     "execution_count": 80,
     "metadata": {},
     "output_type": "execute_result"
    }
   ],
   "source": [
    "def add(a,b):\n",
    "    return a+b\n",
    "add(3,4)"
   ]
  },
  {
   "cell_type": "code",
   "execution_count": 82,
   "id": "487f5209",
   "metadata": {},
   "outputs": [
    {
     "data": {
      "text/plain": [
       "9"
      ]
     },
     "execution_count": 82,
     "metadata": {},
     "output_type": "execute_result"
    }
   ],
   "source": [
    "add2 = lambda a, b : a+b\n",
    "add2(4,5)"
   ]
  },
  {
   "cell_type": "code",
   "execution_count": 83,
   "id": "5d93c2de",
   "metadata": {},
   "outputs": [
    {
     "data": {
      "text/plain": [
       "(function, function)"
      ]
     },
     "execution_count": 83,
     "metadata": {},
     "output_type": "execute_result"
    }
   ],
   "source": [
    "type(add), type(add2)"
   ]
  },
  {
   "cell_type": "code",
   "execution_count": 84,
   "id": "f6d22582",
   "metadata": {},
   "outputs": [
    {
     "data": {
      "text/plain": [
       "3"
      ]
     },
     "execution_count": 84,
     "metadata": {},
     "output_type": "execute_result"
    }
   ],
   "source": [
    "(lambda a, b : a+b)(1,2)"
   ]
  },
  {
   "cell_type": "code",
   "execution_count": 91,
   "id": "d0f9e995",
   "metadata": {},
   "outputs": [
    {
     "data": {
      "text/plain": [
       "('홀수', '짝수')"
      ]
     },
     "execution_count": 91,
     "metadata": {},
     "output_type": "execute_result"
    }
   ],
   "source": [
    "#ex1. 매개변수로 들어온 값이 짝수인지 홀수인지 return\n",
    "ex1 = lambda num : '홀수' if num%2 else '짝수'\n",
    "ex1(1), ex1(2)"
   ]
  },
  {
   "cell_type": "code",
   "execution_count": 117,
   "id": "7c9d30b9",
   "metadata": {},
   "outputs": [
    {
     "data": {
      "text/plain": [
       "(5, 5, 0)"
      ]
     },
     "execution_count": 117,
     "metadata": {},
     "output_type": "execute_result"
    }
   ],
   "source": [
    "#ex2. 두 매개변수의 차이를 return\n",
    "ex2 = lambda num1,num2 : max(num1,num2)-min(num1,num2) if num1!=num2 else 0\n",
    "ex2(10,5), ex2(5,10), ex2(5,5)"
   ]
  },
  {
   "cell_type": "code",
   "execution_count": 110,
   "id": "93a1028a",
   "metadata": {},
   "outputs": [
    {
     "data": {
      "text/plain": [
       "(5000, 'negative', 0)"
      ]
     },
     "execution_count": 110,
     "metadata": {},
     "output_type": "execute_result"
    }
   ],
   "source": [
    "#ex3. 매개변수로 잔액을 받아 양수면 잔액을 return, 음수면 'negative'를 return\n",
    "ex3 = lambda numbers : numbers if numbers>=0 else'negative'\n",
    "ex3(5000),ex3(-2500),ex3(0)"
   ]
  },
  {
   "cell_type": "code",
   "execution_count": 103,
   "id": "7b999ba6",
   "metadata": {},
   "outputs": [
    {
     "data": {
      "text/plain": [
       "('A팀', 'B팀', '재시험', '유효하지 않음')"
      ]
     },
     "execution_count": 103,
     "metadata": {},
     "output_type": "execute_result"
    }
   ],
   "source": [
    "#ex4. 점수를 입력받아 점수가 80점 이상은 A팀, 60점 이상은 B팀, 60점 미만은 재시험 그 외는 유효하지 않음\n",
    "ex4 = lambda score :'A팀' if 100>=score>=80 else \\\n",
    "                    'B팀'if 80>score>=60 else \\\n",
    "                    '재시험'if 60>score else\\\n",
    "                    '유효하지 않음'\n",
    "ex4(91),ex4(74),ex4(55),ex4(198)"
   ]
  },
  {
   "cell_type": "code",
   "execution_count": null,
   "id": "10e4d264",
   "metadata": {},
   "outputs": [],
   "source": [
    "#ex5. safe_index를 람다식으로 \n",
    "def safe_index(vector, data):\n",
    "    if data in vector:\n",
    "        return vector.index(data)\n",
    "    else:\n",
    "        return -1\n"
   ]
  },
  {
   "cell_type": "code",
   "execution_count": 118,
   "id": "289b39e6",
   "metadata": {},
   "outputs": [
    {
     "data": {
      "text/plain": [
       "(-1, 1)"
      ]
     },
     "execution_count": 118,
     "metadata": {},
     "output_type": "execute_result"
    }
   ],
   "source": [
    "ex5 = lambda vector, data : vector.index(data) if data in vector else -1\n",
    "tup = (1, 2, 3)\n",
    "ex5(tup, 4), ex5(tup, 2)"
   ]
  },
  {
   "cell_type": "markdown",
   "id": "195ea911",
   "metadata": {},
   "source": [
    "## 4.2 함수의 매개변수에 람다식 사용\n",
    "\n",
    "### (1) map"
   ]
  },
  {
   "cell_type": "code",
   "execution_count": 86,
   "id": "7580b1a7",
   "metadata": {},
   "outputs": [],
   "source": [
    "def map_template(func, L=[]):\n",
    "    '''\n",
    "    L의 모든요소를 func()함수를 적용시켜 return\n",
    "    [func(1) for in L]\n",
    "    '''\n",
    "    result = []\n",
    "    for l in L:\n",
    "        result.append(func(l))\n",
    "    return result\n",
    "#     result = [func(1) for l in L]\n",
    "    "
   ]
  },
  {
   "cell_type": "code",
   "execution_count": 87,
   "id": "52f88524",
   "metadata": {},
   "outputs": [
    {
     "data": {
      "text/plain": [
       "[2, 4, 6, 8, 10, 12, 14, 16, 18, 20]"
      ]
     },
     "execution_count": 87,
     "metadata": {},
     "output_type": "execute_result"
    }
   ],
   "source": [
    "# 리스트 데이터를 가공 방법 1. map_template\n",
    "list_data = [1, 2, 3, 4, 5, 6, 7, 8, 9, 10]\n",
    "map_template(lambda x : x*2, list_data)\n",
    "# def x_2(x):\n",
    "#     return x*2\n",
    "# map_template(x_2, list_data)"
   ]
  },
  {
   "cell_type": "code",
   "execution_count": 88,
   "id": "9babd2ad",
   "metadata": {},
   "outputs": [
    {
     "data": {
      "text/plain": [
       "[2, 4, 6, 8, 10, 12, 14, 16, 18, 20]"
      ]
     },
     "execution_count": 88,
     "metadata": {},
     "output_type": "execute_result"
    }
   ],
   "source": [
    "# 리스트 테이터를 가공 방법 1. map\n",
    "list_data = [1,2,3,4,5,6,7,8,9,10]\n",
    "map_template(lambda x : x*2, list_data)"
   ]
  },
  {
   "cell_type": "code",
   "execution_count": 89,
   "id": "4036adb1",
   "metadata": {},
   "outputs": [
    {
     "data": {
      "text/plain": [
       "[2, 4, 6, 8, 10, 12, 14, 16, 18, 20]"
      ]
     },
     "execution_count": 89,
     "metadata": {},
     "output_type": "execute_result"
    }
   ],
   "source": [
    "# 리스트 데이터를 가공 방법 2. 리스트 컴프리헨션\n",
    "[l*2 for l in list_data]"
   ]
  },
  {
   "cell_type": "code",
   "execution_count": 90,
   "id": "db75f4fc",
   "metadata": {},
   "outputs": [
    {
     "data": {
      "text/plain": [
       "[2, 4, 6, 8, 10, 12, 14, 16, 18, 20]"
      ]
     },
     "execution_count": 90,
     "metadata": {},
     "output_type": "execute_result"
    }
   ],
   "source": [
    "# 리스트 데이터를 가공 방법 3. map(): 파이썬 내장함수\n",
    "list(map(lambda x : x*2, list_data))"
   ]
  },
  {
   "cell_type": "code",
   "execution_count": 91,
   "id": "990d9f5c",
   "metadata": {},
   "outputs": [
    {
     "name": "stdout",
     "output_type": "stream",
     "text": [
      "2 4 6 8 10 12 14 16 18 20 "
     ]
    }
   ],
   "source": [
    "for item in map(lambda x : x*2, list_data):\n",
    "    print(item, end=' ')"
   ]
  },
  {
   "cell_type": "code",
   "execution_count": 92,
   "id": "2f57d2b1",
   "metadata": {},
   "outputs": [],
   "source": [
    "'''\n",
    "예1. [5000,800,1000,6000]로 바꾸시오\n",
    "'''\n",
    "prices = ['5,000','800','1000','6,000']"
   ]
  },
  {
   "cell_type": "code",
   "execution_count": 93,
   "id": "9b0eb07c",
   "metadata": {},
   "outputs": [
    {
     "data": {
      "text/plain": [
       "'5000'"
      ]
     },
     "execution_count": 93,
     "metadata": {},
     "output_type": "execute_result"
    }
   ],
   "source": [
    "def func(x):\n",
    "    return(x.replace(',',''))\n",
    "func('5,000')"
   ]
  },
  {
   "cell_type": "code",
   "execution_count": 94,
   "id": "86034d19",
   "metadata": {},
   "outputs": [
    {
     "data": {
      "text/plain": [
       "[5000, 800, 1000, 6000]"
      ]
     },
     "execution_count": 94,
     "metadata": {},
     "output_type": "execute_result"
    }
   ],
   "source": [
    "list(map(lambda x : int(x.replace(',','')), prices))"
   ]
  },
  {
   "cell_type": "code",
   "execution_count": 95,
   "id": "1857095e",
   "metadata": {},
   "outputs": [
    {
     "data": {
      "text/plain": [
       "\"\\n예2. member1 = [{'name':'홍길동','birth':'2000-01-03'},\\n                {'name':'신길자','birth':'1989-06-08'}]\\n     member1 = [{'name':'홍길동','year':2000,'month':1, 'day':3},\\n                {'name':'신길자','year':1989,'month':6, 'day':8}]를 바꿉니다\\n\""
      ]
     },
     "execution_count": 95,
     "metadata": {},
     "output_type": "execute_result"
    }
   ],
   "source": [
    "'''\n",
    "예2. member1 = [{'name':'홍길동','birth':'2000-01-03'},\n",
    "                {'name':'신길자','birth':'1989-06-08'}]\n",
    "     member1 = [{'name':'홍길동','year':2000,'month':1, 'day':3},\n",
    "                {'name':'신길자','year':1989,'month':6, 'day':8}]를 바꿉니다\n",
    "'''"
   ]
  },
  {
   "cell_type": "code",
   "execution_count": 96,
   "id": "5484feb2",
   "metadata": {},
   "outputs": [],
   "source": [
    "member1 = [{'name':'홍길동','birth':'2000-01-03'},\n",
    "         {'name':'신길자','birth':'1989-06-08'}]"
   ]
  },
  {
   "cell_type": "code",
   "execution_count": 97,
   "id": "8aed3f35",
   "metadata": {},
   "outputs": [],
   "source": [
    "# '2000-01-03' => 'year':2000,'month':1, 'day':3\n",
    "def split_data(data):\n",
    "    split_data = data.split('-')\n",
    "#     print(split_data[0], split_data[1], split_data[2])\n",
    "    return {'year':int(split_data[0]),\n",
    "            'month':int(split_data[1]),\n",
    "            'day':int(split_data[2])}"
   ]
  },
  {
   "cell_type": "code",
   "execution_count": 98,
   "id": "1f4d447e",
   "metadata": {},
   "outputs": [
    {
     "data": {
      "text/plain": [
       "{'year': 2000, 'month': 1, 'day': 3}"
      ]
     },
     "execution_count": 98,
     "metadata": {},
     "output_type": "execute_result"
    }
   ],
   "source": [
    "split_data('2000-01-03')"
   ]
  },
  {
   "cell_type": "code",
   "execution_count": 99,
   "id": "f8dab2de",
   "metadata": {},
   "outputs": [
    {
     "data": {
      "text/plain": [
       "{'name': '홍길동', 'year': 2000, 'month': 1, 'day': 3}"
      ]
     },
     "execution_count": 99,
     "metadata": {},
     "output_type": "execute_result"
    }
   ],
   "source": [
    "def member_func(member): # {'name':'홍길동', 'birth':'2000-01-01'}\n",
    "    \"{'name':'신길동', 'year':1998, 'month':12, 'day':31}식으로 return\"\n",
    "    return {\n",
    "        'name':member.get('name'),\n",
    "        'year':int(member['birth'].split('-')[0]),\n",
    "        'month':int(member['birth'].split('-')[1]),\n",
    "        'day':int(member['birth'].split('-')[2]),\n",
    "    }\n",
    "member_func(member1[0])"
   ]
  },
  {
   "cell_type": "code",
   "execution_count": 100,
   "id": "2129d25f",
   "metadata": {},
   "outputs": [
    {
     "data": {
      "text/plain": [
       "[{'name': '홍길동', 'year': 2000, 'month': 1, 'day': 3},\n",
       " {'name': '신길자', 'year': 1989, 'month': 6, 'day': 8}]"
      ]
     },
     "execution_count": 100,
     "metadata": {},
     "output_type": "execute_result"
    }
   ],
   "source": [
    "member2 =list(map(lambda member : {\n",
    "                        'name':member.get('name'),\n",
    "                        'year':int(member['birth'].split('-')[0]),\n",
    "                        'month':int(member['birth'].split('-')[1]),\n",
    "                        'day':int(member['birth'].split('-')[2]),\n",
    "                        } ,\n",
    "         member1\n",
    "        )\n",
    "    )\n",
    "member2"
   ]
  },
  {
   "cell_type": "code",
   "execution_count": 101,
   "id": "c69cf80a",
   "metadata": {},
   "outputs": [
    {
     "data": {
      "text/plain": [
       "'예3. member2를 member1로 바꿉니다'"
      ]
     },
     "execution_count": 101,
     "metadata": {},
     "output_type": "execute_result"
    }
   ],
   "source": [
    "'예3. member2를 member1로 바꿉니다'"
   ]
  },
  {
   "cell_type": "code",
   "execution_count": 102,
   "id": "608d7e8b",
   "metadata": {},
   "outputs": [],
   "source": [
    "# {'year': 2000, 'month': 1, 'day': 1} => \"2000-01-01\"를 return하는 함수\n",
    "def join_date(data):\n",
    "    # print([data.get('year'), data.get('month'), data.get('day')])\n",
    "    year = str(data.get('year'))\n",
    "    month = data.get('month')\n",
    "    if month < 10:\n",
    "        month = '0'+str(month)\n",
    "    else:\n",
    "        month = str(month)\n",
    "    day = data.get('day')\n",
    "    if day < 10:\n",
    "        day = '0'+str(day)\n",
    "    else:\n",
    "        day = str(day)\n",
    "    return '-'.join([year, month, day])"
   ]
  },
  {
   "cell_type": "code",
   "execution_count": 103,
   "id": "1e36e68a",
   "metadata": {},
   "outputs": [],
   "source": [
    "def join_date(data):\n",
    "    print(\"{}-{:02}-{:02}\".format(data.get('year'), \n",
    "                                  data.get('month'), \n",
    "                                  data.get('day')))"
   ]
  },
  {
   "cell_type": "code",
   "execution_count": 104,
   "id": "882ea596",
   "metadata": {},
   "outputs": [],
   "source": [
    "def join_date(data):\n",
    "    print(\"{year}-{month:02}-{day:02}\".format(\n",
    "                                  year = data.get('year'), \n",
    "                                  month=data.get('month'), \n",
    "                                  day=data.get('day')))"
   ]
  },
  {
   "cell_type": "code",
   "execution_count": 105,
   "id": "a0c91509",
   "metadata": {},
   "outputs": [],
   "source": [
    "def join_date(data):\n",
    "    return \"{year}-{month:02}-{day:02}\".format(**data)"
   ]
  },
  {
   "cell_type": "code",
   "execution_count": 106,
   "id": "c6b4eb30",
   "metadata": {},
   "outputs": [
    {
     "data": {
      "text/plain": [
       "'2000-01-01'"
      ]
     },
     "execution_count": 106,
     "metadata": {},
     "output_type": "execute_result"
    }
   ],
   "source": [
    "join_date({'year': 2000, 'month': 1, 'day': 1})"
   ]
  },
  {
   "cell_type": "code",
   "execution_count": 107,
   "id": "45075ef7",
   "metadata": {},
   "outputs": [
    {
     "data": {
      "text/plain": [
       "[{'name': '홍길동', 'year': 2000, 'month': 1, 'day': 3},\n",
       " {'name': '신길자', 'year': 1989, 'month': 6, 'day': 8}]"
      ]
     },
     "execution_count": 107,
     "metadata": {},
     "output_type": "execute_result"
    }
   ],
   "source": [
    "member2"
   ]
  },
  {
   "cell_type": "code",
   "execution_count": 108,
   "id": "142adc4e",
   "metadata": {},
   "outputs": [
    {
     "data": {
      "text/plain": [
       "[{'name': '홍길동', 'birth': '2000-01-03'},\n",
       " {'name': '신길자', 'birth': '1989-06-08'}]"
      ]
     },
     "execution_count": 108,
     "metadata": {},
     "output_type": "execute_result"
    }
   ],
   "source": [
    "# {'name':'홍길동', 'year':2000, 'month':1, 'day':1}(member2)를 \n",
    "# {'name':'홍길동', 'birth':'2000-01-01'}으로 가공\n",
    "list(map(lambda member : {\n",
    "                        'name' : member.get('name'),\n",
    "                        'birth': \"{year}-{month:02}-{day:02}\".format(**member)\n",
    "                        },\n",
    "    member2\n",
    "))"
   ]
  },
  {
   "cell_type": "markdown",
   "id": "ba66aa61",
   "metadata": {},
   "source": [
    "### (2) filter\n",
    "- map    : [1,2,3,4,5] => [2,3,4,5,10] (벡터의 모든 데이터를 가공)\n",
    "- filter : [1,2,3,4,5] => [2,4] (원하는 정보를 추출)\n",
    "* cf. 리스트 컴프리헨션"
   ]
  },
  {
   "cell_type": "code",
   "execution_count": 79,
   "id": "a0a0d575",
   "metadata": {},
   "outputs": [],
   "source": [
    "#\n",
    "def filter_template(func, L=[]):\n",
    "    result = []\n",
    "    for l in L:\n",
    "        if func(l):\n",
    "            result.append(l)\n",
    "    return result"
   ]
  },
  {
   "cell_type": "code",
   "execution_count": 80,
   "id": "785ab857",
   "metadata": {},
   "outputs": [
    {
     "data": {
      "text/plain": [
       "True"
      ]
     },
     "execution_count": 80,
     "metadata": {},
     "output_type": "execute_result"
    }
   ],
   "source": [
    "def evenChk(value):\n",
    "    return value%2==0\n",
    "evenChk(10)"
   ]
  },
  {
   "cell_type": "code",
   "execution_count": 81,
   "id": "e0f76dc8",
   "metadata": {},
   "outputs": [
    {
     "data": {
      "text/plain": [
       "[2, 4]"
      ]
     },
     "execution_count": 81,
     "metadata": {},
     "output_type": "execute_result"
    }
   ],
   "source": [
    "list_data = [1,2,3,4,5]\n",
    "filter_template(lambda value : value%2==0, list_data)"
   ]
  },
  {
   "cell_type": "code",
   "execution_count": 82,
   "id": "6e9cd90e",
   "metadata": {},
   "outputs": [
    {
     "data": {
      "text/plain": [
       "[2, 4]"
      ]
     },
     "execution_count": 82,
     "metadata": {},
     "output_type": "execute_result"
    }
   ],
   "source": [
    "list(filter(lambda value : value%2==0, list_data))"
   ]
  },
  {
   "cell_type": "code",
   "execution_count": 83,
   "id": "a1081ea9",
   "metadata": {},
   "outputs": [
    {
     "data": {
      "text/plain": [
       "[2, 4]"
      ]
     },
     "execution_count": 83,
     "metadata": {},
     "output_type": "execute_result"
    }
   ],
   "source": [
    "[data for data in list_data if data%2==0]"
   ]
  },
  {
   "cell_type": "markdown",
   "id": "9bd04f87",
   "metadata": {},
   "source": [
    "### (3) sort"
   ]
  },
  {
   "cell_type": "code",
   "execution_count": 109,
   "id": "edd12310",
   "metadata": {},
   "outputs": [
    {
     "data": {
      "text/plain": [
       "[9, 7, 2]"
      ]
     },
     "execution_count": 109,
     "metadata": {},
     "output_type": "execute_result"
    }
   ],
   "source": [
    "p = [9, 2, 7]\n",
    "p.sort(reverse=True)\n",
    "p"
   ]
  },
  {
   "cell_type": "code",
   "execution_count": 112,
   "id": "6e932482",
   "metadata": {},
   "outputs": [
    {
     "data": {
      "text/plain": [
       "[(1, 'one'), (2, 'tow'), (3, 'three'), (4, 'four')]"
      ]
     },
     "execution_count": 112,
     "metadata": {},
     "output_type": "execute_result"
    }
   ],
   "source": [
    "# 무조건 0번쨰 아이템 기준으로 정렬\n",
    "pairs = [(2, 'tow'),(1, 'one'),(4, 'four'),(3, 'three')]\n",
    "pairs.sort()\n",
    "pairs"
   ]
  },
  {
   "cell_type": "code",
   "execution_count": 114,
   "id": "33d2582e",
   "metadata": {},
   "outputs": [
    {
     "data": {
      "text/plain": [
       "[(4, 'four'), (1, 'one'), (3, 'three'), (2, 'tow')]"
      ]
     },
     "execution_count": 114,
     "metadata": {},
     "output_type": "execute_result"
    }
   ],
   "source": [
    "# 1번쨰 item 기준으로 정렬 (abc순)\n",
    "pairs = [(2, 'tow'),(1, 'one'),(4, 'four'),(3, 'three')]\n",
    "pairs.sort(key=lambda pair : pair[1])\n",
    "pairs"
   ]
  },
  {
   "cell_type": "code",
   "execution_count": 111,
   "id": "200a32e0",
   "metadata": {},
   "outputs": [
    {
     "data": {
      "text/plain": [
       "[[10, 1], [9, 9, 9, 9, 9, 9], [1, 100]]"
      ]
     },
     "execution_count": 111,
     "metadata": {},
     "output_type": "execute_result"
    }
   ],
   "source": [
    "# 무조건 0번 item기준으로 정렬\n",
    "number2d = [[9, 9, 9, 9, 9, 9],\n",
    "            [1, 100],\n",
    "            [10, 1]]\n",
    "number2d.sort(reverse=True) # 기본(reverse=False):오름차순정렬/reverse=True:내림차순정렬\n",
    "number2d"
   ]
  },
  {
   "cell_type": "code",
   "execution_count": 121,
   "id": "9e37ebe2",
   "metadata": {},
   "outputs": [
    {
     "data": {
      "text/plain": [
       "6"
      ]
     },
     "execution_count": 121,
     "metadata": {},
     "output_type": "execute_result"
    }
   ],
   "source": [
    "# 리스트를 매개변수로 받아 합을 return\n",
    "(lambda item : sum(item))([1,2,3])"
   ]
  },
  {
   "cell_type": "code",
   "execution_count": 120,
   "id": "c08bf8e0",
   "metadata": {},
   "outputs": [
    {
     "data": {
      "text/plain": [
       "[[1, 100], [9, 9, 9, 9, 9, 9], [10, 1]]"
      ]
     },
     "execution_count": 120,
     "metadata": {},
     "output_type": "execute_result"
    }
   ],
   "source": [
    "# 합이 큰 순으로 정렬\n",
    "number2d.sort(key = lambda item : sum(item), reverse = True)\n",
    "number2d"
   ]
  },
  {
   "cell_type": "code",
   "execution_count": 135,
   "id": "e509b6c6",
   "metadata": {},
   "outputs": [],
   "source": [
    "students = [{'name':'홍길동','score':'90'},\n",
    "           {'name':'김길동','score':'80'},\n",
    "           {'name':'문길동','score':'70'},\n",
    "           {'score':'100'}]"
   ]
  },
  {
   "cell_type": "code",
   "execution_count": 145,
   "id": "ac513197",
   "metadata": {},
   "outputs": [
    {
     "name": "stdout",
     "output_type": "stream",
     "text": [
      "[{'name': '김길동', 'score': '80'}, {'name': '문길동', 'score': '70'}, {'name': '홍길동', 'score': '90'}, {'score': '100'}]\n"
     ]
    }
   ],
   "source": [
    "students.sort(key=lambda x: x.get('name','힣'))\n",
    "print(students)"
   ]
  },
  {
   "cell_type": "code",
   "execution_count": 142,
   "id": "ca12debf",
   "metadata": {},
   "outputs": [
    {
     "name": "stdout",
     "output_type": "stream",
     "text": [
      "[{'score': '100'}, {'name': '홍길동', 'score': '90'}, {'name': '김길동', 'score': '80'}, {'name': '문길동', 'score': '70'}]\n"
     ]
    }
   ],
   "source": [
    "students.sort(key=lambda x: int(x.get('score', 0)), reverse=True)\n",
    "print(students)"
   ]
  },
  {
   "cell_type": "code",
   "execution_count": 147,
   "id": "510b26e2",
   "metadata": {},
   "outputs": [],
   "source": [
    "# 책제목순 정렬(ㄱ,ㄴ,ㄷ순), 저자순 정렬(ㄱ,ㄴ,ㄷ순), 가격순 오름차순정렬 \n",
    "books = [\n",
    "        {'no': 1, 'title':'강남 아파트 인사이트','writer':'오스틀로이드','price':'25,200'},\n",
    "        {'no': 2, 'title':'단 한 번의 삶','writer':'김영하','price':'18,100'},\n",
    "        {'no': 3, 'title':'흔한남매19','writer':'백난도','price':'14,200'},\n",
    "        {'no': 4, 'title':'가격이 잘못','writer':'홍길동','price':'-'},\n",
    "        {'no': 5, 'title':'가격이 숫자','writer':'신길동','price':900},\n",
    "        {'no': 6, 'title':'가격이 없음','writer':'김길동'}\n",
    "]"
   ]
  },
  {
   "cell_type": "code",
   "execution_count": 149,
   "id": "29fd7ea4",
   "metadata": {},
   "outputs": [
    {
     "data": {
      "text/plain": [
       "[{'no': 5, 'title': '가격이 숫자', 'writer': '신길동', 'price': 900},\n",
       " {'no': 6, 'title': '가격이 없음', 'writer': '김길동'},\n",
       " {'no': 4, 'title': '가격이 잘못', 'writer': '홍길동', 'price': '-'},\n",
       " {'no': 1, 'title': '강남 아파트 인사이트', 'writer': '오스틀로이드', 'price': '25,200'},\n",
       " {'no': 2, 'title': '단 한 번의 삶', 'writer': '김영하', 'price': '18,100'},\n",
       " {'no': 3, 'title': '흔한남매19', 'writer': '백난도', 'price': '14,200'}]"
      ]
     },
     "execution_count": 149,
     "metadata": {},
     "output_type": "execute_result"
    }
   ],
   "source": [
    "# 책제목순 정렬(ㄱ,ㄴ,ㄷ순)\n",
    "books.sort(key = lambda book : book.get('title'))\n",
    "books"
   ]
  },
  {
   "cell_type": "code",
   "execution_count": 152,
   "id": "ff909c20",
   "metadata": {},
   "outputs": [
    {
     "data": {
      "text/plain": [
       "[{'no': 6, 'title': '가격이 없음', 'writer': '김길동'},\n",
       " {'no': 2, 'title': '단 한 번의 삶', 'writer': '김영하', 'price': '18,100'},\n",
       " {'no': 3, 'title': '흔한남매19', 'writer': '백난도', 'price': '14,200'},\n",
       " {'no': 5, 'title': '가격이 숫자', 'writer': '신길동', 'price': 900},\n",
       " {'no': 1, 'title': '강남 아파트 인사이트', 'writer': '오스틀로이드', 'price': '25,200'},\n",
       " {'no': 4, 'title': '가격이 잘못', 'writer': '홍길동', 'price': '-'}]"
      ]
     },
     "execution_count": 152,
     "metadata": {},
     "output_type": "execute_result"
    }
   ],
   "source": [
    "# 저자순 정렬(ㄱ,ㄴ,ㄷ순)\n",
    "books.sort(key = lambda book : book.get('writer'))\n",
    "books"
   ]
  },
  {
   "cell_type": "code",
   "execution_count": 172,
   "id": "c6465044",
   "metadata": {},
   "outputs": [
    {
     "ename": "TypeError",
     "evalue": "'<' not supported between instances of 'int' and 'str'",
     "output_type": "error",
     "traceback": [
      "\u001b[1;31m---------------------------------------------------------------------------\u001b[0m",
      "\u001b[1;31mTypeError\u001b[0m                                 Traceback (most recent call last)",
      "Cell \u001b[1;32mIn[172], line 2\u001b[0m\n\u001b[0;32m      1\u001b[0m \u001b[38;5;66;03m# 가격순 오름차순정렬 \u001b[39;00m\n\u001b[1;32m----> 2\u001b[0m \u001b[43mbooks\u001b[49m\u001b[38;5;241;43m.\u001b[39;49m\u001b[43msort\u001b[49m\u001b[43m(\u001b[49m\u001b[43mkey\u001b[49m\u001b[43m \u001b[49m\u001b[38;5;241;43m=\u001b[39;49m\u001b[43m \u001b[49m\u001b[38;5;28;43;01mlambda\u001b[39;49;00m\u001b[43m \u001b[49m\u001b[43mbook\u001b[49m\u001b[43m \u001b[49m\u001b[43m:\u001b[49m\u001b[43m \u001b[49m\u001b[43mbook\u001b[49m\u001b[38;5;241;43m.\u001b[39;49m\u001b[43mget\u001b[49m\u001b[43m(\u001b[49m\u001b[38;5;124;43m'\u001b[39;49m\u001b[38;5;124;43mprice\u001b[39;49m\u001b[38;5;124;43m'\u001b[39;49m\u001b[43m,\u001b[49m\u001b[38;5;124;43m'\u001b[39;49m\u001b[38;5;124;43m0\u001b[39;49m\u001b[38;5;124;43m'\u001b[39;49m\u001b[43m)\u001b[49m\u001b[43m)\u001b[49m\n\u001b[0;32m      3\u001b[0m books\n",
      "\u001b[1;31mTypeError\u001b[0m: '<' not supported between instances of 'int' and 'str'"
     ]
    }
   ],
   "source": [
    "# 가격순 오름차순정렬 \n",
    "books.sort(key = lambda book : book.get('price','0'))\n",
    "books"
   ]
  },
  {
   "cell_type": "code",
   "execution_count": 199,
   "id": "5dba6a5e",
   "metadata": {},
   "outputs": [],
   "source": [
    "#'14,000' -> 14000 /'2000'-> 2000 / 800 -> 800 / '-' -> 0\n",
    "def parse_int(price):\n",
    "#     print(type(price))\n",
    "    if isinstance(price, str) and price.replace(',','').isdigit():\n",
    "        return int(price.replace(',',''))\n",
    "    elif isinstance(price, int):\n",
    "        return price\n",
    "    else:\n",
    "        return 0"
   ]
  },
  {
   "cell_type": "code",
   "execution_count": 200,
   "id": "e98ff9d9",
   "metadata": {},
   "outputs": [
    {
     "data": {
      "text/plain": [
       "(6000, 6000, 6000, 0)"
      ]
     },
     "execution_count": 200,
     "metadata": {},
     "output_type": "execute_result"
    }
   ],
   "source": [
    "parse_int('6,000'),parse_int('6000'),parse_int(6000),parse_int('-')"
   ]
  },
  {
   "cell_type": "code",
   "execution_count": 201,
   "id": "fa09c60e",
   "metadata": {},
   "outputs": [
    {
     "data": {
      "text/plain": [
       "(25200, 0, 14200, 0)"
      ]
     },
     "execution_count": 201,
     "metadata": {},
     "output_type": "execute_result"
    }
   ],
   "source": [
    "# {'no': 6, 'title':'가격이 없음','writer':'김길동'} => 0\n",
    "# {'no': 3, 'title':'흔한남매19','writer':'백난도','price':'14,200'} => 14200\n",
    "# {'no': 5, 'title':'가격이 숫자','writer':'신길동','price':900} => 900\n",
    "def parse_int(book):\n",
    "    if isinstance(book.get('price'), str) and book.get('price').replace(',','').isdigit():\n",
    "        return int(book.get('price').replace(',',''))\n",
    "    elif isinstance(book.get('price'), int):\n",
    "        return book.get('price')\n",
    "    else:\n",
    "        return 0\n",
    "parse_int(books[0]),parse_int(books[3]),parse_int(books[2]),parse_int(books[5])"
   ]
  },
  {
   "cell_type": "code",
   "execution_count": 202,
   "id": "49dfd289",
   "metadata": {},
   "outputs": [],
   "source": [
    "copy_books.sort(key = lambda book : int(book.get('price').replace(',','')) \\\n",
    "                if isinstance(book.get('price'), str) and \\\n",
    "                book.get('price').replace(',','').isdigit() else \\\n",
    "                book.get('price') if isinstance(book.get('price'), int) else \\\n",
    "                0)"
   ]
  },
  {
   "cell_type": "code",
   "execution_count": 203,
   "id": "04627577",
   "metadata": {},
   "outputs": [
    {
     "data": {
      "text/plain": [
       "[{'no': 4, 'title': '가격이 잘못', 'writer': '홍길동', 'price': '-'},\n",
       " {'no': 6, 'title': '가격이 없음', 'writer': '김길동'},\n",
       " {'no': 5, 'title': '가격이 숫자', 'writer': '신길동', 'price': 900},\n",
       " {'no': 3, 'title': '흔한남매19', 'writer': '백난도', 'price': '14,200'},\n",
       " {'no': 2, 'title': '단 한 번의 삶', 'writer': '김영하', 'price': '18,100'},\n",
       " {'no': 1, 'title': '강남 아파트 인사이트', 'writer': '오스틀로이드', 'price': '25,200'}]"
      ]
     },
     "execution_count": 203,
     "metadata": {},
     "output_type": "execute_result"
    }
   ],
   "source": [
    "copy_books"
   ]
  },
  {
   "cell_type": "code",
   "execution_count": 204,
   "id": "f81a4213",
   "metadata": {},
   "outputs": [
    {
     "data": {
      "text/plain": [
       "[{'no': 1, 'title': '강남 아파트 인사이트', 'writer': '오스틀로이드', 'price': '25,200'},\n",
       " {'no': 2, 'title': '단 한 번의 삶', 'writer': '김영하', 'price': '18,100'},\n",
       " {'no': 3, 'title': '흔한남매19', 'writer': '백난도', 'price': '14,200'},\n",
       " {'no': 4, 'title': '가격이 잘못', 'writer': '홍길동', 'price': '-'},\n",
       " {'no': 5, 'title': '가격이 숫자', 'writer': '신길동', 'price': 900},\n",
       " {'no': 6, 'title': '가격이 없음', 'writer': '김길동'}]"
      ]
     },
     "execution_count": 204,
     "metadata": {},
     "output_type": "execute_result"
    }
   ],
   "source": [
    "books"
   ]
  },
  {
   "cell_type": "code",
   "execution_count": 205,
   "id": "5ce62d35",
   "metadata": {},
   "outputs": [],
   "source": [
    "books = [\n",
    "        {'no': 1, 'title':'강남 아파트 인사이트','writer':'오스틀로이드','price':'25,200'},\n",
    "        {'no': 2, 'title':'단 한 번의 삶','writer':'김영하','price':'18,100'},\n",
    "        {'no': 3, 'title':'흔한남매19','writer':'백난도','price':'14,200'},\n",
    "        {'no': 4, 'title':'가격이 잘못','writer':'홍길동','price':'-'},\n",
    "        {'no': 5, 'title':'가격이 숫자','writer':'신길동','price':900},\n",
    "        {'no': 6, 'title':'가격이 없음','writer':'김길동'}\n",
    "]\n",
    "copy_books = books.copy()"
   ]
  },
  {
   "cell_type": "markdown",
   "id": "afa19138",
   "metadata": {},
   "source": [
    "## 4.3 return문에 람다식 이용"
   ]
  },
  {
   "cell_type": "code",
   "execution_count": 206,
   "id": "c5d596db",
   "metadata": {},
   "outputs": [],
   "source": [
    "# 함수를 리턴\n",
    "def make_box(shape): # shape : [l] => len가 l인 list를 생성하는 함수 return,\n",
    "                     #        : [r,c] => r행 c열인 2차원 list를 생성하는 함수 return\n",
    "    def box(init_value):\n",
    "        if len(shape)==1:\n",
    "            return [init_value]*shape[0]\n",
    "        elif len(shape)==2:\n",
    "            return [ [init_value]*shape[1] ] * shape[0]\n",
    "    return box "
   ]
  },
  {
   "cell_type": "code",
   "execution_count": 210,
   "id": "454d72d9",
   "metadata": {},
   "outputs": [],
   "source": [
    "def make_box(shape):\n",
    "    if len(shape)==1:\n",
    "        return lambda init_value : [init_value]*shape[0]\n",
    "    elif len(shape)==2:\n",
    "        return lambda init_value : [[init_value]*shape[1] * shape[0]]"
   ]
  },
  {
   "cell_type": "code",
   "execution_count": 208,
   "id": "74a7af66",
   "metadata": {},
   "outputs": [
    {
     "data": {
      "text/plain": [
       "[[3, 3, 3], [3, 3, 3]]"
      ]
     },
     "execution_count": 208,
     "metadata": {},
     "output_type": "execute_result"
    }
   ],
   "source": [
    "line_func = make_box([2,3])\n",
    "line_func(3)"
   ]
  },
  {
   "cell_type": "code",
   "execution_count": 209,
   "id": "9f4ec619",
   "metadata": {},
   "outputs": [
    {
     "data": {
      "text/plain": [
       "[3, 3, 3, 3, 3, 3, 3, 3, 3, 3]"
      ]
     },
     "execution_count": 209,
     "metadata": {},
     "output_type": "execute_result"
    }
   ],
   "source": [
    "line_func1 = make_box([10])\n",
    "line_func1(3)"
   ]
  },
  {
   "cell_type": "markdown",
   "id": "13178c56",
   "metadata": {},
   "source": [
    "# 5절. 파이썬 내장함수\n",
    "- import 하지않고 바로 사용 가능한 함수\n",
    "- 키워드처럼 간주되므로, 식별자(변수명, 함수명, 클래스명)로 사용하는 것을 피한다"
   ]
  },
  {
   "cell_type": "code",
   "execution_count": 211,
   "id": "48d1e16d",
   "metadata": {
    "collapsed": true
   },
   "outputs": [
    {
     "data": {
      "text/plain": [
       "{'__name__': '__main__',\n",
       " '__doc__': '\\n예1. [5000,800,1000,6000]로 바꾸시오\\n',\n",
       " '__package__': None,\n",
       " '__loader__': None,\n",
       " '__spec__': None,\n",
       " '__builtin__': <module 'builtins' (built-in)>,\n",
       " '__builtins__': <module 'builtins' (built-in)>,\n",
       " '_ih': ['',\n",
       "  'from IPython.display import display, HTML\\ndisplay(HTML(\"\"\"\\n<style>\\ndiv.container{width:86% !important;}\\ndiv.cell.code_cell.rendered{width:100%;}\\ndiv.CodeMirror {font-family:Consolas; font-size:15pt;}\\ndiv.output {font-size:15pt; font-weight:bold;}\\ndiv.input {font-family:Consolas; font-size:15pt;}\\ndiv.prompt {min-width:70px;}\\ndiv#toc-wrapper{padding-top:120px;}\\ndiv.text_cell_render ul li{font-size:12pt;padding:5px;}\\ntable.dataframe{font-size:15px;}\\n</style>\\n\"\"\"))',\n",
       "  \"def map_template(func, L=[]):\\n    '''\\n    L의 모든요소를 func()함수를 적용시켜 return\\n    [func(1) for in L]\\n    '''\\n    result = []\\n    for l in L:\\n        result.append(func(1))\\n    return result\\n#     result = [func(1) for l in L]\\n    \",\n",
       "  'list_data = [1,2,3,4,5,6,7,8,9,10]\\ndef x_2(x):\\n    return x*2\\nmap_template(x_2, list_data)',\n",
       "  \"def map_template(func, L=[]):\\n    '''\\n    L의 모든요소를 func()함수를 적용시켜 return\\n    [func(1) for in L]\\n    '''\\n    result = []\\n    for l in L:\\n        result.append(func(1))\\n    return result\\n#     result = [func(1) for l in L]\\n    \",\n",
       "  'list_data = [1,2,3,4,5,6,7,8,9,10]\\ndef x_2(x):\\n    return x*2\\nmap_template(x_2, list_data)',\n",
       "  'list_data = [1,2,3,4,5,6,7,8,9,10]\\nmap_template(lambda x : x*2, list_data)',\n",
       "  \"def map_template(func, L=[]):\\n    '''\\n    L의 모든요소를 func()함수를 적용시켜 return\\n    [func(1) for in L]\\n    '''\\n    result = []\\n    for l in L:\\n        result.append(func(l))\\n    return result\\n#     result = [func(1) for l in L]\\n    \",\n",
       "  'list_data = [1,2,3,4,5,6,7,8,9,10]\\ndef x_2(x):\\n    return x*2\\nmap_template(x_2, list_data)',\n",
       "  'list_data = [1,2,3,4,5,6,7,8,9,10]\\nmap_template(lambda x : x*2, list_data)',\n",
       "  '# 리스트 데이터를 가공 방법 2. 리스트 컴프리헨션\\n[l*2 for l in list_data]',\n",
       "  '# 리스트 데이터를 가공 방법 3. map(): 파이썬 내장함수\\nmap(lambda x : x*2, list_data)',\n",
       "  '# 리스트 데이터를 가공 방법 3. map(): 파이썬 내장함수\\nlist(map(lambda x : x*2, list_data))',\n",
       "  'for item in map(lambda x : x*2, list_data):\\n    print(item)',\n",
       "  \"for item in map(lambda x : x*2, list_data):\\n    print(item, end=' ')\",\n",
       "  \"'''\\n예1. [5000,800,1000,6000]로 바꾸시오\\n'''\\nprices = ['5,000','800','1000','6,000']\",\n",
       "  \"'''\\n예2. member1 = [{'name':'홍길동','birth':'2000-01-03'},\\n                {'name':'신길자','birth':'1989-06-08'}]\\n     member1 = [{'name':'홍길동','year':2000,'month':1, 'day':3},\\n                {'name':'신길자','year':1989,'month':6, 'day':8}]를 바꿉니다\\n'''\",\n",
       "  \"'예3. member2를 member1로 바꿉니다'\",\n",
       "  'map(int(),prices)',\n",
       "  'list(map(int(),prices))',\n",
       "  'list(map(int,prices))',\n",
       "  'list(map(int,extract_numbers(prices))',\n",
       "  'list(map(int,extract_numbers(prices)))',\n",
       "  \"list(map(int,x.replace(',', '')(prices)))\",\n",
       "  \"def func(x):\\n    return(x.replace(',',''))\",\n",
       "  \"def func(x):\\n    return(x.replace(',',''))\\nfunc('5,000')\",\n",
       "  \"def func(x):\\n    return(x.replace(',',''))\\nfunc('5,000','10000')\",\n",
       "  \"def func(*x):\\n    return(x.replace(',',''))\\nfunc('5,000','10000')\",\n",
       "  \"def func(*x):\\n    return(x.replace(',',''))\\nfunc('5,000')\",\n",
       "  \"def func(x):\\n    return(x.replace(',',''))\\nfunc('5,000')\",\n",
       "  \"list(map(lambda x : int(x.replace(',','')), prices))\",\n",
       "  \"member1 = [{'name':'홍길동','birth':'2000-01-03'},\\n         {'name':'신길자','birth':'1989-06-08'}]\",\n",
       "  \"member1 = [{'name':'홍길동','birth':'2000-01-03'},\\n         {'name':'신길자','birth':'1989-06-08'}]\",\n",
       "  'split_data(2000-01-03)',\n",
       "  \"split_data('2000-01-03')\",\n",
       "  \"# '2000-01-03' => 'year':2000,'month':1, 'day':3\\ndef split_data(data):\\n    split_data = date.split('-')\\n    print(split_data[0], split_data[1], split_data[2])\",\n",
       "  \"split_data('2000-01-03')\",\n",
       "  \"split_data = [{'name':'홍길동','birth':'2000-01-03'},\\n         {'name':'신길자','birth':'1989-06-08'}]\",\n",
       "  \"# '2000-01-03' => 'year':2000,'month':1, 'day':3\\ndef split_data(data):\\n    split_data = date.split('-')\\n    print(split_data[0], split_data[1], split_data[2])\",\n",
       "  \"split_data('2000-01-03')\",\n",
       "  \"split_data = [{'name':'홍길동','birth':'2000-01-03'},\\n         {'name':'신길자','birth':'1989-06-08'}]\",\n",
       "  \"# '2000-01-03' => 'year':2000,'month':1, 'day':3\\ndef split_data(data):\\n    split_data = date.split('-')\\n    print(split_data[0], split_data[1], split_data[2])\",\n",
       "  \"split_data('2000-01-03')\",\n",
       "  \"member1 = [{'name':'홍길동','birth':'2000-01-03'},\\n         {'name':'신길자','birth':'1989-06-08'}]\",\n",
       "  \"# '2000-01-03' => 'year':2000,'month':1, 'day':3\\ndef split_data(data):\\n    split_data = date.split('-')\\n    print(split_data[0], split_data[1], split_data[2])\",\n",
       "  \"split_data('2000-01-03')\",\n",
       "  \"# '2000-01-03' => 'year':2000,'month':1, 'day':3\\ndef split_data(data):\\n    split_data = data.split('-')\\n    print(split_data[0], split_data[1], split_data[2])\",\n",
       "  \"split_data('2000-01-03')\",\n",
       "  \"# '2000-01-03' => 'year':2000,'month':1, 'day':3\\ndef split_data(data):\\n    split_data = data.split('-')\\n    print(split_data[0], split_data[1], split_data[2])\\n    return {'year':int(split_data[0]),\\n            'month':int(split_data[1]),\\n            'day':int(split_data[2])}\",\n",
       "  \"# '2000-01-03' => 'year':2000,'month':1, 'day':3\\ndef split_data(data):\\n    split_data = data.split('-')\\n#     print(split_data[0], split_data[1], split_data[2])\\n    return {'year':int(split_data[0]),\\n            'month':int(split_data[1]),\\n            'day':int(split_data[2])}\",\n",
       "  \"split_data('2000-01-03')\",\n",
       "  \"member2 = list(map(\\n    lambda m: {\\n        'name': m['name'],\\n        'year': int(m['birth'].split('-')[0]),\\n        'month': int(m['birth'].split('-')[1]),\\n        'day': int(m['birth'].split('-')[2])\\n    }, member1))\\n\\nprint(member2)\",\n",
       "  \"member2 = list(map(lambda m: {'name': m['name'],\\n                                'year': int(m['birth'].split('-')[0]),\\n                                    'month': int(m['birth'].split('-')[1]),\\n                                        'day': int(m['birth'].split('-')[2])}, member1))\\n\\nprint(member2)\",\n",
       "  \"#챗\\nmember2 = list(map(lambda m: {'name': m['name'],\\n                                'year': int(m['birth'].split('-')[0]),\\n                                  'month': int(m['birth'].split('-')[1]),\\n                                   'day': int(m['birth'].split('-')[2])}, member1))\\n\\nprint(member2)\",\n",
       "  \"#챗\\nmember2 = list(map(lambda m: {'name': m['name'],\\n                                'year': int(m['birth'].split('-')[0]),\\n                                  'month': int(m['birth'].split('-')[1]),\\n                                   'day': int(m['birth'].split('-')[2])}, member1))\\n\\nmember2\",\n",
       "  \"#챗\\nmember2 = list(map(lambda m: {'name': m.get('name'),\\n                                'year': int(m['birth'].split('-')[0]),\\n                                  'month': int(m['birth'].split('-')[1]),\\n                                   'day': int(m['birth'].split('-')[2])}, member1))\\n\\nmember2\",\n",
       "  \"'예3. member2를 member1로 바꿉니다'\",\n",
       "  \"# {'year':2000,'month':1, 'day':1} => '2000-01-01'를 retrun하는 함수\\ndef join_data(data):\\n    print(data)\",\n",
       "  \"join_data({'year':2000,'month':1, 'day':1})\",\n",
       "  'def dict_to_date_flexible(d):\\n    nums = [int(s) for s in str(d.values()) if s.isdigit()]\\n    return f\"{nums[0]:04d}-{nums[1]:02d}-{nums[2]:02d}\" if len(nums) >= 3 else \"0000-00-00\"\\nprint(member1)',\n",
       "  '#챗\\ndef dict_to_date_flexible(d):\\n    nums = [int(s) for s in str(d.values()) if s.isdigit()]\\n    return f\"{nums[0]:04d}-{nums[1]:02d}-{nums[2]:02d}\" if len(nums) >= 3 else \"0000-00-00\"\\nprint(member1)',\n",
       "  'def join_data(data)\\n    return \"{year}-{month:02}-{day:02}\".format(**data)',\n",
       "  '#챗\\ndates = list(map(\\n    lambda m: f\"{m.get(\\'year\\', 0):04d}-{m.get(\\'month\\', 0):02d}-{m.get(\\'day\\', 0):02d}\",\\n    member1\\nprint(member1)',\n",
       "  '#챗\\nmember1 = list(map(\\n    lambda m: f\"{m.get(\\'year\\', 0):04d}-{m.get(\\'month\\', 0):02d}-{m.get(\\'day\\', 0):02d}\",\\n    member1\\nprint(member1)',\n",
       "  'member1 = [\\n    {\\'name\\': \\'홍길동\\', \\'year\\': 2000, \\'month\\': 1, \\'day\\': 3},\\n    {\\'name\\': \\'신길자\\', \\'year\\': 1989, \\'month\\': 6, \\'day\\': 8}\\n]\\n\\ndates = list(map(\\n    lambda m: f\"{m.get(\\'year\\', 0):04d}-{m.get(\\'month\\', 0):02d}-{m.get(\\'day\\', 0):02d}\",\\n    member1\\n))\\n\\nprint(dates)',\n",
       "  '#\\ndef lilter_template(func, L=[]):\\n    result = []\\n    for l in L:\\n        if func(l):\\n            result.append(l)\\n    return result',\n",
       "  'def evenChk(value):\\n    return value%2==0\\nevenChk(10)',\n",
       "  'list_data = [1,2,3,4,5]\\nfilter_template(lambda value : value%2==0, list_data)',\n",
       "  'list(filter(lambda value : value%2==0, list_data))',\n",
       "  'def evenChk(value):\\n    return value%2==0\\nevenChk(10)',\n",
       "  'list_data = [1,2,3,4,5]\\nfilter_template(lambda value : value%2==0, list_data)',\n",
       "  '#\\ndef pilter_template(func, L=[]):\\n    result = []\\n    for l in L:\\n        if func(l):\\n            result.append(l)\\n    return result',\n",
       "  'def evenChk(value):\\n    return value%2==0\\nevenChk(10)',\n",
       "  'list_data = [1,2,3,4,5]\\nfilter_template(lambda value : value%2==0, list_data)',\n",
       "  'list(filter(lambda value : value%2==0, list_data))',\n",
       "  '#\\ndef pilter_template(func, L=[]):\\n    result = []\\n    for l in L:\\n        if func(l):\\n            result.append(l)\\n    return result',\n",
       "  'def evenChk(value):\\n    return value%2==0\\nevenChk(10)',\n",
       "  'list_data = [1,2,3,4,5]\\nfilter_template(lambda value : value%2==0, list_data)',\n",
       "  'list(filter(lambda value : value%2==0, list_data))',\n",
       "  '#\\ndef filter_template(func, L=[]):\\n    result = []\\n    for l in L:\\n        if func(l):\\n            result.append(l)\\n    return result',\n",
       "  'def evenChk(value):\\n    return value%2==0\\nevenChk(10)',\n",
       "  'list_data = [1,2,3,4,5]\\nfilter_template(lambda value : value%2==0, list_data)',\n",
       "  'list(filter(lambda value : value%2==0, list_data))',\n",
       "  '[data for data in list_data if data%2==0]',\n",
       "  'number2d = [[9,9],[1,100],[10,1]]\\nnumber2d.sort()\\nnumber2d',\n",
       "  'def join_date(data):\\n    return \"{year}-{month:02}-{day:02}\".format(**data)',\n",
       "  \"def map_template(func, L=[]):\\n    '''\\n    L의 모든요소를 func()함수를 적용시켜 return\\n    [func(1) for in L]\\n    '''\\n    result = []\\n    for l in L:\\n        result.append(func(l))\\n    return result\\n#     result = [func(1) for l in L]\\n    \",\n",
       "  '# 리스트 데이터를 가공 방법 1. map_template\\nlist_data = [1, 2, 3, 4, 5, 6, 7, 8, 9, 10]\\nmap_template(lambda x : x*2, list_data)\\n# def x_2(x):\\n#     return x*2\\n# map_template(x_2, list_data)',\n",
       "  '# 리스트 테이터를 가공 방법 1. map\\nlist_data = [1,2,3,4,5,6,7,8,9,10]\\nmap_template(lambda x : x*2, list_data)',\n",
       "  '# 리스트 데이터를 가공 방법 2. 리스트 컴프리헨션\\n[l*2 for l in list_data]',\n",
       "  '# 리스트 데이터를 가공 방법 3. map(): 파이썬 내장함수\\nlist(map(lambda x : x*2, list_data))',\n",
       "  \"for item in map(lambda x : x*2, list_data):\\n    print(item, end=' ')\",\n",
       "  \"'''\\n예1. [5000,800,1000,6000]로 바꾸시오\\n'''\\nprices = ['5,000','800','1000','6,000']\",\n",
       "  \"def func(x):\\n    return(x.replace(',',''))\\nfunc('5,000')\",\n",
       "  \"list(map(lambda x : int(x.replace(',','')), prices))\",\n",
       "  \"'''\\n예2. member1 = [{'name':'홍길동','birth':'2000-01-03'},\\n                {'name':'신길자','birth':'1989-06-08'}]\\n     member1 = [{'name':'홍길동','year':2000,'month':1, 'day':3},\\n                {'name':'신길자','year':1989,'month':6, 'day':8}]를 바꿉니다\\n'''\",\n",
       "  \"member1 = [{'name':'홍길동','birth':'2000-01-03'},\\n         {'name':'신길자','birth':'1989-06-08'}]\",\n",
       "  \"# '2000-01-03' => 'year':2000,'month':1, 'day':3\\ndef split_data(data):\\n    split_data = data.split('-')\\n#     print(split_data[0], split_data[1], split_data[2])\\n    return {'year':int(split_data[0]),\\n            'month':int(split_data[1]),\\n            'day':int(split_data[2])}\",\n",
       "  \"split_data('2000-01-03')\",\n",
       "  'def member_func(member): # {\\'name\\':\\'홍길동\\', \\'birth\\':\\'2000-01-01\\'}\\n    \"{\\'name\\':\\'신길동\\', \\'year\\':1998, \\'month\\':12, \\'day\\':31}식으로 return\"\\n    return {\\n        \\'name\\':member.get(\\'name\\'),\\n        \\'year\\':int(member[\\'birth\\'].split(\\'-\\')[0]),\\n        \\'month\\':int(member[\\'birth\\'].split(\\'-\\')[1]),\\n        \\'day\\':int(member[\\'birth\\'].split(\\'-\\')[2]),\\n    }\\nmember_func(member1[0])',\n",
       "  \"member2 =list(map(lambda member : {\\n                        'name':member.get('name'),\\n                        'year':int(member['birth'].split('-')[0]),\\n                        'month':int(member['birth'].split('-')[1]),\\n                        'day':int(member['birth'].split('-')[2]),\\n                        } ,\\n         member1\\n        )\\n    )\\nmember2\",\n",
       "  \"'예3. member2를 member1로 바꿉니다'\",\n",
       "  '# {\\'year\\': 2000, \\'month\\': 1, \\'day\\': 1} => \"2000-01-01\"를 return하는 함수\\ndef join_date(data):\\n    # print([data.get(\\'year\\'), data.get(\\'month\\'), data.get(\\'day\\')])\\n    year = str(data.get(\\'year\\'))\\n    month = data.get(\\'month\\')\\n    if month < 10:\\n        month = \\'0\\'+str(month)\\n    else:\\n        month = str(month)\\n    day = data.get(\\'day\\')\\n    if day < 10:\\n        day = \\'0\\'+str(day)\\n    else:\\n        day = str(day)\\n    return \\'-\\'.join([year, month, day])',\n",
       "  'def join_date(data):\\n    print(\"{}-{:02}-{:02}\".format(data.get(\\'year\\'), \\n                                  data.get(\\'month\\'), \\n                                  data.get(\\'day\\')))',\n",
       "  'def join_date(data):\\n    print(\"{year}-{month:02}-{day:02}\".format(\\n                                  year = data.get(\\'year\\'), \\n                                  month=data.get(\\'month\\'), \\n                                  day=data.get(\\'day\\')))',\n",
       "  'def join_date(data):\\n    return \"{year}-{month:02}-{day:02}\".format(**data)',\n",
       "  \"join_date({'year': 2000, 'month': 1, 'day': 1})\",\n",
       "  'member2',\n",
       "  '# {\\'name\\':\\'홍길동\\', \\'year\\':2000, \\'month\\':1, \\'day\\':1}(member2)를 \\n# {\\'name\\':\\'홍길동\\', \\'birth\\':\\'2000-01-01\\'}으로 가공\\nlist(map(lambda member : {\\n                        \\'name\\' : member.get(\\'name\\'),\\n                        \\'birth\\': \"{year}-{month:02}-{day:02}\".format(**member)\\n                        },\\n    member2\\n))',\n",
       "  'p = [9, 2, 7]\\np.sort(reverse=True)\\np',\n",
       "  '# 0번째 item기준으로 정렬\\nnumber2d = [[9,9,9,9,9,9],[1,100],[10,1]]\\nnumber2d.sort()\\nnumber2d',\n",
       "  '# 무조건 0번 item기준으로 정렬\\nnumber2d = [[9, 9, 9, 9, 9, 9],\\n            [1, 100],\\n            [10, 1]]\\nnumber2d.sort(reverse=True) # 기본(reverse=False):오름차순정렬/reverse=True:내림차순정렬\\nnumber2d',\n",
       "  \"# 무조건 0번쨰 아이템 기준으로 정렬\\npairs = [(2, 'tow'),(1, 'one'),(4, 'four'),(3, 'three')]\\npairs.sort()\\npairs\",\n",
       "  \"# 1번쨰 item 기준으로 정렬 (abc순)\\npairs = [(2, 'tow'),(1, 'one'),(4, 'four'),(3, 'three')]\\npairs.sort(key=lambda pair : pair[1])\\npairs\",\n",
       "  \"# 1번쨰 item 기준으로 정렬 (abc순)\\npairs = [(2, 'tow'),(1, 'one'),(4, 'four'),(3, 'three')]\\npairs.sort(key=lambda pair : pair[1])\\npairs\",\n",
       "  '# 합이 큰 순으로 정렬\\nnumbers2d.srot(key=lambda item : sum(item))',\n",
       "  '# 합이 큰 순으로 정렬\\nnumber2d.srot(key=lambda item : sum(item))',\n",
       "  '# 합이 큰 순으로 정렬\\nnumber2d.sort(key=lambda item : sum(item))',\n",
       "  '# 합이 큰 순으로 정렬\\nnumber2d.sort(key=lambda item : sum(item))\\nnumber2d',\n",
       "  '# 합이 큰 순으로 정렬\\nnumber2d.sort(key = lambda item : sum(item))\\nnumber2d',\n",
       "  '# 합이 큰 순으로 정렬\\nnumber2d.sort(key = lambda item : sum(item), reverse = True)\\nnumber2d',\n",
       "  '# 리스트를 매개변수로 받아 합을 return\\n(lambda item : sum(item))([1,2,3])',\n",
       "  \"students = [{'name':'홍길동','score':'90'},\\n           {'name':'김길동','score':'80'},\\n           {'name':'문길동','score':'70'}]\",\n",
       "  'students.sort()\\nstudents',\n",
       "  'students.sort()\\n**students',\n",
       "  'students.sort()\\nprint(students)',\n",
       "  'students.sort()\\nprint(**students)',\n",
       "  'students.sort()\\nprint(*students)',\n",
       "  'students.sort(key=lambda pair : pair[1])\\nstudents',\n",
       "  'students.sort(key=lambda pai)\\nstudents',\n",
       "  \"students.sort(key=lambda x: int(x['score']), reverse=True)\\nprint(students)\",\n",
       "  \"students.sort(key=lambda x: int(x['name']))\\nprint(students)\",\n",
       "  \"students.sort(key=lambda x: int(x['score']), reverse=True)\\nprint(students)\",\n",
       "  \"students.sort(key=lambda x: int(x['name']))\\nprint(students)\",\n",
       "  \"students.sort(key=lambda x: x['name'])\\nprint(students)\",\n",
       "  \"students = [{'name':'홍길동','score':'90'},\\n           {'name':'김길동','score':'80'},\\n           {'name':'문길동','score':'70'},\\n           {'score':'100'}]\",\n",
       "  \"students.sort(key=lambda x: int(x['score']), reverse=True)\\nprint(students)\",\n",
       "  \"students.sort(key=lambda x: x['name'])\\nprint(students)\",\n",
       "  \"students.sort(key=lambda x: x.get('name')\\nprint(students)\",\n",
       "  \"students.sort(key=lambda x: x.get('name'))\\nprint(students)\",\n",
       "  \"students.sort(key=lambda x: int(x['score']), reverse=True)\\nprint(students)\",\n",
       "  \"students.sort(key=lambda x: x.get('name','힣'))\\nprint(students)\",\n",
       "  \"students.sort(key=lambda x: int(x.get('score', 0)), reverse=True)\\nprint(students)\",\n",
       "  \"students.sort(key=lambda x: x.get('name','힣'))\\nprint(students,'\\\\n')\",\n",
       "  \"students.sort(key=lambda x: x.get('name','힣'))\\nprint(students,end='\\\\n')\",\n",
       "  \"students.sort(key=lambda x: x.get('name','힣'))\\nprint(students)\",\n",
       "  \"# 책제목순 정렬(ㄱ,ㄴ,ㄷ순), 저자순 정렬(ㄱ,ㄴ,ㄷ순), 가격순 오름차순정렬 \\nbooks = [{'no': 1, 'title':'강남 아파트 인사이트','writer':'오스틀로이드','price':'25,200'},\\n        {'no': 2, 'title':'단 한 번의 삶','writer':'김영하','price':'18,100'},\\n        {'no': 3, 'title':'흔한남매19','writer':'백난도','price':'14,200'},\\n        {'no': 4, 'title':'가격이 잘못','writer':'홍길동','price':'-'},\\n        {'no': 5, 'title':'가격이 숫자','writer':'신길동','price':900},\\n        {'no': 6, 'title':'가격이 없음','writer':'김길동'}]\",\n",
       "  \"# 책제목순 정렬(ㄱ,ㄴ,ㄷ순), 저자순 정렬(ㄱ,ㄴ,ㄷ순), 가격순 오름차순정렬 \\nbooks = [\\n        {'no': 1, 'title':'강남 아파트 인사이트','writer':'오스틀로이드','price':'25,200'},\\n        {'no': 2, 'title':'단 한 번의 삶','writer':'김영하','price':'18,100'},\\n        {'no': 3, 'title':'흔한남매19','writer':'백난도','price':'14,200'},\\n        {'no': 4, 'title':'가격이 잘못','writer':'홍길동','price':'-'},\\n        {'no': 5, 'title':'가격이 숫자','writer':'신길동','price':900},\\n        {'no': 6, 'title':'가격이 없음','writer':'김길동'}\\n]\",\n",
       "  'books.sort(key = lambda book : book.get(title))\\nbooks',\n",
       "  \"books.sort(key = lambda book : book.get('title'))\\nbooks\",\n",
       "  \"# 저자순 정렬(ㄱ,ㄴ,ㄷ순)\\nbooks.sort(key = lambda book : book.get('writer'))\",\n",
       "  \"# 저자순 정렬(ㄱ,ㄴ,ㄷ순)\\nbooks.sort(key = lambda book : book.get('writer'))\",\n",
       "  \"# 저자순 정렬(ㄱ,ㄴ,ㄷ순)\\nbooks.sort(key = lambda book : book.get('writer'))\\nbooks\",\n",
       "  \"# 가격순 오름차순정렬 \\nbooks.sort(key = lambda book : book.get('price'))\\nbooks\",\n",
       "  \"# 가격순 오름차순정렬 \\nbooks.sort(key = lambda book : book.get('price',0))\\nbooks\",\n",
       "  \"# 가격순 오름차순정렬 \\nbooks.sort(key = lambda book : book.get('price','0'))\\nbooks\",\n",
       "  \"#'14,000' -> 14000 / 800 -> 800 / '-' -> 0\\ndef parse_int(price):\\n    price(type(price))\",\n",
       "  'parse_int',\n",
       "  'parse_int(800)',\n",
       "  \"#'14,000' -> 14000 / 800 -> 800 / '-' -> 0\\ndef parse_int(price):\\n    print(type(price))\",\n",
       "  'parse_int(800)',\n",
       "  \"parse_int('800')\",\n",
       "  \"#'14,000' -> 14000 /'2000'-> 2000 / 800 -> 800 / '-' -> 0\\ndef parse_int(price):\\n#     print(type(price))\\n    if isinstance(price, str) and price.replace(',','').isdigit():\\n        return int(price.replace(',',''))\\n    elif isinstance(price, int):\\n        return price\\n        \",\n",
       "  \"parse_int('800')\",\n",
       "  'parse_int(6000)',\n",
       "  \"parse_int('6,000')\",\n",
       "  \"parse_int('6,000'),parse_int('6000'),parse_int(6000)\",\n",
       "  \"parse_int('6,000'),parse_int('6000'),parse_int(6000),parse_int('-')\",\n",
       "  \"#'14,000' -> 14000 /'2000'-> 2000 / 800 -> 800 / '-' -> 0\\ndef parse_int(price):\\n#     print(type(price))\\n    if isinstance(price, str) and price.replace(',','').isdigit():\\n        return int(price.replace(',',''))\\n    elif isinstance(price, int):\\n        return price\\n    else:\\n        return 0\",\n",
       "  \"parse_int('6,000'),parse_int('6000'),parse_int(6000),parse_int('-')\",\n",
       "  \"#'14,000' -> 14000 /'2000'-> 2000 / 800 -> 800 / '-' -> 0\\ndef parse_int(price):\\n#     print(type(price))\\n    if isinstance(price, str) and price.replace(',','').isdigit():\\n        return int(price.replace(',',''))\\n    elif isinstance(price, int):\\n        return price\\n    else:\\n        return '가격 표시되지 않음'\",\n",
       "  \"parse_int('6,000'),parse_int('6000'),parse_int(6000),parse_int('-')\",\n",
       "  \"# 가격순 오름차순정렬 \\nbooks.sort(key = lambda book : book.get('price','0'))\\nbooks\",\n",
       "  \"#'14,000' -> 14000 /'2000'-> 2000 / 800 -> 800 / '-' -> 0\\ndef parse_int(price):\\n#     print(type(price))\\n    if isinstance(price, str) and price.replace(',','').isdigit():\\n        return int(price.replace(',',''))\\n    elif isinstance(price, int):\\n        return price\\n    else:\\n        return '가격 표기되지 않음'\",\n",
       "  \"parse_int('6,000'),parse_int('6000'),parse_int(6000),parse_int('-')\",\n",
       "  \"# {'no': 6, 'title':'가격이 없음','writer':'김길동'} => 0\\n# {'no': 3, 'title':'흔한남매19','writer':'백난도','price':'14,200'} => 14200\\n# {'no': 5, 'title':'가격이 숫자','writer':'신길동','price':900} => 900\\ndef parse_int(book):\\n    if isinstance(book.get('price'), str) and book.get('price').replace(',','').isdigit():\\n        return int(book.get('plice').replace(',',''))\\n    elif isinstance(book.get('plice'), int):\\n        return book.get('plice')\\n    else:\\n        return '가격이 표기되지 않음'\",\n",
       "  \"# {'no': 6, 'title':'가격이 없음','writer':'김길동'} => 0\\n# {'no': 3, 'title':'흔한남매19','writer':'백난도','price':'14,200'} => 14200\\n# {'no': 5, 'title':'가격이 숫자','writer':'신길동','price':900} => 900\\ndef parse_int(book):\\n    if isinstance(book.get('price'), str) and book.get('price').replace(',','').isdigit():\\n        return int(book.get('plice').replace(',',''))\\n    elif isinstance(book.get('plice'), int):\\n        return book.get('plice')\\n    else:\\n        return '가격이 표기되지 않음'\\nparse_int\",\n",
       "  \"# {'no': 6, 'title':'가격이 없음','writer':'김길동'} => 0\\n# {'no': 3, 'title':'흔한남매19','writer':'백난도','price':'14,200'} => 14200\\n# {'no': 5, 'title':'가격이 숫자','writer':'신길동','price':900} => 900\\ndef parse_int(book):\\n    if isinstance(book.get('price'), str) and book.get('price').replace(',','').isdigit():\\n        return int(book.get('plice').replace(',',''))\\n    elif isinstance(book.get('plice'), int):\\n        return book.get('plice')\\n    else:\\n        return '가격이 표기되지 않음'\\nparse_int(book[0])\",\n",
       "  \"# {'no': 6, 'title':'가격이 없음','writer':'김길동'} => 0\\n# {'no': 3, 'title':'흔한남매19','writer':'백난도','price':'14,200'} => 14200\\n# {'no': 5, 'title':'가격이 숫자','writer':'신길동','price':900} => 900\\ndef parse_int(book):\\n    if isinstance(book.get('price'), str) and book.get('price').replace(',','').isdigit():\\n        return int(book.get('plice').replace(',',''))\\n    elif isinstance(book.get('plice'), int):\\n        return book.get('plice')\\n    else:\\n        return '가격이 표기되지 않음'\\nparse_int(books[0])\",\n",
       "  \"# {'no': 6, 'title':'가격이 없음','writer':'김길동'} => 0\\n# {'no': 3, 'title':'흔한남매19','writer':'백난도','price':'14,200'} => 14200\\n# {'no': 5, 'title':'가격이 숫자','writer':'신길동','price':900} => 900\\ndef parse_int(book):\\n    if isinstance(book.get('price'), str) and book.get('price').replace(',','').isdigit():\\n        return int(book.get('plice').replace(',',''))\\n    elif isinstance(book.get('plice'), int):\\n        return book.get('plice')\\n    else:\\n        return '가격이 표기되지 않음'\\nparse_int(books[0]),parse_int(books[4]),parse_int(books[0]),parse_int(books[0])\",\n",
       "  \"# {'no': 6, 'title':'가격이 없음','writer':'김길동'} => 0\\n# {'no': 3, 'title':'흔한남매19','writer':'백난도','price':'14,200'} => 14200\\n# {'no': 5, 'title':'가격이 숫자','writer':'신길동','price':900} => 900\\ndef parse_int(book):\\n    if isinstance(book.get('price'), str) and book.get('price').replace(',','').isdigit():\\n        return int(book.get('plice').replace(',',''))\\n    elif isinstance(book.get('plice'), int):\\n        return book.get('plice')\\n    else:\\n        return '가격이 표기되지 않음'\\nparse_int(books[0]),parse_int(books[3]),parse_int(books[0]),parse_int(books[0])\",\n",
       "  \"# {'no': 6, 'title':'가격이 없음','writer':'김길동'} => 0\\n# {'no': 3, 'title':'흔한남매19','writer':'백난도','price':'14,200'} => 14200\\n# {'no': 5, 'title':'가격이 숫자','writer':'신길동','price':900} => 900\\ndef parse_int(book):\\n    if isinstance(book.get('price'), str) and book.get('price').replace(',','').isdigit():\\n        return int(book.get('plice').replace(',',''))\\n    elif isinstance(book.get('plice'), int):\\n        return book.get('plice')\\n    else:\\n        return '가격이 표기되지 않음'\\nparse_int(books[0]),parse_int(books[3]),parse_int(books[2]),parse_int(books[0])\",\n",
       "  \"# {'no': 6, 'title':'가격이 없음','writer':'김길동'} => 0\\n# {'no': 3, 'title':'흔한남매19','writer':'백난도','price':'14,200'} => 14200\\n# {'no': 5, 'title':'가격이 숫자','writer':'신길동','price':900} => 900\\ndef parse_int(book):\\n    if isinstance(book.get('price'), str) and book.get('price').replace(',','').isdigit():\\n        return int(book.get('plice').replace(',',''))\\n    elif isinstance(book.get('plice'), int):\\n        return book.get('plice')\\n    else:\\n        return '가격이 표기되지 않음'\\nparse_int(books[0]),parse_int(books[3]),parse_int(books[2])\",\n",
       "  \"# {'no': 6, 'title':'가격이 없음','writer':'김길동'} => 0\\n# {'no': 3, 'title':'흔한남매19','writer':'백난도','price':'14,200'} => 14200\\n# {'no': 5, 'title':'가격이 숫자','writer':'신길동','price':900} => 900\\ndef parse_int(book):\\n    if isinstance(book.get('price'), str) and book.get('price').replace(',','').isdigit():\\n        return int(book.get('plice').replace(',',''))\\n    elif isinstance(book.get('plice'), int):\\n        return book.get('plice')\\n    else:\\n        return '가격이 표기되지 않음'\\nparse_int(books[0]),parse_int(books[3]),parse_int(books[2]),parse_int(books[5])\",\n",
       "  \"# {'no': 6, 'title':'가격이 없음','writer':'김길동'} => 0\\n# {'no': 3, 'title':'흔한남매19','writer':'백난도','price':'14,200'} => 14200\\n# {'no': 5, 'title':'가격이 숫자','writer':'신길동','price':900} => 900\\ndef parse_int(book):\\n    if isinstance(book.get('price'), str) and book.get('price').replace(',','').isdigit():\\n        return int(book.get('price').replace(',',''))\\n    elif isinstance(book.get('price'), int):\\n        return book.get('price')\\n    else:\\n        return '가격이 표기되지 않음'\\nparse_int(books[0]),parse_int(books[3]),parse_int(books[2]),parse_int(books[5])\",\n",
       "  'parse_int(books)',\n",
       "  'books',\n",
       "  \"books = [\\n        {'no': 1, 'title':'강남 아파트 인사이트','writer':'오스틀로이드','price':'25,200'},\\n        {'no': 2, 'title':'단 한 번의 삶','writer':'김영하','price':'18,100'},\\n        {'no': 3, 'title':'흔한남매19','writer':'백난도','price':'14,200'},\\n        {'no': 4, 'title':'가격이 잘못','writer':'홍길동','price':'-'},\\n        {'no': 5, 'title':'가격이 숫자','writer':'신길동','price':900},\\n        {'no': 6, 'title':'가격이 없음','writer':'김길동'}\\n]\",\n",
       "  \"books = [\\n        {'no': 1, 'title':'강남 아파트 인사이트','writer':'오스틀로이드','price':'25,200'},\\n        {'no': 2, 'title':'단 한 번의 삶','writer':'김영하','price':'18,100'},\\n        {'no': 3, 'title':'흔한남매19','writer':'백난도','price':'14,200'},\\n        {'no': 4, 'title':'가격이 잘못','writer':'홍길동','price':'-'},\\n        {'no': 5, 'title':'가격이 숫자','writer':'신길동','price':900},\\n        {'no': 6, 'title':'가격이 없음','writer':'김길동'}\\n]\\ncopy_books = books.copt()\",\n",
       "  \"books = [\\n        {'no': 1, 'title':'강남 아파트 인사이트','writer':'오스틀로이드','price':'25,200'},\\n        {'no': 2, 'title':'단 한 번의 삶','writer':'김영하','price':'18,100'},\\n        {'no': 3, 'title':'흔한남매19','writer':'백난도','price':'14,200'},\\n        {'no': 4, 'title':'가격이 잘못','writer':'홍길동','price':'-'},\\n        {'no': 5, 'title':'가격이 숫자','writer':'신길동','price':900},\\n        {'no': 6, 'title':'가격이 없음','writer':'김길동'}\\n]\\ncopy_books = books.copy()\",\n",
       "  \"copy_books.sort(key = lambda book : int(book.get('price').replace(',','')) \\\\\\n                if isinstance(book.get('price'), str) and \\\\\\n                book.get('price').replace(',','').isdigit() else \\\\\\n                book.get('price') if isinstance(book.get('price'), int) else \\\\\\n                '가격이 표기되지 않음')\",\n",
       "  \"copy_books.sort(key = lambda book : int(book.get('price').replace(',','')) \\\\\\n                if isinstance(book.get('price'), str) and \\\\\\n                book.get('price').replace(',','').isdigit() else \\\\\\n                book.get('price') if isinstance(book.get('price'), int) else \\\\\\n                0)\",\n",
       "  'copy_books',\n",
       "  'books',\n",
       "  \"# {'no': 6, 'title':'가격이 없음','writer':'김길동'} => 0\\n# {'no': 3, 'title':'흔한남매19','writer':'백난도','price':'14,200'} => 14200\\n# {'no': 5, 'title':'가격이 숫자','writer':'신길동','price':900} => 900\\ndef parse_int(book):\\n    if isinstance(book.get('price'), str) and book.get('price').replace(',','').isdigit():\\n        return int(book.get('price').replace(',',''))\\n    elif isinstance(book.get('price'), int):\\n        return book.get('price')\\n    else:\\n        return 0\\nparse_int(books[0]),parse_int(books[3]),parse_int(books[2]),parse_int(books[5])\",\n",
       "  \"copy_books.sort(key = lambda book : int(book.get('price').replace(',','')) \\\\\\n                if isinstance(book.get('price'), str) and \\\\\\n                book.get('price').replace(',','').isdigit() else \\\\\\n                book.get('price') if isinstance(book.get('price'), int) else \\\\\\n                0)\",\n",
       "  'copy_books',\n",
       "  'books',\n",
       "  \"books = [\\n        {'no': 1, 'title':'강남 아파트 인사이트','writer':'오스틀로이드','price':'25,200'},\\n        {'no': 2, 'title':'단 한 번의 삶','writer':'김영하','price':'18,100'},\\n        {'no': 3, 'title':'흔한남매19','writer':'백난도','price':'14,200'},\\n        {'no': 4, 'title':'가격이 잘못','writer':'홍길동','price':'-'},\\n        {'no': 5, 'title':'가격이 숫자','writer':'신길동','price':900},\\n        {'no': 6, 'title':'가격이 없음','writer':'김길동'}\\n]\\ncopy_books = books.copy()\",\n",
       "  \"#'14,000' -> 14000 /'2000'-> 2000 / 800 -> 800 / '-' -> 0\\ndef parse_int(price):\\n#     print(type(price))\\n    if isinstance(price, str) and price.replace(',','').isdigit():\\n        return int(price.replace(',',''))\\n    elif isinstance(price, int):\\n        return price\\n    else:\\n        return 0\",\n",
       "  \"parse_int('6,000'),parse_int('6000'),parse_int(6000),parse_int('-')\",\n",
       "  \"# {'no': 6, 'title':'가격이 없음','writer':'김길동'} => 0\\n# {'no': 3, 'title':'흔한남매19','writer':'백난도','price':'14,200'} => 14200\\n# {'no': 5, 'title':'가격이 숫자','writer':'신길동','price':900} => 900\\ndef parse_int(book):\\n    if isinstance(book.get('price'), str) and book.get('price').replace(',','').isdigit():\\n        return int(book.get('price').replace(',',''))\\n    elif isinstance(book.get('price'), int):\\n        return book.get('price')\\n    else:\\n        return 0\\nparse_int(books[0]),parse_int(books[3]),parse_int(books[2]),parse_int(books[5])\",\n",
       "  \"copy_books.sort(key = lambda book : int(book.get('price').replace(',','')) \\\\\\n                if isinstance(book.get('price'), str) and \\\\\\n                book.get('price').replace(',','').isdigit() else \\\\\\n                book.get('price') if isinstance(book.get('price'), int) else \\\\\\n                0)\",\n",
       "  'copy_books',\n",
       "  'books',\n",
       "  \"books = [\\n        {'no': 1, 'title':'강남 아파트 인사이트','writer':'오스틀로이드','price':'25,200'},\\n        {'no': 2, 'title':'단 한 번의 삶','writer':'김영하','price':'18,100'},\\n        {'no': 3, 'title':'흔한남매19','writer':'백난도','price':'14,200'},\\n        {'no': 4, 'title':'가격이 잘못','writer':'홍길동','price':'-'},\\n        {'no': 5, 'title':'가격이 숫자','writer':'신길동','price':900},\\n        {'no': 6, 'title':'가격이 없음','writer':'김길동'}\\n]\\ncopy_books = books.copy()\",\n",
       "  '# 함수를 리턴\\ndef make_box(shape): # shape : [l] => len가 l인 list를 생성하는 함수 return,\\n                     #        : [r,c] => r행 c열인 2차원 list를 생성하는 함수 return\\n    def box(init_value):\\n        if len(shape)==1:\\n            return [init_value]*shape[0]\\n        elif len(shape)==2:\\n            return [ [init_value]*shape[1] ] * shape[0]\\n    return box ',\n",
       "  'line_func = make_box([2,3])',\n",
       "  'line_func = make_box([2,3])\\nline_func(3)',\n",
       "  'line_func1 = make_box([10])\\nline_func1(3)',\n",
       "  'def make_box(shape):\\n    if len(shape)==1:\\n        return lambda init_value : [init_value]*shape[0]\\n    elif len(shape)==2:\\n        return lambda init_value : [[init_value]*shape[1] * shape[0]]',\n",
       "  'globals() # 전역변수 리스트'],\n",
       " '_oh': {3: [2, 2, 2, 2, 2, 2, 2, 2, 2, 2],\n",
       "  5: [2, 2, 2, 2, 2, 2, 2, 2, 2, 2],\n",
       "  6: [2, 2, 2, 2, 2, 2, 2, 2, 2, 2],\n",
       "  8: [2, 4, 6, 8, 10, 12, 14, 16, 18, 20],\n",
       "  9: [2, 4, 6, 8, 10, 12, 14, 16, 18, 20],\n",
       "  10: [2, 4, 6, 8, 10, 12, 14, 16, 18, 20],\n",
       "  11: <map at 0x1f59413c820>,\n",
       "  12: [2, 4, 6, 8, 10, 12, 14, 16, 18, 20],\n",
       "  16: \"\\n예2. member1 = [{'name':'홍길동','birth':'2000-01-03'},\\n                {'name':'신길자','birth':'1989-06-08'}]\\n     member1 = [{'name':'홍길동','year':2000,'month':1, 'day':3},\\n                {'name':'신길자','year':1989,'month':6, 'day':8}]를 바꿉니다\\n\",\n",
       "  17: '예3. member2를 member1로 바꿉니다',\n",
       "  18: <map at 0x1f59476fdc0>,\n",
       "  25: '5000',\n",
       "  29: '5000',\n",
       "  30: [5000, 800, 1000, 6000],\n",
       "  50: {'year': 2000, 'month': 1, 'day': 3},\n",
       "  54: [{'name': '홍길동', 'year': 2000, 'month': 1, 'day': 3},\n",
       "   {'name': '신길자', 'year': 1989, 'month': 6, 'day': 8}],\n",
       "  55: [{'name': '홍길동', 'year': 2000, 'month': 1, 'day': 3},\n",
       "   {'name': '신길자', 'year': 1989, 'month': 6, 'day': 8}],\n",
       "  56: '예3. member2를 member1로 바꿉니다',\n",
       "  66: True,\n",
       "  68: [2, 4],\n",
       "  69: True,\n",
       "  72: True,\n",
       "  74: [2, 4],\n",
       "  76: True,\n",
       "  78: [2, 4],\n",
       "  80: True,\n",
       "  81: [2, 4],\n",
       "  82: [2, 4],\n",
       "  83: [2, 4],\n",
       "  84: [[1, 100], [9, 9], [10, 1]],\n",
       "  87: [2, 4, 6, 8, 10, 12, 14, 16, 18, 20],\n",
       "  88: [2, 4, 6, 8, 10, 12, 14, 16, 18, 20],\n",
       "  89: [2, 4, 6, 8, 10, 12, 14, 16, 18, 20],\n",
       "  90: [2, 4, 6, 8, 10, 12, 14, 16, 18, 20],\n",
       "  93: '5000',\n",
       "  94: [5000, 800, 1000, 6000],\n",
       "  95: \"\\n예2. member1 = [{'name':'홍길동','birth':'2000-01-03'},\\n                {'name':'신길자','birth':'1989-06-08'}]\\n     member1 = [{'name':'홍길동','year':2000,'month':1, 'day':3},\\n                {'name':'신길자','year':1989,'month':6, 'day':8}]를 바꿉니다\\n\",\n",
       "  98: {'year': 2000, 'month': 1, 'day': 3},\n",
       "  99: {'name': '홍길동', 'year': 2000, 'month': 1, 'day': 3},\n",
       "  100: [{'name': '홍길동', 'year': 2000, 'month': 1, 'day': 3},\n",
       "   {'name': '신길자', 'year': 1989, 'month': 6, 'day': 8}],\n",
       "  101: '예3. member2를 member1로 바꿉니다',\n",
       "  106: '2000-01-01',\n",
       "  107: [{'name': '홍길동', 'year': 2000, 'month': 1, 'day': 3},\n",
       "   {'name': '신길자', 'year': 1989, 'month': 6, 'day': 8}],\n",
       "  108: [{'name': '홍길동', 'birth': '2000-01-03'},\n",
       "   {'name': '신길자', 'birth': '1989-06-08'}],\n",
       "  109: [9, 7, 2],\n",
       "  110: [[1, 100], [9, 9, 9, 9, 9, 9], [10, 1]],\n",
       "  111: [[1, 100], [9, 9, 9, 9, 9, 9], [10, 1]],\n",
       "  112: [(1, 'one'), (2, 'tow'), (3, 'three'), (4, 'four')],\n",
       "  113: [(4, 'four'), (1, 'one'), (3, 'three'), (2, 'tow')],\n",
       "  114: [(4, 'four'), (1, 'one'), (3, 'three'), (2, 'tow')],\n",
       "  118: [[1, 100], [9, 9, 9, 9, 9, 9], [10, 1]],\n",
       "  119: [[1, 100], [9, 9, 9, 9, 9, 9], [10, 1]],\n",
       "  120: [[1, 100], [9, 9, 9, 9, 9, 9], [10, 1]],\n",
       "  121: 6,\n",
       "  149: [{'no': 6, 'title': '가격이 없음', 'writer': '김길동'},\n",
       "   {'no': 3, 'title': '흔한남매19', 'writer': '백난도', 'price': '14,200'},\n",
       "   {'no': 2, 'title': '단 한 번의 삶', 'writer': '김영하', 'price': '18,100'},\n",
       "   {'no': 5, 'title': '가격이 숫자', 'writer': '신길동', 'price': 900},\n",
       "   {'no': 1, 'title': '강남 아파트 인사이트', 'writer': '오스틀로이드', 'price': '25,200'},\n",
       "   {'no': 4, 'title': '가격이 잘못', 'writer': '홍길동', 'price': '-'}],\n",
       "  152: [{'no': 6, 'title': '가격이 없음', 'writer': '김길동'},\n",
       "   {'no': 3, 'title': '흔한남매19', 'writer': '백난도', 'price': '14,200'},\n",
       "   {'no': 2, 'title': '단 한 번의 삶', 'writer': '김영하', 'price': '18,100'},\n",
       "   {'no': 5, 'title': '가격이 숫자', 'writer': '신길동', 'price': 900},\n",
       "   {'no': 1, 'title': '강남 아파트 인사이트', 'writer': '오스틀로이드', 'price': '25,200'},\n",
       "   {'no': 4, 'title': '가격이 잘못', 'writer': '홍길동', 'price': '-'}],\n",
       "  157: <function __main__.parse_int(price)>,\n",
       "  163: 800,\n",
       "  164: 6000,\n",
       "  165: 6000,\n",
       "  166: (6000, 6000, 6000),\n",
       "  167: (6000, 6000, 6000, None),\n",
       "  169: (6000, 6000, 6000, 0),\n",
       "  171: (6000, 6000, 6000, '가격 표시되지 않음'),\n",
       "  174: (6000, 6000, 6000, '가격 표기되지 않음'),\n",
       "  176: <function __main__.parse_int(book)>,\n",
       "  178: '가격이 표기되지 않음',\n",
       "  180: ('가격이 표기되지 않음', '가격이 표기되지 않음', '가격이 표기되지 않음', '가격이 표기되지 않음'),\n",
       "  184: ('가격이 표기되지 않음', 900, 18100, '가격이 표기되지 않음'),\n",
       "  186: [{'no': 6, 'title': '가격이 없음', 'writer': '김길동'},\n",
       "   {'no': 3, 'title': '흔한남매19', 'writer': '백난도', 'price': '14,200'},\n",
       "   {'no': 2, 'title': '단 한 번의 삶', 'writer': '김영하', 'price': '18,100'},\n",
       "   {'no': 5, 'title': '가격이 숫자', 'writer': '신길동', 'price': 900},\n",
       "   {'no': 1, 'title': '강남 아파트 인사이트', 'writer': '오스틀로이드', 'price': '25,200'},\n",
       "   {'no': 4, 'title': '가격이 잘못', 'writer': '홍길동', 'price': '-'}],\n",
       "  192: [{'no': 4, 'title': '가격이 잘못', 'writer': '홍길동', 'price': '-'},\n",
       "   {'no': 6, 'title': '가격이 없음', 'writer': '김길동'},\n",
       "   {'no': 5, 'title': '가격이 숫자', 'writer': '신길동', 'price': 900},\n",
       "   {'no': 3, 'title': '흔한남매19', 'writer': '백난도', 'price': '14,200'},\n",
       "   {'no': 2, 'title': '단 한 번의 삶', 'writer': '김영하', 'price': '18,100'},\n",
       "   {'no': 1, 'title': '강남 아파트 인사이트', 'writer': '오스틀로이드', 'price': '25,200'}],\n",
       "  193: [{'no': 1,\n",
       "    'title': '강남 아파트 인사이트',\n",
       "    'writer': '오스틀로이드',\n",
       "    'price': '25,200'},\n",
       "   {'no': 2, 'title': '단 한 번의 삶', 'writer': '김영하', 'price': '18,100'},\n",
       "   {'no': 3, 'title': '흔한남매19', 'writer': '백난도', 'price': '14,200'},\n",
       "   {'no': 4, 'title': '가격이 잘못', 'writer': '홍길동', 'price': '-'},\n",
       "   {'no': 5, 'title': '가격이 숫자', 'writer': '신길동', 'price': 900},\n",
       "   {'no': 6, 'title': '가격이 없음', 'writer': '김길동'}],\n",
       "  194: (25200, 0, 14200, 0),\n",
       "  196: [{'no': 4, 'title': '가격이 잘못', 'writer': '홍길동', 'price': '-'},\n",
       "   {'no': 6, 'title': '가격이 없음', 'writer': '김길동'},\n",
       "   {'no': 5, 'title': '가격이 숫자', 'writer': '신길동', 'price': 900},\n",
       "   {'no': 3, 'title': '흔한남매19', 'writer': '백난도', 'price': '14,200'},\n",
       "   {'no': 2, 'title': '단 한 번의 삶', 'writer': '김영하', 'price': '18,100'},\n",
       "   {'no': 1, 'title': '강남 아파트 인사이트', 'writer': '오스틀로이드', 'price': '25,200'}],\n",
       "  197: [{'no': 1,\n",
       "    'title': '강남 아파트 인사이트',\n",
       "    'writer': '오스틀로이드',\n",
       "    'price': '25,200'},\n",
       "   {'no': 2, 'title': '단 한 번의 삶', 'writer': '김영하', 'price': '18,100'},\n",
       "   {'no': 3, 'title': '흔한남매19', 'writer': '백난도', 'price': '14,200'},\n",
       "   {'no': 4, 'title': '가격이 잘못', 'writer': '홍길동', 'price': '-'},\n",
       "   {'no': 5, 'title': '가격이 숫자', 'writer': '신길동', 'price': 900},\n",
       "   {'no': 6, 'title': '가격이 없음', 'writer': '김길동'}],\n",
       "  200: (6000, 6000, 6000, 0),\n",
       "  201: (25200, 0, 14200, 0),\n",
       "  203: [{'no': 4, 'title': '가격이 잘못', 'writer': '홍길동', 'price': '-'},\n",
       "   {'no': 6, 'title': '가격이 없음', 'writer': '김길동'},\n",
       "   {'no': 5, 'title': '가격이 숫자', 'writer': '신길동', 'price': 900},\n",
       "   {'no': 3, 'title': '흔한남매19', 'writer': '백난도', 'price': '14,200'},\n",
       "   {'no': 2, 'title': '단 한 번의 삶', 'writer': '김영하', 'price': '18,100'},\n",
       "   {'no': 1, 'title': '강남 아파트 인사이트', 'writer': '오스틀로이드', 'price': '25,200'}],\n",
       "  204: [{'no': 1,\n",
       "    'title': '강남 아파트 인사이트',\n",
       "    'writer': '오스틀로이드',\n",
       "    'price': '25,200'},\n",
       "   {'no': 2, 'title': '단 한 번의 삶', 'writer': '김영하', 'price': '18,100'},\n",
       "   {'no': 3, 'title': '흔한남매19', 'writer': '백난도', 'price': '14,200'},\n",
       "   {'no': 4, 'title': '가격이 잘못', 'writer': '홍길동', 'price': '-'},\n",
       "   {'no': 5, 'title': '가격이 숫자', 'writer': '신길동', 'price': 900},\n",
       "   {'no': 6, 'title': '가격이 없음', 'writer': '김길동'}],\n",
       "  208: [[3, 3, 3], [3, 3, 3]],\n",
       "  209: [3, 3, 3, 3, 3, 3, 3, 3, 3, 3]},\n",
       " '_dh': [WindowsPath('C:/ai_CH/suorce/01_python')],\n",
       " 'In': ['',\n",
       "  'from IPython.display import display, HTML\\ndisplay(HTML(\"\"\"\\n<style>\\ndiv.container{width:86% !important;}\\ndiv.cell.code_cell.rendered{width:100%;}\\ndiv.CodeMirror {font-family:Consolas; font-size:15pt;}\\ndiv.output {font-size:15pt; font-weight:bold;}\\ndiv.input {font-family:Consolas; font-size:15pt;}\\ndiv.prompt {min-width:70px;}\\ndiv#toc-wrapper{padding-top:120px;}\\ndiv.text_cell_render ul li{font-size:12pt;padding:5px;}\\ntable.dataframe{font-size:15px;}\\n</style>\\n\"\"\"))',\n",
       "  \"def map_template(func, L=[]):\\n    '''\\n    L의 모든요소를 func()함수를 적용시켜 return\\n    [func(1) for in L]\\n    '''\\n    result = []\\n    for l in L:\\n        result.append(func(1))\\n    return result\\n#     result = [func(1) for l in L]\\n    \",\n",
       "  'list_data = [1,2,3,4,5,6,7,8,9,10]\\ndef x_2(x):\\n    return x*2\\nmap_template(x_2, list_data)',\n",
       "  \"def map_template(func, L=[]):\\n    '''\\n    L의 모든요소를 func()함수를 적용시켜 return\\n    [func(1) for in L]\\n    '''\\n    result = []\\n    for l in L:\\n        result.append(func(1))\\n    return result\\n#     result = [func(1) for l in L]\\n    \",\n",
       "  'list_data = [1,2,3,4,5,6,7,8,9,10]\\ndef x_2(x):\\n    return x*2\\nmap_template(x_2, list_data)',\n",
       "  'list_data = [1,2,3,4,5,6,7,8,9,10]\\nmap_template(lambda x : x*2, list_data)',\n",
       "  \"def map_template(func, L=[]):\\n    '''\\n    L의 모든요소를 func()함수를 적용시켜 return\\n    [func(1) for in L]\\n    '''\\n    result = []\\n    for l in L:\\n        result.append(func(l))\\n    return result\\n#     result = [func(1) for l in L]\\n    \",\n",
       "  'list_data = [1,2,3,4,5,6,7,8,9,10]\\ndef x_2(x):\\n    return x*2\\nmap_template(x_2, list_data)',\n",
       "  'list_data = [1,2,3,4,5,6,7,8,9,10]\\nmap_template(lambda x : x*2, list_data)',\n",
       "  '# 리스트 데이터를 가공 방법 2. 리스트 컴프리헨션\\n[l*2 for l in list_data]',\n",
       "  '# 리스트 데이터를 가공 방법 3. map(): 파이썬 내장함수\\nmap(lambda x : x*2, list_data)',\n",
       "  '# 리스트 데이터를 가공 방법 3. map(): 파이썬 내장함수\\nlist(map(lambda x : x*2, list_data))',\n",
       "  'for item in map(lambda x : x*2, list_data):\\n    print(item)',\n",
       "  \"for item in map(lambda x : x*2, list_data):\\n    print(item, end=' ')\",\n",
       "  \"'''\\n예1. [5000,800,1000,6000]로 바꾸시오\\n'''\\nprices = ['5,000','800','1000','6,000']\",\n",
       "  \"'''\\n예2. member1 = [{'name':'홍길동','birth':'2000-01-03'},\\n                {'name':'신길자','birth':'1989-06-08'}]\\n     member1 = [{'name':'홍길동','year':2000,'month':1, 'day':3},\\n                {'name':'신길자','year':1989,'month':6, 'day':8}]를 바꿉니다\\n'''\",\n",
       "  \"'예3. member2를 member1로 바꿉니다'\",\n",
       "  'map(int(),prices)',\n",
       "  'list(map(int(),prices))',\n",
       "  'list(map(int,prices))',\n",
       "  'list(map(int,extract_numbers(prices))',\n",
       "  'list(map(int,extract_numbers(prices)))',\n",
       "  \"list(map(int,x.replace(',', '')(prices)))\",\n",
       "  \"def func(x):\\n    return(x.replace(',',''))\",\n",
       "  \"def func(x):\\n    return(x.replace(',',''))\\nfunc('5,000')\",\n",
       "  \"def func(x):\\n    return(x.replace(',',''))\\nfunc('5,000','10000')\",\n",
       "  \"def func(*x):\\n    return(x.replace(',',''))\\nfunc('5,000','10000')\",\n",
       "  \"def func(*x):\\n    return(x.replace(',',''))\\nfunc('5,000')\",\n",
       "  \"def func(x):\\n    return(x.replace(',',''))\\nfunc('5,000')\",\n",
       "  \"list(map(lambda x : int(x.replace(',','')), prices))\",\n",
       "  \"member1 = [{'name':'홍길동','birth':'2000-01-03'},\\n         {'name':'신길자','birth':'1989-06-08'}]\",\n",
       "  \"member1 = [{'name':'홍길동','birth':'2000-01-03'},\\n         {'name':'신길자','birth':'1989-06-08'}]\",\n",
       "  'split_data(2000-01-03)',\n",
       "  \"split_data('2000-01-03')\",\n",
       "  \"# '2000-01-03' => 'year':2000,'month':1, 'day':3\\ndef split_data(data):\\n    split_data = date.split('-')\\n    print(split_data[0], split_data[1], split_data[2])\",\n",
       "  \"split_data('2000-01-03')\",\n",
       "  \"split_data = [{'name':'홍길동','birth':'2000-01-03'},\\n         {'name':'신길자','birth':'1989-06-08'}]\",\n",
       "  \"# '2000-01-03' => 'year':2000,'month':1, 'day':3\\ndef split_data(data):\\n    split_data = date.split('-')\\n    print(split_data[0], split_data[1], split_data[2])\",\n",
       "  \"split_data('2000-01-03')\",\n",
       "  \"split_data = [{'name':'홍길동','birth':'2000-01-03'},\\n         {'name':'신길자','birth':'1989-06-08'}]\",\n",
       "  \"# '2000-01-03' => 'year':2000,'month':1, 'day':3\\ndef split_data(data):\\n    split_data = date.split('-')\\n    print(split_data[0], split_data[1], split_data[2])\",\n",
       "  \"split_data('2000-01-03')\",\n",
       "  \"member1 = [{'name':'홍길동','birth':'2000-01-03'},\\n         {'name':'신길자','birth':'1989-06-08'}]\",\n",
       "  \"# '2000-01-03' => 'year':2000,'month':1, 'day':3\\ndef split_data(data):\\n    split_data = date.split('-')\\n    print(split_data[0], split_data[1], split_data[2])\",\n",
       "  \"split_data('2000-01-03')\",\n",
       "  \"# '2000-01-03' => 'year':2000,'month':1, 'day':3\\ndef split_data(data):\\n    split_data = data.split('-')\\n    print(split_data[0], split_data[1], split_data[2])\",\n",
       "  \"split_data('2000-01-03')\",\n",
       "  \"# '2000-01-03' => 'year':2000,'month':1, 'day':3\\ndef split_data(data):\\n    split_data = data.split('-')\\n    print(split_data[0], split_data[1], split_data[2])\\n    return {'year':int(split_data[0]),\\n            'month':int(split_data[1]),\\n            'day':int(split_data[2])}\",\n",
       "  \"# '2000-01-03' => 'year':2000,'month':1, 'day':3\\ndef split_data(data):\\n    split_data = data.split('-')\\n#     print(split_data[0], split_data[1], split_data[2])\\n    return {'year':int(split_data[0]),\\n            'month':int(split_data[1]),\\n            'day':int(split_data[2])}\",\n",
       "  \"split_data('2000-01-03')\",\n",
       "  \"member2 = list(map(\\n    lambda m: {\\n        'name': m['name'],\\n        'year': int(m['birth'].split('-')[0]),\\n        'month': int(m['birth'].split('-')[1]),\\n        'day': int(m['birth'].split('-')[2])\\n    }, member1))\\n\\nprint(member2)\",\n",
       "  \"member2 = list(map(lambda m: {'name': m['name'],\\n                                'year': int(m['birth'].split('-')[0]),\\n                                    'month': int(m['birth'].split('-')[1]),\\n                                        'day': int(m['birth'].split('-')[2])}, member1))\\n\\nprint(member2)\",\n",
       "  \"#챗\\nmember2 = list(map(lambda m: {'name': m['name'],\\n                                'year': int(m['birth'].split('-')[0]),\\n                                  'month': int(m['birth'].split('-')[1]),\\n                                   'day': int(m['birth'].split('-')[2])}, member1))\\n\\nprint(member2)\",\n",
       "  \"#챗\\nmember2 = list(map(lambda m: {'name': m['name'],\\n                                'year': int(m['birth'].split('-')[0]),\\n                                  'month': int(m['birth'].split('-')[1]),\\n                                   'day': int(m['birth'].split('-')[2])}, member1))\\n\\nmember2\",\n",
       "  \"#챗\\nmember2 = list(map(lambda m: {'name': m.get('name'),\\n                                'year': int(m['birth'].split('-')[0]),\\n                                  'month': int(m['birth'].split('-')[1]),\\n                                   'day': int(m['birth'].split('-')[2])}, member1))\\n\\nmember2\",\n",
       "  \"'예3. member2를 member1로 바꿉니다'\",\n",
       "  \"# {'year':2000,'month':1, 'day':1} => '2000-01-01'를 retrun하는 함수\\ndef join_data(data):\\n    print(data)\",\n",
       "  \"join_data({'year':2000,'month':1, 'day':1})\",\n",
       "  'def dict_to_date_flexible(d):\\n    nums = [int(s) for s in str(d.values()) if s.isdigit()]\\n    return f\"{nums[0]:04d}-{nums[1]:02d}-{nums[2]:02d}\" if len(nums) >= 3 else \"0000-00-00\"\\nprint(member1)',\n",
       "  '#챗\\ndef dict_to_date_flexible(d):\\n    nums = [int(s) for s in str(d.values()) if s.isdigit()]\\n    return f\"{nums[0]:04d}-{nums[1]:02d}-{nums[2]:02d}\" if len(nums) >= 3 else \"0000-00-00\"\\nprint(member1)',\n",
       "  'def join_data(data)\\n    return \"{year}-{month:02}-{day:02}\".format(**data)',\n",
       "  '#챗\\ndates = list(map(\\n    lambda m: f\"{m.get(\\'year\\', 0):04d}-{m.get(\\'month\\', 0):02d}-{m.get(\\'day\\', 0):02d}\",\\n    member1\\nprint(member1)',\n",
       "  '#챗\\nmember1 = list(map(\\n    lambda m: f\"{m.get(\\'year\\', 0):04d}-{m.get(\\'month\\', 0):02d}-{m.get(\\'day\\', 0):02d}\",\\n    member1\\nprint(member1)',\n",
       "  'member1 = [\\n    {\\'name\\': \\'홍길동\\', \\'year\\': 2000, \\'month\\': 1, \\'day\\': 3},\\n    {\\'name\\': \\'신길자\\', \\'year\\': 1989, \\'month\\': 6, \\'day\\': 8}\\n]\\n\\ndates = list(map(\\n    lambda m: f\"{m.get(\\'year\\', 0):04d}-{m.get(\\'month\\', 0):02d}-{m.get(\\'day\\', 0):02d}\",\\n    member1\\n))\\n\\nprint(dates)',\n",
       "  '#\\ndef lilter_template(func, L=[]):\\n    result = []\\n    for l in L:\\n        if func(l):\\n            result.append(l)\\n    return result',\n",
       "  'def evenChk(value):\\n    return value%2==0\\nevenChk(10)',\n",
       "  'list_data = [1,2,3,4,5]\\nfilter_template(lambda value : value%2==0, list_data)',\n",
       "  'list(filter(lambda value : value%2==0, list_data))',\n",
       "  'def evenChk(value):\\n    return value%2==0\\nevenChk(10)',\n",
       "  'list_data = [1,2,3,4,5]\\nfilter_template(lambda value : value%2==0, list_data)',\n",
       "  '#\\ndef pilter_template(func, L=[]):\\n    result = []\\n    for l in L:\\n        if func(l):\\n            result.append(l)\\n    return result',\n",
       "  'def evenChk(value):\\n    return value%2==0\\nevenChk(10)',\n",
       "  'list_data = [1,2,3,4,5]\\nfilter_template(lambda value : value%2==0, list_data)',\n",
       "  'list(filter(lambda value : value%2==0, list_data))',\n",
       "  '#\\ndef pilter_template(func, L=[]):\\n    result = []\\n    for l in L:\\n        if func(l):\\n            result.append(l)\\n    return result',\n",
       "  'def evenChk(value):\\n    return value%2==0\\nevenChk(10)',\n",
       "  'list_data = [1,2,3,4,5]\\nfilter_template(lambda value : value%2==0, list_data)',\n",
       "  'list(filter(lambda value : value%2==0, list_data))',\n",
       "  '#\\ndef filter_template(func, L=[]):\\n    result = []\\n    for l in L:\\n        if func(l):\\n            result.append(l)\\n    return result',\n",
       "  'def evenChk(value):\\n    return value%2==0\\nevenChk(10)',\n",
       "  'list_data = [1,2,3,4,5]\\nfilter_template(lambda value : value%2==0, list_data)',\n",
       "  'list(filter(lambda value : value%2==0, list_data))',\n",
       "  '[data for data in list_data if data%2==0]',\n",
       "  'number2d = [[9,9],[1,100],[10,1]]\\nnumber2d.sort()\\nnumber2d',\n",
       "  'def join_date(data):\\n    return \"{year}-{month:02}-{day:02}\".format(**data)',\n",
       "  \"def map_template(func, L=[]):\\n    '''\\n    L의 모든요소를 func()함수를 적용시켜 return\\n    [func(1) for in L]\\n    '''\\n    result = []\\n    for l in L:\\n        result.append(func(l))\\n    return result\\n#     result = [func(1) for l in L]\\n    \",\n",
       "  '# 리스트 데이터를 가공 방법 1. map_template\\nlist_data = [1, 2, 3, 4, 5, 6, 7, 8, 9, 10]\\nmap_template(lambda x : x*2, list_data)\\n# def x_2(x):\\n#     return x*2\\n# map_template(x_2, list_data)',\n",
       "  '# 리스트 테이터를 가공 방법 1. map\\nlist_data = [1,2,3,4,5,6,7,8,9,10]\\nmap_template(lambda x : x*2, list_data)',\n",
       "  '# 리스트 데이터를 가공 방법 2. 리스트 컴프리헨션\\n[l*2 for l in list_data]',\n",
       "  '# 리스트 데이터를 가공 방법 3. map(): 파이썬 내장함수\\nlist(map(lambda x : x*2, list_data))',\n",
       "  \"for item in map(lambda x : x*2, list_data):\\n    print(item, end=' ')\",\n",
       "  \"'''\\n예1. [5000,800,1000,6000]로 바꾸시오\\n'''\\nprices = ['5,000','800','1000','6,000']\",\n",
       "  \"def func(x):\\n    return(x.replace(',',''))\\nfunc('5,000')\",\n",
       "  \"list(map(lambda x : int(x.replace(',','')), prices))\",\n",
       "  \"'''\\n예2. member1 = [{'name':'홍길동','birth':'2000-01-03'},\\n                {'name':'신길자','birth':'1989-06-08'}]\\n     member1 = [{'name':'홍길동','year':2000,'month':1, 'day':3},\\n                {'name':'신길자','year':1989,'month':6, 'day':8}]를 바꿉니다\\n'''\",\n",
       "  \"member1 = [{'name':'홍길동','birth':'2000-01-03'},\\n         {'name':'신길자','birth':'1989-06-08'}]\",\n",
       "  \"# '2000-01-03' => 'year':2000,'month':1, 'day':3\\ndef split_data(data):\\n    split_data = data.split('-')\\n#     print(split_data[0], split_data[1], split_data[2])\\n    return {'year':int(split_data[0]),\\n            'month':int(split_data[1]),\\n            'day':int(split_data[2])}\",\n",
       "  \"split_data('2000-01-03')\",\n",
       "  'def member_func(member): # {\\'name\\':\\'홍길동\\', \\'birth\\':\\'2000-01-01\\'}\\n    \"{\\'name\\':\\'신길동\\', \\'year\\':1998, \\'month\\':12, \\'day\\':31}식으로 return\"\\n    return {\\n        \\'name\\':member.get(\\'name\\'),\\n        \\'year\\':int(member[\\'birth\\'].split(\\'-\\')[0]),\\n        \\'month\\':int(member[\\'birth\\'].split(\\'-\\')[1]),\\n        \\'day\\':int(member[\\'birth\\'].split(\\'-\\')[2]),\\n    }\\nmember_func(member1[0])',\n",
       "  \"member2 =list(map(lambda member : {\\n                        'name':member.get('name'),\\n                        'year':int(member['birth'].split('-')[0]),\\n                        'month':int(member['birth'].split('-')[1]),\\n                        'day':int(member['birth'].split('-')[2]),\\n                        } ,\\n         member1\\n        )\\n    )\\nmember2\",\n",
       "  \"'예3. member2를 member1로 바꿉니다'\",\n",
       "  '# {\\'year\\': 2000, \\'month\\': 1, \\'day\\': 1} => \"2000-01-01\"를 return하는 함수\\ndef join_date(data):\\n    # print([data.get(\\'year\\'), data.get(\\'month\\'), data.get(\\'day\\')])\\n    year = str(data.get(\\'year\\'))\\n    month = data.get(\\'month\\')\\n    if month < 10:\\n        month = \\'0\\'+str(month)\\n    else:\\n        month = str(month)\\n    day = data.get(\\'day\\')\\n    if day < 10:\\n        day = \\'0\\'+str(day)\\n    else:\\n        day = str(day)\\n    return \\'-\\'.join([year, month, day])',\n",
       "  'def join_date(data):\\n    print(\"{}-{:02}-{:02}\".format(data.get(\\'year\\'), \\n                                  data.get(\\'month\\'), \\n                                  data.get(\\'day\\')))',\n",
       "  'def join_date(data):\\n    print(\"{year}-{month:02}-{day:02}\".format(\\n                                  year = data.get(\\'year\\'), \\n                                  month=data.get(\\'month\\'), \\n                                  day=data.get(\\'day\\')))',\n",
       "  'def join_date(data):\\n    return \"{year}-{month:02}-{day:02}\".format(**data)',\n",
       "  \"join_date({'year': 2000, 'month': 1, 'day': 1})\",\n",
       "  'member2',\n",
       "  '# {\\'name\\':\\'홍길동\\', \\'year\\':2000, \\'month\\':1, \\'day\\':1}(member2)를 \\n# {\\'name\\':\\'홍길동\\', \\'birth\\':\\'2000-01-01\\'}으로 가공\\nlist(map(lambda member : {\\n                        \\'name\\' : member.get(\\'name\\'),\\n                        \\'birth\\': \"{year}-{month:02}-{day:02}\".format(**member)\\n                        },\\n    member2\\n))',\n",
       "  'p = [9, 2, 7]\\np.sort(reverse=True)\\np',\n",
       "  '# 0번째 item기준으로 정렬\\nnumber2d = [[9,9,9,9,9,9],[1,100],[10,1]]\\nnumber2d.sort()\\nnumber2d',\n",
       "  '# 무조건 0번 item기준으로 정렬\\nnumber2d = [[9, 9, 9, 9, 9, 9],\\n            [1, 100],\\n            [10, 1]]\\nnumber2d.sort(reverse=True) # 기본(reverse=False):오름차순정렬/reverse=True:내림차순정렬\\nnumber2d',\n",
       "  \"# 무조건 0번쨰 아이템 기준으로 정렬\\npairs = [(2, 'tow'),(1, 'one'),(4, 'four'),(3, 'three')]\\npairs.sort()\\npairs\",\n",
       "  \"# 1번쨰 item 기준으로 정렬 (abc순)\\npairs = [(2, 'tow'),(1, 'one'),(4, 'four'),(3, 'three')]\\npairs.sort(key=lambda pair : pair[1])\\npairs\",\n",
       "  \"# 1번쨰 item 기준으로 정렬 (abc순)\\npairs = [(2, 'tow'),(1, 'one'),(4, 'four'),(3, 'three')]\\npairs.sort(key=lambda pair : pair[1])\\npairs\",\n",
       "  '# 합이 큰 순으로 정렬\\nnumbers2d.srot(key=lambda item : sum(item))',\n",
       "  '# 합이 큰 순으로 정렬\\nnumber2d.srot(key=lambda item : sum(item))',\n",
       "  '# 합이 큰 순으로 정렬\\nnumber2d.sort(key=lambda item : sum(item))',\n",
       "  '# 합이 큰 순으로 정렬\\nnumber2d.sort(key=lambda item : sum(item))\\nnumber2d',\n",
       "  '# 합이 큰 순으로 정렬\\nnumber2d.sort(key = lambda item : sum(item))\\nnumber2d',\n",
       "  '# 합이 큰 순으로 정렬\\nnumber2d.sort(key = lambda item : sum(item), reverse = True)\\nnumber2d',\n",
       "  '# 리스트를 매개변수로 받아 합을 return\\n(lambda item : sum(item))([1,2,3])',\n",
       "  \"students = [{'name':'홍길동','score':'90'},\\n           {'name':'김길동','score':'80'},\\n           {'name':'문길동','score':'70'}]\",\n",
       "  'students.sort()\\nstudents',\n",
       "  'students.sort()\\n**students',\n",
       "  'students.sort()\\nprint(students)',\n",
       "  'students.sort()\\nprint(**students)',\n",
       "  'students.sort()\\nprint(*students)',\n",
       "  'students.sort(key=lambda pair : pair[1])\\nstudents',\n",
       "  'students.sort(key=lambda pai)\\nstudents',\n",
       "  \"students.sort(key=lambda x: int(x['score']), reverse=True)\\nprint(students)\",\n",
       "  \"students.sort(key=lambda x: int(x['name']))\\nprint(students)\",\n",
       "  \"students.sort(key=lambda x: int(x['score']), reverse=True)\\nprint(students)\",\n",
       "  \"students.sort(key=lambda x: int(x['name']))\\nprint(students)\",\n",
       "  \"students.sort(key=lambda x: x['name'])\\nprint(students)\",\n",
       "  \"students = [{'name':'홍길동','score':'90'},\\n           {'name':'김길동','score':'80'},\\n           {'name':'문길동','score':'70'},\\n           {'score':'100'}]\",\n",
       "  \"students.sort(key=lambda x: int(x['score']), reverse=True)\\nprint(students)\",\n",
       "  \"students.sort(key=lambda x: x['name'])\\nprint(students)\",\n",
       "  \"students.sort(key=lambda x: x.get('name')\\nprint(students)\",\n",
       "  \"students.sort(key=lambda x: x.get('name'))\\nprint(students)\",\n",
       "  \"students.sort(key=lambda x: int(x['score']), reverse=True)\\nprint(students)\",\n",
       "  \"students.sort(key=lambda x: x.get('name','힣'))\\nprint(students)\",\n",
       "  \"students.sort(key=lambda x: int(x.get('score', 0)), reverse=True)\\nprint(students)\",\n",
       "  \"students.sort(key=lambda x: x.get('name','힣'))\\nprint(students,'\\\\n')\",\n",
       "  \"students.sort(key=lambda x: x.get('name','힣'))\\nprint(students,end='\\\\n')\",\n",
       "  \"students.sort(key=lambda x: x.get('name','힣'))\\nprint(students)\",\n",
       "  \"# 책제목순 정렬(ㄱ,ㄴ,ㄷ순), 저자순 정렬(ㄱ,ㄴ,ㄷ순), 가격순 오름차순정렬 \\nbooks = [{'no': 1, 'title':'강남 아파트 인사이트','writer':'오스틀로이드','price':'25,200'},\\n        {'no': 2, 'title':'단 한 번의 삶','writer':'김영하','price':'18,100'},\\n        {'no': 3, 'title':'흔한남매19','writer':'백난도','price':'14,200'},\\n        {'no': 4, 'title':'가격이 잘못','writer':'홍길동','price':'-'},\\n        {'no': 5, 'title':'가격이 숫자','writer':'신길동','price':900},\\n        {'no': 6, 'title':'가격이 없음','writer':'김길동'}]\",\n",
       "  \"# 책제목순 정렬(ㄱ,ㄴ,ㄷ순), 저자순 정렬(ㄱ,ㄴ,ㄷ순), 가격순 오름차순정렬 \\nbooks = [\\n        {'no': 1, 'title':'강남 아파트 인사이트','writer':'오스틀로이드','price':'25,200'},\\n        {'no': 2, 'title':'단 한 번의 삶','writer':'김영하','price':'18,100'},\\n        {'no': 3, 'title':'흔한남매19','writer':'백난도','price':'14,200'},\\n        {'no': 4, 'title':'가격이 잘못','writer':'홍길동','price':'-'},\\n        {'no': 5, 'title':'가격이 숫자','writer':'신길동','price':900},\\n        {'no': 6, 'title':'가격이 없음','writer':'김길동'}\\n]\",\n",
       "  'books.sort(key = lambda book : book.get(title))\\nbooks',\n",
       "  \"books.sort(key = lambda book : book.get('title'))\\nbooks\",\n",
       "  \"# 저자순 정렬(ㄱ,ㄴ,ㄷ순)\\nbooks.sort(key = lambda book : book.get('writer'))\",\n",
       "  \"# 저자순 정렬(ㄱ,ㄴ,ㄷ순)\\nbooks.sort(key = lambda book : book.get('writer'))\",\n",
       "  \"# 저자순 정렬(ㄱ,ㄴ,ㄷ순)\\nbooks.sort(key = lambda book : book.get('writer'))\\nbooks\",\n",
       "  \"# 가격순 오름차순정렬 \\nbooks.sort(key = lambda book : book.get('price'))\\nbooks\",\n",
       "  \"# 가격순 오름차순정렬 \\nbooks.sort(key = lambda book : book.get('price',0))\\nbooks\",\n",
       "  \"# 가격순 오름차순정렬 \\nbooks.sort(key = lambda book : book.get('price','0'))\\nbooks\",\n",
       "  \"#'14,000' -> 14000 / 800 -> 800 / '-' -> 0\\ndef parse_int(price):\\n    price(type(price))\",\n",
       "  'parse_int',\n",
       "  'parse_int(800)',\n",
       "  \"#'14,000' -> 14000 / 800 -> 800 / '-' -> 0\\ndef parse_int(price):\\n    print(type(price))\",\n",
       "  'parse_int(800)',\n",
       "  \"parse_int('800')\",\n",
       "  \"#'14,000' -> 14000 /'2000'-> 2000 / 800 -> 800 / '-' -> 0\\ndef parse_int(price):\\n#     print(type(price))\\n    if isinstance(price, str) and price.replace(',','').isdigit():\\n        return int(price.replace(',',''))\\n    elif isinstance(price, int):\\n        return price\\n        \",\n",
       "  \"parse_int('800')\",\n",
       "  'parse_int(6000)',\n",
       "  \"parse_int('6,000')\",\n",
       "  \"parse_int('6,000'),parse_int('6000'),parse_int(6000)\",\n",
       "  \"parse_int('6,000'),parse_int('6000'),parse_int(6000),parse_int('-')\",\n",
       "  \"#'14,000' -> 14000 /'2000'-> 2000 / 800 -> 800 / '-' -> 0\\ndef parse_int(price):\\n#     print(type(price))\\n    if isinstance(price, str) and price.replace(',','').isdigit():\\n        return int(price.replace(',',''))\\n    elif isinstance(price, int):\\n        return price\\n    else:\\n        return 0\",\n",
       "  \"parse_int('6,000'),parse_int('6000'),parse_int(6000),parse_int('-')\",\n",
       "  \"#'14,000' -> 14000 /'2000'-> 2000 / 800 -> 800 / '-' -> 0\\ndef parse_int(price):\\n#     print(type(price))\\n    if isinstance(price, str) and price.replace(',','').isdigit():\\n        return int(price.replace(',',''))\\n    elif isinstance(price, int):\\n        return price\\n    else:\\n        return '가격 표시되지 않음'\",\n",
       "  \"parse_int('6,000'),parse_int('6000'),parse_int(6000),parse_int('-')\",\n",
       "  \"# 가격순 오름차순정렬 \\nbooks.sort(key = lambda book : book.get('price','0'))\\nbooks\",\n",
       "  \"#'14,000' -> 14000 /'2000'-> 2000 / 800 -> 800 / '-' -> 0\\ndef parse_int(price):\\n#     print(type(price))\\n    if isinstance(price, str) and price.replace(',','').isdigit():\\n        return int(price.replace(',',''))\\n    elif isinstance(price, int):\\n        return price\\n    else:\\n        return '가격 표기되지 않음'\",\n",
       "  \"parse_int('6,000'),parse_int('6000'),parse_int(6000),parse_int('-')\",\n",
       "  \"# {'no': 6, 'title':'가격이 없음','writer':'김길동'} => 0\\n# {'no': 3, 'title':'흔한남매19','writer':'백난도','price':'14,200'} => 14200\\n# {'no': 5, 'title':'가격이 숫자','writer':'신길동','price':900} => 900\\ndef parse_int(book):\\n    if isinstance(book.get('price'), str) and book.get('price').replace(',','').isdigit():\\n        return int(book.get('plice').replace(',',''))\\n    elif isinstance(book.get('plice'), int):\\n        return book.get('plice')\\n    else:\\n        return '가격이 표기되지 않음'\",\n",
       "  \"# {'no': 6, 'title':'가격이 없음','writer':'김길동'} => 0\\n# {'no': 3, 'title':'흔한남매19','writer':'백난도','price':'14,200'} => 14200\\n# {'no': 5, 'title':'가격이 숫자','writer':'신길동','price':900} => 900\\ndef parse_int(book):\\n    if isinstance(book.get('price'), str) and book.get('price').replace(',','').isdigit():\\n        return int(book.get('plice').replace(',',''))\\n    elif isinstance(book.get('plice'), int):\\n        return book.get('plice')\\n    else:\\n        return '가격이 표기되지 않음'\\nparse_int\",\n",
       "  \"# {'no': 6, 'title':'가격이 없음','writer':'김길동'} => 0\\n# {'no': 3, 'title':'흔한남매19','writer':'백난도','price':'14,200'} => 14200\\n# {'no': 5, 'title':'가격이 숫자','writer':'신길동','price':900} => 900\\ndef parse_int(book):\\n    if isinstance(book.get('price'), str) and book.get('price').replace(',','').isdigit():\\n        return int(book.get('plice').replace(',',''))\\n    elif isinstance(book.get('plice'), int):\\n        return book.get('plice')\\n    else:\\n        return '가격이 표기되지 않음'\\nparse_int(book[0])\",\n",
       "  \"# {'no': 6, 'title':'가격이 없음','writer':'김길동'} => 0\\n# {'no': 3, 'title':'흔한남매19','writer':'백난도','price':'14,200'} => 14200\\n# {'no': 5, 'title':'가격이 숫자','writer':'신길동','price':900} => 900\\ndef parse_int(book):\\n    if isinstance(book.get('price'), str) and book.get('price').replace(',','').isdigit():\\n        return int(book.get('plice').replace(',',''))\\n    elif isinstance(book.get('plice'), int):\\n        return book.get('plice')\\n    else:\\n        return '가격이 표기되지 않음'\\nparse_int(books[0])\",\n",
       "  \"# {'no': 6, 'title':'가격이 없음','writer':'김길동'} => 0\\n# {'no': 3, 'title':'흔한남매19','writer':'백난도','price':'14,200'} => 14200\\n# {'no': 5, 'title':'가격이 숫자','writer':'신길동','price':900} => 900\\ndef parse_int(book):\\n    if isinstance(book.get('price'), str) and book.get('price').replace(',','').isdigit():\\n        return int(book.get('plice').replace(',',''))\\n    elif isinstance(book.get('plice'), int):\\n        return book.get('plice')\\n    else:\\n        return '가격이 표기되지 않음'\\nparse_int(books[0]),parse_int(books[4]),parse_int(books[0]),parse_int(books[0])\",\n",
       "  \"# {'no': 6, 'title':'가격이 없음','writer':'김길동'} => 0\\n# {'no': 3, 'title':'흔한남매19','writer':'백난도','price':'14,200'} => 14200\\n# {'no': 5, 'title':'가격이 숫자','writer':'신길동','price':900} => 900\\ndef parse_int(book):\\n    if isinstance(book.get('price'), str) and book.get('price').replace(',','').isdigit():\\n        return int(book.get('plice').replace(',',''))\\n    elif isinstance(book.get('plice'), int):\\n        return book.get('plice')\\n    else:\\n        return '가격이 표기되지 않음'\\nparse_int(books[0]),parse_int(books[3]),parse_int(books[0]),parse_int(books[0])\",\n",
       "  \"# {'no': 6, 'title':'가격이 없음','writer':'김길동'} => 0\\n# {'no': 3, 'title':'흔한남매19','writer':'백난도','price':'14,200'} => 14200\\n# {'no': 5, 'title':'가격이 숫자','writer':'신길동','price':900} => 900\\ndef parse_int(book):\\n    if isinstance(book.get('price'), str) and book.get('price').replace(',','').isdigit():\\n        return int(book.get('plice').replace(',',''))\\n    elif isinstance(book.get('plice'), int):\\n        return book.get('plice')\\n    else:\\n        return '가격이 표기되지 않음'\\nparse_int(books[0]),parse_int(books[3]),parse_int(books[2]),parse_int(books[0])\",\n",
       "  \"# {'no': 6, 'title':'가격이 없음','writer':'김길동'} => 0\\n# {'no': 3, 'title':'흔한남매19','writer':'백난도','price':'14,200'} => 14200\\n# {'no': 5, 'title':'가격이 숫자','writer':'신길동','price':900} => 900\\ndef parse_int(book):\\n    if isinstance(book.get('price'), str) and book.get('price').replace(',','').isdigit():\\n        return int(book.get('plice').replace(',',''))\\n    elif isinstance(book.get('plice'), int):\\n        return book.get('plice')\\n    else:\\n        return '가격이 표기되지 않음'\\nparse_int(books[0]),parse_int(books[3]),parse_int(books[2])\",\n",
       "  \"# {'no': 6, 'title':'가격이 없음','writer':'김길동'} => 0\\n# {'no': 3, 'title':'흔한남매19','writer':'백난도','price':'14,200'} => 14200\\n# {'no': 5, 'title':'가격이 숫자','writer':'신길동','price':900} => 900\\ndef parse_int(book):\\n    if isinstance(book.get('price'), str) and book.get('price').replace(',','').isdigit():\\n        return int(book.get('plice').replace(',',''))\\n    elif isinstance(book.get('plice'), int):\\n        return book.get('plice')\\n    else:\\n        return '가격이 표기되지 않음'\\nparse_int(books[0]),parse_int(books[3]),parse_int(books[2]),parse_int(books[5])\",\n",
       "  \"# {'no': 6, 'title':'가격이 없음','writer':'김길동'} => 0\\n# {'no': 3, 'title':'흔한남매19','writer':'백난도','price':'14,200'} => 14200\\n# {'no': 5, 'title':'가격이 숫자','writer':'신길동','price':900} => 900\\ndef parse_int(book):\\n    if isinstance(book.get('price'), str) and book.get('price').replace(',','').isdigit():\\n        return int(book.get('price').replace(',',''))\\n    elif isinstance(book.get('price'), int):\\n        return book.get('price')\\n    else:\\n        return '가격이 표기되지 않음'\\nparse_int(books[0]),parse_int(books[3]),parse_int(books[2]),parse_int(books[5])\",\n",
       "  'parse_int(books)',\n",
       "  'books',\n",
       "  \"books = [\\n        {'no': 1, 'title':'강남 아파트 인사이트','writer':'오스틀로이드','price':'25,200'},\\n        {'no': 2, 'title':'단 한 번의 삶','writer':'김영하','price':'18,100'},\\n        {'no': 3, 'title':'흔한남매19','writer':'백난도','price':'14,200'},\\n        {'no': 4, 'title':'가격이 잘못','writer':'홍길동','price':'-'},\\n        {'no': 5, 'title':'가격이 숫자','writer':'신길동','price':900},\\n        {'no': 6, 'title':'가격이 없음','writer':'김길동'}\\n]\",\n",
       "  \"books = [\\n        {'no': 1, 'title':'강남 아파트 인사이트','writer':'오스틀로이드','price':'25,200'},\\n        {'no': 2, 'title':'단 한 번의 삶','writer':'김영하','price':'18,100'},\\n        {'no': 3, 'title':'흔한남매19','writer':'백난도','price':'14,200'},\\n        {'no': 4, 'title':'가격이 잘못','writer':'홍길동','price':'-'},\\n        {'no': 5, 'title':'가격이 숫자','writer':'신길동','price':900},\\n        {'no': 6, 'title':'가격이 없음','writer':'김길동'}\\n]\\ncopy_books = books.copt()\",\n",
       "  \"books = [\\n        {'no': 1, 'title':'강남 아파트 인사이트','writer':'오스틀로이드','price':'25,200'},\\n        {'no': 2, 'title':'단 한 번의 삶','writer':'김영하','price':'18,100'},\\n        {'no': 3, 'title':'흔한남매19','writer':'백난도','price':'14,200'},\\n        {'no': 4, 'title':'가격이 잘못','writer':'홍길동','price':'-'},\\n        {'no': 5, 'title':'가격이 숫자','writer':'신길동','price':900},\\n        {'no': 6, 'title':'가격이 없음','writer':'김길동'}\\n]\\ncopy_books = books.copy()\",\n",
       "  \"copy_books.sort(key = lambda book : int(book.get('price').replace(',','')) \\\\\\n                if isinstance(book.get('price'), str) and \\\\\\n                book.get('price').replace(',','').isdigit() else \\\\\\n                book.get('price') if isinstance(book.get('price'), int) else \\\\\\n                '가격이 표기되지 않음')\",\n",
       "  \"copy_books.sort(key = lambda book : int(book.get('price').replace(',','')) \\\\\\n                if isinstance(book.get('price'), str) and \\\\\\n                book.get('price').replace(',','').isdigit() else \\\\\\n                book.get('price') if isinstance(book.get('price'), int) else \\\\\\n                0)\",\n",
       "  'copy_books',\n",
       "  'books',\n",
       "  \"# {'no': 6, 'title':'가격이 없음','writer':'김길동'} => 0\\n# {'no': 3, 'title':'흔한남매19','writer':'백난도','price':'14,200'} => 14200\\n# {'no': 5, 'title':'가격이 숫자','writer':'신길동','price':900} => 900\\ndef parse_int(book):\\n    if isinstance(book.get('price'), str) and book.get('price').replace(',','').isdigit():\\n        return int(book.get('price').replace(',',''))\\n    elif isinstance(book.get('price'), int):\\n        return book.get('price')\\n    else:\\n        return 0\\nparse_int(books[0]),parse_int(books[3]),parse_int(books[2]),parse_int(books[5])\",\n",
       "  \"copy_books.sort(key = lambda book : int(book.get('price').replace(',','')) \\\\\\n                if isinstance(book.get('price'), str) and \\\\\\n                book.get('price').replace(',','').isdigit() else \\\\\\n                book.get('price') if isinstance(book.get('price'), int) else \\\\\\n                0)\",\n",
       "  'copy_books',\n",
       "  'books',\n",
       "  \"books = [\\n        {'no': 1, 'title':'강남 아파트 인사이트','writer':'오스틀로이드','price':'25,200'},\\n        {'no': 2, 'title':'단 한 번의 삶','writer':'김영하','price':'18,100'},\\n        {'no': 3, 'title':'흔한남매19','writer':'백난도','price':'14,200'},\\n        {'no': 4, 'title':'가격이 잘못','writer':'홍길동','price':'-'},\\n        {'no': 5, 'title':'가격이 숫자','writer':'신길동','price':900},\\n        {'no': 6, 'title':'가격이 없음','writer':'김길동'}\\n]\\ncopy_books = books.copy()\",\n",
       "  \"#'14,000' -> 14000 /'2000'-> 2000 / 800 -> 800 / '-' -> 0\\ndef parse_int(price):\\n#     print(type(price))\\n    if isinstance(price, str) and price.replace(',','').isdigit():\\n        return int(price.replace(',',''))\\n    elif isinstance(price, int):\\n        return price\\n    else:\\n        return 0\",\n",
       "  \"parse_int('6,000'),parse_int('6000'),parse_int(6000),parse_int('-')\",\n",
       "  \"# {'no': 6, 'title':'가격이 없음','writer':'김길동'} => 0\\n# {'no': 3, 'title':'흔한남매19','writer':'백난도','price':'14,200'} => 14200\\n# {'no': 5, 'title':'가격이 숫자','writer':'신길동','price':900} => 900\\ndef parse_int(book):\\n    if isinstance(book.get('price'), str) and book.get('price').replace(',','').isdigit():\\n        return int(book.get('price').replace(',',''))\\n    elif isinstance(book.get('price'), int):\\n        return book.get('price')\\n    else:\\n        return 0\\nparse_int(books[0]),parse_int(books[3]),parse_int(books[2]),parse_int(books[5])\",\n",
       "  \"copy_books.sort(key = lambda book : int(book.get('price').replace(',','')) \\\\\\n                if isinstance(book.get('price'), str) and \\\\\\n                book.get('price').replace(',','').isdigit() else \\\\\\n                book.get('price') if isinstance(book.get('price'), int) else \\\\\\n                0)\",\n",
       "  'copy_books',\n",
       "  'books',\n",
       "  \"books = [\\n        {'no': 1, 'title':'강남 아파트 인사이트','writer':'오스틀로이드','price':'25,200'},\\n        {'no': 2, 'title':'단 한 번의 삶','writer':'김영하','price':'18,100'},\\n        {'no': 3, 'title':'흔한남매19','writer':'백난도','price':'14,200'},\\n        {'no': 4, 'title':'가격이 잘못','writer':'홍길동','price':'-'},\\n        {'no': 5, 'title':'가격이 숫자','writer':'신길동','price':900},\\n        {'no': 6, 'title':'가격이 없음','writer':'김길동'}\\n]\\ncopy_books = books.copy()\",\n",
       "  '# 함수를 리턴\\ndef make_box(shape): # shape : [l] => len가 l인 list를 생성하는 함수 return,\\n                     #        : [r,c] => r행 c열인 2차원 list를 생성하는 함수 return\\n    def box(init_value):\\n        if len(shape)==1:\\n            return [init_value]*shape[0]\\n        elif len(shape)==2:\\n            return [ [init_value]*shape[1] ] * shape[0]\\n    return box ',\n",
       "  'line_func = make_box([2,3])',\n",
       "  'line_func = make_box([2,3])\\nline_func(3)',\n",
       "  'line_func1 = make_box([10])\\nline_func1(3)',\n",
       "  'def make_box(shape):\\n    if len(shape)==1:\\n        return lambda init_value : [init_value]*shape[0]\\n    elif len(shape)==2:\\n        return lambda init_value : [[init_value]*shape[1] * shape[0]]',\n",
       "  'globals() # 전역변수 리스트'],\n",
       " 'Out': {3: [2, 2, 2, 2, 2, 2, 2, 2, 2, 2],\n",
       "  5: [2, 2, 2, 2, 2, 2, 2, 2, 2, 2],\n",
       "  6: [2, 2, 2, 2, 2, 2, 2, 2, 2, 2],\n",
       "  8: [2, 4, 6, 8, 10, 12, 14, 16, 18, 20],\n",
       "  9: [2, 4, 6, 8, 10, 12, 14, 16, 18, 20],\n",
       "  10: [2, 4, 6, 8, 10, 12, 14, 16, 18, 20],\n",
       "  11: <map at 0x1f59413c820>,\n",
       "  12: [2, 4, 6, 8, 10, 12, 14, 16, 18, 20],\n",
       "  16: \"\\n예2. member1 = [{'name':'홍길동','birth':'2000-01-03'},\\n                {'name':'신길자','birth':'1989-06-08'}]\\n     member1 = [{'name':'홍길동','year':2000,'month':1, 'day':3},\\n                {'name':'신길자','year':1989,'month':6, 'day':8}]를 바꿉니다\\n\",\n",
       "  17: '예3. member2를 member1로 바꿉니다',\n",
       "  18: <map at 0x1f59476fdc0>,\n",
       "  25: '5000',\n",
       "  29: '5000',\n",
       "  30: [5000, 800, 1000, 6000],\n",
       "  50: {'year': 2000, 'month': 1, 'day': 3},\n",
       "  54: [{'name': '홍길동', 'year': 2000, 'month': 1, 'day': 3},\n",
       "   {'name': '신길자', 'year': 1989, 'month': 6, 'day': 8}],\n",
       "  55: [{'name': '홍길동', 'year': 2000, 'month': 1, 'day': 3},\n",
       "   {'name': '신길자', 'year': 1989, 'month': 6, 'day': 8}],\n",
       "  56: '예3. member2를 member1로 바꿉니다',\n",
       "  66: True,\n",
       "  68: [2, 4],\n",
       "  69: True,\n",
       "  72: True,\n",
       "  74: [2, 4],\n",
       "  76: True,\n",
       "  78: [2, 4],\n",
       "  80: True,\n",
       "  81: [2, 4],\n",
       "  82: [2, 4],\n",
       "  83: [2, 4],\n",
       "  84: [[1, 100], [9, 9], [10, 1]],\n",
       "  87: [2, 4, 6, 8, 10, 12, 14, 16, 18, 20],\n",
       "  88: [2, 4, 6, 8, 10, 12, 14, 16, 18, 20],\n",
       "  89: [2, 4, 6, 8, 10, 12, 14, 16, 18, 20],\n",
       "  90: [2, 4, 6, 8, 10, 12, 14, 16, 18, 20],\n",
       "  93: '5000',\n",
       "  94: [5000, 800, 1000, 6000],\n",
       "  95: \"\\n예2. member1 = [{'name':'홍길동','birth':'2000-01-03'},\\n                {'name':'신길자','birth':'1989-06-08'}]\\n     member1 = [{'name':'홍길동','year':2000,'month':1, 'day':3},\\n                {'name':'신길자','year':1989,'month':6, 'day':8}]를 바꿉니다\\n\",\n",
       "  98: {'year': 2000, 'month': 1, 'day': 3},\n",
       "  99: {'name': '홍길동', 'year': 2000, 'month': 1, 'day': 3},\n",
       "  100: [{'name': '홍길동', 'year': 2000, 'month': 1, 'day': 3},\n",
       "   {'name': '신길자', 'year': 1989, 'month': 6, 'day': 8}],\n",
       "  101: '예3. member2를 member1로 바꿉니다',\n",
       "  106: '2000-01-01',\n",
       "  107: [{'name': '홍길동', 'year': 2000, 'month': 1, 'day': 3},\n",
       "   {'name': '신길자', 'year': 1989, 'month': 6, 'day': 8}],\n",
       "  108: [{'name': '홍길동', 'birth': '2000-01-03'},\n",
       "   {'name': '신길자', 'birth': '1989-06-08'}],\n",
       "  109: [9, 7, 2],\n",
       "  110: [[1, 100], [9, 9, 9, 9, 9, 9], [10, 1]],\n",
       "  111: [[1, 100], [9, 9, 9, 9, 9, 9], [10, 1]],\n",
       "  112: [(1, 'one'), (2, 'tow'), (3, 'three'), (4, 'four')],\n",
       "  113: [(4, 'four'), (1, 'one'), (3, 'three'), (2, 'tow')],\n",
       "  114: [(4, 'four'), (1, 'one'), (3, 'three'), (2, 'tow')],\n",
       "  118: [[1, 100], [9, 9, 9, 9, 9, 9], [10, 1]],\n",
       "  119: [[1, 100], [9, 9, 9, 9, 9, 9], [10, 1]],\n",
       "  120: [[1, 100], [9, 9, 9, 9, 9, 9], [10, 1]],\n",
       "  121: 6,\n",
       "  149: [{'no': 6, 'title': '가격이 없음', 'writer': '김길동'},\n",
       "   {'no': 3, 'title': '흔한남매19', 'writer': '백난도', 'price': '14,200'},\n",
       "   {'no': 2, 'title': '단 한 번의 삶', 'writer': '김영하', 'price': '18,100'},\n",
       "   {'no': 5, 'title': '가격이 숫자', 'writer': '신길동', 'price': 900},\n",
       "   {'no': 1, 'title': '강남 아파트 인사이트', 'writer': '오스틀로이드', 'price': '25,200'},\n",
       "   {'no': 4, 'title': '가격이 잘못', 'writer': '홍길동', 'price': '-'}],\n",
       "  152: [{'no': 6, 'title': '가격이 없음', 'writer': '김길동'},\n",
       "   {'no': 3, 'title': '흔한남매19', 'writer': '백난도', 'price': '14,200'},\n",
       "   {'no': 2, 'title': '단 한 번의 삶', 'writer': '김영하', 'price': '18,100'},\n",
       "   {'no': 5, 'title': '가격이 숫자', 'writer': '신길동', 'price': 900},\n",
       "   {'no': 1, 'title': '강남 아파트 인사이트', 'writer': '오스틀로이드', 'price': '25,200'},\n",
       "   {'no': 4, 'title': '가격이 잘못', 'writer': '홍길동', 'price': '-'}],\n",
       "  157: <function __main__.parse_int(price)>,\n",
       "  163: 800,\n",
       "  164: 6000,\n",
       "  165: 6000,\n",
       "  166: (6000, 6000, 6000),\n",
       "  167: (6000, 6000, 6000, None),\n",
       "  169: (6000, 6000, 6000, 0),\n",
       "  171: (6000, 6000, 6000, '가격 표시되지 않음'),\n",
       "  174: (6000, 6000, 6000, '가격 표기되지 않음'),\n",
       "  176: <function __main__.parse_int(book)>,\n",
       "  178: '가격이 표기되지 않음',\n",
       "  180: ('가격이 표기되지 않음', '가격이 표기되지 않음', '가격이 표기되지 않음', '가격이 표기되지 않음'),\n",
       "  184: ('가격이 표기되지 않음', 900, 18100, '가격이 표기되지 않음'),\n",
       "  186: [{'no': 6, 'title': '가격이 없음', 'writer': '김길동'},\n",
       "   {'no': 3, 'title': '흔한남매19', 'writer': '백난도', 'price': '14,200'},\n",
       "   {'no': 2, 'title': '단 한 번의 삶', 'writer': '김영하', 'price': '18,100'},\n",
       "   {'no': 5, 'title': '가격이 숫자', 'writer': '신길동', 'price': 900},\n",
       "   {'no': 1, 'title': '강남 아파트 인사이트', 'writer': '오스틀로이드', 'price': '25,200'},\n",
       "   {'no': 4, 'title': '가격이 잘못', 'writer': '홍길동', 'price': '-'}],\n",
       "  192: [{'no': 4, 'title': '가격이 잘못', 'writer': '홍길동', 'price': '-'},\n",
       "   {'no': 6, 'title': '가격이 없음', 'writer': '김길동'},\n",
       "   {'no': 5, 'title': '가격이 숫자', 'writer': '신길동', 'price': 900},\n",
       "   {'no': 3, 'title': '흔한남매19', 'writer': '백난도', 'price': '14,200'},\n",
       "   {'no': 2, 'title': '단 한 번의 삶', 'writer': '김영하', 'price': '18,100'},\n",
       "   {'no': 1, 'title': '강남 아파트 인사이트', 'writer': '오스틀로이드', 'price': '25,200'}],\n",
       "  193: [{'no': 1,\n",
       "    'title': '강남 아파트 인사이트',\n",
       "    'writer': '오스틀로이드',\n",
       "    'price': '25,200'},\n",
       "   {'no': 2, 'title': '단 한 번의 삶', 'writer': '김영하', 'price': '18,100'},\n",
       "   {'no': 3, 'title': '흔한남매19', 'writer': '백난도', 'price': '14,200'},\n",
       "   {'no': 4, 'title': '가격이 잘못', 'writer': '홍길동', 'price': '-'},\n",
       "   {'no': 5, 'title': '가격이 숫자', 'writer': '신길동', 'price': 900},\n",
       "   {'no': 6, 'title': '가격이 없음', 'writer': '김길동'}],\n",
       "  194: (25200, 0, 14200, 0),\n",
       "  196: [{'no': 4, 'title': '가격이 잘못', 'writer': '홍길동', 'price': '-'},\n",
       "   {'no': 6, 'title': '가격이 없음', 'writer': '김길동'},\n",
       "   {'no': 5, 'title': '가격이 숫자', 'writer': '신길동', 'price': 900},\n",
       "   {'no': 3, 'title': '흔한남매19', 'writer': '백난도', 'price': '14,200'},\n",
       "   {'no': 2, 'title': '단 한 번의 삶', 'writer': '김영하', 'price': '18,100'},\n",
       "   {'no': 1, 'title': '강남 아파트 인사이트', 'writer': '오스틀로이드', 'price': '25,200'}],\n",
       "  197: [{'no': 1,\n",
       "    'title': '강남 아파트 인사이트',\n",
       "    'writer': '오스틀로이드',\n",
       "    'price': '25,200'},\n",
       "   {'no': 2, 'title': '단 한 번의 삶', 'writer': '김영하', 'price': '18,100'},\n",
       "   {'no': 3, 'title': '흔한남매19', 'writer': '백난도', 'price': '14,200'},\n",
       "   {'no': 4, 'title': '가격이 잘못', 'writer': '홍길동', 'price': '-'},\n",
       "   {'no': 5, 'title': '가격이 숫자', 'writer': '신길동', 'price': 900},\n",
       "   {'no': 6, 'title': '가격이 없음', 'writer': '김길동'}],\n",
       "  200: (6000, 6000, 6000, 0),\n",
       "  201: (25200, 0, 14200, 0),\n",
       "  203: [{'no': 4, 'title': '가격이 잘못', 'writer': '홍길동', 'price': '-'},\n",
       "   {'no': 6, 'title': '가격이 없음', 'writer': '김길동'},\n",
       "   {'no': 5, 'title': '가격이 숫자', 'writer': '신길동', 'price': 900},\n",
       "   {'no': 3, 'title': '흔한남매19', 'writer': '백난도', 'price': '14,200'},\n",
       "   {'no': 2, 'title': '단 한 번의 삶', 'writer': '김영하', 'price': '18,100'},\n",
       "   {'no': 1, 'title': '강남 아파트 인사이트', 'writer': '오스틀로이드', 'price': '25,200'}],\n",
       "  204: [{'no': 1,\n",
       "    'title': '강남 아파트 인사이트',\n",
       "    'writer': '오스틀로이드',\n",
       "    'price': '25,200'},\n",
       "   {'no': 2, 'title': '단 한 번의 삶', 'writer': '김영하', 'price': '18,100'},\n",
       "   {'no': 3, 'title': '흔한남매19', 'writer': '백난도', 'price': '14,200'},\n",
       "   {'no': 4, 'title': '가격이 잘못', 'writer': '홍길동', 'price': '-'},\n",
       "   {'no': 5, 'title': '가격이 숫자', 'writer': '신길동', 'price': 900},\n",
       "   {'no': 6, 'title': '가격이 없음', 'writer': '김길동'}],\n",
       "  208: [[3, 3, 3], [3, 3, 3]],\n",
       "  209: [3, 3, 3, 3, 3, 3, 3, 3, 3, 3]},\n",
       " 'get_ipython': <bound method InteractiveShell.get_ipython of <ipykernel.zmqshell.ZMQInteractiveShell object at 0x000001F5924FFD60>>,\n",
       " 'exit': <IPython.core.autocall.ZMQExitAutocall at 0x1f59250f5e0>,\n",
       " 'quit': <IPython.core.autocall.ZMQExitAutocall at 0x1f59250f5e0>,\n",
       " 'open': <function io.open(file, mode='r', buffering=-1, encoding=None, errors=None, newline=None, closefd=True, opener=None)>,\n",
       " '_': [3, 3, 3, 3, 3, 3, 3, 3, 3, 3],\n",
       " '__': [[3, 3, 3], [3, 3, 3]],\n",
       " '___': [{'no': 1,\n",
       "   'title': '강남 아파트 인사이트',\n",
       "   'writer': '오스틀로이드',\n",
       "   'price': '25,200'},\n",
       "  {'no': 2, 'title': '단 한 번의 삶', 'writer': '김영하', 'price': '18,100'},\n",
       "  {'no': 3, 'title': '흔한남매19', 'writer': '백난도', 'price': '14,200'},\n",
       "  {'no': 4, 'title': '가격이 잘못', 'writer': '홍길동', 'price': '-'},\n",
       "  {'no': 5, 'title': '가격이 숫자', 'writer': '신길동', 'price': 900},\n",
       "  {'no': 6, 'title': '가격이 없음', 'writer': '김길동'}],\n",
       " '_i': 'def make_box(shape):\\n    if len(shape)==1:\\n        return lambda init_value : [init_value]*shape[0]\\n    elif len(shape)==2:\\n        return lambda init_value : [[init_value]*shape[1] * shape[0]]',\n",
       " '_ii': 'line_func1 = make_box([10])\\nline_func1(3)',\n",
       " '_iii': 'line_func = make_box([2,3])\\nline_func(3)',\n",
       " '_i1': 'from IPython.display import display, HTML\\ndisplay(HTML(\"\"\"\\n<style>\\ndiv.container{width:86% !important;}\\ndiv.cell.code_cell.rendered{width:100%;}\\ndiv.CodeMirror {font-family:Consolas; font-size:15pt;}\\ndiv.output {font-size:15pt; font-weight:bold;}\\ndiv.input {font-family:Consolas; font-size:15pt;}\\ndiv.prompt {min-width:70px;}\\ndiv#toc-wrapper{padding-top:120px;}\\ndiv.text_cell_render ul li{font-size:12pt;padding:5px;}\\ntable.dataframe{font-size:15px;}\\n</style>\\n\"\"\"))',\n",
       " 'display': <function IPython.core.display_functions.display(*objs, include=None, exclude=None, metadata=None, transient=None, display_id=None, raw=False, clear=False, **kwargs)>,\n",
       " 'HTML': IPython.core.display.HTML,\n",
       " '_i2': \"def map_template(func, L=[]):\\n    '''\\n    L의 모든요소를 func()함수를 적용시켜 return\\n    [func(1) for in L]\\n    '''\\n    result = []\\n    for l in L:\\n        result.append(func(1))\\n    return result\\n#     result = [func(1) for l in L]\\n    \",\n",
       " 'map_template': <function __main__.map_template(func, L=[])>,\n",
       " '_i3': 'list_data = [1,2,3,4,5,6,7,8,9,10]\\ndef x_2(x):\\n    return x*2\\nmap_template(x_2, list_data)',\n",
       " 'list_data': [1, 2, 3, 4, 5, 6, 7, 8, 9, 10],\n",
       " 'x_2': <function __main__.x_2(x)>,\n",
       " '_3': [2, 2, 2, 2, 2, 2, 2, 2, 2, 2],\n",
       " '_i4': \"def map_template(func, L=[]):\\n    '''\\n    L의 모든요소를 func()함수를 적용시켜 return\\n    [func(1) for in L]\\n    '''\\n    result = []\\n    for l in L:\\n        result.append(func(1))\\n    return result\\n#     result = [func(1) for l in L]\\n    \",\n",
       " '_i5': 'list_data = [1,2,3,4,5,6,7,8,9,10]\\ndef x_2(x):\\n    return x*2\\nmap_template(x_2, list_data)',\n",
       " '_5': [2, 2, 2, 2, 2, 2, 2, 2, 2, 2],\n",
       " '_i6': 'list_data = [1,2,3,4,5,6,7,8,9,10]\\nmap_template(lambda x : x*2, list_data)',\n",
       " '_6': [2, 2, 2, 2, 2, 2, 2, 2, 2, 2],\n",
       " '_i7': \"def map_template(func, L=[]):\\n    '''\\n    L의 모든요소를 func()함수를 적용시켜 return\\n    [func(1) for in L]\\n    '''\\n    result = []\\n    for l in L:\\n        result.append(func(l))\\n    return result\\n#     result = [func(1) for l in L]\\n    \",\n",
       " '_i8': 'list_data = [1,2,3,4,5,6,7,8,9,10]\\ndef x_2(x):\\n    return x*2\\nmap_template(x_2, list_data)',\n",
       " '_8': [2, 4, 6, 8, 10, 12, 14, 16, 18, 20],\n",
       " '_i9': 'list_data = [1,2,3,4,5,6,7,8,9,10]\\nmap_template(lambda x : x*2, list_data)',\n",
       " '_9': [2, 4, 6, 8, 10, 12, 14, 16, 18, 20],\n",
       " '_i10': '# 리스트 데이터를 가공 방법 2. 리스트 컴프리헨션\\n[l*2 for l in list_data]',\n",
       " '_10': [2, 4, 6, 8, 10, 12, 14, 16, 18, 20],\n",
       " '_i11': '# 리스트 데이터를 가공 방법 3. map(): 파이썬 내장함수\\nmap(lambda x : x*2, list_data)',\n",
       " '_11': <map at 0x1f59413c820>,\n",
       " '_i12': '# 리스트 데이터를 가공 방법 3. map(): 파이썬 내장함수\\nlist(map(lambda x : x*2, list_data))',\n",
       " '_12': [2, 4, 6, 8, 10, 12, 14, 16, 18, 20],\n",
       " '_i13': 'for item in map(lambda x : x*2, list_data):\\n    print(item)',\n",
       " 'item': 20,\n",
       " '_i14': \"for item in map(lambda x : x*2, list_data):\\n    print(item, end=' ')\",\n",
       " '_i15': \"'''\\n예1. [5000,800,1000,6000]로 바꾸시오\\n'''\\nprices = ['5,000','800','1000','6,000']\",\n",
       " 'prices': ['5,000', '800', '1000', '6,000'],\n",
       " '_i16': \"'''\\n예2. member1 = [{'name':'홍길동','birth':'2000-01-03'},\\n                {'name':'신길자','birth':'1989-06-08'}]\\n     member1 = [{'name':'홍길동','year':2000,'month':1, 'day':3},\\n                {'name':'신길자','year':1989,'month':6, 'day':8}]를 바꿉니다\\n'''\",\n",
       " '_16': \"\\n예2. member1 = [{'name':'홍길동','birth':'2000-01-03'},\\n                {'name':'신길자','birth':'1989-06-08'}]\\n     member1 = [{'name':'홍길동','year':2000,'month':1, 'day':3},\\n                {'name':'신길자','year':1989,'month':6, 'day':8}]를 바꿉니다\\n\",\n",
       " '_i17': \"'예3. member2를 member1로 바꿉니다'\",\n",
       " '_17': '예3. member2를 member1로 바꿉니다',\n",
       " '_i18': 'map(int(),prices)',\n",
       " '_18': <map at 0x1f59476fdc0>,\n",
       " '_i19': 'list(map(int(),prices))',\n",
       " '_i20': 'list(map(int,prices))',\n",
       " '_i21': 'list(map(int,extract_numbers(prices))',\n",
       " '_i22': 'list(map(int,extract_numbers(prices)))',\n",
       " '_i23': \"list(map(int,x.replace(',', '')(prices)))\",\n",
       " '_i24': \"def func(x):\\n    return(x.replace(',',''))\",\n",
       " 'func': <function __main__.func(x)>,\n",
       " '_i25': \"def func(x):\\n    return(x.replace(',',''))\\nfunc('5,000')\",\n",
       " '_25': '5000',\n",
       " '_i26': \"def func(x):\\n    return(x.replace(',',''))\\nfunc('5,000','10000')\",\n",
       " '_i27': \"def func(*x):\\n    return(x.replace(',',''))\\nfunc('5,000','10000')\",\n",
       " '_i28': \"def func(*x):\\n    return(x.replace(',',''))\\nfunc('5,000')\",\n",
       " '_i29': \"def func(x):\\n    return(x.replace(',',''))\\nfunc('5,000')\",\n",
       " '_29': '5000',\n",
       " '_i30': \"list(map(lambda x : int(x.replace(',','')), prices))\",\n",
       " '_30': [5000, 800, 1000, 6000],\n",
       " '_i31': \"member1 = [{'name':'홍길동','birth':'2000-01-03'},\\n         {'name':'신길자','birth':'1989-06-08'}]\",\n",
       " 'member1': [{'name': '홍길동', 'birth': '2000-01-03'},\n",
       "  {'name': '신길자', 'birth': '1989-06-08'}],\n",
       " '_i32': \"member1 = [{'name':'홍길동','birth':'2000-01-03'},\\n         {'name':'신길자','birth':'1989-06-08'}]\",\n",
       " '_i33': 'split_data(2000-01-03)',\n",
       " '_i34': \"split_data('2000-01-03')\",\n",
       " '_i35': \"# '2000-01-03' => 'year':2000,'month':1, 'day':3\\ndef split_data(data):\\n    split_data = date.split('-')\\n    print(split_data[0], split_data[1], split_data[2])\",\n",
       " 'split_data': <function __main__.split_data(data)>,\n",
       " '_i36': \"split_data('2000-01-03')\",\n",
       " '_i37': \"split_data = [{'name':'홍길동','birth':'2000-01-03'},\\n         {'name':'신길자','birth':'1989-06-08'}]\",\n",
       " '_i38': \"# '2000-01-03' => 'year':2000,'month':1, 'day':3\\ndef split_data(data):\\n    split_data = date.split('-')\\n    print(split_data[0], split_data[1], split_data[2])\",\n",
       " '_i39': \"split_data('2000-01-03')\",\n",
       " '_i40': \"split_data = [{'name':'홍길동','birth':'2000-01-03'},\\n         {'name':'신길자','birth':'1989-06-08'}]\",\n",
       " '_i41': \"# '2000-01-03' => 'year':2000,'month':1, 'day':3\\ndef split_data(data):\\n    split_data = date.split('-')\\n    print(split_data[0], split_data[1], split_data[2])\",\n",
       " '_i42': \"split_data('2000-01-03')\",\n",
       " '_i43': \"member1 = [{'name':'홍길동','birth':'2000-01-03'},\\n         {'name':'신길자','birth':'1989-06-08'}]\",\n",
       " '_i44': \"# '2000-01-03' => 'year':2000,'month':1, 'day':3\\ndef split_data(data):\\n    split_data = date.split('-')\\n    print(split_data[0], split_data[1], split_data[2])\",\n",
       " '_i45': \"split_data('2000-01-03')\",\n",
       " '_i46': \"# '2000-01-03' => 'year':2000,'month':1, 'day':3\\ndef split_data(data):\\n    split_data = data.split('-')\\n    print(split_data[0], split_data[1], split_data[2])\",\n",
       " '_i47': \"split_data('2000-01-03')\",\n",
       " '_i48': \"# '2000-01-03' => 'year':2000,'month':1, 'day':3\\ndef split_data(data):\\n    split_data = data.split('-')\\n    print(split_data[0], split_data[1], split_data[2])\\n    return {'year':int(split_data[0]),\\n            'month':int(split_data[1]),\\n            'day':int(split_data[2])}\",\n",
       " '_i49': \"# '2000-01-03' => 'year':2000,'month':1, 'day':3\\ndef split_data(data):\\n    split_data = data.split('-')\\n#     print(split_data[0], split_data[1], split_data[2])\\n    return {'year':int(split_data[0]),\\n            'month':int(split_data[1]),\\n            'day':int(split_data[2])}\",\n",
       " '_i50': \"split_data('2000-01-03')\",\n",
       " '_50': {'year': 2000, 'month': 1, 'day': 3},\n",
       " '_i51': \"member2 = list(map(\\n    lambda m: {\\n        'name': m['name'],\\n        'year': int(m['birth'].split('-')[0]),\\n        'month': int(m['birth'].split('-')[1]),\\n        'day': int(m['birth'].split('-')[2])\\n    }, member1))\\n\\nprint(member2)\",\n",
       " 'member2': [{'name': '홍길동', 'year': 2000, 'month': 1, 'day': 3},\n",
       "  {'name': '신길자', 'year': 1989, 'month': 6, 'day': 8}],\n",
       " '_i52': \"member2 = list(map(lambda m: {'name': m['name'],\\n                                'year': int(m['birth'].split('-')[0]),\\n                                    'month': int(m['birth'].split('-')[1]),\\n                                        'day': int(m['birth'].split('-')[2])}, member1))\\n\\nprint(member2)\",\n",
       " '_i53': \"#챗\\nmember2 = list(map(lambda m: {'name': m['name'],\\n                                'year': int(m['birth'].split('-')[0]),\\n                                  'month': int(m['birth'].split('-')[1]),\\n                                   'day': int(m['birth'].split('-')[2])}, member1))\\n\\nprint(member2)\",\n",
       " '_i54': \"#챗\\nmember2 = list(map(lambda m: {'name': m['name'],\\n                                'year': int(m['birth'].split('-')[0]),\\n                                  'month': int(m['birth'].split('-')[1]),\\n                                   'day': int(m['birth'].split('-')[2])}, member1))\\n\\nmember2\",\n",
       " '_54': [{'name': '홍길동', 'year': 2000, 'month': 1, 'day': 3},\n",
       "  {'name': '신길자', 'year': 1989, 'month': 6, 'day': 8}],\n",
       " '_i55': \"#챗\\nmember2 = list(map(lambda m: {'name': m.get('name'),\\n                                'year': int(m['birth'].split('-')[0]),\\n                                  'month': int(m['birth'].split('-')[1]),\\n                                   'day': int(m['birth'].split('-')[2])}, member1))\\n\\nmember2\",\n",
       " '_55': [{'name': '홍길동', 'year': 2000, 'month': 1, 'day': 3},\n",
       "  {'name': '신길자', 'year': 1989, 'month': 6, 'day': 8}],\n",
       " '_i56': \"'예3. member2를 member1로 바꿉니다'\",\n",
       " '_56': '예3. member2를 member1로 바꿉니다',\n",
       " '_i57': \"# {'year':2000,'month':1, 'day':1} => '2000-01-01'를 retrun하는 함수\\ndef join_data(data):\\n    print(data)\",\n",
       " 'join_data': <function __main__.join_data(data)>,\n",
       " '_i58': \"join_data({'year':2000,'month':1, 'day':1})\",\n",
       " '_i59': 'def dict_to_date_flexible(d):\\n    nums = [int(s) for s in str(d.values()) if s.isdigit()]\\n    return f\"{nums[0]:04d}-{nums[1]:02d}-{nums[2]:02d}\" if len(nums) >= 3 else \"0000-00-00\"\\nprint(member1)',\n",
       " 'dict_to_date_flexible': <function __main__.dict_to_date_flexible(d)>,\n",
       " '_i60': '#챗\\ndef dict_to_date_flexible(d):\\n    nums = [int(s) for s in str(d.values()) if s.isdigit()]\\n    return f\"{nums[0]:04d}-{nums[1]:02d}-{nums[2]:02d}\" if len(nums) >= 3 else \"0000-00-00\"\\nprint(member1)',\n",
       " '_i61': 'def join_data(data)\\n    return \"{year}-{month:02}-{day:02}\".format(**data)',\n",
       " '_i62': '#챗\\ndates = list(map(\\n    lambda m: f\"{m.get(\\'year\\', 0):04d}-{m.get(\\'month\\', 0):02d}-{m.get(\\'day\\', 0):02d}\",\\n    member1\\nprint(member1)',\n",
       " '_i63': '#챗\\nmember1 = list(map(\\n    lambda m: f\"{m.get(\\'year\\', 0):04d}-{m.get(\\'month\\', 0):02d}-{m.get(\\'day\\', 0):02d}\",\\n    member1\\nprint(member1)',\n",
       " '_i64': 'member1 = [\\n    {\\'name\\': \\'홍길동\\', \\'year\\': 2000, \\'month\\': 1, \\'day\\': 3},\\n    {\\'name\\': \\'신길자\\', \\'year\\': 1989, \\'month\\': 6, \\'day\\': 8}\\n]\\n\\ndates = list(map(\\n    lambda m: f\"{m.get(\\'year\\', 0):04d}-{m.get(\\'month\\', 0):02d}-{m.get(\\'day\\', 0):02d}\",\\n    member1\\n))\\n\\nprint(dates)',\n",
       " 'dates': ['2000-01-03', '1989-06-08'],\n",
       " '_i65': '#\\ndef lilter_template(func, L=[]):\\n    result = []\\n    for l in L:\\n        if func(l):\\n            result.append(l)\\n    return result',\n",
       " 'lilter_template': <function __main__.lilter_template(func, L=[])>,\n",
       " '_i66': 'def evenChk(value):\\n    return value%2==0\\nevenChk(10)',\n",
       " 'evenChk': <function __main__.evenChk(value)>,\n",
       " '_66': True,\n",
       " '_i67': 'list_data = [1,2,3,4,5]\\nfilter_template(lambda value : value%2==0, list_data)',\n",
       " '_i68': 'list(filter(lambda value : value%2==0, list_data))',\n",
       " '_68': [2, 4],\n",
       " '_i69': 'def evenChk(value):\\n    return value%2==0\\nevenChk(10)',\n",
       " '_69': True,\n",
       " '_i70': 'list_data = [1,2,3,4,5]\\nfilter_template(lambda value : value%2==0, list_data)',\n",
       " '_i71': '#\\ndef pilter_template(func, L=[]):\\n    result = []\\n    for l in L:\\n        if func(l):\\n            result.append(l)\\n    return result',\n",
       " 'pilter_template': <function __main__.pilter_template(func, L=[])>,\n",
       " '_i72': 'def evenChk(value):\\n    return value%2==0\\nevenChk(10)',\n",
       " '_72': True,\n",
       " '_i73': 'list_data = [1,2,3,4,5]\\nfilter_template(lambda value : value%2==0, list_data)',\n",
       " '_i74': 'list(filter(lambda value : value%2==0, list_data))',\n",
       " '_74': [2, 4],\n",
       " '_i75': '#\\ndef pilter_template(func, L=[]):\\n    result = []\\n    for l in L:\\n        if func(l):\\n            result.append(l)\\n    return result',\n",
       " '_i76': 'def evenChk(value):\\n    return value%2==0\\nevenChk(10)',\n",
       " '_76': True,\n",
       " '_i77': 'list_data = [1,2,3,4,5]\\nfilter_template(lambda value : value%2==0, list_data)',\n",
       " '_i78': 'list(filter(lambda value : value%2==0, list_data))',\n",
       " '_78': [2, 4],\n",
       " '_i79': '#\\ndef filter_template(func, L=[]):\\n    result = []\\n    for l in L:\\n        if func(l):\\n            result.append(l)\\n    return result',\n",
       " 'filter_template': <function __main__.filter_template(func, L=[])>,\n",
       " '_i80': 'def evenChk(value):\\n    return value%2==0\\nevenChk(10)',\n",
       " '_80': True,\n",
       " '_i81': 'list_data = [1,2,3,4,5]\\nfilter_template(lambda value : value%2==0, list_data)',\n",
       " '_81': [2, 4],\n",
       " '_i82': 'list(filter(lambda value : value%2==0, list_data))',\n",
       " '_82': [2, 4],\n",
       " '_i83': '[data for data in list_data if data%2==0]',\n",
       " '_83': [2, 4],\n",
       " '_i84': 'number2d = [[9,9],[1,100],[10,1]]\\nnumber2d.sort()\\nnumber2d',\n",
       " 'number2d': [[1, 100], [9, 9, 9, 9, 9, 9], [10, 1]],\n",
       " '_84': [[1, 100], [9, 9], [10, 1]],\n",
       " '_i85': 'def join_date(data):\\n    return \"{year}-{month:02}-{day:02}\".format(**data)',\n",
       " 'join_date': <function __main__.join_date(data)>,\n",
       " '_i86': \"def map_template(func, L=[]):\\n    '''\\n    L의 모든요소를 func()함수를 적용시켜 return\\n    [func(1) for in L]\\n    '''\\n    result = []\\n    for l in L:\\n        result.append(func(l))\\n    return result\\n#     result = [func(1) for l in L]\\n    \",\n",
       " '_i87': '# 리스트 데이터를 가공 방법 1. map_template\\nlist_data = [1, 2, 3, 4, 5, 6, 7, 8, 9, 10]\\nmap_template(lambda x : x*2, list_data)\\n# def x_2(x):\\n#     return x*2\\n# map_template(x_2, list_data)',\n",
       " '_87': [2, 4, 6, 8, 10, 12, 14, 16, 18, 20],\n",
       " '_i88': '# 리스트 테이터를 가공 방법 1. map\\nlist_data = [1,2,3,4,5,6,7,8,9,10]\\nmap_template(lambda x : x*2, list_data)',\n",
       " '_88': [2, 4, 6, 8, 10, 12, 14, 16, 18, 20],\n",
       " '_i89': '# 리스트 데이터를 가공 방법 2. 리스트 컴프리헨션\\n[l*2 for l in list_data]',\n",
       " '_89': [2, 4, 6, 8, 10, 12, 14, 16, 18, 20],\n",
       " '_i90': '# 리스트 데이터를 가공 방법 3. map(): 파이썬 내장함수\\nlist(map(lambda x : x*2, list_data))',\n",
       " '_90': [2, 4, 6, 8, 10, 12, 14, 16, 18, 20],\n",
       " '_i91': \"for item in map(lambda x : x*2, list_data):\\n    print(item, end=' ')\",\n",
       " '_i92': \"'''\\n예1. [5000,800,1000,6000]로 바꾸시오\\n'''\\nprices = ['5,000','800','1000','6,000']\",\n",
       " '_i93': \"def func(x):\\n    return(x.replace(',',''))\\nfunc('5,000')\",\n",
       " '_93': '5000',\n",
       " '_i94': \"list(map(lambda x : int(x.replace(',','')), prices))\",\n",
       " '_94': [5000, 800, 1000, 6000],\n",
       " '_i95': \"'''\\n예2. member1 = [{'name':'홍길동','birth':'2000-01-03'},\\n                {'name':'신길자','birth':'1989-06-08'}]\\n     member1 = [{'name':'홍길동','year':2000,'month':1, 'day':3},\\n                {'name':'신길자','year':1989,'month':6, 'day':8}]를 바꿉니다\\n'''\",\n",
       " '_95': \"\\n예2. member1 = [{'name':'홍길동','birth':'2000-01-03'},\\n                {'name':'신길자','birth':'1989-06-08'}]\\n     member1 = [{'name':'홍길동','year':2000,'month':1, 'day':3},\\n                {'name':'신길자','year':1989,'month':6, 'day':8}]를 바꿉니다\\n\",\n",
       " '_i96': \"member1 = [{'name':'홍길동','birth':'2000-01-03'},\\n         {'name':'신길자','birth':'1989-06-08'}]\",\n",
       " '_i97': \"# '2000-01-03' => 'year':2000,'month':1, 'day':3\\ndef split_data(data):\\n    split_data = data.split('-')\\n#     print(split_data[0], split_data[1], split_data[2])\\n    return {'year':int(split_data[0]),\\n            'month':int(split_data[1]),\\n            'day':int(split_data[2])}\",\n",
       " '_i98': \"split_data('2000-01-03')\",\n",
       " '_98': {'year': 2000, 'month': 1, 'day': 3},\n",
       " '_i99': 'def member_func(member): # {\\'name\\':\\'홍길동\\', \\'birth\\':\\'2000-01-01\\'}\\n    \"{\\'name\\':\\'신길동\\', \\'year\\':1998, \\'month\\':12, \\'day\\':31}식으로 return\"\\n    return {\\n        \\'name\\':member.get(\\'name\\'),\\n        \\'year\\':int(member[\\'birth\\'].split(\\'-\\')[0]),\\n        \\'month\\':int(member[\\'birth\\'].split(\\'-\\')[1]),\\n        \\'day\\':int(member[\\'birth\\'].split(\\'-\\')[2]),\\n    }\\nmember_func(member1[0])',\n",
       " 'member_func': <function __main__.member_func(member)>,\n",
       " '_99': {'name': '홍길동', 'year': 2000, 'month': 1, 'day': 3},\n",
       " '_i100': \"member2 =list(map(lambda member : {\\n                        'name':member.get('name'),\\n                        'year':int(member['birth'].split('-')[0]),\\n                        'month':int(member['birth'].split('-')[1]),\\n                        'day':int(member['birth'].split('-')[2]),\\n                        } ,\\n         member1\\n        )\\n    )\\nmember2\",\n",
       " '_100': [{'name': '홍길동', 'year': 2000, 'month': 1, 'day': 3},\n",
       "  {'name': '신길자', 'year': 1989, 'month': 6, 'day': 8}],\n",
       " '_i101': \"'예3. member2를 member1로 바꿉니다'\",\n",
       " '_101': '예3. member2를 member1로 바꿉니다',\n",
       " '_i102': '# {\\'year\\': 2000, \\'month\\': 1, \\'day\\': 1} => \"2000-01-01\"를 return하는 함수\\ndef join_date(data):\\n    # print([data.get(\\'year\\'), data.get(\\'month\\'), data.get(\\'day\\')])\\n    year = str(data.get(\\'year\\'))\\n    month = data.get(\\'month\\')\\n    if month < 10:\\n        month = \\'0\\'+str(month)\\n    else:\\n        month = str(month)\\n    day = data.get(\\'day\\')\\n    if day < 10:\\n        day = \\'0\\'+str(day)\\n    else:\\n        day = str(day)\\n    return \\'-\\'.join([year, month, day])',\n",
       " '_i103': 'def join_date(data):\\n    print(\"{}-{:02}-{:02}\".format(data.get(\\'year\\'), \\n                                  data.get(\\'month\\'), \\n                                  data.get(\\'day\\')))',\n",
       " '_i104': 'def join_date(data):\\n    print(\"{year}-{month:02}-{day:02}\".format(\\n                                  year = data.get(\\'year\\'), \\n                                  month=data.get(\\'month\\'), \\n                                  day=data.get(\\'day\\')))',\n",
       " '_i105': 'def join_date(data):\\n    return \"{year}-{month:02}-{day:02}\".format(**data)',\n",
       " '_i106': \"join_date({'year': 2000, 'month': 1, 'day': 1})\",\n",
       " '_106': '2000-01-01',\n",
       " '_i107': 'member2',\n",
       " '_107': [{'name': '홍길동', 'year': 2000, 'month': 1, 'day': 3},\n",
       "  {'name': '신길자', 'year': 1989, 'month': 6, 'day': 8}],\n",
       " '_i108': '# {\\'name\\':\\'홍길동\\', \\'year\\':2000, \\'month\\':1, \\'day\\':1}(member2)를 \\n# {\\'name\\':\\'홍길동\\', \\'birth\\':\\'2000-01-01\\'}으로 가공\\nlist(map(lambda member : {\\n                        \\'name\\' : member.get(\\'name\\'),\\n                        \\'birth\\': \"{year}-{month:02}-{day:02}\".format(**member)\\n                        },\\n    member2\\n))',\n",
       " '_108': [{'name': '홍길동', 'birth': '2000-01-03'},\n",
       "  {'name': '신길자', 'birth': '1989-06-08'}],\n",
       " '_i109': 'p = [9, 2, 7]\\np.sort(reverse=True)\\np',\n",
       " 'p': [9, 7, 2],\n",
       " '_109': [9, 7, 2],\n",
       " '_i110': '# 0번째 item기준으로 정렬\\nnumber2d = [[9,9,9,9,9,9],[1,100],[10,1]]\\nnumber2d.sort()\\nnumber2d',\n",
       " '_110': [[1, 100], [9, 9, 9, 9, 9, 9], [10, 1]],\n",
       " '_i111': '# 무조건 0번 item기준으로 정렬\\nnumber2d = [[9, 9, 9, 9, 9, 9],\\n            [1, 100],\\n            [10, 1]]\\nnumber2d.sort(reverse=True) # 기본(reverse=False):오름차순정렬/reverse=True:내림차순정렬\\nnumber2d',\n",
       " '_111': [[1, 100], [9, 9, 9, 9, 9, 9], [10, 1]],\n",
       " '_i112': \"# 무조건 0번쨰 아이템 기준으로 정렬\\npairs = [(2, 'tow'),(1, 'one'),(4, 'four'),(3, 'three')]\\npairs.sort()\\npairs\",\n",
       " 'pairs': [(4, 'four'), (1, 'one'), (3, 'three'), (2, 'tow')],\n",
       " '_112': [(1, 'one'), (2, 'tow'), (3, 'three'), (4, 'four')],\n",
       " '_i113': \"# 1번쨰 item 기준으로 정렬 (abc순)\\npairs = [(2, 'tow'),(1, 'one'),(4, 'four'),(3, 'three')]\\npairs.sort(key=lambda pair : pair[1])\\npairs\",\n",
       " '_113': [(4, 'four'), (1, 'one'), (3, 'three'), (2, 'tow')],\n",
       " '_i114': \"# 1번쨰 item 기준으로 정렬 (abc순)\\npairs = [(2, 'tow'),(1, 'one'),(4, 'four'),(3, 'three')]\\npairs.sort(key=lambda pair : pair[1])\\npairs\",\n",
       " '_114': [(4, 'four'), (1, 'one'), (3, 'three'), (2, 'tow')],\n",
       " '_i115': '# 합이 큰 순으로 정렬\\nnumbers2d.srot(key=lambda item : sum(item))',\n",
       " '_i116': '# 합이 큰 순으로 정렬\\nnumber2d.srot(key=lambda item : sum(item))',\n",
       " '_i117': '# 합이 큰 순으로 정렬\\nnumber2d.sort(key=lambda item : sum(item))',\n",
       " '_i118': '# 합이 큰 순으로 정렬\\nnumber2d.sort(key=lambda item : sum(item))\\nnumber2d',\n",
       " '_118': [[1, 100], [9, 9, 9, 9, 9, 9], [10, 1]],\n",
       " '_i119': '# 합이 큰 순으로 정렬\\nnumber2d.sort(key = lambda item : sum(item))\\nnumber2d',\n",
       " '_119': [[1, 100], [9, 9, 9, 9, 9, 9], [10, 1]],\n",
       " '_i120': '# 합이 큰 순으로 정렬\\nnumber2d.sort(key = lambda item : sum(item), reverse = True)\\nnumber2d',\n",
       " '_120': [[1, 100], [9, 9, 9, 9, 9, 9], [10, 1]],\n",
       " '_i121': '# 리스트를 매개변수로 받아 합을 return\\n(lambda item : sum(item))([1,2,3])',\n",
       " '_121': 6,\n",
       " '_i122': \"students = [{'name':'홍길동','score':'90'},\\n           {'name':'김길동','score':'80'},\\n           {'name':'문길동','score':'70'}]\",\n",
       " 'students': [{'name': '김길동', 'score': '80'},\n",
       "  {'name': '문길동', 'score': '70'},\n",
       "  {'name': '홍길동', 'score': '90'},\n",
       "  {'score': '100'}],\n",
       " '_i123': 'students.sort()\\nstudents',\n",
       " '_i124': 'students.sort()\\n**students',\n",
       " '_i125': 'students.sort()\\nprint(students)',\n",
       " '_i126': 'students.sort()\\nprint(**students)',\n",
       " '_i127': 'students.sort()\\nprint(*students)',\n",
       " '_i128': 'students.sort(key=lambda pair : pair[1])\\nstudents',\n",
       " '_i129': 'students.sort(key=lambda pai)\\nstudents',\n",
       " '_i130': \"students.sort(key=lambda x: int(x['score']), reverse=True)\\nprint(students)\",\n",
       " '_i131': \"students.sort(key=lambda x: int(x['name']))\\nprint(students)\",\n",
       " '_i132': \"students.sort(key=lambda x: int(x['score']), reverse=True)\\nprint(students)\",\n",
       " '_i133': \"students.sort(key=lambda x: int(x['name']))\\nprint(students)\",\n",
       " '_i134': \"students.sort(key=lambda x: x['name'])\\nprint(students)\",\n",
       " '_i135': \"students = [{'name':'홍길동','score':'90'},\\n           {'name':'김길동','score':'80'},\\n           {'name':'문길동','score':'70'},\\n           {'score':'100'}]\",\n",
       " '_i136': \"students.sort(key=lambda x: int(x['score']), reverse=True)\\nprint(students)\",\n",
       " '_i137': \"students.sort(key=lambda x: x['name'])\\nprint(students)\",\n",
       " '_i138': \"students.sort(key=lambda x: x.get('name')\\nprint(students)\",\n",
       " '_i139': \"students.sort(key=lambda x: x.get('name'))\\nprint(students)\",\n",
       " '_i140': \"students.sort(key=lambda x: int(x['score']), reverse=True)\\nprint(students)\",\n",
       " '_i141': \"students.sort(key=lambda x: x.get('name','힣'))\\nprint(students)\",\n",
       " '_i142': \"students.sort(key=lambda x: int(x.get('score', 0)), reverse=True)\\nprint(students)\",\n",
       " '_i143': \"students.sort(key=lambda x: x.get('name','힣'))\\nprint(students,'\\\\n')\",\n",
       " '_i144': \"students.sort(key=lambda x: x.get('name','힣'))\\nprint(students,end='\\\\n')\",\n",
       " '_i145': \"students.sort(key=lambda x: x.get('name','힣'))\\nprint(students)\",\n",
       " '_i146': \"# 책제목순 정렬(ㄱ,ㄴ,ㄷ순), 저자순 정렬(ㄱ,ㄴ,ㄷ순), 가격순 오름차순정렬 \\nbooks = [{'no': 1, 'title':'강남 아파트 인사이트','writer':'오스틀로이드','price':'25,200'},\\n        {'no': 2, 'title':'단 한 번의 삶','writer':'김영하','price':'18,100'},\\n        {'no': 3, 'title':'흔한남매19','writer':'백난도','price':'14,200'},\\n        {'no': 4, 'title':'가격이 잘못','writer':'홍길동','price':'-'},\\n        {'no': 5, 'title':'가격이 숫자','writer':'신길동','price':900},\\n        {'no': 6, 'title':'가격이 없음','writer':'김길동'}]\",\n",
       " 'books': [{'no': 1,\n",
       "   'title': '강남 아파트 인사이트',\n",
       "   'writer': '오스틀로이드',\n",
       "   'price': '25,200'},\n",
       "  {'no': 2, 'title': '단 한 번의 삶', 'writer': '김영하', 'price': '18,100'},\n",
       "  {'no': 3, 'title': '흔한남매19', 'writer': '백난도', 'price': '14,200'},\n",
       "  {'no': 4, 'title': '가격이 잘못', 'writer': '홍길동', 'price': '-'},\n",
       "  {'no': 5, 'title': '가격이 숫자', 'writer': '신길동', 'price': 900},\n",
       "  {'no': 6, 'title': '가격이 없음', 'writer': '김길동'}],\n",
       " '_i147': \"# 책제목순 정렬(ㄱ,ㄴ,ㄷ순), 저자순 정렬(ㄱ,ㄴ,ㄷ순), 가격순 오름차순정렬 \\nbooks = [\\n        {'no': 1, 'title':'강남 아파트 인사이트','writer':'오스틀로이드','price':'25,200'},\\n        {'no': 2, 'title':'단 한 번의 삶','writer':'김영하','price':'18,100'},\\n        {'no': 3, 'title':'흔한남매19','writer':'백난도','price':'14,200'},\\n        {'no': 4, 'title':'가격이 잘못','writer':'홍길동','price':'-'},\\n        {'no': 5, 'title':'가격이 숫자','writer':'신길동','price':900},\\n        {'no': 6, 'title':'가격이 없음','writer':'김길동'}\\n]\",\n",
       " '_i148': 'books.sort(key = lambda book : book.get(title))\\nbooks',\n",
       " '_i149': \"books.sort(key = lambda book : book.get('title'))\\nbooks\",\n",
       " '_149': [{'no': 6, 'title': '가격이 없음', 'writer': '김길동'},\n",
       "  {'no': 3, 'title': '흔한남매19', 'writer': '백난도', 'price': '14,200'},\n",
       "  {'no': 2, 'title': '단 한 번의 삶', 'writer': '김영하', 'price': '18,100'},\n",
       "  {'no': 5, 'title': '가격이 숫자', 'writer': '신길동', 'price': 900},\n",
       "  {'no': 1, 'title': '강남 아파트 인사이트', 'writer': '오스틀로이드', 'price': '25,200'},\n",
       "  {'no': 4, 'title': '가격이 잘못', 'writer': '홍길동', 'price': '-'}],\n",
       " '_i150': \"# 저자순 정렬(ㄱ,ㄴ,ㄷ순)\\nbooks.sort(key = lambda book : book.get('writer'))\",\n",
       " '_i151': \"# 저자순 정렬(ㄱ,ㄴ,ㄷ순)\\nbooks.sort(key = lambda book : book.get('writer'))\",\n",
       " '_i152': \"# 저자순 정렬(ㄱ,ㄴ,ㄷ순)\\nbooks.sort(key = lambda book : book.get('writer'))\\nbooks\",\n",
       " '_152': [{'no': 6, 'title': '가격이 없음', 'writer': '김길동'},\n",
       "  {'no': 3, 'title': '흔한남매19', 'writer': '백난도', 'price': '14,200'},\n",
       "  {'no': 2, 'title': '단 한 번의 삶', 'writer': '김영하', 'price': '18,100'},\n",
       "  {'no': 5, 'title': '가격이 숫자', 'writer': '신길동', 'price': 900},\n",
       "  {'no': 1, 'title': '강남 아파트 인사이트', 'writer': '오스틀로이드', 'price': '25,200'},\n",
       "  {'no': 4, 'title': '가격이 잘못', 'writer': '홍길동', 'price': '-'}],\n",
       " '_i153': \"# 가격순 오름차순정렬 \\nbooks.sort(key = lambda book : book.get('price'))\\nbooks\",\n",
       " '_i154': \"# 가격순 오름차순정렬 \\nbooks.sort(key = lambda book : book.get('price',0))\\nbooks\",\n",
       " '_i155': \"# 가격순 오름차순정렬 \\nbooks.sort(key = lambda book : book.get('price','0'))\\nbooks\",\n",
       " '_i156': \"#'14,000' -> 14000 / 800 -> 800 / '-' -> 0\\ndef parse_int(price):\\n    price(type(price))\",\n",
       " 'parse_int': <function __main__.parse_int(book)>,\n",
       " '_i157': 'parse_int',\n",
       " '_157': <function __main__.parse_int(price)>,\n",
       " '_i158': 'parse_int(800)',\n",
       " '_i159': \"#'14,000' -> 14000 / 800 -> 800 / '-' -> 0\\ndef parse_int(price):\\n    print(type(price))\",\n",
       " '_i160': 'parse_int(800)',\n",
       " '_i161': \"parse_int('800')\",\n",
       " '_i162': \"#'14,000' -> 14000 /'2000'-> 2000 / 800 -> 800 / '-' -> 0\\ndef parse_int(price):\\n#     print(type(price))\\n    if isinstance(price, str) and price.replace(',','').isdigit():\\n        return int(price.replace(',',''))\\n    elif isinstance(price, int):\\n        return price\\n        \",\n",
       " '_i163': \"parse_int('800')\",\n",
       " '_163': 800,\n",
       " '_i164': 'parse_int(6000)',\n",
       " '_164': 6000,\n",
       " '_i165': \"parse_int('6,000')\",\n",
       " '_165': 6000,\n",
       " '_i166': \"parse_int('6,000'),parse_int('6000'),parse_int(6000)\",\n",
       " '_166': (6000, 6000, 6000),\n",
       " '_i167': \"parse_int('6,000'),parse_int('6000'),parse_int(6000),parse_int('-')\",\n",
       " '_167': (6000, 6000, 6000, None),\n",
       " '_i168': \"#'14,000' -> 14000 /'2000'-> 2000 / 800 -> 800 / '-' -> 0\\ndef parse_int(price):\\n#     print(type(price))\\n    if isinstance(price, str) and price.replace(',','').isdigit():\\n        return int(price.replace(',',''))\\n    elif isinstance(price, int):\\n        return price\\n    else:\\n        return 0\",\n",
       " '_i169': \"parse_int('6,000'),parse_int('6000'),parse_int(6000),parse_int('-')\",\n",
       " '_169': (6000, 6000, 6000, 0),\n",
       " '_i170': \"#'14,000' -> 14000 /'2000'-> 2000 / 800 -> 800 / '-' -> 0\\ndef parse_int(price):\\n#     print(type(price))\\n    if isinstance(price, str) and price.replace(',','').isdigit():\\n        return int(price.replace(',',''))\\n    elif isinstance(price, int):\\n        return price\\n    else:\\n        return '가격 표시되지 않음'\",\n",
       " '_i171': \"parse_int('6,000'),parse_int('6000'),parse_int(6000),parse_int('-')\",\n",
       " '_171': (6000, 6000, 6000, '가격 표시되지 않음'),\n",
       " '_i172': \"# 가격순 오름차순정렬 \\nbooks.sort(key = lambda book : book.get('price','0'))\\nbooks\",\n",
       " '_i173': \"#'14,000' -> 14000 /'2000'-> 2000 / 800 -> 800 / '-' -> 0\\ndef parse_int(price):\\n#     print(type(price))\\n    if isinstance(price, str) and price.replace(',','').isdigit():\\n        return int(price.replace(',',''))\\n    elif isinstance(price, int):\\n        return price\\n    else:\\n        return '가격 표기되지 않음'\",\n",
       " '_i174': \"parse_int('6,000'),parse_int('6000'),parse_int(6000),parse_int('-')\",\n",
       " '_174': (6000, 6000, 6000, '가격 표기되지 않음'),\n",
       " '_i175': \"# {'no': 6, 'title':'가격이 없음','writer':'김길동'} => 0\\n# {'no': 3, 'title':'흔한남매19','writer':'백난도','price':'14,200'} => 14200\\n# {'no': 5, 'title':'가격이 숫자','writer':'신길동','price':900} => 900\\ndef parse_int(book):\\n    if isinstance(book.get('price'), str) and book.get('price').replace(',','').isdigit():\\n        return int(book.get('plice').replace(',',''))\\n    elif isinstance(book.get('plice'), int):\\n        return book.get('plice')\\n    else:\\n        return '가격이 표기되지 않음'\",\n",
       " '_i176': \"# {'no': 6, 'title':'가격이 없음','writer':'김길동'} => 0\\n# {'no': 3, 'title':'흔한남매19','writer':'백난도','price':'14,200'} => 14200\\n# {'no': 5, 'title':'가격이 숫자','writer':'신길동','price':900} => 900\\ndef parse_int(book):\\n    if isinstance(book.get('price'), str) and book.get('price').replace(',','').isdigit():\\n        return int(book.get('plice').replace(',',''))\\n    elif isinstance(book.get('plice'), int):\\n        return book.get('plice')\\n    else:\\n        return '가격이 표기되지 않음'\\nparse_int\",\n",
       " '_176': <function __main__.parse_int(book)>,\n",
       " '_i177': \"# {'no': 6, 'title':'가격이 없음','writer':'김길동'} => 0\\n# {'no': 3, 'title':'흔한남매19','writer':'백난도','price':'14,200'} => 14200\\n# {'no': 5, 'title':'가격이 숫자','writer':'신길동','price':900} => 900\\ndef parse_int(book):\\n    if isinstance(book.get('price'), str) and book.get('price').replace(',','').isdigit():\\n        return int(book.get('plice').replace(',',''))\\n    elif isinstance(book.get('plice'), int):\\n        return book.get('plice')\\n    else:\\n        return '가격이 표기되지 않음'\\nparse_int(book[0])\",\n",
       " '_i178': \"# {'no': 6, 'title':'가격이 없음','writer':'김길동'} => 0\\n# {'no': 3, 'title':'흔한남매19','writer':'백난도','price':'14,200'} => 14200\\n# {'no': 5, 'title':'가격이 숫자','writer':'신길동','price':900} => 900\\ndef parse_int(book):\\n    if isinstance(book.get('price'), str) and book.get('price').replace(',','').isdigit():\\n        return int(book.get('plice').replace(',',''))\\n    elif isinstance(book.get('plice'), int):\\n        return book.get('plice')\\n    else:\\n        return '가격이 표기되지 않음'\\nparse_int(books[0])\",\n",
       " '_178': '가격이 표기되지 않음',\n",
       " '_i179': \"# {'no': 6, 'title':'가격이 없음','writer':'김길동'} => 0\\n# {'no': 3, 'title':'흔한남매19','writer':'백난도','price':'14,200'} => 14200\\n# {'no': 5, 'title':'가격이 숫자','writer':'신길동','price':900} => 900\\ndef parse_int(book):\\n    if isinstance(book.get('price'), str) and book.get('price').replace(',','').isdigit():\\n        return int(book.get('plice').replace(',',''))\\n    elif isinstance(book.get('plice'), int):\\n        return book.get('plice')\\n    else:\\n        return '가격이 표기되지 않음'\\nparse_int(books[0]),parse_int(books[4]),parse_int(books[0]),parse_int(books[0])\",\n",
       " '_i180': \"# {'no': 6, 'title':'가격이 없음','writer':'김길동'} => 0\\n# {'no': 3, 'title':'흔한남매19','writer':'백난도','price':'14,200'} => 14200\\n# {'no': 5, 'title':'가격이 숫자','writer':'신길동','price':900} => 900\\ndef parse_int(book):\\n    if isinstance(book.get('price'), str) and book.get('price').replace(',','').isdigit():\\n        return int(book.get('plice').replace(',',''))\\n    elif isinstance(book.get('plice'), int):\\n        return book.get('plice')\\n    else:\\n        return '가격이 표기되지 않음'\\nparse_int(books[0]),parse_int(books[3]),parse_int(books[0]),parse_int(books[0])\",\n",
       " '_180': ('가격이 표기되지 않음', '가격이 표기되지 않음', '가격이 표기되지 않음', '가격이 표기되지 않음'),\n",
       " '_i181': \"# {'no': 6, 'title':'가격이 없음','writer':'김길동'} => 0\\n# {'no': 3, 'title':'흔한남매19','writer':'백난도','price':'14,200'} => 14200\\n# {'no': 5, 'title':'가격이 숫자','writer':'신길동','price':900} => 900\\ndef parse_int(book):\\n    if isinstance(book.get('price'), str) and book.get('price').replace(',','').isdigit():\\n        return int(book.get('plice').replace(',',''))\\n    elif isinstance(book.get('plice'), int):\\n        return book.get('plice')\\n    else:\\n        return '가격이 표기되지 않음'\\nparse_int(books[0]),parse_int(books[3]),parse_int(books[2]),parse_int(books[0])\",\n",
       " '_i182': \"# {'no': 6, 'title':'가격이 없음','writer':'김길동'} => 0\\n# {'no': 3, 'title':'흔한남매19','writer':'백난도','price':'14,200'} => 14200\\n# {'no': 5, 'title':'가격이 숫자','writer':'신길동','price':900} => 900\\ndef parse_int(book):\\n    if isinstance(book.get('price'), str) and book.get('price').replace(',','').isdigit():\\n        return int(book.get('plice').replace(',',''))\\n    elif isinstance(book.get('plice'), int):\\n        return book.get('plice')\\n    else:\\n        return '가격이 표기되지 않음'\\nparse_int(books[0]),parse_int(books[3]),parse_int(books[2])\",\n",
       " '_i183': \"# {'no': 6, 'title':'가격이 없음','writer':'김길동'} => 0\\n# {'no': 3, 'title':'흔한남매19','writer':'백난도','price':'14,200'} => 14200\\n# {'no': 5, 'title':'가격이 숫자','writer':'신길동','price':900} => 900\\ndef parse_int(book):\\n    if isinstance(book.get('price'), str) and book.get('price').replace(',','').isdigit():\\n        return int(book.get('plice').replace(',',''))\\n    elif isinstance(book.get('plice'), int):\\n        return book.get('plice')\\n    else:\\n        return '가격이 표기되지 않음'\\nparse_int(books[0]),parse_int(books[3]),parse_int(books[2]),parse_int(books[5])\",\n",
       " '_i184': \"# {'no': 6, 'title':'가격이 없음','writer':'김길동'} => 0\\n# {'no': 3, 'title':'흔한남매19','writer':'백난도','price':'14,200'} => 14200\\n# {'no': 5, 'title':'가격이 숫자','writer':'신길동','price':900} => 900\\ndef parse_int(book):\\n    if isinstance(book.get('price'), str) and book.get('price').replace(',','').isdigit():\\n        return int(book.get('price').replace(',',''))\\n    elif isinstance(book.get('price'), int):\\n        return book.get('price')\\n    else:\\n        return '가격이 표기되지 않음'\\nparse_int(books[0]),parse_int(books[3]),parse_int(books[2]),parse_int(books[5])\",\n",
       " '_184': ('가격이 표기되지 않음', 900, 18100, '가격이 표기되지 않음'),\n",
       " '_i185': 'parse_int(books)',\n",
       " '_i186': 'books',\n",
       " '_186': [{'no': 6, 'title': '가격이 없음', 'writer': '김길동'},\n",
       "  {'no': 3, 'title': '흔한남매19', 'writer': '백난도', 'price': '14,200'},\n",
       "  {'no': 2, 'title': '단 한 번의 삶', 'writer': '김영하', 'price': '18,100'},\n",
       "  {'no': 5, 'title': '가격이 숫자', 'writer': '신길동', 'price': 900},\n",
       "  {'no': 1, 'title': '강남 아파트 인사이트', 'writer': '오스틀로이드', 'price': '25,200'},\n",
       "  {'no': 4, 'title': '가격이 잘못', 'writer': '홍길동', 'price': '-'}],\n",
       " '_i187': \"books = [\\n        {'no': 1, 'title':'강남 아파트 인사이트','writer':'오스틀로이드','price':'25,200'},\\n        {'no': 2, 'title':'단 한 번의 삶','writer':'김영하','price':'18,100'},\\n        {'no': 3, 'title':'흔한남매19','writer':'백난도','price':'14,200'},\\n        {'no': 4, 'title':'가격이 잘못','writer':'홍길동','price':'-'},\\n        {'no': 5, 'title':'가격이 숫자','writer':'신길동','price':900},\\n        {'no': 6, 'title':'가격이 없음','writer':'김길동'}\\n]\",\n",
       " '_i188': \"books = [\\n        {'no': 1, 'title':'강남 아파트 인사이트','writer':'오스틀로이드','price':'25,200'},\\n        {'no': 2, 'title':'단 한 번의 삶','writer':'김영하','price':'18,100'},\\n        {'no': 3, 'title':'흔한남매19','writer':'백난도','price':'14,200'},\\n        {'no': 4, 'title':'가격이 잘못','writer':'홍길동','price':'-'},\\n        {'no': 5, 'title':'가격이 숫자','writer':'신길동','price':900},\\n        {'no': 6, 'title':'가격이 없음','writer':'김길동'}\\n]\\ncopy_books = books.copt()\",\n",
       " '_i189': \"books = [\\n        {'no': 1, 'title':'강남 아파트 인사이트','writer':'오스틀로이드','price':'25,200'},\\n        {'no': 2, 'title':'단 한 번의 삶','writer':'김영하','price':'18,100'},\\n        {'no': 3, 'title':'흔한남매19','writer':'백난도','price':'14,200'},\\n        {'no': 4, 'title':'가격이 잘못','writer':'홍길동','price':'-'},\\n        {'no': 5, 'title':'가격이 숫자','writer':'신길동','price':900},\\n        {'no': 6, 'title':'가격이 없음','writer':'김길동'}\\n]\\ncopy_books = books.copy()\",\n",
       " 'copy_books': [{'no': 1,\n",
       "   'title': '강남 아파트 인사이트',\n",
       "   'writer': '오스틀로이드',\n",
       "   'price': '25,200'},\n",
       "  {'no': 2, 'title': '단 한 번의 삶', 'writer': '김영하', 'price': '18,100'},\n",
       "  {'no': 3, 'title': '흔한남매19', 'writer': '백난도', 'price': '14,200'},\n",
       "  {'no': 4, 'title': '가격이 잘못', 'writer': '홍길동', 'price': '-'},\n",
       "  {'no': 5, 'title': '가격이 숫자', 'writer': '신길동', 'price': 900},\n",
       "  {'no': 6, 'title': '가격이 없음', 'writer': '김길동'}],\n",
       " '_i190': \"copy_books.sort(key = lambda book : int(book.get('price').replace(',','')) \\\\\\n                if isinstance(book.get('price'), str) and \\\\\\n                book.get('price').replace(',','').isdigit() else \\\\\\n                book.get('price') if isinstance(book.get('price'), int) else \\\\\\n                '가격이 표기되지 않음')\",\n",
       " '_i191': \"copy_books.sort(key = lambda book : int(book.get('price').replace(',','')) \\\\\\n                if isinstance(book.get('price'), str) and \\\\\\n                book.get('price').replace(',','').isdigit() else \\\\\\n                book.get('price') if isinstance(book.get('price'), int) else \\\\\\n                0)\",\n",
       " '_i192': 'copy_books',\n",
       " '_192': [{'no': 4, 'title': '가격이 잘못', 'writer': '홍길동', 'price': '-'},\n",
       "  {'no': 6, 'title': '가격이 없음', 'writer': '김길동'},\n",
       "  {'no': 5, 'title': '가격이 숫자', 'writer': '신길동', 'price': 900},\n",
       "  {'no': 3, 'title': '흔한남매19', 'writer': '백난도', 'price': '14,200'},\n",
       "  {'no': 2, 'title': '단 한 번의 삶', 'writer': '김영하', 'price': '18,100'},\n",
       "  {'no': 1, 'title': '강남 아파트 인사이트', 'writer': '오스틀로이드', 'price': '25,200'}],\n",
       " '_i193': 'books',\n",
       " '_193': [{'no': 1,\n",
       "   'title': '강남 아파트 인사이트',\n",
       "   'writer': '오스틀로이드',\n",
       "   'price': '25,200'},\n",
       "  {'no': 2, 'title': '단 한 번의 삶', 'writer': '김영하', 'price': '18,100'},\n",
       "  {'no': 3, 'title': '흔한남매19', 'writer': '백난도', 'price': '14,200'},\n",
       "  {'no': 4, 'title': '가격이 잘못', 'writer': '홍길동', 'price': '-'},\n",
       "  {'no': 5, 'title': '가격이 숫자', 'writer': '신길동', 'price': 900},\n",
       "  {'no': 6, 'title': '가격이 없음', 'writer': '김길동'}],\n",
       " '_i194': \"# {'no': 6, 'title':'가격이 없음','writer':'김길동'} => 0\\n# {'no': 3, 'title':'흔한남매19','writer':'백난도','price':'14,200'} => 14200\\n# {'no': 5, 'title':'가격이 숫자','writer':'신길동','price':900} => 900\\ndef parse_int(book):\\n    if isinstance(book.get('price'), str) and book.get('price').replace(',','').isdigit():\\n        return int(book.get('price').replace(',',''))\\n    elif isinstance(book.get('price'), int):\\n        return book.get('price')\\n    else:\\n        return 0\\nparse_int(books[0]),parse_int(books[3]),parse_int(books[2]),parse_int(books[5])\",\n",
       " '_194': (25200, 0, 14200, 0),\n",
       " '_i195': \"copy_books.sort(key = lambda book : int(book.get('price').replace(',','')) \\\\\\n                if isinstance(book.get('price'), str) and \\\\\\n                book.get('price').replace(',','').isdigit() else \\\\\\n                book.get('price') if isinstance(book.get('price'), int) else \\\\\\n                0)\",\n",
       " '_i196': 'copy_books',\n",
       " '_196': [{'no': 4, 'title': '가격이 잘못', 'writer': '홍길동', 'price': '-'},\n",
       "  {'no': 6, 'title': '가격이 없음', 'writer': '김길동'},\n",
       "  {'no': 5, 'title': '가격이 숫자', 'writer': '신길동', 'price': 900},\n",
       "  {'no': 3, 'title': '흔한남매19', 'writer': '백난도', 'price': '14,200'},\n",
       "  {'no': 2, 'title': '단 한 번의 삶', 'writer': '김영하', 'price': '18,100'},\n",
       "  {'no': 1, 'title': '강남 아파트 인사이트', 'writer': '오스틀로이드', 'price': '25,200'}],\n",
       " '_i197': 'books',\n",
       " '_197': [{'no': 1,\n",
       "   'title': '강남 아파트 인사이트',\n",
       "   'writer': '오스틀로이드',\n",
       "   'price': '25,200'},\n",
       "  {'no': 2, 'title': '단 한 번의 삶', 'writer': '김영하', 'price': '18,100'},\n",
       "  {'no': 3, 'title': '흔한남매19', 'writer': '백난도', 'price': '14,200'},\n",
       "  {'no': 4, 'title': '가격이 잘못', 'writer': '홍길동', 'price': '-'},\n",
       "  {'no': 5, 'title': '가격이 숫자', 'writer': '신길동', 'price': 900},\n",
       "  {'no': 6, 'title': '가격이 없음', 'writer': '김길동'}],\n",
       " '_i198': \"books = [\\n        {'no': 1, 'title':'강남 아파트 인사이트','writer':'오스틀로이드','price':'25,200'},\\n        {'no': 2, 'title':'단 한 번의 삶','writer':'김영하','price':'18,100'},\\n        {'no': 3, 'title':'흔한남매19','writer':'백난도','price':'14,200'},\\n        {'no': 4, 'title':'가격이 잘못','writer':'홍길동','price':'-'},\\n        {'no': 5, 'title':'가격이 숫자','writer':'신길동','price':900},\\n        {'no': 6, 'title':'가격이 없음','writer':'김길동'}\\n]\\ncopy_books = books.copy()\",\n",
       " '_i199': \"#'14,000' -> 14000 /'2000'-> 2000 / 800 -> 800 / '-' -> 0\\ndef parse_int(price):\\n#     print(type(price))\\n    if isinstance(price, str) and price.replace(',','').isdigit():\\n        return int(price.replace(',',''))\\n    elif isinstance(price, int):\\n        return price\\n    else:\\n        return 0\",\n",
       " '_i200': \"parse_int('6,000'),parse_int('6000'),parse_int(6000),parse_int('-')\",\n",
       " '_200': (6000, 6000, 6000, 0),\n",
       " '_i201': \"# {'no': 6, 'title':'가격이 없음','writer':'김길동'} => 0\\n# {'no': 3, 'title':'흔한남매19','writer':'백난도','price':'14,200'} => 14200\\n# {'no': 5, 'title':'가격이 숫자','writer':'신길동','price':900} => 900\\ndef parse_int(book):\\n    if isinstance(book.get('price'), str) and book.get('price').replace(',','').isdigit():\\n        return int(book.get('price').replace(',',''))\\n    elif isinstance(book.get('price'), int):\\n        return book.get('price')\\n    else:\\n        return 0\\nparse_int(books[0]),parse_int(books[3]),parse_int(books[2]),parse_int(books[5])\",\n",
       " '_201': (25200, 0, 14200, 0),\n",
       " '_i202': \"copy_books.sort(key = lambda book : int(book.get('price').replace(',','')) \\\\\\n                if isinstance(book.get('price'), str) and \\\\\\n                book.get('price').replace(',','').isdigit() else \\\\\\n                book.get('price') if isinstance(book.get('price'), int) else \\\\\\n                0)\",\n",
       " '_i203': 'copy_books',\n",
       " '_203': [{'no': 4, 'title': '가격이 잘못', 'writer': '홍길동', 'price': '-'},\n",
       "  {'no': 6, 'title': '가격이 없음', 'writer': '김길동'},\n",
       "  {'no': 5, 'title': '가격이 숫자', 'writer': '신길동', 'price': 900},\n",
       "  {'no': 3, 'title': '흔한남매19', 'writer': '백난도', 'price': '14,200'},\n",
       "  {'no': 2, 'title': '단 한 번의 삶', 'writer': '김영하', 'price': '18,100'},\n",
       "  {'no': 1, 'title': '강남 아파트 인사이트', 'writer': '오스틀로이드', 'price': '25,200'}],\n",
       " '_i204': 'books',\n",
       " '_204': [{'no': 1,\n",
       "   'title': '강남 아파트 인사이트',\n",
       "   'writer': '오스틀로이드',\n",
       "   'price': '25,200'},\n",
       "  {'no': 2, 'title': '단 한 번의 삶', 'writer': '김영하', 'price': '18,100'},\n",
       "  {'no': 3, 'title': '흔한남매19', 'writer': '백난도', 'price': '14,200'},\n",
       "  {'no': 4, 'title': '가격이 잘못', 'writer': '홍길동', 'price': '-'},\n",
       "  {'no': 5, 'title': '가격이 숫자', 'writer': '신길동', 'price': 900},\n",
       "  {'no': 6, 'title': '가격이 없음', 'writer': '김길동'}],\n",
       " '_i205': \"books = [\\n        {'no': 1, 'title':'강남 아파트 인사이트','writer':'오스틀로이드','price':'25,200'},\\n        {'no': 2, 'title':'단 한 번의 삶','writer':'김영하','price':'18,100'},\\n        {'no': 3, 'title':'흔한남매19','writer':'백난도','price':'14,200'},\\n        {'no': 4, 'title':'가격이 잘못','writer':'홍길동','price':'-'},\\n        {'no': 5, 'title':'가격이 숫자','writer':'신길동','price':900},\\n        {'no': 6, 'title':'가격이 없음','writer':'김길동'}\\n]\\ncopy_books = books.copy()\",\n",
       " '_i206': '# 함수를 리턴\\ndef make_box(shape): # shape : [l] => len가 l인 list를 생성하는 함수 return,\\n                     #        : [r,c] => r행 c열인 2차원 list를 생성하는 함수 return\\n    def box(init_value):\\n        if len(shape)==1:\\n            return [init_value]*shape[0]\\n        elif len(shape)==2:\\n            return [ [init_value]*shape[1] ] * shape[0]\\n    return box ',\n",
       " 'make_box': <function __main__.make_box(shape)>,\n",
       " '_i207': 'line_func = make_box([2,3])',\n",
       " 'line_func': <function __main__.make_box.<locals>.box(init_value)>,\n",
       " '_i208': 'line_func = make_box([2,3])\\nline_func(3)',\n",
       " '_208': [[3, 3, 3], [3, 3, 3]],\n",
       " '_i209': 'line_func1 = make_box([10])\\nline_func1(3)',\n",
       " 'line_func1': <function __main__.make_box.<locals>.box(init_value)>,\n",
       " '_209': [3, 3, 3, 3, 3, 3, 3, 3, 3, 3],\n",
       " '_i210': 'def make_box(shape):\\n    if len(shape)==1:\\n        return lambda init_value : [init_value]*shape[0]\\n    elif len(shape)==2:\\n        return lambda init_value : [[init_value]*shape[1] * shape[0]]',\n",
       " '_i211': 'globals() # 전역변수 리스트'}"
      ]
     },
     "execution_count": 211,
     "metadata": {},
     "output_type": "execute_result"
    }
   ],
   "source": [
    "globals() # 전역변수 리스트"
   ]
  },
  {
   "cell_type": "code",
   "execution_count": 214,
   "id": "f29a880a",
   "metadata": {},
   "outputs": [
    {
     "data": {
      "text/plain": [
       "False"
      ]
     },
     "execution_count": 214,
     "metadata": {},
     "output_type": "execute_result"
    }
   ],
   "source": [
    "all([True,True,True,True,False]) # 전부 True인지 여부"
   ]
  },
  {
   "cell_type": "code",
   "execution_count": 215,
   "id": "6ff4f03d",
   "metadata": {},
   "outputs": [
    {
     "data": {
      "text/plain": [
       "4"
      ]
     },
     "execution_count": 215,
     "metadata": {},
     "output_type": "execute_result"
    }
   ],
   "source": [
    "round(3.5) # 반올림"
   ]
  },
  {
   "cell_type": "code",
   "execution_count": 219,
   "id": "309faffe",
   "metadata": {},
   "outputs": [
    {
     "data": {
      "text/plain": [
       "(4.0, 4.0, 3.0)"
      ]
     },
     "execution_count": 219,
     "metadata": {},
     "output_type": "execute_result"
    }
   ],
   "source": [
    "import numpy as np # numpy 모듈을 np라는 이름으로 load\n",
    "np.round(3.5), np.ceil(3.1), np.floor(3.9) # 반올림, 올림, 내림"
   ]
  },
  {
   "cell_type": "code",
   "execution_count": 220,
   "id": "ac8b5c93",
   "metadata": {},
   "outputs": [
    {
     "data": {
      "text/plain": [
       "(7, 1)"
      ]
     },
     "execution_count": 220,
     "metadata": {},
     "output_type": "execute_result"
    }
   ],
   "source": [
    "# 1.함수의인자로 리스트를 받은 후 리스트 내에 있는 모든 정수값에 대한 최대값과 최소값을\n",
    "# 리턴하는 함수를 작성하세요\n",
    "def get_max_min(data_list):\n",
    "    return max(data_list), min(data_list)\n",
    "\n",
    "get_max_min = lambda data_list : (max(data_list), min(data_list)) \n",
    "get_max_min([1,2,3,4,5,6,7])"
   ]
  },
  {
   "cell_type": "code",
   "execution_count": 249,
   "id": "5f8e1807",
   "metadata": {},
   "outputs": [
    {
     "data": {
      "text/plain": [
       "'고도비만'"
      ]
     },
     "execution_count": 249,
     "metadata": {},
     "output_type": "execute_result"
    }
   ],
   "source": [
    "# 2.체질량 지수(Body Mass Index, BMI)는 체중과 키를 이용해 비만도를 나타내는 지수로 아래의 \n",
    "# 수식에 의해 계산됩니다. 함수의 인자로 체중(kg)과 신장(m)를입력받은 후 BMI값에 따라 ‘마른 체형‘,\n",
    "# ‘표준‘, ‘비만‘, ‘고도비만‘ 중 하나의 상태를 출력하는 함수를 구현해 보세요.\n",
    "# •getBMI(kg, m):\n",
    "# •BMI지수 = 체중(kg) / 신장(m)의 제곱\n",
    "# •BMI<18.5 : 마른체형\n",
    "# •18.5<=BMI<25 : 표준\n",
    "# •25<=BMI<30 : 비만\n",
    "# •BMI >=30 : 고도비만\n",
    "getBMI = lambda kg, m :'마름' if kg/(m**2) < 18.5  else\\\n",
    "                            '표준' if 18.5 <= kg/(m**2) < 25  else\\\n",
    "                            '비만' if 25 <= kg/(m**2) < 30  else\\\n",
    "                            '고도비만' if 30 <= kg/(m**2)  else '입력값이 옳지 않음'\n",
    "getBMI(120,1.78)"
   ]
  },
  {
   "cell_type": "code",
   "execution_count": 265,
   "id": "d77ae26f",
   "metadata": {},
   "outputs": [
    {
     "data": {
      "text/plain": [
       "(10.0, 15.403124237432849)"
      ]
     },
     "execution_count": 265,
     "metadata": {},
     "output_type": "execute_result"
    }
   ],
   "source": [
    "# 3.직각삼각형의 밑변과 높이를 입력받은 후 삼각형의 면적과 둘레를 계산하는 함수를 작성하세요\n",
    "# •리턴값은 면적과 둘레를 return하도록 구현하세요\n",
    "# •math.sqrt() : 제곱근을 구하는 함수이용 (ex)math.sqrt(25) : 5.0\n",
    "# •def get_triangle(width, height):\n",
    "import math\n",
    "def get_triangle(width, height):\n",
    "    A = (width*height)/2\n",
    "    B = math.sqrt(width**2+height**2)+width+height\n",
    "    return A,B\n",
    "get_triangle(4,5)"
   ]
  },
  {
   "cell_type": "code",
   "execution_count": 273,
   "id": "3b95b7b4",
   "metadata": {},
   "outputs": [
    {
     "data": {
      "text/plain": [
       "15"
      ]
     },
     "execution_count": 273,
     "metadata": {},
     "output_type": "execute_result"
    }
   ],
   "source": [
    "# 4.함수의 인자로 시작과 끝 숫자가 주어질 때 시작부터 끝까지의 모든 정수값의 합을 리턴하는 \n",
    "# 함수를 작성하세요(시작값과 끝값 포함).\n",
    "# •def mysum(from, end):\n",
    "def mysum(fRom, end):\n",
    "    sum_ = sum(range(fRom,(end+1)))\n",
    "    return sum_\n",
    "mysum(1,5)"
   ]
  },
  {
   "cell_type": "code",
   "execution_count": 299,
   "id": "7e4b01f3",
   "metadata": {},
   "outputs": [
    {
     "data": {
      "text/plain": [
       "['Seo', 'Dae', 'Kwa', 'Jej']"
      ]
     },
     "execution_count": 299,
     "metadata": {},
     "output_type": "execute_result"
    }
   ],
   "source": [
    "# 5.함수의인자로 문자열을 포함하는 리스트가 입력될 때 각 문자열의\n",
    "# 첫 세글자로만 구성된 리스트를 리턴하는 함수와 람다식을 작성하세요\n",
    "# •예를 들어 함수의 입력으로 [‘Seoul’, ‘Daegu’, ‘Kwangju’, ‘Jeju’]가 입력될 때 \n",
    "# 함수의 리턴값은 [‘Seo’, ‘Dae’, ‘Kwa’,’Jej’]\n",
    "# •def get_abbrs(lst):\n",
    "\n",
    "def get_abbrs(lst):\n",
    "    return [str_[:3] for str_ in lst]\n",
    "\n",
    "get_abbrs(['Seoul', 'Daegu', 'Kwangju', 'Jeju'])"
   ]
  },
  {
   "cell_type": "code",
   "execution_count": 303,
   "id": "7e57137d",
   "metadata": {},
   "outputs": [
    {
     "data": {
      "text/plain": [
       "['Seo', 'Dae', 'Kwa', 'Jej']"
      ]
     },
     "execution_count": 303,
     "metadata": {},
     "output_type": "execute_result"
    }
   ],
   "source": [
    "get_abbrs_lambda = lambda lst: [data[:3] for data in lst]\n",
    "get_abbrs_lambda(['Seoul', 'Daegu', 'Kwangju', 'Jeju'])"
   ]
  },
  {
   "cell_type": "code",
   "execution_count": null,
   "id": "4bb64268",
   "metadata": {},
   "outputs": [],
   "source": []
  },
  {
   "cell_type": "code",
   "execution_count": null,
   "id": "063176c9",
   "metadata": {},
   "outputs": [],
   "source": []
  },
  {
   "cell_type": "code",
   "execution_count": null,
   "id": "55009d39",
   "metadata": {},
   "outputs": [],
   "source": []
  },
  {
   "cell_type": "code",
   "execution_count": null,
   "id": "ef2c1836",
   "metadata": {},
   "outputs": [],
   "source": []
  },
  {
   "cell_type": "code",
   "execution_count": null,
   "id": "427b33c8",
   "metadata": {},
   "outputs": [],
   "source": []
  },
  {
   "cell_type": "code",
   "execution_count": null,
   "id": "4baf1e37",
   "metadata": {},
   "outputs": [],
   "source": []
  },
  {
   "cell_type": "code",
   "execution_count": null,
   "id": "8bf712ef",
   "metadata": {},
   "outputs": [],
   "source": []
  },
  {
   "cell_type": "code",
   "execution_count": null,
   "id": "5e94ca86",
   "metadata": {},
   "outputs": [],
   "source": []
  },
  {
   "cell_type": "code",
   "execution_count": null,
   "id": "71057ce5",
   "metadata": {},
   "outputs": [],
   "source": []
  },
  {
   "cell_type": "code",
   "execution_count": null,
   "id": "61345782",
   "metadata": {},
   "outputs": [],
   "source": []
  },
  {
   "cell_type": "code",
   "execution_count": null,
   "id": "9e1f1a08",
   "metadata": {},
   "outputs": [],
   "source": []
  },
  {
   "cell_type": "code",
   "execution_count": null,
   "id": "4abaca7f",
   "metadata": {},
   "outputs": [],
   "source": []
  },
  {
   "cell_type": "code",
   "execution_count": null,
   "id": "f111ac9c",
   "metadata": {},
   "outputs": [],
   "source": []
  },
  {
   "cell_type": "code",
   "execution_count": null,
   "id": "466ea843",
   "metadata": {},
   "outputs": [],
   "source": []
  }
 ],
 "metadata": {
  "kernelspec": {
   "display_name": "Python 3 (ipykernel)",
   "language": "python",
   "name": "python3"
  },
  "language_info": {
   "codemirror_mode": {
    "name": "ipython",
    "version": 3
   },
   "file_extension": ".py",
   "mimetype": "text/x-python",
   "name": "python",
   "nbconvert_exporter": "python",
   "pygments_lexer": "ipython3",
   "version": "3.10.9"
  },
  "toc": {
   "base_numbering": 1,
   "nav_menu": {},
   "number_sections": false,
   "sideBar": true,
   "skip_h1_title": false,
   "title_cell": "Table of Contents",
   "title_sidebar": "Contents",
   "toc_cell": false,
   "toc_position": {
    "height": "calc(100% - 180px)",
    "left": "10px",
    "top": "150px",
    "width": "165px"
   },
   "toc_section_display": true,
   "toc_window_display": true
  }
 },
 "nbformat": 4,
 "nbformat_minor": 5
}
