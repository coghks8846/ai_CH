{
 "cells": [
  {
   "cell_type": "code",
   "execution_count": 26,
   "id": "15a416d9",
   "metadata": {},
   "outputs": [
    {
     "data": {
      "text/html": [
       "\n",
       "<style>\n",
       "div.container{width:86% !important;}\n",
       "div.cell.code_cell.rendered{width:100%;}\n",
       "div.CodeMirror {font-family:Consolas; font-size:15pt;}\n",
       "div.output {font-size:15pt; font-weight:bold;}\n",
       "div.input {font-family:Consolas; font-size:15pt;}\n",
       "div.prompt {min-width:70px;}\n",
       "div#toc-wrapper{padding-top:120px;}\n",
       "div.text_cell_render ul li{font-size:12pt;padding:5px;}\n",
       "table.dataframe{font-size:15px;}\n",
       "</style>\n"
      ],
      "text/plain": [
       "<IPython.core.display.HTML object>"
      ]
     },
     "metadata": {},
     "output_type": "display_data"
    }
   ],
   "source": [
    "from IPython.display import display, HTML\n",
    "display(HTML(\"\"\"\n",
    "<style>\n",
    "div.container{width:86% !important;}\n",
    "div.cell.code_cell.rendered{width:100%;}\n",
    "div.CodeMirror {font-family:Consolas; font-size:15pt;}\n",
    "div.output {font-size:15pt; font-weight:bold;}\n",
    "div.input {font-family:Consolas; font-size:15pt;}\n",
    "div.prompt {min-width:70px;}\n",
    "div#toc-wrapper{padding-top:120px;}\n",
    "div.text_cell_render ul li{font-size:12pt;padding:5px;}\n",
    "table.dataframe{font-size:15px;}\n",
    "</style>\n",
    "\"\"\"))"
   ]
  },
  {
   "cell_type": "markdown",
   "id": "f2378142",
   "metadata": {},
   "source": [
    "<font size= \"5\" color=\"red\">ch02 자료형과 연산자</font>\n",
    "# 1절 변수\n",
    "- 파이썬은 변수선언을 위한 과정이 없음. 할당과 동시에 타입이 지정되고 값이 할당됨\n",
    "\n",
    "## 1.1 변수할당\n",
    "- 할당연산자(=)를 이용해서 값을 할당하면 타입이 세팅\n",
    "- 파이썬에서의 모든 변수는 객채로 저장"
   ]
  },
  {
   "cell_type": "code",
   "execution_count": 2,
   "id": "28aede72",
   "metadata": {},
   "outputs": [
    {
     "name": "stdout",
     "output_type": "stream",
     "text": [
      "계산된 넓이는  78.5\n"
     ]
    }
   ],
   "source": [
    "r = 5\n",
    "area = 3.14 * r * r\n",
    "print(\"계산된 넓이는 \", area)"
   ]
  },
  {
   "cell_type": "code",
   "execution_count": 4,
   "id": "3a7faf42",
   "metadata": {},
   "outputs": [
    {
     "name": "stdout",
     "output_type": "stream",
     "text": [
      "area =  78.53981633974483\n"
     ]
    }
   ],
   "source": [
    "import numpy as np\n",
    "area = np.pi * r * r\n",
    "print('area = ', area)"
   ]
  },
  {
   "cell_type": "code",
   "execution_count": 5,
   "id": "188d873c",
   "metadata": {},
   "outputs": [
    {
     "data": {
      "text/plain": [
       "False"
      ]
     },
     "execution_count": 5,
     "metadata": {},
     "output_type": "execute_result"
    }
   ],
   "source": [
    "area.is_integer() # area가 integer인지 여부를 반환"
   ]
  },
  {
   "cell_type": "code",
   "execution_count": 6,
   "id": "8bc02a3b",
   "metadata": {},
   "outputs": [
    {
     "name": "stdout",
     "output_type": "stream",
     "text": [
      "area의 주소 : 2018373190768\n",
      "area의 타입 : <class 'float'>\n"
     ]
    }
   ],
   "source": [
    "print('area의 주소 :', id(area)) #id(area) : area변수의 주소값\n",
    "print('area의 타입 :', type(area))"
   ]
  },
  {
   "cell_type": "code",
   "execution_count": 7,
   "id": "b472fd64",
   "metadata": {},
   "outputs": [
    {
     "name": "stdout",
     "output_type": "stream",
     "text": [
      "area의 주소 : 2018376326512\n",
      "area의 타입 : <class 'float'>\n"
     ]
    }
   ],
   "source": [
    "area = 5.5\n",
    "print('area의 주소 :', id(area)) #id(area) : area변수의 주소값\n",
    "print('area의 타입 :', type(area))"
   ]
  },
  {
   "cell_type": "code",
   "execution_count": 8,
   "id": "c99cf79a",
   "metadata": {},
   "outputs": [
    {
     "name": "stdout",
     "output_type": "stream",
     "text": [
      "area의 주소 : 2018294563344\n",
      "area의 타입 : <class 'int'>\n"
     ]
    }
   ],
   "source": [
    "area = 10\n",
    "print('area의 주소 :', id(area)) #id(area) : area변수의 주소값\n",
    "print('area의 타입 :', type(area))"
   ]
  },
  {
   "cell_type": "code",
   "execution_count": 12,
   "id": "60c90e12",
   "metadata": {},
   "outputs": [
    {
     "name": "stdout",
     "output_type": "stream",
     "text": [
      "area의 주소 : 2018411193776\n",
      "area의 타입 : <class 'str'>\n"
     ]
    }
   ],
   "source": [
    "area = \"파이썬\"\n",
    "print('area의 주소 :', id(area)) #id(area) : area변수의 주소값\n",
    "print('area의 타입 :', type(area))"
   ]
  },
  {
   "cell_type": "markdown",
   "id": "bd7fa0e6",
   "metadata": {},
   "source": [
    "## 1.2 변수이름 규칙\n",
    "- 문자로 시작 (숫자로시작불가)\n",
    "- 문자, 숫자, _로 변수명 작성\n",
    "- 함수명은 변수이름으로 가능하나 지양, 써야한다면 int_ 식으로 _ 를 이용\n",
    "- 파이썬 예약어(for, ..)는 변수이름 사용 불가\n",
    "- 한글변수는 꼭 필요시에만 이용"
   ]
  },
  {
   "cell_type": "code",
   "execution_count": 14,
   "id": "d92660b9",
   "metadata": {},
   "outputs": [
    {
     "name": "stdout",
     "output_type": "stream",
     "text": [
      "홍길동\n"
     ]
    }
   ],
   "source": [
    "이름 = \"홍길동\" #한글로 변수는 비추천\n",
    "print(이름)"
   ]
  },
  {
   "cell_type": "code",
   "execution_count": 15,
   "id": "8788a814",
   "metadata": {},
   "outputs": [
    {
     "data": {
      "text/plain": [
       "'홍길동'"
      ]
     },
     "execution_count": 15,
     "metadata": {},
     "output_type": "execute_result"
    }
   ],
   "source": [
    "이름"
   ]
  },
  {
   "cell_type": "code",
   "execution_count": 17,
   "id": "abf88990",
   "metadata": {},
   "outputs": [],
   "source": [
    "# member.name = \"홍길동\"\n",
    "member_name = \"홍길동\"\n",
    "memberName = \"홍길동\""
   ]
  },
  {
   "cell_type": "code",
   "execution_count": 16,
   "id": "752a1813",
   "metadata": {},
   "outputs": [
    {
     "name": "stdout",
     "output_type": "stream",
     "text": [
      "10\n"
     ]
    }
   ],
   "source": [
    "Print = 10 #변수를 대분자로 구분은 가능하나 강력비추천\n",
    "print(Print)"
   ]
  },
  {
   "cell_type": "code",
   "execution_count": 19,
   "id": "8a46ac54",
   "metadata": {},
   "outputs": [
    {
     "data": {
      "text/plain": [
       "complex"
      ]
     },
     "execution_count": 19,
     "metadata": {},
     "output_type": "execute_result"
    }
   ],
   "source": [
    "# 파이썬에서의 숫자 : 정수, 실수, 복소수\n",
    "i = 3 + 3j #복소수\n",
    "type(i)"
   ]
  },
  {
   "cell_type": "code",
   "execution_count": 20,
   "id": "59eaa4f4",
   "metadata": {},
   "outputs": [
    {
     "data": {
      "text/plain": [
       "True"
      ]
     },
     "execution_count": 20,
     "metadata": {},
     "output_type": "execute_result"
    }
   ],
   "source": [
    "isinstance(i, complex) #i변수(객채)가 complex인지 여부"
   ]
  },
  {
   "cell_type": "markdown",
   "id": "7a24ab48",
   "metadata": {},
   "source": [
    "## 1.3 도움말"
   ]
  },
  {
   "cell_type": "code",
   "execution_count": 21,
   "id": "346464b4",
   "metadata": {
    "collapsed": true
   },
   "outputs": [
    {
     "name": "stdout",
     "output_type": "stream",
     "text": [
      "Help on built-in function print in module builtins:\n",
      "\n",
      "print(...)\n",
      "    print(value, ..., sep=' ', end='\\n', file=sys.stdout, flush=False)\n",
      "    \n",
      "    Prints the values to a stream, or to sys.stdout by default.\n",
      "    Optional keyword arguments:\n",
      "    file:  a file-like object (stream); defaults to the current sys.stdout.\n",
      "    sep:   string inserted between values, default a space.\n",
      "    end:   string appended after the last value, default a newline.\n",
      "    flush: whether to forcibly flush the stream.\n",
      "\n"
     ]
    }
   ],
   "source": [
    "help(print)"
   ]
  },
  {
   "cell_type": "code",
   "execution_count": 27,
   "id": "44a3b4eb",
   "metadata": {
    "collapsed": true
   },
   "outputs": [
    {
     "name": "stdout",
     "output_type": "stream",
     "text": [
      "\n",
      "Welcome to Python 3.10's help utility!\n",
      "\n",
      "If this is your first time using Python, you should definitely check out\n",
      "the tutorial on the internet at https://docs.python.org/3.10/tutorial/.\n",
      "\n",
      "Enter the name of any module, keyword, or topic to get help on writing\n",
      "Python programs and using Python modules.  To quit this help utility and\n",
      "return to the interpreter, just type \"quit\".\n",
      "\n",
      "To get a list of available modules, keywords, symbols, or topics, type\n",
      "\"modules\", \"keywords\", \"symbols\", or \"topics\".  Each module also comes\n",
      "with a one-line summary of what it does; to list the modules whose name\n",
      "or summary contain a given string such as \"spam\", type \"modules spam\".\n",
      "\n",
      "help> q\n",
      "\n",
      "You are now leaving help and returning to the Python interpreter.\n",
      "If you want to ask for help on a particular object directly from the\n",
      "interpreter, you can type \"help(object)\".  Executing \"help('string')\"\n",
      "has the same effect as typing a particular string at the help> prompt.\n"
     ]
    }
   ],
   "source": [
    "help() #헬프를 빠져나오려면 q 입력 / ESC + o : 결과 접기/펴기"
   ]
  },
  {
   "cell_type": "code",
   "execution_count": 28,
   "id": "ed64c5e5",
   "metadata": {},
   "outputs": [
    {
     "name": "stdout",
     "output_type": "stream",
     "text": [
      "\n"
     ]
    }
   ],
   "source": [
    "#도움말 기능 : shift + tap , tap\n",
    "print()"
   ]
  },
  {
   "cell_type": "code",
   "execution_count": 32,
   "id": "5c0d93d3",
   "metadata": {},
   "outputs": [],
   "source": [
    "def add(x, y=0): # y=0 : 입력이 없을 시 0으로 할당\n",
    "    '''\n",
    "    매개변수 2개를 받아 두자리 숫자로 만들어요\n",
    "    x = 10의 자리수가 됨\n",
    "    y = 1의 자리수가 됨\n",
    "    사용법 : add(2, 3) => 23\n",
    "    '''\n",
    "    return x*10 + y"
   ]
  },
  {
   "cell_type": "code",
   "execution_count": 37,
   "id": "ea711c52",
   "metadata": {},
   "outputs": [
    {
     "data": {
      "text/plain": [
       "20"
      ]
     },
     "execution_count": 37,
     "metadata": {},
     "output_type": "execute_result"
    }
   ],
   "source": [
    "add(2)"
   ]
  },
  {
   "cell_type": "code",
   "execution_count": 36,
   "id": "8222a89a",
   "metadata": {},
   "outputs": [
    {
     "data": {
      "text/plain": [
       "23"
      ]
     },
     "execution_count": 36,
     "metadata": {},
     "output_type": "execute_result"
    }
   ],
   "source": [
    "a = add \n",
    "a(2, 3)"
   ]
  },
  {
   "cell_type": "markdown",
   "id": "3ea15bc0",
   "metadata": {},
   "source": [
    "## 1.4 다중 변수 할당"
   ]
  },
  {
   "cell_type": "code",
   "execution_count": 41,
   "id": "e374945e",
   "metadata": {},
   "outputs": [],
   "source": [
    "a = 10\n",
    "b = 20"
   ]
  },
  {
   "cell_type": "code",
   "execution_count": 43,
   "id": "4e216929",
   "metadata": {},
   "outputs": [
    {
     "name": "stdout",
     "output_type": "stream",
     "text": [
      "10 20\n"
     ]
    }
   ],
   "source": [
    "a, b = 10, 20\n",
    "print(a, b)"
   ]
  },
  {
   "cell_type": "code",
   "execution_count": 44,
   "id": "15382246",
   "metadata": {},
   "outputs": [
    {
     "name": "stdout",
     "output_type": "stream",
     "text": [
      "20 30\n"
     ]
    }
   ],
   "source": [
    "# 다중 변수 할당시 순차적 할당이 아니고, 일괄 동시 할당\n",
    "a, b = b, a+b\n",
    "print(a, b)"
   ]
  },
  {
   "cell_type": "markdown",
   "id": "e0e18745",
   "metadata": {},
   "source": [
    "# 2절. 화면입출력(i/o)"
   ]
  },
  {
   "cell_type": "code",
   "execution_count": 46,
   "id": "8addc459",
   "metadata": {},
   "outputs": [
    {
     "name": "stdout",
     "output_type": "stream",
     "text": [
      "첫번쨰 숫자는?5\n"
     ]
    },
    {
     "data": {
      "text/plain": [
       "'5'"
      ]
     },
     "execution_count": 46,
     "metadata": {},
     "output_type": "execute_result"
    }
   ],
   "source": [
    "# input() : 사용자로부터 값을 입력받기 위한 함수, 문자열로 입력\n",
    "first = input(\"첫번쨰 숫자는?\")\n",
    "first"
   ]
  },
  {
   "cell_type": "code",
   "execution_count": 50,
   "id": "8a9802b8",
   "metadata": {},
   "outputs": [
    {
     "name": "stdout",
     "output_type": "stream",
     "text": [
      "두번쨰 숫자는?8\n"
     ]
    },
    {
     "data": {
      "text/plain": [
       "'8'"
      ]
     },
     "execution_count": 50,
     "metadata": {},
     "output_type": "execute_result"
    }
   ],
   "source": [
    "second = input(\"두번쨰 숫자는?\")\n",
    "second"
   ]
  },
  {
   "cell_type": "code",
   "execution_count": 49,
   "id": "79604052",
   "metadata": {},
   "outputs": [
    {
     "name": "stdout",
     "output_type": "stream",
     "text": [
      "합: 13\n"
     ]
    }
   ],
   "source": [
    "sum = int(first) + int(second)\n",
    "print('합:', sum)"
   ]
  },
  {
   "cell_type": "code",
   "execution_count": 59,
   "id": "0cce46e6",
   "metadata": {},
   "outputs": [
    {
     "name": "stdout",
     "output_type": "stream",
     "text": [
      "첫번쨰 수는?5\n",
      "두번쨰 수는?8\n",
      "합: 13\n"
     ]
    }
   ],
   "source": [
    "first = int(input('첫번쨰 수는?'))\n",
    "second = int(input('두번쨰 수는?'))\n",
    "sum = first + second\n",
    "print('합:', sum,)"
   ]
  },
  {
   "cell_type": "code",
   "execution_count": 55,
   "id": "c894d389",
   "metadata": {},
   "outputs": [
    {
     "name": "stdout",
     "output_type": "stream",
     "text": [
      "합=13\n"
     ]
    }
   ],
   "source": [
    "print('합', sum, sep='=')"
   ]
  },
  {
   "cell_type": "code",
   "execution_count": 64,
   "id": "aeb2a676",
   "metadata": {},
   "outputs": [
    {
     "name": "stdout",
     "output_type": "stream",
     "text": [
      "합=13 / 합 ~ 13 / 합은 13\n"
     ]
    }
   ],
   "source": [
    "print('합', sum, sep='=', end= ' / ') # end : 줄바꿈을 한줄로 연결\n",
    "print('합', sum, sep=' ~ ', end= ' / ')\n",
    "print('합', sum, sep='은 ')"
   ]
  },
  {
   "cell_type": "code",
   "execution_count": 65,
   "id": "1decd4e9",
   "metadata": {},
   "outputs": [
    {
     "name": "stdout",
     "output_type": "stream",
     "text": [
      "hello, werd\n"
     ]
    }
   ],
   "source": [
    "import sys\n",
    "print('hello', 'werd', sep=\", \", file=sys.stdout)"
   ]
  },
  {
   "cell_type": "markdown",
   "id": "83e3dbc6",
   "metadata": {},
   "source": [
    "# 3절. 기본 자료형\n",
    "- 자료형에 따라 값의 크기와 저장방식이 달라짐\n",
    "    - 숫자 : int, float\n",
    "    - 문자 : str\n",
    "    - 논리 : bool(True/False)\n",
    "    \n",
    "    \n",
    "## 3.1 숫자형"
   ]
  },
  {
   "cell_type": "code",
   "execution_count": 66,
   "id": "27c97f4c",
   "metadata": {},
   "outputs": [
    {
     "data": {
      "text/plain": [
       "9223372036854775807"
      ]
     },
     "execution_count": 66,
     "metadata": {},
     "output_type": "execute_result"
    }
   ],
   "source": [
    "import sys\n",
    "sys.maxsize #정수의 최대값 2의 63승 -1 (2**63-1)"
   ]
  },
  {
   "cell_type": "code",
   "execution_count": 69,
   "id": "7939ed7e",
   "metadata": {},
   "outputs": [
    {
     "name": "stdout",
     "output_type": "stream",
     "text": [
      "109223372036854775807\n",
      "<class 'int'>\n"
     ]
    }
   ],
   "source": [
    "i = sys.maxsize + 100000000000000000000\n",
    "print(i)\n",
    "print(type(i))"
   ]
  },
  {
   "cell_type": "code",
   "execution_count": 71,
   "id": "6f059b6b",
   "metadata": {},
   "outputs": [
    {
     "data": {
      "text/plain": [
       "2.0"
      ]
     },
     "execution_count": 71,
     "metadata": {},
     "output_type": "execute_result"
    }
   ],
   "source": [
    "f = 4/2 # 정수 나누기 정수는 무조건 실수\n",
    "f"
   ]
  },
  {
   "cell_type": "code",
   "execution_count": 73,
   "id": "c0933622",
   "metadata": {},
   "outputs": [
    {
     "name": "stdout",
     "output_type": "stream",
     "text": [
      "2\n",
      "2\n"
     ]
    }
   ],
   "source": [
    "#자바처럼 정수 나누기 정수의 결과를 정수로 하려면\n",
    "f = 4//2 #몫연산자\n",
    "print(f)\n",
    "f = int(4/2)\n",
    "print(f)"
   ]
  },
  {
   "cell_type": "code",
   "execution_count": 74,
   "id": "dc682127",
   "metadata": {},
   "outputs": [
    {
     "name": "stdout",
     "output_type": "stream",
     "text": [
      "(-1+0j)\n"
     ]
    }
   ],
   "source": [
    "c = 1j #수학시간의 0+1i\n",
    "print(c**2) # ** 승연산자"
   ]
  },
  {
   "cell_type": "code",
   "execution_count": 76,
   "id": "1948f1ff",
   "metadata": {},
   "outputs": [
    {
     "name": "stdout",
     "output_type": "stream",
     "text": [
      "지수형 표현할 당시 실수형으로 저장 : 1120000000000.0\n",
      "지수형 표현할 당시 실수형으로 저장 : 1.12e-12\n"
     ]
    }
   ],
   "source": [
    "f = 1.12e12 # 1.12의 10승의 12승 1120000000000\n",
    "print('지수형 표현할 당시 실수형으로 저장 :', f)\n",
    "f = 1.12e-12 #0.000000000000112\n",
    "print('지수형 표현할 당시 실수형으로 저장 :', f)"
   ]
  },
  {
   "cell_type": "markdown",
   "id": "6a2fa5f6",
   "metadata": {},
   "source": [
    "## 3.2 문자형\n",
    "- 쌍따옴표(\".\")나 홀따옴표('.')이용"
   ]
  },
  {
   "cell_type": "code",
   "execution_count": 81,
   "id": "775152c1",
   "metadata": {},
   "outputs": [
    {
     "name": "stdout",
     "output_type": "stream",
     "text": [
      "홍길동\"짱\" 서울시 관악구 '신림동'\n"
     ]
    }
   ],
   "source": [
    "name = \"홍길동\\\"짱\\\"\" #홍길동\"짱\"\n",
    "name = '홍길동\"짱\"'\n",
    "address = '서울시 관악구 \\'신림동\\'' #서울시 관악구 '신림동'\n",
    "address = \"서울시 관악구 '신림동'\"\n",
    "print(name, address)"
   ]
  },
  {
   "cell_type": "code",
   "execution_count": 82,
   "id": "0bd28404",
   "metadata": {},
   "outputs": [
    {
     "name": "stdout",
     "output_type": "stream",
     "text": [
      "여러줄 짜리 내용\n",
      "줄바꿈 문자를 쓰지 않고 따옴표 3개로 처리\n",
      "이처럼 쓰는 경우가 많아요\n"
     ]
    }
   ],
   "source": [
    "# 문자형 변수 여러줄\n",
    "text = '''여러줄 짜리 내용\n",
    "줄바꿈 문자를 쓰지 않고 따옴표 3개로 처리\n",
    "이처럼 쓰는 경우가 많아요'''\n",
    "print(text)"
   ]
  },
  {
   "cell_type": "markdown",
   "id": "2f8f6ec8",
   "metadata": {},
   "source": [
    "### ※ 문자열 연산"
   ]
  },
  {
   "cell_type": "code",
   "execution_count": 84,
   "id": "46655f24",
   "metadata": {},
   "outputs": [
    {
     "name": "stdout",
     "output_type": "stream",
     "text": [
      "홍길동 동해 번쩍 서해 번쩍\n"
     ]
    }
   ],
   "source": [
    "'''\n",
    "    여러줄 주석 용도\n",
    "    2025.04.08 문자열 연산 소스 by 홍길동\n",
    "'''\n",
    "name1 = \"홍길동 \"\n",
    "name2 = \"동해 번쩍 서해 번쩍\"\n",
    "print(name1 + name2)"
   ]
  },
  {
   "cell_type": "code",
   "execution_count": 85,
   "id": "8e532f08",
   "metadata": {},
   "outputs": [
    {
     "name": "stdout",
     "output_type": "stream",
     "text": [
      "홍길동 홍길동 홍길동 \n"
     ]
    }
   ],
   "source": [
    "print(name1 * 3) # 문자열을 곱하면 반복"
   ]
  },
  {
   "cell_type": "markdown",
   "id": "c30e5e59",
   "metadata": {},
   "source": [
    "### ※ raw 데이터\n",
    "- 용도 : 정규표현식 이용, 디렉토리 경로 표현시 이용"
   ]
  },
  {
   "cell_type": "code",
   "execution_count": 27,
   "id": "c0146a11",
   "metadata": {},
   "outputs": [
    {
     "name": "stdout",
     "output_type": "stream",
     "text": [
      "Hello\\nWorld\n",
      "Hello\\nWorld\n"
     ]
    }
   ],
   "source": [
    "print(r'Hello\\nWorld')\n",
    "print('Hello\\\\nWorld')"
   ]
  },
  {
   "cell_type": "markdown",
   "id": "f76fc979",
   "metadata": {},
   "source": [
    "정규표현식\n",
    "```(마크업 셀에서 백틱은 블록을 만들 때 사용)\n",
    "1. 참조 : 위키백과\n",
    "2. 간략한 문법 :\n",
    "     \\b (숫자와 매치, [9-0]와 동일)\n",
    "     \\D (숫자가 아닌것)\n",
    "     \\w (영문자나 숫자, [a-z,A-Z,0-9]\n",
    "     \\W (영문자나 숫자가 아닌 문자)\n",
    "     .  (문자)\n",
    "     \\. (.의미)\n",
    "     \\- (-의미)\n",
    "     {2, 4} (2~4번 반복)\n",
    "     {4}    (4번 반복)\n",
    "     {2,}   (2번이상 반복)\n",
    "     +      (1번이상 반복)\n",
    "     *      (0번이상 반복)\n",
    "     ?  (0번이나 1번 반복)\n",
    "3. 정규표현식 연습장(https://regexr.com/)\n",
    "     ex1. 전화번호 : 010-1234-5678 02-4444-5555 01045671234 0233334444\n",
    "                     02)6666-7777   010 8888 9999 010.1234.5678\n",
    "     ex2. 이메일 : coghks8846@naver.com / rlacoghks0103@gmai.com / abc@한국.co.kr\n",
    "4. 소스 구현\n",
    "```"
   ]
  },
  {
   "cell_type": "code",
   "execution_count": 10,
   "id": "9c972bb8",
   "metadata": {},
   "outputs": [
    {
     "name": "stdout",
     "output_type": "stream",
     "text": [
      "홍길동인데 전번이 02-888-8888, 010-1234-5678 동해번쩍 서해번쩍 ㅋㅋ ㅠㅠ 오늘 날씨는 엄청 좋아요\n"
     ]
    }
   ],
   "source": [
    "import re\n",
    "data = \"홍길동인데 전번이 02-888-8888, 010-1234-5678 동해번쩍 서해번쩍 ㅋㅋ ㅠㅠ\\\n",
    " 오늘 날씨는 엄청 좋아요\"\n",
    "print(data)"
   ]
  },
  {
   "cell_type": "code",
   "execution_count": 5,
   "id": "2274500b",
   "metadata": {},
   "outputs": [],
   "source": [
    "tel_pattern = r\"\\d{2,3}\\W?\\d{3,4}\\W?\\d{3,4}\"\n",
    "email_pattern = r\"\\w+@[a-zA-Z0-9가-힣]+(\\.[a-zA-Z]+){1,2}\""
   ]
  },
  {
   "cell_type": "code",
   "execution_count": 7,
   "id": "eac97bb8",
   "metadata": {},
   "outputs": [
    {
     "data": {
      "text/plain": [
       "['02-888-8888', '010-1234-5678']"
      ]
     },
     "execution_count": 7,
     "metadata": {},
     "output_type": "execute_result"
    }
   ],
   "source": [
    "tels = re.findall(tel_pattern, data) #first() : 해당 패턴을 다 찾아줌, 없으면 []반환\n",
    "tels"
   ]
  },
  {
   "cell_type": "code",
   "execution_count": 23,
   "id": "03e5a03f",
   "metadata": {},
   "outputs": [
    {
     "data": {
      "text/plain": [
       "<re.Match object; span=(10, 21), match='02-888-8888'>"
      ]
     },
     "execution_count": 23,
     "metadata": {},
     "output_type": "execute_result"
    }
   ],
   "source": [
    "# search() : 정규표현식 패턴과 일치하는 처음단어만 찾음\n",
    "pattern = \"(\\d{2,3})-(\\d{3,4})-(\\d{4})\"\n",
    "firstTel = re.search(pattern, data)\n",
    "firstTel"
   ]
  },
  {
   "cell_type": "code",
   "execution_count": 24,
   "id": "1029ff9f",
   "metadata": {},
   "outputs": [
    {
     "data": {
      "text/plain": [
       "'02-888-8888'"
      ]
     },
     "execution_count": 24,
     "metadata": {},
     "output_type": "execute_result"
    }
   ],
   "source": [
    "data[10:21] # 문자 슬라이싱"
   ]
  },
  {
   "cell_type": "code",
   "execution_count": 25,
   "id": "8da6ce25",
   "metadata": {},
   "outputs": [
    {
     "name": "stdout",
     "output_type": "stream",
     "text": [
      "전화번호 전체 : 02-888-8888\n",
      "국번 : 02\n",
      "중간번호 : 888\n",
      "끝번호 : 8888\n"
     ]
    }
   ],
   "source": [
    "print('전화번호 전체 :', firstTel.group(0))\n",
    "print('국번 :', firstTel.group(1))\n",
    "print('중간번호 :', firstTel.group(2))\n",
    "print('끝번호 :', firstTel.group(3))"
   ]
  },
  {
   "cell_type": "code",
   "execution_count": 17,
   "id": "5d30e8d8",
   "metadata": {},
   "outputs": [
    {
     "data": {
      "text/plain": [
       "'홍길동인데 전번이 028888888 01012345678 동해번쩍 서해번쩍   오늘 날씨는 엄청 좋아요'"
      ]
     },
     "execution_count": 17,
     "metadata": {},
     "output_type": "execute_result"
    }
   ],
   "source": [
    "re.sub(r'[^가-힣0-9\\s]', '', data) #특수문자, 자음, 모음 없애기"
   ]
  },
  {
   "cell_type": "code",
   "execution_count": 28,
   "id": "ab55077e",
   "metadata": {},
   "outputs": [],
   "source": [
    "# 파일 경로에는 반드시 r을 사용하거나 \\\\\n",
    "file_path = r\"C:\\ai_CH\\suorce\\01_python/=\\test.txt\"\n",
    "file_path = \"C:\\\\ai_CH\\\\suorce\\\\01_python\\\\test.txt\"\n",
    "file_path = \"C:/ai_CH/suorce/01_python/test.txt\""
   ]
  },
  {
   "cell_type": "code",
   "execution_count": 22,
   "id": "ecba44e4",
   "metadata": {},
   "outputs": [
    {
     "name": "stdout",
     "output_type": "stream",
     "text": [
      "Hello ~ world\n"
     ]
    }
   ],
   "source": [
    "file_stream = open(file_path, 'w')\n",
    "print(\"Hello\", \"world\", sep =\" ~ \") #콘솔 출력\n",
    "print(\"Hello\", \"world\", sep =\" ~ \", file=file_stream) # 파일 출력\n",
    "file_stream.close() #클로우즈를 하지 않으면 파일 저장 안됨"
   ]
  },
  {
   "cell_type": "markdown",
   "id": "5d52d309",
   "metadata": {},
   "source": [
    "### ※문자열 슬라이싱"
   ]
  },
  {
   "cell_type": "code",
   "execution_count": 30,
   "id": "5569d857",
   "metadata": {},
   "outputs": [
    {
     "data": {
      "text/plain": [
       "'0123456789'"
      ]
     },
     "execution_count": 30,
     "metadata": {},
     "output_type": "execute_result"
    }
   ],
   "source": [
    "str_ = '0123456789'\n",
    "str_"
   ]
  },
  {
   "cell_type": "code",
   "execution_count": 32,
   "id": "c5e314e0",
   "metadata": {},
   "outputs": [
    {
     "data": {
      "text/plain": [
       "('0', '2', '9', '7')"
      ]
     },
     "execution_count": 32,
     "metadata": {},
     "output_type": "execute_result"
    }
   ],
   "source": [
    "#문자 인덱싱\n",
    "str_[0], str_[2], str_[-1], str_[-3]"
   ]
  },
  {
   "cell_type": "code",
   "execution_count": 33,
   "id": "a0ed8b28",
   "metadata": {},
   "outputs": [
    {
     "ename": "IndexError",
     "evalue": "string index out of range",
     "output_type": "error",
     "traceback": [
      "\u001b[1;31m---------------------------------------------------------------------------\u001b[0m",
      "\u001b[1;31mIndexError\u001b[0m                                Traceback (most recent call last)",
      "Cell \u001b[1;32mIn[33], line 1\u001b[0m\n\u001b[1;32m----> 1\u001b[0m \u001b[43mstr_\u001b[49m\u001b[43m[\u001b[49m\u001b[38;5;241;43m20\u001b[39;49m\u001b[43m]\u001b[49m\n",
      "\u001b[1;31mIndexError\u001b[0m: string index out of range"
     ]
    }
   ],
   "source": [
    "str_[20] # 없는 인덱싱은 에러"
   ]
  },
  {
   "cell_type": "code",
   "execution_count": null,
   "id": "8602df74",
   "metadata": {},
   "outputs": [],
   "source": [
    "'''\n",
    "문자변수[froe:stop] : froe부터stop앞까지 추출\n",
    "문자변수[froe:stop:step] : froe부터 stop앞까지 step씩 전진하면서 추출\n",
    "   step 생략시 1\n",
    "   froe 생략시 처음부터\n",
    "   stop 생략시 끝까지\n",
    "'''"
   ]
  },
  {
   "cell_type": "code",
   "execution_count": 38,
   "id": "cef4f335",
   "metadata": {},
   "outputs": [
    {
     "data": {
      "text/plain": [
       "'01234'"
      ]
     },
     "execution_count": 38,
     "metadata": {},
     "output_type": "execute_result"
    }
   ],
   "source": [
    "str_[0:5] # 0번째부터 5번쨰 앞까지"
   ]
  },
  {
   "cell_type": "code",
   "execution_count": 40,
   "id": "55e41d5e",
   "metadata": {},
   "outputs": [
    {
     "data": {
      "text/plain": [
       "'5678'"
      ]
     },
     "execution_count": 40,
     "metadata": {},
     "output_type": "execute_result"
    }
   ],
   "source": [
    "str_[-5:-1] # -5번쨰부터 -1번쨰 앞까지"
   ]
  },
  {
   "cell_type": "code",
   "execution_count": 41,
   "id": "fd745395",
   "metadata": {},
   "outputs": [
    {
     "data": {
      "text/plain": [
       "'6789'"
      ]
     },
     "execution_count": 41,
     "metadata": {},
     "output_type": "execute_result"
    }
   ],
   "source": [
    "str_[-4:] #-4번쨰부터 끝까지"
   ]
  },
  {
   "cell_type": "code",
   "execution_count": 43,
   "id": "16ab64a6",
   "metadata": {},
   "outputs": [
    {
     "data": {
      "text/plain": [
       "'6789'"
      ]
     },
     "execution_count": 43,
     "metadata": {},
     "output_type": "execute_result"
    }
   ],
   "source": [
    "str_[-4:999999] # 슬라이싱시 익덱스 범위를 벗어나면 끝까지를 의미"
   ]
  },
  {
   "cell_type": "code",
   "execution_count": 37,
   "id": "9179638c",
   "metadata": {},
   "outputs": [
    {
     "data": {
      "text/plain": [
       "'0246'"
      ]
     },
     "execution_count": 37,
     "metadata": {},
     "output_type": "execute_result"
    }
   ],
   "source": [
    "str_[0:8:2] # "
   ]
  },
  {
   "cell_type": "code",
   "execution_count": 44,
   "id": "9df53e69",
   "metadata": {},
   "outputs": [
    {
     "data": {
      "text/plain": [
       "'987654321'"
      ]
     },
     "execution_count": 44,
     "metadata": {},
     "output_type": "execute_result"
    }
   ],
   "source": [
    "str_[9:0:-1]"
   ]
  },
  {
   "cell_type": "code",
   "execution_count": 52,
   "id": "7b299d4e",
   "metadata": {},
   "outputs": [
    {
     "name": "stdout",
     "output_type": "stream",
     "text": [
      "0123456\n",
      "56789\n",
      "9876543210\n"
     ]
    }
   ],
   "source": [
    "# 1번쨰인덱스부터 6번째 인덱스까지 추출\n",
    "print(str_[0:7])\n",
    "#5번쨰인덱스부터 끝까지 추출\n",
    "print(str_[5:])\n",
    "#str_를 거꾸로 출력\n",
    "print(str_[::-1])"
   ]
  },
  {
   "cell_type": "markdown",
   "id": "235eaec6",
   "metadata": {},
   "source": [
    "## 3.3 논리형(True/False)"
   ]
  },
  {
   "cell_type": "code",
   "execution_count": 67,
   "id": "6eacc7fe",
   "metadata": {},
   "outputs": [
    {
     "name": "stdout",
     "output_type": "stream",
     "text": [
      "True\n",
      "<class 'bool'>\n",
      "True\n",
      "a 주소 : 140726841592016\n",
      "b 주소 : 140726841592016\n",
      "b 주소 : 140726841592048\n"
     ]
    }
   ],
   "source": [
    "a = True\n",
    "print(a) # a : 매개변수 = 인자\n",
    "print(type(a)) # a 변수의 타입\n",
    "print(isinstance(a, bool)) # isinstance(변수, 타입) : 변수가 해당 타입인지 여부\n",
    "print('a 주소 :', id(a))\n",
    "b = True\n",
    "print('b 주소 :', id(b))\n",
    "b = False\n",
    "print('b 주소 :', id(b))"
   ]
  },
  {
   "cell_type": "code",
   "execution_count": 61,
   "id": "a842e70c",
   "metadata": {},
   "outputs": [
    {
     "data": {
      "text/plain": [
       "(1, 0)"
      ]
     },
     "execution_count": 61,
     "metadata": {},
     "output_type": "execute_result"
    }
   ],
   "source": [
    "int(True), int(False)"
   ]
  },
  {
   "cell_type": "code",
   "execution_count": 62,
   "id": "1f405b34",
   "metadata": {},
   "outputs": [],
   "source": [
    "# False 로 간주되는 것 : 0, \"\"(빈스트링), None, [], (), {}\n",
    "# False외의 값은 다 True \" \""
   ]
  },
  {
   "cell_type": "code",
   "execution_count": 65,
   "id": "f9e21789",
   "metadata": {},
   "outputs": [
    {
     "name": "stdout",
     "output_type": "stream",
     "text": [
      "i는 True\n"
     ]
    }
   ],
   "source": [
    "i = 10\n",
    "if i>5:\n",
    "    print('i는 True')\n",
    "else:\n",
    "    print('i는 False')"
   ]
  },
  {
   "cell_type": "markdown",
   "id": "c2f1d8ac",
   "metadata": {},
   "source": [
    "## 3.4 자료형 확인 및 형변환 함수\n",
    "- type(변수)\n",
    "- isinstance(변수,타입)\n",
    "\n",
    "- int()   : 정수형으로 변환\n",
    "- float() : 실수형으로 변환\n",
    "- str()   : 문자형으로 변환\n",
    "- bool()  : 논리형으로 변환"
   ]
  },
  {
   "cell_type": "code",
   "execution_count": 82,
   "id": "bfb9612a",
   "metadata": {},
   "outputs": [
    {
     "data": {
      "text/plain": [
       "(123, 123, 1, 0, 10)"
      ]
     },
     "execution_count": 82,
     "metadata": {},
     "output_type": "execute_result"
    }
   ],
   "source": [
    "int(\"123\"), int(123.9), int(True), int(False), int(\"10    \")"
   ]
  },
  {
   "cell_type": "code",
   "execution_count": 81,
   "id": "cdd59837",
   "metadata": {},
   "outputs": [
    {
     "data": {
      "text/plain": [
       "(123.5, 123.0, 1.0, 0.0, 123.5)"
      ]
     },
     "execution_count": 81,
     "metadata": {},
     "output_type": "execute_result"
    }
   ],
   "source": [
    "float(\"123.5\"), float(123), float(True), float(False), float(\"    123.5    \")"
   ]
  },
  {
   "cell_type": "code",
   "execution_count": 78,
   "id": "3f5d4997",
   "metadata": {},
   "outputs": [],
   "source": [
    "# int()에러나는 것들\n",
    "# int(\"123.5\")\n",
    "# int(' ')\n",
    "# int('')\n",
    "# int(\"1,000\")"
   ]
  },
  {
   "cell_type": "code",
   "execution_count": 83,
   "id": "f6cb0c16",
   "metadata": {},
   "outputs": [],
   "source": [
    "# float() 에러나는 것들\n",
    "# float(\"1,000.0\")\n",
    "# float(\"\")\n",
    "# float(\" \")"
   ]
  },
  {
   "cell_type": "code",
   "execution_count": 88,
   "id": "43482c2a",
   "metadata": {},
   "outputs": [
    {
     "data": {
      "text/plain": [
       "('10', '10.5', 'True', '1120000000000.0')"
      ]
     },
     "execution_count": 88,
     "metadata": {},
     "output_type": "execute_result"
    }
   ],
   "source": [
    "str(10), str(10.5), str(True), str(1.12e12)"
   ]
  },
  {
   "cell_type": "code",
   "execution_count": 89,
   "id": "2a80ff6b",
   "metadata": {},
   "outputs": [
    {
     "data": {
      "text/plain": [
       "(False, False, False, False, False, False, False)"
      ]
     },
     "execution_count": 89,
     "metadata": {},
     "output_type": "execute_result"
    }
   ],
   "source": [
    "bool(\"\"), bool(0), bool(0.0), bool([]), bool(()), bool ({}), bool(None)"
   ]
  },
  {
   "cell_type": "code",
   "execution_count": 90,
   "id": "079bc371",
   "metadata": {},
   "outputs": [
    {
     "data": {
      "text/plain": [
       "True"
      ]
     },
     "execution_count": 90,
     "metadata": {},
     "output_type": "execute_result"
    }
   ],
   "source": [
    "bool(\" \")"
   ]
  },
  {
   "cell_type": "markdown",
   "id": "0b37dad1",
   "metadata": {},
   "source": [
    "파이선 기본 자료형(정리)\n",
    "1. 숫자 - int, float, complex\n",
    "2. 문자 - str, 문자슬라이싱, raw데이터(정규표현식, 파일경로)\n",
    "3. 논리 - False로 판별되는 경우"
   ]
  },
  {
   "cell_type": "markdown",
   "id": "d568a2a5",
   "metadata": {},
   "source": [
    "# 4절. 포맷팅\n",
    "- 포맷팅이란, 출력할 문자, 숫자, 날짜 데이터의 형식을 지정하는 것\n",
    "- 변수와 텍스트를 결합해서 보기 좋은 형식의 새로운 텍스트를 만들 수 있음\n",
    "\n",
    "## 4.1 문자열에 출력형식 지정"
   ]
  },
  {
   "cell_type": "code",
   "execution_count": 95,
   "id": "9f99aa70",
   "metadata": {},
   "outputs": [
    {
     "name": "stdout",
     "output_type": "stream",
     "text": [
      "홍길동님의 나이는 30살입니다\n"
     ]
    }
   ],
   "source": [
    "name = \"홍길동\"\n",
    "age = 30\n",
    "print(name, '님의 나이는 ', age, '살입니다', sep='')"
   ]
  },
  {
   "cell_type": "code",
   "execution_count": 102,
   "id": "89ccc378",
   "metadata": {},
   "outputs": [
    {
     "name": "stdout",
     "output_type": "stream",
     "text": [
      "홍길동님의 나이는  30살입니다\n",
      "홍길동님의 나이는 30살입니다\n",
      "홍길동님의 나이는  30살입니다\n"
     ]
    }
   ],
   "source": [
    "print(\"%s님의 나이는 %3d살입니다\"%(name, age)) #잘 안씀 옛날 방식\n",
    "print(f'{name}님의 나이는 {age}살입니다')\n",
    "print('{}님의 나이는 {:3d}살입니다'.format(name, age))"
   ]
  },
  {
   "cell_type": "markdown",
   "id": "f0231899",
   "metadata": {},
   "source": [
    "## 4.2 format() 문법"
   ]
  },
  {
   "cell_type": "code",
   "execution_count": 103,
   "id": "8e2e2c03",
   "metadata": {},
   "outputs": [],
   "source": [
    "# \"{[인덱스]:[공백대체문자][정렬방식][자릿수][타입]}\".format(변수)\n",
    "     # 인덱스 : format함수 안의 매개변수의 순서\n",
    "     # 정렬방식 : <(왼쪽정렬), >(오른쪽정렬), ^(중앙정렬)\n",
    "     # 정수자릿수 : 출력될 자릿수, 변수 내용보다 작은 자릿수가 지정되면 자릿수 무시\n",
    "     # 실수자릿수 : 출력될 자릿수.소수점 자릿수f\n",
    "     # 문자자릿수 : 전체 확보될 자릿수[.변수중 출력할 자릿수]s\n",
    "     # 타입 : d(10진수 정수), b(2진수), x(16진수), f(실수), s(문자)\n",
    "     # 공백대체문자를 쓸 경우 정렬방식을 반드시 기입해야함"
   ]
  },
  {
   "cell_type": "code",
   "execution_count": 109,
   "id": "d37f3bfe",
   "metadata": {},
   "outputs": [
    {
     "name": "stdout",
     "output_type": "stream",
     "text": [
      "이름은?홍길동\n",
      "나이는?30\n",
      "30살 홍길동님 반갑습니다\n",
      "*30*살 홍길동_______님 반갑습니다\n"
     ]
    }
   ],
   "source": [
    "name = input('이름은?')\n",
    "age = int(input('나이는?'))\n",
    "print(\"{}살 {}님 반갑습니다\".format(age, name))\n",
    "print(\"{1:*^4d}살 {0:_<10}님 반갑습니다\".format(name,age))"
   ]
  },
  {
   "cell_type": "code",
   "execution_count": 114,
   "id": "279d4a1d",
   "metadata": {},
   "outputs": [
    {
     "name": "stdout",
     "output_type": "stream",
     "text": [
      "[12345], [     12345], [12345]\n",
      "[Hello], [Hello     ], [Hello]\n"
     ]
    }
   ],
   "source": [
    "# 숫자의 경우는 : 오른쪽정렬(기본값)\n",
    "# 문자의 경우 : 왼쪽정렬(기본값)\n",
    "# 변수보다 작은 자릿수를 지정하면 자릿수가 무시되고 다른 출력(정수 자리수)\n",
    "i = 12345\n",
    "s = \"Hello\"\n",
    "print(\"[{0}], [{0:10}], [{0:3}]\".format(i))\n",
    "print(\"[{0}], [{0:10}], [{0:3}]\".format(s))"
   ]
  },
  {
   "cell_type": "code",
   "execution_count": 128,
   "id": "e462dab3",
   "metadata": {},
   "outputs": [
    {
     "name": "stdout",
     "output_type": "stream",
     "text": [
      "f = [//////2.76]\n",
      "s = [he________]\n"
     ]
    }
   ],
   "source": [
    "# 문자 : 전체자리수.표현될 자리수\n",
    "# 실수 : 전체자리수.소수점이하 표현될 자리수\n",
    "f = 2.758\n",
    "s = \"hello\"\n",
    "print(\"f = [{:/>10.2f}]\".format(f))\n",
    "print(\"s = [{:_<10.2}]\".format(s))"
   ]
  },
  {
   "cell_type": "code",
   "execution_count": 132,
   "id": "0844d65f",
   "metadata": {},
   "outputs": [
    {
     "name": "stdout",
     "output_type": "stream",
     "text": [
      "[  123], [ -123],\n",
      "[ +123], [ -123],\n",
      "[+ 123], [- 123],\n"
     ]
    }
   ],
   "source": [
    "# + : 부호를 출력\n",
    "# = : 부호를 맨 앞에 출력\n",
    "a, b = 123, -123\n",
    "print(\"[{:5}], [{:5}],\".format(a,b))\n",
    "print(\"[{:+5}], [{:+5}],\".format(a,b))\n",
    "print(\"[{:=+5}], [{:=+5}],\".format(a,b))"
   ]
  },
  {
   "cell_type": "code",
   "execution_count": 138,
   "id": "f8c6af28",
   "metadata": {},
   "outputs": [
    {
     "name": "stdout",
     "output_type": "stream",
     "text": [
      "[     +2.79]\n"
     ]
    }
   ],
   "source": [
    "#\n",
    "f = 2.785\n",
    "print(\"[{:+10.2f}]\".format(f))"
   ]
  },
  {
   "cell_type": "code",
   "execution_count": 140,
   "id": "fef23008",
   "metadata": {},
   "outputs": [
    {
     "name": "stdout",
     "output_type": "stream",
     "text": [
      "[    +2.785]\n"
     ]
    }
   ],
   "source": [
    "sign = '+'\n",
    "width = 10\n",
    "precision = 3\n",
    "print(\"[{:{}{}.{}f}]\".format(f,\n",
    "                             sign, \n",
    "                             width, \n",
    "                             precision))"
   ]
  },
  {
   "cell_type": "code",
   "execution_count": 145,
   "id": "87598dcd",
   "metadata": {},
   "outputs": [
    {
     "ename": "KeyError",
     "evalue": "'sign'",
     "output_type": "error",
     "traceback": [
      "\u001b[1;31m---------------------------------------------------------------------------\u001b[0m",
      "\u001b[1;31mKeyError\u001b[0m                                  Traceback (most recent call last)",
      "Cell \u001b[1;32mIn[145], line 1\u001b[0m\n\u001b[1;32m----> 1\u001b[0m \u001b[38;5;28mprint\u001b[39m(\u001b[38;5;124;43m\"\u001b[39;49m\u001b[38;5;124;43m[\u001b[39;49m\u001b[38;5;124;43m{\u001b[39;49m\u001b[38;5;124;43m:\u001b[39;49m\u001b[38;5;132;43;01m{sign}\u001b[39;49;00m\u001b[38;5;132;43;01m{width}\u001b[39;49;00m\u001b[38;5;124;43m.\u001b[39;49m\u001b[38;5;132;43;01m{precision}\u001b[39;49;00m\u001b[38;5;124;43mf}]\u001b[39;49m\u001b[38;5;124;43m\"\u001b[39;49m\u001b[38;5;241;43m.\u001b[39;49m\u001b[43mformat\u001b[49m\u001b[43m(\u001b[49m\u001b[43mf\u001b[49m\u001b[43m,\u001b[49m\u001b[43m \u001b[49m\n\u001b[0;32m      2\u001b[0m \u001b[43m                                               \u001b[49m\u001b[43msign\u001b[49m\u001b[43m,\u001b[49m\u001b[43m \u001b[49m\n\u001b[0;32m      3\u001b[0m \u001b[43m                                               \u001b[49m\u001b[43mwidth\u001b[49m\u001b[43m,\u001b[49m\u001b[43m \u001b[49m\n\u001b[0;32m      4\u001b[0m \u001b[43m                                               \u001b[49m\u001b[43mprecision\u001b[49m\u001b[43m)\u001b[49m)\n",
      "\u001b[1;31mKeyError\u001b[0m: 'sign'"
     ]
    }
   ],
   "source": [
    "print(\"[{:{sign}{width}.{precision}f}]\".format(f, \n",
    "                                               sign, \n",
    "                                               width, \n",
    "                                               precision))"
   ]
  },
  {
   "cell_type": "code",
   "execution_count": 144,
   "id": "76f155c9",
   "metadata": {},
   "outputs": [
    {
     "name": "stdout",
     "output_type": "stream",
     "text": [
      "10진수 a = [   15]\n",
      "16진수 a = [    f]\n",
      " 2진수 a = [ 1111]\n"
     ]
    }
   ],
   "source": [
    "a = 15\n",
    "print(\"10진수 a = [{:5d}]\".format(a))\n",
    "print(\"16진수 a = [{:5x}]\".format(a))\n",
    "print(\" 2진수 a = [{:5b}]\".format(a))"
   ]
  },
  {
   "cell_type": "markdown",
   "id": "da9fed66",
   "metadata": {},
   "source": [
    "## 4.3 날짜출력"
   ]
  },
  {
   "cell_type": "code",
   "execution_count": 146,
   "id": "80c5d421",
   "metadata": {},
   "outputs": [
    {
     "data": {
      "text/plain": [
       "datetime.datetime(2025, 4, 9, 17, 44, 12, 638206)"
      ]
     },
     "execution_count": 146,
     "metadata": {},
     "output_type": "execute_result"
    }
   ],
   "source": [
    "import re\n",
    "from datetime import datetime\n",
    "now = datetime.now()\n",
    "now"
   ]
  },
  {
   "cell_type": "code",
   "execution_count": 151,
   "id": "91e5ce1b",
   "metadata": {},
   "outputs": [
    {
     "name": "stdout",
     "output_type": "stream",
     "text": [
      "2025-04-09 17:44:12.638206\n",
      "2025년 04월 09일 PM 05시 44분 12초\n",
      "2025년 04월 09일 17시 44분 12초\n"
     ]
    }
   ],
   "source": [
    "print(\"{}\".format(now))\n",
    "print(\"{:%Y년 %m월 %d일 %p %I시 %M분 %S초}\".format(now))\n",
    "print(\"{:%Y년 %m월 %d일 %H시 %M분 %S초}\".format(now))"
   ]
  },
  {
   "cell_type": "code",
   "execution_count": 152,
   "id": "f880d364",
   "metadata": {},
   "outputs": [
    {
     "name": "stdout",
     "output_type": "stream",
     "text": [
      ":2025년 04월 09일 17시 44분 12초\n"
     ]
    }
   ],
   "source": [
    "print(now.strftime(\":%Y년 %m월 %d일 %H시 %M분 %S초\"))"
   ]
  },
  {
   "cell_type": "code",
   "execution_count": null,
   "id": "3674fb83",
   "metadata": {},
   "outputs": [],
   "source": []
  },
  {
   "cell_type": "code",
   "execution_count": null,
   "id": "a8a201f4",
   "metadata": {},
   "outputs": [],
   "source": []
  },
  {
   "cell_type": "code",
   "execution_count": null,
   "id": "b38ab3b6",
   "metadata": {},
   "outputs": [],
   "source": []
  }
 ],
 "metadata": {
  "kernelspec": {
   "display_name": "Python 3 (ipykernel)",
   "language": "python",
   "name": "python3"
  },
  "language_info": {
   "codemirror_mode": {
    "name": "ipython",
    "version": 3
   },
   "file_extension": ".py",
   "mimetype": "text/x-python",
   "name": "python",
   "nbconvert_exporter": "python",
   "pygments_lexer": "ipython3",
   "version": "3.10.9"
  },
  "toc": {
   "base_numbering": 1,
   "nav_menu": {},
   "number_sections": false,
   "sideBar": true,
   "skip_h1_title": false,
   "title_cell": "Table of Contents",
   "title_sidebar": "Contents",
   "toc_cell": false,
   "toc_position": {
    "height": "calc(100% - 180px)",
    "left": "10px",
    "top": "150px",
    "width": "171.35px"
   },
   "toc_section_display": true,
   "toc_window_display": true
  }
 },
 "nbformat": 4,
 "nbformat_minor": 5
}
