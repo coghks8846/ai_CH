{
 "cells": [
  {
   "cell_type": "code",
   "execution_count": 1,
   "id": "4b30f240",
   "metadata": {},
   "outputs": [
    {
     "data": {
      "text/html": [
       "\n",
       "<style>\n",
       "div.container{width:86% !important;}\n",
       "div.cell.code_cell.rendered{width:100%;}\n",
       "div.CodeMirror {font-family:Consolas; font-size:15pt;}\n",
       "div.output {font-size:15pt; font-weight:bold;}\n",
       "div.input {font-family:Consolas; font-size:15pt;}\n",
       "div.prompt {min-width:70px;}\n",
       "div#toc-wrapper{padding-top:120px;}\n",
       "div.text_cell_render ul li{font-size:12pt;padding:5px;}\n",
       "table.dataframe{font-size:15px;}\n",
       "</style>\n"
      ],
      "text/plain": [
       "<IPython.core.display.HTML object>"
      ]
     },
     "metadata": {},
     "output_type": "display_data"
    }
   ],
   "source": [
    "from IPython.display import display, HTML\n",
    "display(HTML(\"\"\"\n",
    "<style>\n",
    "div.container{width:86% !important;}\n",
    "div.cell.code_cell.rendered{width:100%;}\n",
    "div.CodeMirror {font-family:Consolas; font-size:15pt;}\n",
    "div.output {font-size:15pt; font-weight:bold;}\n",
    "div.input {font-family:Consolas; font-size:15pt;}\n",
    "div.prompt {min-width:70px;}\n",
    "div#toc-wrapper{padding-top:120px;}\n",
    "div.text_cell_render ul li{font-size:12pt;padding:5px;}\n",
    "table.dataframe{font-size:15px;}\n",
    "</style>\n",
    "\"\"\"))"
   ]
  },
  {
   "cell_type": "markdown",
   "id": "f954409f",
   "metadata": {},
   "source": [
    "<font size= \"5\" color=\"red\">ch04 제어문</font>\n",
    "- 조건문 : if\n",
    "- 반복문 : for문, while문, 중첩가능"
   ]
  },
  {
   "cell_type": "markdown",
   "id": "628faa23",
   "metadata": {},
   "source": [
    "# 1절. 조건문(if)\n",
    "```\n",
    "if 조건1:\n",
    "    조건1이 참일 경우 수행할 명령어들\n",
    "elif 조건2:\n",
    "    조건1이 참이 아니고, 조건2가 참일 경우 수행할 명령어들\n",
    "else:\n",
    "    모든 조건을 만족하지 않을 때 수행할 명령어들\n",
    "```"
   ]
  },
  {
   "cell_type": "code",
   "execution_count": 3,
   "id": "e322b104",
   "metadata": {},
   "outputs": [
    {
     "name": "stdout",
     "output_type": "stream",
     "text": [
      "점수는 :5\n",
      "재시험 응시하셔야 합니다\n",
      "공부하세요\n"
     ]
    }
   ],
   "source": [
    "score = int(input('점수는 :'))\n",
    "if score >= 90:\n",
    "    print('참 잘했어요')\n",
    "    print('다음에도 기대할꼐요')\n",
    "elif score >=60:\n",
    "    print('분발하세요')\n",
    "    print('고생하셨습니다')\n",
    "else:\n",
    "    print('재시험 응시하셔야 합니다')\n",
    "    print(\"공부하세요\")"
   ]
  },
  {
   "cell_type": "code",
   "execution_count": 11,
   "id": "14b32b7c",
   "metadata": {},
   "outputs": [
    {
     "name": "stdout",
     "output_type": "stream",
     "text": [
      "점수 :30\n",
      "입력하신 점수는 30점이고, F등급입니다\n"
     ]
    }
   ],
   "source": [
    "# 점수(0~100)를 입력받아 학점을 출력하시요(A, B, C, D, F, 유효하지 않은 점수)\n",
    "score = int(input('점수 :'))\n",
    "if 100 >= score >= 90:\n",
    "    grade = 'A'\n",
    "elif 90 > score >= 80:\n",
    "    grade = 'B'\n",
    "elif 80 > score >= 70:\n",
    "    grade = 'C'\n",
    "elif 70 > score >= 60:\n",
    "    grade = 'D'\n",
    "elif 60 > score >= 0:\n",
    "    grade = 'F'\n",
    "else:\n",
    "    print('유효하지 않은 점수')\n",
    "print('입력하신 점수는 {}점이고, {}등급입니다'.format(score, grade))"
   ]
  },
  {
   "cell_type": "markdown",
   "id": "e0834dd1",
   "metadata": {},
   "source": [
    "# 2절. 반복문\n",
    "## 2.1 for-in문\n",
    "```\n",
    "for 임시변수 in 나열가능한 자료:\n",
    "    반복할 명령어1\n",
    "    반복할 명령어2\n",
    "else:\n",
    "    나열 가능한 자료가 다 소요하여 for블록을 다 수행한 후 최종 한번 수행할 명령어\n",
    "    for문안에 break를 수행할 경우 else블록은 수행되지 않음\n",
    "```"
   ]
  },
  {
   "cell_type": "code",
   "execution_count": 13,
   "id": "09b65edf",
   "metadata": {},
   "outputs": [
    {
     "name": "stdout",
     "output_type": "stream",
     "text": [
      "1\t3\t5\t7\t9\t\n",
      "DONE\n",
      "END\n"
     ]
    }
   ],
   "source": [
    "for i in range(1, 10, 2):\n",
    "    print(i, end='\\t')\n",
    "else:\n",
    "    print('\\nDONE')\n",
    "print('END')"
   ]
  },
  {
   "cell_type": "code",
   "execution_count": 16,
   "id": "96aa5a1a",
   "metadata": {},
   "outputs": [
    {
     "name": "stdout",
     "output_type": "stream",
     "text": [
      "1\t3\t5\tEND\n"
     ]
    }
   ],
   "source": [
    "for i in range(1, 10, 2):\n",
    "    print(i, end='\\t')\n",
    "    if i == 5:\n",
    "        break\n",
    "else:\n",
    "    print('\\nDONE')\n",
    "print('END')"
   ]
  },
  {
   "cell_type": "code",
   "execution_count": 22,
   "id": "87360b24",
   "metadata": {},
   "outputs": [
    {
     "name": "stdout",
     "output_type": "stream",
     "text": [
      "5050\n"
     ]
    }
   ],
   "source": [
    "# 1~100까지 누적합을 출력하시오(for문)\n",
    "tot = 0 # 누적변수\n",
    "for i in range(1, 101):\n",
    "    tot += i\n",
    "print(tot)"
   ]
  },
  {
   "cell_type": "code",
   "execution_count": 24,
   "id": "7c35477f",
   "metadata": {},
   "outputs": [
    {
     "name": "stdout",
     "output_type": "stream",
     "text": [
      "2550\n"
     ]
    }
   ],
   "source": [
    "# 1~100까지 짝수 누적합을 출력하시오(for문)\n",
    "tot = 0 # 누적변수\n",
    "for i in range(1, 101):\n",
    "    if i%2 == 0:\n",
    "        tot += i\n",
    "print(tot)"
   ]
  },
  {
   "cell_type": "markdown",
   "id": "9f7c17a7",
   "metadata": {},
   "source": [
    "## 2.2 while문\n",
    "```\n",
    "while 조건:\n",
    "    조건이 참일 경우 반복할 문장들\n",
    "else:\n",
    "    조건이 거짓일 경우 한번 실행할 문장(else구문 선택사항)\n",
    "```"
   ]
  },
  {
   "cell_type": "code",
   "execution_count": 27,
   "id": "d17bc227",
   "metadata": {},
   "outputs": [
    {
     "name": "stdout",
     "output_type": "stream",
     "text": [
      "5050\n"
     ]
    }
   ],
   "source": [
    "# 1~100까지 누적합을 출력하시오(while문)\n",
    "tot = 0 # 누적변수\n",
    "i = 1\n",
    "while i <= 100:\n",
    "    tot += i\n",
    "    i += 1\n",
    "print(tot)"
   ]
  },
  {
   "cell_type": "code",
   "execution_count": 28,
   "id": "6d83c9ca",
   "metadata": {},
   "outputs": [
    {
     "name": "stdout",
     "output_type": "stream",
     "text": [
      "2550\n"
     ]
    }
   ],
   "source": [
    "# 1~100까지 짝수들의 누적합을 출력하시오(while문)\n",
    "tot = 0 # 누적변수\n",
    "i = 1\n",
    "while i <= 100:\n",
    "    if i%2 == 0:\n",
    "        tot += i\n",
    "    i += 1\n",
    "print(tot)"
   ]
  },
  {
   "cell_type": "code",
   "execution_count": 89,
   "id": "8d4f1fa0",
   "metadata": {},
   "outputs": [
    {
     "name": "stdout",
     "output_type": "stream",
     "text": [
      "정수를 입력하시요 :5\n",
      "정수를 입력하시요 :21\n",
      "117\n"
     ]
    }
   ],
   "source": [
    "#ex1. 사용자에게 두 정수를 입력받아, 작은수부터 큰수까지 홀수의 합을 누적해서 출력\n",
    "number = 0\n",
    "A1 = int(input('정수를 입력하시요 :'))\n",
    "A2 = int(input('정수를 입력하시요 :'))\n",
    "\n",
    "for i in range(min(A1, A2),max(A1, A2)+1):\n",
    "    if i%2 == 1:\n",
    "        number += i \n",
    "print(number)"
   ]
  },
  {
   "cell_type": "code",
   "execution_count": 80,
   "id": "c88ef5e0",
   "metadata": {},
   "outputs": [
    {
     "name": "stdout",
     "output_type": "stream",
     "text": [
      "뽑은 횟수 : 6 \n",
      "로또 번호 : [10, 11, 22, 24, 29, 40]\n"
     ]
    }
   ],
   "source": [
    "#ex2. 1~45까지의 로또번호 6개를 추출하여 출력(오름차순 정렬결과를 출력) - 리스트 이용\n",
    "# 난수 발생\n",
    "import random\n",
    "\n",
    "lotto = []\n",
    "cnt = 0\n",
    "\n",
    "while len(lotto) < 6:\n",
    "    cnt += 1\n",
    "    num = random.randint(1, 45)\n",
    "    if num not in lotto:\n",
    "        lotto.append(num)\n",
    "\n",
    "lotto.sort()\n",
    "print('뽑은 횟수 :', cnt,'\\n로또 번호 :', lotto)"
   ]
  },
  {
   "cell_type": "code",
   "execution_count": 82,
   "id": "97ad0c70",
   "metadata": {},
   "outputs": [
    {
     "name": "stdout",
     "output_type": "stream",
     "text": [
      "0번쨰까지 정렬 내용 : [10] / [10, 11, 22, 24, 29, 40]\n",
      "1번쨰까지 정렬 내용 : [10, 11] / [10, 11, 22, 24, 29, 40]\n",
      "2번쨰까지 정렬 내용 : [10, 11, 22] / [10, 11, 22, 24, 29, 40]\n",
      "3번쨰까지 정렬 내용 : [10, 11, 22, 24] / [10, 11, 22, 24, 29, 40]\n",
      "4번쨰까지 정렬 내용 : [10, 11, 22, 24, 29] / [10, 11, 22, 24, 29, 40]\n"
     ]
    }
   ],
   "source": [
    "for i in range(0, len(lotto)-1):\n",
    "    for j in range(i, len(lotto)):\n",
    "        if lotto[i] > lotto[j]:\n",
    "            lotto[i], lotto[j] = lotto[j], lotto[i]\n",
    "    print(f'{i}번쨰까지 정렬 내용 : {lotto[:i+1]} / {lotto}')"
   ]
  },
  {
   "cell_type": "code",
   "execution_count": 84,
   "id": "cb42b8a0",
   "metadata": {},
   "outputs": [
    {
     "data": {
      "text/plain": [
       "[2, 4, 6, 22, 26, 44]"
      ]
     },
     "execution_count": 84,
     "metadata": {},
     "output_type": "execute_result"
    }
   ],
   "source": [
    "#ex2. 1~45까지의 로또번호 6개를 추출하여 출력(오름차순 정렬결과를 출력) - 셋 이용\n",
    "lotto = set()\n",
    "while len(lotto) < 6:\n",
    "    lotto.add(random.randint(1,45))\n",
    "sorted(list(lotto))"
   ]
  },
  {
   "cell_type": "code",
   "execution_count": 90,
   "id": "dc8b5eaa",
   "metadata": {},
   "outputs": [
    {
     "data": {
      "text/plain": [
       "[4, 11, 36, 40, 42, 43]"
      ]
     },
     "execution_count": 90,
     "metadata": {},
     "output_type": "execute_result"
    }
   ],
   "source": [
    "sorted(random.sample(range(1,45), 6)) #매우 좋음"
   ]
  },
  {
   "cell_type": "markdown",
   "id": "0da38842",
   "metadata": {},
   "source": [
    "## 2.3 break, continue"
   ]
  },
  {
   "cell_type": "code",
   "execution_count": 98,
   "id": "e3c1d4fb",
   "metadata": {},
   "outputs": [
    {
     "name": "stdout",
     "output_type": "stream",
     "text": [
      "1\t2\t3\t4\tDONE\n"
     ]
    }
   ],
   "source": [
    "num = 0\n",
    "while num < 10:\n",
    "    num += 1\n",
    "    if num == 5:\n",
    "        break # 반복문을 탈출\n",
    "#         continue # while블록 수행을 중단하고 조건으로 감\n",
    "    print(num, end='\\t')\n",
    "print('DONE')"
   ]
  },
  {
   "cell_type": "code",
   "execution_count": 101,
   "id": "edde9d50",
   "metadata": {},
   "outputs": [
    {
     "name": "stdout",
     "output_type": "stream",
     "text": [
      "컴퓨터가 발생한 임의의 수 : 11\n",
      "1부터 100사이의 수를 맞춰보세요 :11\n",
      "정답을 맞추셨습니다\n",
      "끝\n"
     ]
    }
   ],
   "source": [
    "'''\n",
    "10. 1~100사이의 정수를 맞추는 프로그램을 구현하시오\n",
    "(프로그램안에 임의의 숫자가 만들어지고 그 숫자를 맞추도록 합니다)\n",
    "1단계 . 입력된 숫자가 틀리면 UP/DOWN 메시지를 출력하고 숫자를 맞추면 축하메\n",
    "세지와 함꼐 종료합니다 (맞출 때까지 반복)\n",
    "'''\n",
    "import random\n",
    "# (1) 1~100 사이의 난수 발생\n",
    "randomNum = random.randint(1,100)\n",
    "print('컴퓨터가 발생한 임의의 수 :', randomNum)\n",
    "# (2) 수를 입력받아 틀리면 UP/DOWN 메세지를 출력, 맞추면 break 하는 반복문\n",
    "\n",
    "while True:\n",
    "    inputNum = int(input('1부터 100사이의 수를 맞춰보세요 :'))\n",
    "    if (inputNum < 1) |( inputNum > 100):\n",
    "        print('잘못 입력하셨습니다')\n",
    "    elif randomNum < inputNum:\n",
    "        print('DOWN ↓')\n",
    "    elif randomNum > inputNum:\n",
    "        print('UP ↑')\n",
    "    else:\n",
    "        print('정답을 맞추셨습니다')\n",
    "        break\n",
    "print('끝')"
   ]
  },
  {
   "cell_type": "markdown",
   "id": "47c66f11",
   "metadata": {},
   "source": [
    "# 3절. 중첩루프\n",
    "(반복문 안의 반복문)"
   ]
  },
  {
   "cell_type": "code",
   "execution_count": 119,
   "id": "4695f657",
   "metadata": {},
   "outputs": [
    {
     "name": "stdout",
     "output_type": "stream",
     "text": [
      "2x1= 2    3x1= 3    4x1= 4    5x1= 5    6x1= 6    7x1= 7    8x1= 8    9x1= 9    \n",
      "2x2= 4    3x2= 6    4x2= 8    5x2=10    6x2=12    7x2=14    8x2=16    9x2=18    \n",
      "2x3= 6    3x3= 9    4x3=12    5x3=15    6x3=18    7x3=21    8x3=24    9x3=27    \n",
      "2x4= 8    3x4=12    4x4=16    5x4=20    6x4=24    7x4=28    8x4=32    9x4=36    \n",
      "2x5=10    3x5=15    4x5=20    5x5=25    6x5=30    7x5=35    8x5=40    9x5=45    \n",
      "2x6=12    3x6=18    4x6=24    5x6=30    6x6=36    7x6=42    8x6=48    9x6=54    \n",
      "2x7=14    3x7=21    4x7=28    5x7=35    6x7=42    7x7=49    8x7=56    9x7=63    \n",
      "2x8=16    3x8=24    4x8=32    5x8=40    6x8=48    7x8=56    8x8=64    9x8=72    \n",
      "2x9=18    3x9=27    4x9=36    5x9=45    6x9=54    7x9=63    8x9=72    9x9=81    \n"
     ]
    }
   ],
   "source": [
    "for i in range(1,10):\n",
    "    for j in range(2,10):\n",
    "        print('{}x{}={:>2}'.format(j,i,j*i), end='    ')\n",
    "    print()"
   ]
  },
  {
   "cell_type": "markdown",
   "id": "85884f6c",
   "metadata": {},
   "source": [
    "# 4절. 중첩루프 탈출"
   ]
  },
  {
   "cell_type": "code",
   "execution_count": 123,
   "id": "af16b4e6",
   "metadata": {},
   "outputs": [
    {
     "name": "stdout",
     "output_type": "stream",
     "text": [
      "0 1\n",
      "0 2\n",
      "DONE\n"
     ]
    }
   ],
   "source": [
    "flag = False\n",
    "for a in range(0,3):     # a = 0, 1, 2\n",
    "    for b in range(1,3): # b = 1, 2\n",
    "        if a == b:\n",
    "            flag = True\n",
    "            break\n",
    "        print(a,b)\n",
    "    # break시 빠져 나오는 부분\n",
    "    if flag:\n",
    "        break\n",
    "print('DONE')"
   ]
  },
  {
   "cell_type": "code",
   "execution_count": null,
   "id": "89c47724",
   "metadata": {},
   "outputs": [],
   "source": [
    "# 중첩 루프 탈출 방법2 : 예외 발생 => 예외처리\n",
    "\n",
    "\n",
    "# 예외처리 진도 후 작성"
   ]
  },
  {
   "cell_type": "markdown",
   "id": "ca7e2627",
   "metadata": {},
   "source": [
    "# 5절. 연습문제"
   ]
  },
  {
   "cell_type": "code",
   "execution_count": 159,
   "id": "b018b02c",
   "metadata": {},
   "outputs": [
    {
     "name": "stdout",
     "output_type": "stream",
     "text": [
      "양의 정수를 입력하세요5\n",
      "입력하신 양의 정수는 5이고 홀수입니다\n"
     ]
    }
   ],
   "source": [
    "# 1. 양의 정수를 입력받아 홀/짝수 결과 출력\n",
    "num = 0\n",
    "while num<=0:\n",
    "    num = int(input('양의 정수를 입력하세요'))\n",
    "even_odd = '홀수' if num%2 else '짝수'\n",
    "print('입력하신 양의 정수는 {}이고 {}입니다'.format(num, even_odd))"
   ]
  },
  {
   "cell_type": "code",
   "execution_count": 160,
   "id": "d95dec2c",
   "metadata": {},
   "outputs": [
    {
     "name": "stdout",
     "output_type": "stream",
     "text": [
      "*****\n",
      "*****\n",
      "*****\n",
      "*****\n",
      "*****\n"
     ]
    }
   ],
   "source": [
    "# 2.중첩 for 문을 이용하여 아래 패턴의 별을 출력하는 프로그램을 작성하세요\n",
    "# 2. 별출력(중첩 for문 이용)\n",
    "for i in range(5):\n",
    "    for j in range(5):\n",
    "        print('*', end='')\n",
    "    print()"
   ]
  },
  {
   "cell_type": "code",
   "execution_count": 161,
   "id": "3b71f802",
   "metadata": {},
   "outputs": [
    {
     "name": "stdout",
     "output_type": "stream",
     "text": [
      "\n",
      "*\n",
      "**\n",
      "***\n",
      "****\n",
      "*****\n"
     ]
    }
   ],
   "source": [
    "for i in range(6):\n",
    "    for j in range(i):\n",
    "        print('*', end='')\n",
    "    print()"
   ]
  },
  {
   "cell_type": "code",
   "execution_count": 136,
   "id": "636e30d9",
   "metadata": {},
   "outputs": [
    {
     "name": "stdout",
     "output_type": "stream",
     "text": [
      "165\n"
     ]
    }
   ],
   "source": [
    "# 3.다음 코드는 1 부터 30 까지 (30 포함 ) 자연수 중에서 3 의 배수의 총 합\n",
    "# 을 출력하는 프로그램입니다 . 빈칸의 코드를 완성하시오\n",
    "sum_ = 0\n",
    "for i in range(1,31):\n",
    "    if i%3 == 0:\n",
    "        sum_ = sum_ + i\n",
    "    else:\n",
    "        pass\n",
    "print(sum_)"
   ]
  },
  {
   "cell_type": "code",
   "execution_count": 138,
   "id": "deaf81cd",
   "metadata": {},
   "outputs": [
    {
     "name": "stdout",
     "output_type": "stream",
     "text": [
      "13579"
     ]
    }
   ],
   "source": [
    "# 4.다음 코드의 실행결과가 1 3 5 7 9가 되도록 빈칸을 완성하시오\n",
    "num = 0\n",
    "while num <= 10:\n",
    "    if num%2 == 1:\n",
    "        print(num, end='')\n",
    "    num += 1"
   ]
  },
  {
   "cell_type": "code",
   "execution_count": 142,
   "id": "8fef3e81",
   "metadata": {},
   "outputs": [
    {
     "name": "stdout",
     "output_type": "stream",
     "text": [
      "123456789\n"
     ]
    }
   ],
   "source": [
    "# 5.다음 2 차원 리스트의 모든 값을 출력하는 코드입니다 . 빈칸을 완성하시오\n",
    "list2d = [ [1,2,3],[4,5,6,7],[8,9]]\n",
    "for row in list2d:\n",
    "    for data in row:\n",
    "        print(data, end='')\n",
    "print()"
   ]
  },
  {
   "cell_type": "code",
   "execution_count": 162,
   "id": "9d3635c6",
   "metadata": {},
   "outputs": [
    {
     "name": "stdout",
     "output_type": "stream",
     "text": [
      "1 2 3 \n",
      "4 5 6 7 \n",
      "8 9 \n"
     ]
    }
   ],
   "source": [
    "list2d = [ [1,2,3],[4,5,6,7],[8,9]] \n",
    "for row in list2d:\n",
    "    for data in row:\n",
    "        print(data, end=' ')\n",
    "    print()"
   ]
  },
  {
   "cell_type": "code",
   "execution_count": null,
   "id": "29e06a20",
   "metadata": {},
   "outputs": [],
   "source": [
    "# 6.다음 빈칸에 들어갈 함수 이름은\n",
    "# colors = {\" red\":'apple ', yellow\":'banana\n",
    "# for i , v in _______________(colors.________\n",
    "# print( i ,\n",
    "# 0 apple\n",
    "# 1 banana\n",
    "# item"
   ]
  },
  {
   "cell_type": "code",
   "execution_count": null,
   "id": "da6f031f",
   "metadata": {},
   "outputs": [],
   "source": [
    "# 7.다음 코드의 실행결과는\n",
    "# for i in range(0, 2):\n",
    "# for j in range(0,2):\n",
    "# if i ==\n",
    "# break\n",
    "# print(I, j)\n",
    "# 01 10 "
   ]
  },
  {
   "cell_type": "code",
   "execution_count": null,
   "id": "6da963c8",
   "metadata": {},
   "outputs": [],
   "source": [
    "# 8.다음 코드의 실행 결과로 출력될 수 없는 것은\n",
    "# for i in range(0, 2):\n",
    "# for j in range(0,2):\n",
    "# print(I, j)\n",
    "# if i ==\n",
    "# break\n",
    "# "
   ]
  },
  {
   "cell_type": "code",
   "execution_count": null,
   "id": "84941672",
   "metadata": {},
   "outputs": [],
   "source": [
    "# 9.다음 코드의 실행결과는\n",
    "# L = [3, 4, 5, 6, 7, 8, 9, 10]\n",
    "# for i, data in enumerate(L):\n",
    "# if (i%2 == 0):\n",
    "# print(data, end=‘ ’)\n",
    "# 14 36 58 710"
   ]
  },
  {
   "cell_type": "code",
   "execution_count": 143,
   "id": "9161a339",
   "metadata": {},
   "outputs": [
    {
     "name": "stdout",
     "output_type": "stream",
     "text": [
      "컴퓨터가 발생한 임의의 수 : 52\n",
      "1부터 100사이의 수를 맞춰보세요 :50\n",
      "UP ↑\n",
      "1부터 100사이의 수를 맞춰보세요 :60\n",
      "DOWN ↓\n",
      "1부터 100사이의 수를 맞춰보세요 :52\n",
      "정답을 맞추셨습니다\n",
      "끝\n"
     ]
    }
   ],
   "source": [
    "import random\n",
    "# (1) 1~100 사이의 난수 발생\n",
    "randomNum = random.randint(1,100)\n",
    "print('컴퓨터가 발생한 임의의 수 :', randomNum)\n",
    "# (2) 수를 입력받아 틀리면 UP/DOWN 메세지를 출력, 맞추면 break 하는 반복문\n",
    "\n",
    "while True:\n",
    "    inputNum = int(input('1부터 100사이의 수를 맞춰보세요 :'))\n",
    "    if (inputNum < 1) |( inputNum > 100):\n",
    "        print('잘못 입력하셨습니다')\n",
    "    elif randomNum < inputNum:\n",
    "        print('DOWN ↓')\n",
    "    elif randomNum > inputNum:\n",
    "        print('UP ↑')\n",
    "    else:\n",
    "        print('정답을 맞추셨습니다')\n",
    "        break\n",
    "print('끝')"
   ]
  },
  {
   "cell_type": "code",
   "execution_count": 147,
   "id": "42a1854d",
   "metadata": {},
   "outputs": [
    {
     "name": "stdout",
     "output_type": "stream",
     "text": [
      "컴퓨터가 발생한 임의의 수 : 86\n",
      "1부터 100사이의 수를 맞춰보세요 :50\n",
      "UP ↑\n",
      "51부터 100사이의 수를 맞춰보세요 :90\n",
      "DOWN ↓\n",
      "51부터 89사이의 수를 맞춰보세요 :86\n",
      "정답을 맞추셨습니다\n",
      "끝\n"
     ]
    }
   ],
   "source": [
    "# 2단계 . 입력된 숫자가 틀리면 min~max 사이의 수라고 알려주고 숫자를 맞추면 축\n",
    "# 하 메시지와 함께 종료합니다 맞출 때까지 반복\n",
    "\n",
    "import random\n",
    "randomNum = random.randint(1,100)\n",
    "min_val = 1\n",
    "max_val = 100\n",
    "\n",
    "print('컴퓨터가 발생한 임의의 수 :', randomNum)\n",
    "\n",
    "while True:\n",
    "    inputNum = int(input(f'{min_val}부터 {max_val}사이의 수를 맞춰보세요 :'))\n",
    "    if (inputNum < 1) |( inputNum > 100):\n",
    "        print('잘못 입력하셨습니다')\n",
    "    elif randomNum < inputNum:\n",
    "        print('DOWN ↓')\n",
    "        max_val = inputNum - 1\n",
    "    elif randomNum > inputNum:\n",
    "        print('UP ↑')\n",
    "        min_val = inputNum + 1\n",
    "    else:\n",
    "        print('정답을 맞추셨습니다')\n",
    "        break\n",
    "print('끝')"
   ]
  },
  {
   "cell_type": "code",
   "execution_count": 165,
   "id": "bb7855e6",
   "metadata": {},
   "outputs": [
    {
     "name": "stdout",
     "output_type": "stream",
     "text": [
      "컴퓨터가 발생한 임의의 수 : 34\n",
      "1부터 100사이의 수를 맞춰보세요 (남은 기회 5번):5\n",
      "UP ↑\n",
      "6부터 100사이의 수를 맞춰보세요 (남은 기회 4번):6\n",
      "UP ↑\n",
      "7부터 100사이의 수를 맞춰보세요 (남은 기회 3번):7\n",
      "UP ↑\n",
      "8부터 100사이의 수를 맞춰보세요 (남은 기회 2번):8\n",
      "UP ↑\n",
      "9부터 100사이의 수를 맞춰보세요 (남은 기회 1번):9\n",
      "UP ↑\n",
      "끝\n"
     ]
    }
   ],
   "source": [
    "# 3단계 . 숫자를 맞출 수 있는 기회를 5 회로 제한하고 5 회 이내에 맞추지 않으면 실패 메세지를 출력합니다\n",
    "\n",
    "\n",
    "import random\n",
    "randomNum = random.randint(1,100)\n",
    "min_val = 1\n",
    "max_val = 100\n",
    "end_ = 5\n",
    "\n",
    "print('컴퓨터가 발생한 임의의 수 :', randomNum)\n",
    "\n",
    "while end_ > 0:\n",
    "    inputNum = int(input(f'{min_val}부터 {max_val}사이의 수를 맞춰보세요 (남은 기회 {end_}번):'))\n",
    "    if (inputNum < min_val) |( inputNum > max_val):\n",
    "        print(f'잘못 입력하셨습니다 {min_val}부터 {max_val}사이의 수를 입력하세요')\n",
    "        end_ -= 1\n",
    "    elif randomNum < inputNum:\n",
    "        print('DOWN ↓')\n",
    "        end_ -= 1\n",
    "        max_val = inputNum - 1\n",
    "    elif randomNum > inputNum:\n",
    "        print('UP ↑')\n",
    "        end_ -= 1\n",
    "        min_val = inputNum + 1\n",
    "    elif end == 0:\n",
    "        print('5회 이내에 맞추지 못하셨습니다.')\n",
    "        break\n",
    "    else:\n",
    "        print('정답을 맞추셨습니다')\n",
    "        break\n",
    "print('끝')"
   ]
  },
  {
   "cell_type": "code",
   "execution_count": 164,
   "id": "3303bef7",
   "metadata": {},
   "outputs": [
    {
     "name": "stdout",
     "output_type": "stream",
     "text": [
      "컴퓨터가 발생한 임의의 수 : 85\n",
      "1~100사이의 수를 맞춰 보세요(남은기회 5회) :7\n",
      "1~100사이의 7입력\n",
      "UP ↑\n",
      "8~100사이의 수를 맞춰 보세요(남은기회 4회) :8\n",
      "8~100사이의 8입력\n",
      "UP ↑\n",
      "9~100사이의 수를 맞춰 보세요(남은기회 3회) :9\n",
      "9~100사이의 9입력\n",
      "UP ↑\n",
      "10~100사이의 수를 맞춰 보세요(남은기회 2회) :0\n",
      "10~100사이의 0입력\n",
      "수의 범위를 벗어났습니다\n",
      "10~100사이의 수를 맞춰 보세요(남은기회 1회) :76\n",
      "10~100사이의 76입력\n",
      "UP ↑\n",
      "기회를 모두 사용하셨습니다. 실패하셨습니다\n"
     ]
    }
   ],
   "source": [
    "# 10번 3단계\n",
    "'''\n",
    "1~100 사이의 정수를 맞추기 프로그램\n",
    "(프로그램 안에서 random수가 만들어지고 그 random수 맞추기)\n",
    "1단계 : 숫자를 못 맞추면 UP/DOWN을 출력하고, 맞추면 축하메세지 뿌리고 끝남\n",
    "2단계 : 숫자를 못 맞추면 fRom~to를 조정, 맞추면 축하메세지 뿌리고 끝남\n",
    "3단계 : 2단계의 기회를 5회 제한. 5회의 기회가 지나면 실패 메세지 뿌리고 끝남\n",
    "(2단계와 3단계 연습문제)\n",
    "'''\n",
    "import random\n",
    "# (1) 1~100사이의 난수 발생\n",
    "fRom, to = 1, 100\n",
    "inputNum = 0 # 사용자가 맞출 수가 저장될 변수\n",
    "randomNum = random.randint(fRom, to)\n",
    "print('컴퓨터가 발생한 임의의 수 :', randomNum)\n",
    "message = '기회를 모두 사용하셨습니다. 실패하셨습니다'\n",
    "# (2) 수를 입력받아 틀리면 범위 조정과 UP/DOWN 메세지 출력, \n",
    "#    맞추면 축하축하 메세지와 break하는 반복문\n",
    "for cnt in range(5, 0, -1):\n",
    "    inputNum = int(input(f\"{fRom}~{to}사이의 수를 맞춰 보세요(남은기회 {cnt}회) :\"))\n",
    "    print(f\"{fRom}~{to}사이의 {inputNum}입력\")\n",
    "    if (inputNum<fRom) | (inputNum>to):\n",
    "        print('수의 범위를 벗어났습니다')\n",
    "    elif randomNum < inputNum:\n",
    "        print('DOWN ↓')\n",
    "        to = inputNum - 1\n",
    "    elif randomNum > inputNum:\n",
    "        print('UP ↑')\n",
    "        fRom = inputNum+1\n",
    "    else:\n",
    "        message = '축하 축하 맞추셨습니다 {}번만에 성공하셨습니다.'.format(6-cnt)\n",
    "        break\n",
    "print(message)"
   ]
  },
  {
   "cell_type": "code",
   "execution_count": null,
   "id": "6ab43ba1",
   "metadata": {},
   "outputs": [],
   "source": [
    "import random\n",
    "# (1) 1~100사이의 난수 발생\n",
    "fRom, to = 1, 100\n",
    "inputNum = 0 # 사용자가 맞출 수가 저장될 변수\n",
    "randomNum = random.randint(fRom, to)\n",
    "print('컴퓨터가 발생한 임의의 수 :', randomNum)\n",
    "message = '기회를 모두 사용하셨습니다. 실패하셨습니다'\n",
    "# (2) 수를 입력받아 틀리면 범위 조정과 UP/DOWN 메세지 출력, \n",
    "#    맞추면 축하축하 메세지와 break하는 반복문\n",
    "for cnt in range(5, 0, -1):\n",
    "    inputNum = int(input(f\"{fRom}~{to}사이의 수를 맞춰 보세요(남은기회 {cnt}회) :\"))\n",
    "    if (inputNum<fRom) | (inputNum>to):\n",
    "        print('수의 범위를 벗어났습니다')\n",
    "    elif randomNum < inputNum:\n",
    "        print('DOWN ↓')\n",
    "        to = inputNum - 1\n",
    "    elif randomNum > inputNum:\n",
    "        print('UP ↑')\n",
    "        fRom = inputNum+1\n",
    "    else:\n",
    "        message = '축하 축하 맞추셨습니다 {}번만에 성공하셨습니다.'.format(6-cnt)\n",
    "        break\n",
    "print(message)"
   ]
  },
  {
   "cell_type": "code",
   "execution_count": 167,
   "id": "a7f5e94e",
   "metadata": {},
   "outputs": [
    {
     "name": "stdout",
     "output_type": "stream",
     "text": [
      "1부터 100 사이의 숫자를 맞춰보세요.\n",
      "총 5번의 기회가 주어집니다.\n",
      "\n",
      "1부터 100 사이의 숫자를 입력하세요. (남은 기회: 5) : 50\n",
      "입력한 숫자보다 더 작은 수입니다. (DOWN)\n",
      "\n",
      "1부터 49 사이의 숫자를 입력하세요. (남은 기회: 4) : 20\n",
      "입력한 숫자보다 더 큰 수입니다. (UP)\n",
      "\n",
      "21부터 49 사이의 숫자를 입력하세요. (남은 기회: 3) : 30\n",
      "입력한 숫자보다 더 큰 수입니다. (UP)\n",
      "\n",
      "31부터 49 사이의 숫자를 입력하세요. (남은 기회: 2) : 40\n",
      "입력한 숫자보다 더 큰 수입니다. (UP)\n",
      "\n",
      "41부터 49 사이의 숫자를 입력하세요. (남은 기회: 1) : 45\n",
      "입력한 숫자보다 더 큰 수입니다. (UP)\n",
      "\n",
      "5번의 기회를 모두 사용하셨습니다. 정답은 47였습니다.\n",
      "게임을 종료합니다.\n"
     ]
    }
   ],
   "source": [
    "#챗\n",
    "\n",
    "\n",
    "import random\n",
    "\n",
    "# 1~100 사이의 랜덤 숫자 생성\n",
    "random_num = random.randint(1, 100)\n",
    "min_val = 1\n",
    "max_val = 100\n",
    "chances = 5\n",
    "\n",
    "print(\"1부터 100 사이의 숫자를 맞춰보세요.\")\n",
    "print(\"총 5번의 기회가 주어집니다.\")\n",
    "\n",
    "while chances > 0:\n",
    "    try:\n",
    "        guess = int(input(f\"\\n{min_val}부터 {max_val} 사이의 숫자를 입력하세요. (남은 기회: {chances}) : \"))\n",
    "    except ValueError:\n",
    "        print(\"잘못된 입력입니다. 숫자만 입력해주세요.\")\n",
    "        continue\n",
    "\n",
    "    if guess < min_val or guess > max_val:\n",
    "        print(f\"입력 범위를 벗어났습니다. {min_val}부터 {max_val} 사이의 숫자를 입력해주세요.\")\n",
    "        continue\n",
    "\n",
    "    chances -= 1\n",
    "\n",
    "    if guess < random_num:\n",
    "        print(\"입력한 숫자보다 더 큰 수입니다. (UP)\")\n",
    "        min_val = guess + 1\n",
    "    elif guess > random_num:\n",
    "        print(\"입력한 숫자보다 더 작은 수입니다. (DOWN)\")\n",
    "        max_val = guess - 1\n",
    "    else:\n",
    "        print(\"정답입니다. 축하합니다.\")\n",
    "        break\n",
    "else:\n",
    "    print(f\"\\n5번의 기회를 모두 사용하셨습니다. 정답은 {random_num}였습니다.\")\n",
    "\n",
    "print(\"게임을 종료합니다.\")"
   ]
  },
  {
   "cell_type": "code",
   "execution_count": null,
   "id": "6c085ce4",
   "metadata": {},
   "outputs": [],
   "source": []
  },
  {
   "cell_type": "code",
   "execution_count": null,
   "id": "1d44cab8",
   "metadata": {},
   "outputs": [],
   "source": []
  },
  {
   "cell_type": "code",
   "execution_count": null,
   "id": "c98906ac",
   "metadata": {},
   "outputs": [],
   "source": []
  },
  {
   "cell_type": "code",
   "execution_count": null,
   "id": "493573bb",
   "metadata": {},
   "outputs": [],
   "source": []
  }
 ],
 "metadata": {
  "kernelspec": {
   "display_name": "Python 3 (ipykernel)",
   "language": "python",
   "name": "python3"
  },
  "language_info": {
   "codemirror_mode": {
    "name": "ipython",
    "version": 3
   },
   "file_extension": ".py",
   "mimetype": "text/x-python",
   "name": "python",
   "nbconvert_exporter": "python",
   "pygments_lexer": "ipython3",
   "version": "3.10.9"
  },
  "toc": {
   "base_numbering": 1,
   "nav_menu": {},
   "number_sections": false,
   "sideBar": true,
   "skip_h1_title": false,
   "title_cell": "Table of Contents",
   "title_sidebar": "Contents",
   "toc_cell": false,
   "toc_position": {
    "height": "calc(100% - 180px)",
    "left": "10px",
    "top": "150px",
    "width": "165px"
   },
   "toc_section_display": true,
   "toc_window_display": true
  }
 },
 "nbformat": 4,
 "nbformat_minor": 5
}
