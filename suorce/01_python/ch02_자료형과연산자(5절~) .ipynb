{
 "cells": [
  {
   "cell_type": "code",
   "execution_count": 4,
   "id": "b758ff1f",
   "metadata": {},
   "outputs": [
    {
     "data": {
      "text/html": [
       "\n",
       "<style>\n",
       "div.container{width:86% !important;}\n",
       "div.cell.code_cell.rendered{width:100%;}\n",
       "div.CodeMirror {font-family:Consolas; font-size:15pt;}\n",
       "div.output {font-size:15pt; font-weight:bold;}\n",
       "div.input {font-family:Consolas; font-size:15pt;}\n",
       "div.prompt {min-width:70px;}\n",
       "div#toc-wrapper{padding-top:120px;}\n",
       "div.text_cell_render ul li{font-size:12pt;padding:5px;}\n",
       "table.dataframe{font-size:15px;}\n",
       "</style>\n"
      ],
      "text/plain": [
       "<IPython.core.display.HTML object>"
      ]
     },
     "metadata": {},
     "output_type": "display_data"
    }
   ],
   "source": [
    "from IPython.display import display, HTML\n",
    "display(HTML(\"\"\"\n",
    "<style>\n",
    "div.container{width:86% !important;}\n",
    "div.cell.code_cell.rendered{width:100%;}\n",
    "div.CodeMirror {font-family:Consolas; font-size:15pt;}\n",
    "div.output {font-size:15pt; font-weight:bold;}\n",
    "div.input {font-family:Consolas; font-size:15pt;}\n",
    "div.prompt {min-width:70px;}\n",
    "div#toc-wrapper{padding-top:120px;}\n",
    "div.text_cell_render ul li{font-size:12pt;padding:5px;}\n",
    "table.dataframe{font-size:15px;}\n",
    "</style>\n",
    "\"\"\"))"
   ]
  },
  {
   "cell_type": "markdown",
   "id": "52fb64b7",
   "metadata": {},
   "source": [
    "<font size= \"5\" color=\"red\">ch02 자료형과 연산자</font>\n",
    "# 5절. 연산자\n",
    "## 5.1 산술연산자 : +, -, *, /, //(몫연산자), %(나머지), **(제곱)"
   ]
  },
  {
   "cell_type": "code",
   "execution_count": 8,
   "id": "8f41234c",
   "metadata": {},
   "outputs": [
    {
     "name": "stdout",
     "output_type": "stream",
     "text": [
      "10의 5승 : 100000\n",
      "4/2(rufrhk tlftn) : 2.0\n",
      "4//2(몫) : 2\n",
      "4%2(나머지) : 0\n"
     ]
    }
   ],
   "source": [
    "print(\"10의 5승 :\", 10**5)\n",
    "print(\"4/2(rufrhk tlftn) :\", 4/2)\n",
    "print(\"4//2(몫) :\", 4//2)\n",
    "print(\"4%2(나머지) :\", 4%2)"
   ]
  },
  {
   "cell_type": "code",
   "execution_count": 17,
   "id": "f64a5c07",
   "metadata": {},
   "outputs": [
    {
     "name": "stdout",
     "output_type": "stream",
     "text": [
      "정수를 입력하세요 :10\n",
      "입력하신 수는 10, 2로 나눈 나머지는 0,  짝수를 입력하셨군요.\n"
     ]
    }
   ],
   "source": [
    "# quiz 1. 정수를 입력받아 짝수인지 홀수인지 여부를 출력\n",
    "num = int(input('정수를 입력하세요 :'))\n",
    "result = num%2\n",
    "if result:\n",
    "    temp = \"홀수\"\n",
    "else:\n",
    "    temp = \"짝수\"\n",
    "print(f\"입력하신 수는 {num}, 2로 나눈 나머지는 {result},  {temp}를 입력하셨군요.\")"
   ]
  },
  {
   "cell_type": "code",
   "execution_count": 19,
   "id": "985e7887",
   "metadata": {},
   "outputs": [
    {
     "name": "stdout",
     "output_type": "stream",
     "text": [
      "정수를 입력하세요 :25\n",
      "입력하신 수는 25, 5로 나눈 나머지는 0, 그럼으로 5의 배수\n"
     ]
    }
   ],
   "source": [
    "# quiz 2. 정수를 입력받아 5의 배수인지 여부를 출력\n",
    "num = int(input(\"정수를 입력하세요 :\"))\n",
    "result = num%5\n",
    "if result:\n",
    "    temp = \"5의 배수가 아님\"\n",
    "else:\n",
    "    temp = \"5의 배수\"\n",
    "print(f\"입력하신 수는 {num}, 5로 나눈 나머지는 {result}, 그럼으로 {temp}\")"
   ]
  },
  {
   "cell_type": "code",
   "execution_count": 45,
   "id": "f7df0ab6",
   "metadata": {},
   "outputs": [
    {
     "name": "stdout",
     "output_type": "stream",
     "text": [
      "국어 점수를 입력하세요 :45\n",
      "영어 점수를 입력하세요 :56\n",
      "수학 점수를 입력하세요 :67\n",
      "국어 :  45 영어 :  56 수학 :  67 총점 : 168 평균 : 56.00\n"
     ]
    }
   ],
   "source": [
    "# quiz 3. 국, 영, 수 점수를입력받아 다음셀에서 다음과 같이 출력하도록 구현하시오\n",
    "kor = int(input(\"국어 점수를 입력하세요 :\"))\n",
    "eng = int(input(\"영어 점수를 입력하세요 :\"))\n",
    "mat = int(input(\"수학 점수를 입력하세요 :\"))\n",
    "sum_ = kor+eng+mat\n",
    "avg = sum_/3\n",
    "print(\"국어 : {0: >3} 영어 : {1: >3} 수학 : {2: >3} 총점 : {3: >3} 평균 : {4: <3.2f}\".format(kor,eng,mat,sum_,avg))"
   ]
  },
  {
   "cell_type": "code",
   "execution_count": 49,
   "id": "90bf100d",
   "metadata": {},
   "outputs": [
    {
     "name": "stdout",
     "output_type": "stream",
     "text": [
      "국어: 45\t영어: 56\t영어: 67\n",
      "총점:168\t평균:56.00\n"
     ]
    }
   ],
   "source": [
    "print(\"국어:{:3d}\\t영어:{:3d}\\t영어:{:3d}\".format(kor,eng,mat))\n",
    "print(\"총점:{:3d}\\t평균:{:<3.2f}\".format(sum_,avg))"
   ]
  },
  {
   "cell_type": "markdown",
   "id": "44265a25",
   "metadata": {},
   "source": [
    "## 5.2 할당연산자 : =, +=, -=, *=, /=, //=, %="
   ]
  },
  {
   "cell_type": "code",
   "execution_count": 35,
   "id": "086beca2",
   "metadata": {},
   "outputs": [
    {
     "name": "stdout",
     "output_type": "stream",
     "text": [
      "5더하기 :  15\n"
     ]
    }
   ],
   "source": [
    "a = 10\n",
    "a += 5 #a = a+5\n",
    "print(\"5더하기 :\",a)"
   ]
  },
  {
   "cell_type": "code",
   "execution_count": 41,
   "id": "2cb24cf1",
   "metadata": {},
   "outputs": [
    {
     "name": "stdout",
     "output_type": "stream",
     "text": [
      "5빼기 : -5\n"
     ]
    }
   ],
   "source": [
    "a -= 5 # a = a-5\n",
    "print(\"5빼기 :\",a)"
   ]
  },
  {
   "cell_type": "code",
   "execution_count": 42,
   "id": "db0ed323",
   "metadata": {},
   "outputs": [
    {
     "name": "stdout",
     "output_type": "stream",
     "text": [
      "5곱하기 : -25\n"
     ]
    }
   ],
   "source": [
    "a *= 5 # a = a*5\n",
    "print(\"5곱하기 :\",a)"
   ]
  },
  {
   "cell_type": "markdown",
   "id": "6f88b43c",
   "metadata": {},
   "source": [
    "## 5.3 논리연산자 : &(and), |(or), and, or"
   ]
  },
  {
   "cell_type": "code",
   "execution_count": 50,
   "id": "b7e247c9",
   "metadata": {},
   "outputs": [
    {
     "name": "stdout",
     "output_type": "stream",
     "text": [
      "True\n",
      "0\n"
     ]
    }
   ],
   "source": [
    "# & 논리연산자, 비트연산자\n",
    "print( (10>3) & (10>5) ) #논리연산 True & True\n",
    "print(12 & 1) # 비트연산 12 : 0000 1100\n",
    "              #          1 : 0000 0001\n",
    "              #     12 & 1 : 0000 0000"
   ]
  },
  {
   "cell_type": "code",
   "execution_count": 55,
   "id": "28a84b57",
   "metadata": {},
   "outputs": [
    {
     "name": "stdout",
     "output_type": "stream",
     "text": [
      "3\n",
      "0\n",
      "abc\n"
     ]
    }
   ],
   "source": [
    "# and : False 로 판별되는 첫번째 항의 결과 반환\n",
    "#       모든 항이 참이면 마지막 항을 반환\n",
    "print(True and 1 and 3)\n",
    "print(0 and True)\n",
    "print(True and \"abc\")"
   ]
  },
  {
   "cell_type": "code",
   "execution_count": 56,
   "id": "705ede8c",
   "metadata": {},
   "outputs": [
    {
     "name": "stdout",
     "output_type": "stream",
     "text": [
      "논리연산(연산자 앞뒤에 논리형일 떄) : True\n",
      "비트연산(연산자 앞이나 뒤에 숫자일 떄) : 3\n"
     ]
    }
   ],
   "source": [
    "# | : 논리연산자, 비트연산자\n",
    "result = False | True\n",
    "print(\"논리연산(연산자 앞뒤에 논리형일 떄) :\", result)\n",
    "result = False | 3 # 0000 0000 (False)\n",
    "                   # 0000 0011 (3)\n",
    "print(\"비트연산(연산자 앞이나 뒤에 숫자일 떄) :\", result)"
   ]
  },
  {
   "cell_type": "code",
   "execution_count": 57,
   "id": "ba6b5c21",
   "metadata": {},
   "outputs": [
    {
     "name": "stdout",
     "output_type": "stream",
     "text": [
      "\n",
      "hong\n"
     ]
    }
   ],
   "source": [
    "# or : 논리연산자, 참으로 판별되는 첫번쨰 항을 반환\n",
    "#      모든 항이 거짓이면, 마지막항을 반환\n",
    "print(False or False or '')\n",
    "print('hong' or ' ' or False)"
   ]
  },
  {
   "cell_type": "code",
   "execution_count": 59,
   "id": "0d134f53",
   "metadata": {},
   "outputs": [
    {
     "name": "stdout",
     "output_type": "stream",
     "text": [
      "False\n"
     ]
    }
   ],
   "source": [
    "print(not True)"
   ]
  },
  {
   "cell_type": "markdown",
   "id": "523ea28a",
   "metadata": {},
   "source": [
    "## 5.4 비교연산자 : >, >=, <, <=, ==(같다), !=(다르다)"
   ]
  },
  {
   "cell_type": "code",
   "execution_count": 62,
   "id": "5f9f16b5",
   "metadata": {},
   "outputs": [
    {
     "name": "stdout",
     "output_type": "stream",
     "text": [
      "True\n",
      "True\n"
     ]
    }
   ],
   "source": [
    "# 비교연산자는 이항, 삼함, 사항... 다항연산자\n",
    "x = 5\n",
    "print((4<x) & (x<10))\n",
    "print(4 < x < 10)"
   ]
  },
  {
   "cell_type": "code",
   "execution_count": 66,
   "id": "390605aa",
   "metadata": {},
   "outputs": [
    {
     "name": "stdout",
     "output_type": "stream",
     "text": [
      "True\n",
      "False\n",
      "False\n",
      "True\n"
     ]
    }
   ],
   "source": [
    "# 비교연산자(<)의 우선순위가 논리연산(&)의 우선순위보다 낮다\n",
    "print((10>5) & (10>7))\n",
    "print(10>5 & 10>7)   # 0101\n",
    "                     # 1010\n",
    "print( 10> 0 > 7)\n",
    "print( 10>5 and 10>7 ) # and우선순위는 낮다"
   ]
  },
  {
   "cell_type": "code",
   "execution_count": 73,
   "id": "a79c1ad8",
   "metadata": {},
   "outputs": [
    {
     "name": "stdout",
     "output_type": "stream",
     "text": [
      "False\n",
      "False\n",
      "False\n"
     ]
    }
   ],
   "source": [
    "address = \"서울\"\n",
    "age = 29\n",
    "#print(address == \"서울\" & age >= 30) 에러남\n",
    "print((address == \"서울\") & (age >= 30))\n",
    "print(address == \"서울\" and age >= 30)\n",
    "print(address != \"서울\" and age >= 30)"
   ]
  },
  {
   "cell_type": "code",
   "execution_count": 74,
   "id": "e0199508",
   "metadata": {},
   "outputs": [
    {
     "data": {
      "text/plain": [
       "True"
      ]
     },
     "execution_count": 74,
     "metadata": {},
     "output_type": "execute_result"
    }
   ],
   "source": [
    "# 문자 비교 : ASCII 코드 순으로 비교 가능 : 특수문자 < 숫자 < 대문자 < 소문자\n",
    "\"scott\" < \"tiger\""
   ]
  },
  {
   "cell_type": "code",
   "execution_count": 75,
   "id": "c043b2c0",
   "metadata": {},
   "outputs": [
    {
     "data": {
      "text/plain": [
       "True"
      ]
     },
     "execution_count": 75,
     "metadata": {},
     "output_type": "execute_result"
    }
   ],
   "source": [
    "\"9\" > \"10\""
   ]
  },
  {
   "cell_type": "code",
   "execution_count": 76,
   "id": "31d1dad7",
   "metadata": {},
   "outputs": [
    {
     "data": {
      "text/plain": [
       "True"
      ]
     },
     "execution_count": 76,
     "metadata": {},
     "output_type": "execute_result"
    }
   ],
   "source": [
    "\"김길동\" < \"홍길동\""
   ]
  },
  {
   "cell_type": "markdown",
   "id": "e2aa81eb",
   "metadata": {},
   "source": [
    "## 5.5 비트연산자 : &, |, ^(XOR), ~"
   ]
  },
  {
   "cell_type": "code",
   "execution_count": null,
   "id": "e5a88d1a",
   "metadata": {},
   "outputs": [],
   "source": [
    "# x  y  x&y   X^Y\n",
    "# 0  0   0     0\n",
    "# 0  1   0     1\n",
    "# 1  0   0     1\n",
    "# 1  1   1     0"
   ]
  },
  {
   "cell_type": "code",
   "execution_count": 78,
   "id": "0712e915",
   "metadata": {},
   "outputs": [
    {
     "name": "stdout",
     "output_type": "stream",
     "text": [
      "  a  = 15 : 1111\n",
      "  b  =  2 : 0010\n",
      " a^b = 13 : 1101\n"
     ]
    }
   ],
   "source": [
    "a = 15 # 1111\n",
    "b = 2 # 0010\n",
    "print(\"  a  = {0:2} : {0:04b}\".format(a))\n",
    "print(\"  b  = {0:2} : {0:04b}\".format(b))\n",
    "print(\" a^b = {0:2} : {0:04b}\". format(a^b))"
   ]
  },
  {
   "cell_type": "markdown",
   "id": "99740ecb",
   "metadata": {},
   "source": [
    "- 연산자\n",
    "    - 산술연산 : + - * / // % **\n",
    "    - 할당연산 : += -= *= /= //= %=\n",
    "    - 논리연산 : & and | or not\n",
    "    - 비교연산 : > >= < <= ++ !=\n",
    "    - 비트연산 : & | ^\n",
    "    - &와 |은 비교연산자보다 우선순위가 높다"
   ]
  },
  {
   "cell_type": "markdown",
   "id": "d3153a86",
   "metadata": {},
   "source": [
    "# 6절. 문자열 다루기\n",
    "- 문자열 슬라이싱 변수.[from:stop:step]\n",
    "- len(문자열변수) : 문자갯수\n",
    "\n",
    "- upper() : 대문자로\n",
    "- lower() : 소문자로\n",
    "- title() : 각 어절의 첫글자만 대문자로\n",
    "- capitalize() : 첫문자만 대문자로\n",
    "- count('찾을문자열') : '찾을문자열'이 몇개 들어있는지 갯수 반환\n",
    "- find('찾을문자열')  : 찾을문자열이 왼쪽부터 시작하여 몇번째에 있는지 인덱스를 반환\n",
    "- rfind('찾을문자열') : 찾을문자열이 오른쪽부터 시작하여 몇번째에 있는지 인덱스를 반환\n",
    "        **찾을 문자열이 없으면 -1을 반환**\n",
    "        cf) index('찾을문자열') : 찾을문자열의 인덱스를 반환. 찾을문자열이 없으면 **오류**(잘안씀)\n",
    "- startswith('특수문자열') : 특정문자열로 시작하는지 여부\n",
    "- endswith('특수문자열') : 특정문자열로 끝나는지 여부\n",
    "- strip() : 좌우 공백 제거\n",
    "- rstrip() : 오른쪽 공백 제거\n",
    "- lstrip() : 왼쪽 공백 제거\n",
    "- isdigit() : 문자열이 숫자문자열인지 여부\n",
    "- islower() : 소문자문자열인지 여부\n",
    "- isupper() : 대문자문자열인지 여부\n",
    "- replace(oldStr, newStr) : oldStr을 newStr로 변경"
   ]
  },
  {
   "cell_type": "code",
   "execution_count": 95,
   "id": "b4cad182",
   "metadata": {},
   "outputs": [
    {
     "name": "stdout",
     "output_type": "stream",
     "text": [
      "1. 글자수 39\n",
      "2. 대문자로 PYTHON IS EASY. PYTHON IS SMART. PYTHON\n",
      "3. 소문자로 python is easy. python is smart. python\n",
      "4. title : Python Is Easy. Python Is Smart. Python\n",
      "5. capitalize : Python is easy. python is smart. python\n",
      "6. python이 몇번 나오는지 : 2\n",
      "7. 대소문자구분없이 python이 몇번 나오는지 : 3\n",
      "7. 대소문자구분없이 python이 몇번 나오는지 : 3\n",
      "7. 대소문자구분없이 python이 몇번 나오는지 : 3\n",
      "8. python이 나오는 첫 index 위치 : 0\n",
      "8. python이 나오는 마지막 index 위치 : 33\n",
      "8. java이 나오는 마지막 index 위치 : -1\n",
      "8. python이 나오는 첫 index 위치 : 0\n",
      "9. python으로 시작하는지 여부 : True\n",
      "9. python으로 끝나는지 여부 : True\n"
     ]
    }
   ],
   "source": [
    "temp = \"python is easy. PYThon is smart. python\"\n",
    "print(\"1. 글자수\", len(temp))\n",
    "print(\"2. 대문자로\", temp.upper())\n",
    "print(\"3. 소문자로\", temp.lower())\n",
    "print(\"4. title :\", temp.title())\n",
    "print(\"5. capitalize :\", temp.capitalize())\n",
    "print(\"6. python이 몇번 나오는지 :\", temp.count('python'))\n",
    "print(\"7. 대소문자구분없이 python이 몇번 나오는지 :\", temp.lower().count(\"python\"))\n",
    "print(\"7. 대소문자구분없이 python이 몇번 나오는지 :\", temp.upper().count(\"PYTHON\"))\n",
    "print(\"7. 대소문자구분없이 python이 몇번 나오는지 :\", temp.title().count(\"Python\"))\n",
    "print(\"8. python이 나오는 첫 index 위치 :\", temp.find(\"python\"))\n",
    "print(\"8. python이 나오는 마지막 index 위치 :\", temp.rfind(\"python\"))\n",
    "print(\"8. java이 나오는 마지막 index 위치 :\", temp.rfind(\"java\"))\n",
    "print(\"8. python이 나오는 첫 index 위치 :\", temp.index(\"python\")) #인덱스는 오류가 나서 쓰지않음\n",
    "#print(\"8. java이 나오는 마지막 index 위치 :\", temp.index(\"java\")) #인덱스는 오류가 나서 쓰지않음\n",
    "print(\"9. python으로 시작하는지 여부 :\", temp.startswith(\"python\"))\n",
    "print(\"9. python으로 끝나는지 여부 :\", temp.endswith(\"python\"))"
   ]
  },
  {
   "cell_type": "code",
   "execution_count": 119,
   "id": "7d073333",
   "metadata": {},
   "outputs": [
    {
     "name": "stdout",
     "output_type": "stream",
     "text": [
      "11. 좌우공백제거 : [python is easy.]\n",
      "11. 좌측공백제거 : [python is easy.     ]\n",
      "11. 우측공백제거 : [       python is easy.]\n",
      "12. 숫자문자열인지 : False\n",
      "13. 소문자문자열인지 : True\n",
      "13. 대문자문자열인지 : False\n",
      "14. ,제거 : 1000000\n",
      "14. ,제거 : 1000\n"
     ]
    }
   ],
   "source": [
    "temp = '       python is easy.     '\n",
    "notdisit = '1,000,000'\n",
    "num_str = '1,000'\n",
    "print('11. 좌우공백제거 : [{}]'.format(temp.strip()))\n",
    "print('11. 좌측공백제거 : [{}]'.format(temp.lstrip()))\n",
    "print('11. 우측공백제거 : [{}]'.format(temp.rstrip()))\n",
    "print('12. 숫자문자열인지 :', notdisit.isdigit())\n",
    "print('13. 소문자문자열인지 :', temp.islower())\n",
    "print('13. 대문자문자열인지 :', temp.isupper())\n",
    "print('14. ,제거 :', notdisit.replace(',', ''))\n",
    "print('14. ,제거 :', num_str.replace(',', ''))"
   ]
  },
  {
   "cell_type": "code",
   "execution_count": 120,
   "id": "742d1af3",
   "metadata": {},
   "outputs": [
    {
     "name": "stdout",
     "output_type": "stream",
     "text": [
      "space단위로 temp를 분리 : ['홍길동', '김길동', '신길동', '유길동']\n"
     ]
    }
   ],
   "source": [
    "temp = \"홍길동   김길동 신길동 유길동\"\n",
    "print(\"space단위로 temp를 분리 :\", temp.split()) #기본이 스페이스 단위로 분리"
   ]
  },
  {
   "cell_type": "code",
   "execution_count": 122,
   "id": "79ccfb42",
   "metadata": {},
   "outputs": [
    {
     "name": "stdout",
     "output_type": "stream",
     "text": [
      " - 단위로 data를 분리(결과 : list)\n",
      "['2025', '04', '10']\n",
      "년 : 2025\n",
      "월 : 04\n",
      "일 : 10\n"
     ]
    }
   ],
   "source": [
    "data = \"2025-04-10\"\n",
    "print(\" - 단위로 data를 분리(결과 : list)\")\n",
    "data_list = data.split(\"-\")\n",
    "print(data_list)\n",
    "print(\"년 :\", data_list[0])\n",
    "print(\"월 :\", data_list[1])\n",
    "print(\"일 :\", data_list[2])"
   ]
  },
  {
   "cell_type": "code",
   "execution_count": 126,
   "id": "8448da21",
   "metadata": {},
   "outputs": [
    {
     "name": "stdout",
     "output_type": "stream",
     "text": [
      "원 데이터 : Python - HTML/CSS - JavaScript - DBMS\n",
      "분리된 데이터 : ['Python', 'HTML/CSS', 'JavaScript', 'DBMS']\n",
      "join된 데이터 : Python/HTML/CSS/JavaScript/DBMS\n"
     ]
    }
   ],
   "source": [
    "# ' - '을 '/'로 바꾸기\n",
    "temp = \"Python - HTML/CSS - JavaScript - DBMS\"\n",
    "# temp.replace(' - ','/')\n",
    "print('원 데이터 :', temp)\n",
    "splited_temp = temp.split(' - ')\n",
    "print('분리된 데이터 :', splited_temp)\n",
    "joined_temp = '/'.join(splited_temp)\n",
    "print('join된 데이터 :',joined_temp)"
   ]
  },
  {
   "cell_type": "code",
   "execution_count": 127,
   "id": "d58530a3",
   "metadata": {},
   "outputs": [],
   "source": [
    "str_ = 'ABC'\n",
    "# str_ = ['A', 'B', 'C']"
   ]
  },
  {
   "cell_type": "code",
   "execution_count": 128,
   "id": "8b250e09",
   "metadata": {
    "collapsed": true
   },
   "outputs": [
    {
     "data": {
      "text/plain": [
       "['__add__',\n",
       " '__class__',\n",
       " '__contains__',\n",
       " '__delattr__',\n",
       " '__dir__',\n",
       " '__doc__',\n",
       " '__eq__',\n",
       " '__format__',\n",
       " '__ge__',\n",
       " '__getattribute__',\n",
       " '__getitem__',\n",
       " '__getnewargs__',\n",
       " '__gt__',\n",
       " '__hash__',\n",
       " '__init__',\n",
       " '__init_subclass__',\n",
       " '__iter__',\n",
       " '__le__',\n",
       " '__len__',\n",
       " '__lt__',\n",
       " '__mod__',\n",
       " '__mul__',\n",
       " '__ne__',\n",
       " '__new__',\n",
       " '__reduce__',\n",
       " '__reduce_ex__',\n",
       " '__repr__',\n",
       " '__rmod__',\n",
       " '__rmul__',\n",
       " '__setattr__',\n",
       " '__sizeof__',\n",
       " '__str__',\n",
       " '__subclasshook__',\n",
       " 'capitalize',\n",
       " 'casefold',\n",
       " 'center',\n",
       " 'count',\n",
       " 'encode',\n",
       " 'endswith',\n",
       " 'expandtabs',\n",
       " 'find',\n",
       " 'format',\n",
       " 'format_map',\n",
       " 'index',\n",
       " 'isalnum',\n",
       " 'isalpha',\n",
       " 'isascii',\n",
       " 'isdecimal',\n",
       " 'isdigit',\n",
       " 'isidentifier',\n",
       " 'islower',\n",
       " 'isnumeric',\n",
       " 'isprintable',\n",
       " 'isspace',\n",
       " 'istitle',\n",
       " 'isupper',\n",
       " 'join',\n",
       " 'ljust',\n",
       " 'lower',\n",
       " 'lstrip',\n",
       " 'maketrans',\n",
       " 'partition',\n",
       " 'removeprefix',\n",
       " 'removesuffix',\n",
       " 'replace',\n",
       " 'rfind',\n",
       " 'rindex',\n",
       " 'rjust',\n",
       " 'rpartition',\n",
       " 'rsplit',\n",
       " 'rstrip',\n",
       " 'split',\n",
       " 'splitlines',\n",
       " 'startswith',\n",
       " 'strip',\n",
       " 'swapcase',\n",
       " 'title',\n",
       " 'translate',\n",
       " 'upper',\n",
       " 'zfill']"
      ]
     },
     "execution_count": 128,
     "metadata": {},
     "output_type": "execute_result"
    }
   ],
   "source": [
    "# 문자열이 다룰 수 있는 함수들과 변수들 목록\n",
    "dir(str)"
   ]
  },
  {
   "cell_type": "markdown",
   "id": "1d6a80de",
   "metadata": {},
   "source": [
    "# 7절. 시간,날짜,날짜시간 다루기"
   ]
  },
  {
   "cell_type": "code",
   "execution_count": 3,
   "id": "13b6e039",
   "metadata": {},
   "outputs": [
    {
     "data": {
      "text/plain": [
       "'C:\\\\Users\\\\Admin\\\\anaconda3\\\\lib\\\\datetime.py'"
      ]
     },
     "execution_count": 3,
     "metadata": {},
     "output_type": "execute_result"
    }
   ],
   "source": [
    "import datetime.datetime\n",
    "datetime.__file__"
   ]
  },
  {
   "cell_type": "code",
   "execution_count": 5,
   "id": "a1ba1041",
   "metadata": {},
   "outputs": [],
   "source": [
    "# datetime모듈(datetime.py)안의 datetime, date, time을 import\n",
    "from datetime import datetime, date, time"
   ]
  },
  {
   "cell_type": "markdown",
   "id": "f984f85d",
   "metadata": {},
   "source": [
    "## 7.1 시간과 날짜"
   ]
  },
  {
   "cell_type": "code",
   "execution_count": 6,
   "id": "c92d34f0",
   "metadata": {},
   "outputs": [
    {
     "data": {
      "text/plain": [
       "datetime.datetime(2025, 4, 7, 9, 30)"
      ]
     },
     "execution_count": 6,
     "metadata": {},
     "output_type": "execute_result"
    }
   ],
   "source": [
    "# 특정한 시점을 갖는 datetime 객체 생성\n",
    "thatday = datetime(2025, 4, 7, 9, 30, 0)\n",
    "thatday"
   ]
  },
  {
   "cell_type": "code",
   "execution_count": 12,
   "id": "89cd4707",
   "metadata": {},
   "outputs": [
    {
     "name": "stdout",
     "output_type": "stream",
     "text": [
      "2025-04-07 09:30:00\n",
      "Mon Apr  7 09:30:00 2025\n",
      "25년04월07일 오전 09시 30분 00초\n",
      "25년04월07일 오전 09시 30분 00초\n"
     ]
    }
   ],
   "source": [
    "print(thatday)\n",
    "print(thatday.ctime()) # ctime() : 사람이 읽기 쉬운 형태로 변환\n",
    "print(\"{:%y년%m월%d일 %p %I시 %M분 %S초}\".format(thatday))\n",
    "print(thatday.strftime(\"%y년%m월%d일 %p %I시 %M분 %S초\"))"
   ]
  },
  {
   "cell_type": "code",
   "execution_count": 11,
   "id": "d318f07a",
   "metadata": {},
   "outputs": [
    {
     "data": {
      "text/plain": [
       "'ko_KR'"
      ]
     },
     "execution_count": 11,
     "metadata": {},
     "output_type": "execute_result"
    }
   ],
   "source": [
    "import locale\n",
    "locale.setlocale(locale.LC_TIME, 'ko_KR')"
   ]
  },
  {
   "cell_type": "code",
   "execution_count": 23,
   "id": "f77e9bff",
   "metadata": {},
   "outputs": [
    {
     "name": "stdout",
     "output_type": "stream",
     "text": [
      "25-04-11(금요일) 10:21:05\n"
     ]
    }
   ],
   "source": [
    "now = datetime.now()\n",
    "print(now.strftime(\"%y-%m-%d(%A) %H:%M:%S\"))"
   ]
  },
  {
   "cell_type": "code",
   "execution_count": 17,
   "id": "c1555f74",
   "metadata": {},
   "outputs": [
    {
     "data": {
      "text/plain": [
       "datetime.timedelta(days=4, seconds=2738, microseconds=751732)"
      ]
     },
     "execution_count": 17,
     "metadata": {},
     "output_type": "execute_result"
    }
   ],
   "source": [
    "diff = now - thatday\n",
    "diff"
   ]
  },
  {
   "cell_type": "code",
   "execution_count": 19,
   "id": "1d2290ee",
   "metadata": {},
   "outputs": [
    {
     "data": {
      "text/plain": [
       "4"
      ]
     },
     "execution_count": 19,
     "metadata": {},
     "output_type": "execute_result"
    }
   ],
   "source": [
    "diff.days"
   ]
  },
  {
   "cell_type": "markdown",
   "id": "2ca8c8c4",
   "metadata": {},
   "source": [
    "## 7.2 날짜"
   ]
  },
  {
   "cell_type": "code",
   "execution_count": 30,
   "id": "02654215",
   "metadata": {},
   "outputs": [
    {
     "data": {
      "text/plain": [
       "datetime.date(2025, 9, 2)"
      ]
     },
     "execution_count": 30,
     "metadata": {},
     "output_type": "execute_result"
    }
   ],
   "source": [
    "someday = date(2025,9,2)\n",
    "someday"
   ]
  },
  {
   "cell_type": "code",
   "execution_count": 25,
   "id": "b97484b1",
   "metadata": {},
   "outputs": [
    {
     "name": "stdout",
     "output_type": "stream",
     "text": [
      "25-09-03\n"
     ]
    }
   ],
   "source": [
    "print(someday.strftime(\"%y-%m-%d\"))"
   ]
  },
  {
   "cell_type": "code",
   "execution_count": 28,
   "id": "f1cd2196",
   "metadata": {},
   "outputs": [
    {
     "data": {
      "text/plain": [
       "True"
      ]
     },
     "execution_count": 28,
     "metadata": {},
     "output_type": "execute_result"
    }
   ],
   "source": [
    "# 오늘\n",
    "today1 = datetime.now().date()\n",
    "today2 = date.today()\n",
    "today1 == today2"
   ]
  },
  {
   "cell_type": "code",
   "execution_count": 29,
   "id": "62cf438a",
   "metadata": {},
   "outputs": [
    {
     "name": "stdout",
     "output_type": "stream",
     "text": [
      "25년 04월 11일\n"
     ]
    }
   ],
   "source": [
    "print(today1.strftime(\"%y년 %m월 %d일\"))"
   ]
  },
  {
   "cell_type": "code",
   "execution_count": 33,
   "id": "4bcacdff",
   "metadata": {},
   "outputs": [
    {
     "ename": "NameError",
     "evalue": "name 'today' is not defined",
     "output_type": "error",
     "traceback": [
      "\u001b[1;31m---------------------------------------------------------------------------\u001b[0m",
      "\u001b[1;31mNameError\u001b[0m                                 Traceback (most recent call last)",
      "Cell \u001b[1;32mIn[33], line 1\u001b[0m\n\u001b[1;32m----> 1\u001b[0m diff \u001b[38;5;241m=\u001b[39m someday \u001b[38;5;241m-\u001b[39m \u001b[43mtoday\u001b[49m\n\u001b[0;32m      2\u001b[0m diff\u001b[38;5;241m.\u001b[39mdyas\n",
      "\u001b[1;31mNameError\u001b[0m: name 'today' is not defined"
     ]
    }
   ],
   "source": [
    "diff = someday - today\n",
    "diff.dyas"
   ]
  },
  {
   "cell_type": "markdown",
   "id": "0f12a7cc",
   "metadata": {},
   "source": [
    "## 7.3 시간"
   ]
  },
  {
   "cell_type": "code",
   "execution_count": 34,
   "id": "6a55c399",
   "metadata": {},
   "outputs": [
    {
     "data": {
      "text/plain": [
       "datetime.time(13, 10)"
      ]
     },
     "execution_count": 34,
     "metadata": {},
     "output_type": "execute_result"
    }
   ],
   "source": [
    "# 특정 시간\n",
    "t = time(13,10)\n",
    "t"
   ]
  },
  {
   "cell_type": "code",
   "execution_count": 35,
   "id": "d26f1dca",
   "metadata": {},
   "outputs": [
    {
     "name": "stdout",
     "output_type": "stream",
     "text": [
      "13:10:00\n",
      "<built-in method strftime of datetime.time object at 0x000002B73CB4A7F0>\n"
     ]
    },
    {
     "ename": "TypeError",
     "evalue": "'NoneType' object is not callable",
     "output_type": "error",
     "traceback": [
      "\u001b[1;31m---------------------------------------------------------------------------\u001b[0m",
      "\u001b[1;31mTypeError\u001b[0m                                 Traceback (most recent call last)",
      "Cell \u001b[1;32mIn[35], line 2\u001b[0m\n\u001b[0;32m      1\u001b[0m \u001b[38;5;28mprint\u001b[39m(t)\n\u001b[1;32m----> 2\u001b[0m \u001b[38;5;28;43mprint\u001b[39;49m\u001b[43m(\u001b[49m\u001b[43mt\u001b[49m\u001b[38;5;241;43m.\u001b[39;49m\u001b[43mstrftime\u001b[49m\u001b[43m)\u001b[49m\u001b[43m(\u001b[49m\u001b[38;5;124;43m\"\u001b[39;49m\u001b[38;5;124;43m%\u001b[39;49m\u001b[38;5;124;43mp \u001b[39;49m\u001b[38;5;124;43m%\u001b[39;49m\u001b[38;5;124;43mI시 \u001b[39;49m\u001b[38;5;124;43m%\u001b[39;49m\u001b[38;5;124;43mM분\u001b[39;49m\u001b[38;5;124;43m\"\u001b[39;49m\u001b[43m)\u001b[49m\n",
      "\u001b[1;31mTypeError\u001b[0m: 'NoneType' object is not callable"
     ]
    }
   ],
   "source": [
    "print(t)\n",
    "print(t.strftime)(\"%p %I시 %M분\")"
   ]
  },
  {
   "cell_type": "code",
   "execution_count": 36,
   "id": "d4fae8de",
   "metadata": {},
   "outputs": [
    {
     "data": {
      "text/plain": [
       "datetime.time(10, 42, 54, 129675)"
      ]
     },
     "execution_count": 36,
     "metadata": {},
     "output_type": "execute_result"
    }
   ],
   "source": [
    "# 지금 시간\n",
    "now_time = datetime.now().time()\n",
    "now_time"
   ]
  },
  {
   "cell_type": "code",
   "execution_count": 38,
   "id": "cd9e1d25",
   "metadata": {},
   "outputs": [
    {
     "data": {
      "text/plain": [
       "'10시 01분 54초'"
      ]
     },
     "execution_count": 38,
     "metadata": {},
     "output_type": "execute_result"
    }
   ],
   "source": [
    "now_time.strftime(\"%H시 %m분 %S초\")"
   ]
  },
  {
   "cell_type": "markdown",
   "id": "70c9e372",
   "metadata": {},
   "source": [
    "**datetime, date, time 형들을 원하는 포맷의 문자형으로 반환 : strftime()**\n",
    "- %Y, %y, %m, %d, %A(요일), %p(오전/오후), %H(시), %M(분), %S(초)"
   ]
  },
  {
   "cell_type": "code",
   "execution_count": null,
   "id": "21c1eca9",
   "metadata": {},
   "outputs": [],
   "source": []
  },
  {
   "cell_type": "code",
   "execution_count": null,
   "id": "b269c01b",
   "metadata": {},
   "outputs": [],
   "source": []
  },
  {
   "cell_type": "code",
   "execution_count": null,
   "id": "dd1ea144",
   "metadata": {},
   "outputs": [],
   "source": []
  },
  {
   "cell_type": "code",
   "execution_count": null,
   "id": "65dc198c",
   "metadata": {},
   "outputs": [],
   "source": []
  },
  {
   "cell_type": "markdown",
   "id": "b4b088de",
   "metadata": {},
   "source": [
    "# 8절. 연습문제"
   ]
  },
  {
   "cell_type": "code",
   "execution_count": 129,
   "id": "dbeec197",
   "metadata": {},
   "outputs": [
    {
     "name": "stdout",
     "output_type": "stream",
     "text": [
      "홍길동님의 나이는 23 살입니다.\n"
     ]
    }
   ],
   "source": [
    "# 1.이름과 나이 변수를 다음 형식으로 출력하도록 format() 함수를 이용해 형식화하세요\n",
    "# 출력형식 : 홍길동님의 나이는 23 살입니다\n",
    "name = \"홍길동\"\n",
    "age = 23\n",
    "print(\"{}님의 나이는 {} 살입니다.\".format(name,age))"
   ]
  },
  {
   "cell_type": "code",
   "execution_count": 131,
   "id": "7b05bf5a",
   "metadata": {},
   "outputs": [
    {
     "name": "stdout",
     "output_type": "stream",
     "text": [
      "정수를 입력하십시요8\n",
      "정수를 입력하십시요4\n",
      "두 정수의 [+는 12] [-는4] [*는 32] [/는 2.0] [//는 2][] %는 0] 입니다.\n"
     ]
    }
   ],
   "source": [
    "# 2.두 정수를 입력받아 두 수의 덧셈 , 뺄셈 , 곱셈 , 나눗셈 , 몫 , 나머지를 출력하세요\n",
    "num1 = int(input(\"정수를 입력하십시요\"))\n",
    "num2 = int(input(\"정수를 입력하십시요\"))\n",
    "a = num1 + num2\n",
    "b = num1 - num2\n",
    "c = num1 * num2\n",
    "d = num1 / num2\n",
    "e = num1 // num2\n",
    "f = num1 % num2\n",
    "print(\"두 정수의 [+는 {}] [-는{}] [*는 {}] [/는 {}] [//는 {}][] %는 {}] 입니다.\".format(a,b,c,d,e,f))"
   ]
  },
  {
   "cell_type": "code",
   "execution_count": null,
   "id": "370a3b86",
   "metadata": {},
   "outputs": [],
   "source": [
    "# 3.문자열의 분리하기와 합치기 기능을 이용하여 'Hello World'가 할당된 변수를 이용하여\n",
    "# 'World Hello' 로 출력하세요\n",
    "str_ = 'Hello World'\n",
    "split_ = "
   ]
  },
  {
   "cell_type": "code",
   "execution_count": 147,
   "id": "67a33d1c",
   "metadata": {},
   "outputs": [
    {
     "name": "stdout",
     "output_type": "stream",
     "text": [
      "('b', 'c', 'd', 'e', 'f', 'a')\n"
     ]
    }
   ],
   "source": [
    "# 4.x = 'abcdef＇를 이용하여 bcdefa 로 출력하세요 문자 슬라이싱이용\n",
    "x =  'abcdef'\n",
    "result = x[1],x[2],x[3],x[4],x[5],x[0]\n",
    "print(result)"
   ]
  },
  {
   "cell_type": "code",
   "execution_count": 152,
   "id": "467882c0",
   "metadata": {},
   "outputs": [
    {
     "name": "stdout",
     "output_type": "stream",
     "text": [
      "fedcba\n"
     ]
    }
   ],
   "source": [
    "# 5.x = ‘ abcdef' 를 이용하여 fedcba 로 출력하세요\n",
    "x = 'abcdef'\n",
    "result = x[::-1]\n",
    "print(result)"
   ]
  },
  {
   "cell_type": "code",
   "execution_count": null,
   "id": "1d6d91b0",
   "metadata": {},
   "outputs": [],
   "source": [
    "# 6.오늘의 온도를 섭씨온도로 입력받아 화씨 온도로 변환하는 프로그램을 작성하세요 . 화\n",
    "# 씨 온도는 소수점이 있을 경우만 두번째 자리까지 출력되고 , 소수점이하 값이 없는 경\n",
    "# 우 소수점을 출력하지 않도록 합니다 다음은 섭씨와 화씨의 변환 공식입니다 . C 는 섭씨 ,\n",
    "# F 는 화씨\n",
    "# C = (F\n",
    "# 32) / 1.8\n",
    "# F = (C\n",
    "# 1.8) + 32"
   ]
  },
  {
   "cell_type": "code",
   "execution_count": 153,
   "id": "b449074b",
   "metadata": {},
   "outputs": [],
   "source": [
    "# 7.다음 중 변수 선언으로 잘못된 것을 모두 고르시오\n",
    "# ①\n",
    "# for\n",
    "# ②\n",
    "# 10th\n",
    "# ③\n",
    "# Student.name\n",
    "# ④\n",
    "# _1234\n",
    "# 답 : 1, 2, 4"
   ]
  },
  {
   "cell_type": "code",
   "execution_count": null,
   "id": "dcaa054d",
   "metadata": {},
   "outputs": [],
   "source": [
    "# 8.다음의 코드의 실행결과는\n"
   ]
  },
  {
   "cell_type": "code",
   "execution_count": null,
   "id": "311af8bc",
   "metadata": {},
   "outputs": [],
   "source": [
    "# 9.다음 중 파이썬 3.x 버전에서 연산식과 그 결과의 출력이 잘못된 것은\n",
    "# ①\n",
    "# 수식 8//2 결과 4\n",
    "# ②\n",
    "# 수식 8/2 결과 4\n",
    "# ③\n",
    "# 수식 8 **2 결과 64\n",
    "# 정답 : 1"
   ]
  },
  {
   "cell_type": "code",
   "execution_count": 155,
   "id": "47db9f2d",
   "metadata": {},
   "outputs": [],
   "source": [
    "# 10.아래 프로그램의 결과는\n",
    "#정답 : x는 정수형이고 y는 문자형이라 오류가 생김"
   ]
  },
  {
   "cell_type": "code",
   "execution_count": 163,
   "id": "f5c5aad8",
   "metadata": {},
   "outputs": [
    {
     "name": "stdout",
     "output_type": "stream",
     "text": [
      "나라\n"
     ]
    }
   ],
   "source": [
    "# 11.split() 함수를 이용하여 str_ 의 값 중 나라 를 출력하는 프로그램을 완성하시오\n",
    "str_ = \"우리 나라 대한 민국\"\n",
    "parts = str_.split(\" \")\n",
    "print(parts[1])"
   ]
  },
  {
   "cell_type": "code",
   "execution_count": null,
   "id": "dc4e401d",
   "metadata": {},
   "outputs": [],
   "source": []
  },
  {
   "cell_type": "code",
   "execution_count": null,
   "id": "30570bfc",
   "metadata": {},
   "outputs": [],
   "source": []
  },
  {
   "cell_type": "code",
   "execution_count": null,
   "id": "6453f4e6",
   "metadata": {},
   "outputs": [],
   "source": []
  },
  {
   "cell_type": "code",
   "execution_count": null,
   "id": "3bf1ea9f",
   "metadata": {},
   "outputs": [],
   "source": []
  }
 ],
 "metadata": {
  "kernelspec": {
   "display_name": "Python 3 (ipykernel)",
   "language": "python",
   "name": "python3"
  },
  "language_info": {
   "codemirror_mode": {
    "name": "ipython",
    "version": 3
   },
   "file_extension": ".py",
   "mimetype": "text/x-python",
   "name": "python",
   "nbconvert_exporter": "python",
   "pygments_lexer": "ipython3",
   "version": "3.10.9"
  },
  "toc": {
   "base_numbering": 1,
   "nav_menu": {},
   "number_sections": false,
   "sideBar": true,
   "skip_h1_title": false,
   "title_cell": "Table of Contents",
   "title_sidebar": "Contents",
   "toc_cell": false,
   "toc_position": {
    "height": "calc(100% - 180px)",
    "left": "10px",
    "top": "150px",
    "width": "165px"
   },
   "toc_section_display": true,
   "toc_window_display": true
  }
 },
 "nbformat": 4,
 "nbformat_minor": 5
}
